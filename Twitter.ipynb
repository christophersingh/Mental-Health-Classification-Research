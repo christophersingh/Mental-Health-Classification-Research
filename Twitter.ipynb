{
 "cells": [
  {
   "cell_type": "code",
   "execution_count": 1,
   "metadata": {},
   "outputs": [
    {
     "ename": "ModuleNotFoundError",
     "evalue": "No module named 'tweepy'",
     "output_type": "error",
     "traceback": [
      "\u001b[1;31m---------------------------------------------------------------------------\u001b[0m",
      "\u001b[1;31mModuleNotFoundError\u001b[0m                       Traceback (most recent call last)",
      "\u001b[1;32m<ipython-input-1-25cc5afe4339>\u001b[0m in \u001b[0;36m<module>\u001b[1;34m\u001b[0m\n\u001b[0;32m      1\u001b[0m \u001b[1;32mimport\u001b[0m \u001b[0mrequests\u001b[0m\u001b[1;33m\u001b[0m\u001b[1;33m\u001b[0m\u001b[0m\n\u001b[1;32m----> 2\u001b[1;33m \u001b[1;32mimport\u001b[0m \u001b[0mtweepy\u001b[0m\u001b[1;33m\u001b[0m\u001b[1;33m\u001b[0m\u001b[0m\n\u001b[0m\u001b[0;32m      3\u001b[0m \u001b[0mconsumerKey\u001b[0m \u001b[1;33m=\u001b[0m \u001b[1;34m'zINbV6aTZJaAGqPftQdWuElVo'\u001b[0m\u001b[1;33m\u001b[0m\u001b[1;33m\u001b[0m\u001b[0m\n\u001b[0;32m      4\u001b[0m \u001b[0mconsumerSecret\u001b[0m \u001b[1;33m=\u001b[0m \u001b[1;34m'fSFvyfGp2TezIGCk0AkG3LoasUHPGMRr65pWBNzlAnYwc4PN3t'\u001b[0m\u001b[1;33m\u001b[0m\u001b[1;33m\u001b[0m\u001b[0m\n\u001b[0;32m      5\u001b[0m \u001b[0maccessToken\u001b[0m \u001b[1;33m=\u001b[0m \u001b[1;34m'1326348638839332871-WwisgBbAkdstqMQbAE83pRG5UfIfT8'\u001b[0m\u001b[1;33m\u001b[0m\u001b[1;33m\u001b[0m\u001b[0m\n",
      "\u001b[1;31mModuleNotFoundError\u001b[0m: No module named 'tweepy'"
     ]
    }
   ],
   "source": [
    "import requests\n",
    "import tweepy\n",
    "consumerKey = 'zINbV6aTZJaAGqPftQdWuElVo'\n",
    "consumerSecret = 'fSFvyfGp2TezIGCk0AkG3LoasUHPGMRr65pWBNzlAnYwc4PN3t'\n",
    "accessToken = '1326348638839332871-WwisgBbAkdstqMQbAE83pRG5UfIfT8'\n",
    "accessTokenSecret = 'Bhu95npqaEN9IhEC1Pp3SSe3CefxEja4sRXN1fdqi0ez0'"
   ]
  },
  {
   "cell_type": "code",
   "execution_count": null,
   "metadata": {},
   "outputs": [],
   "source": []
  }
 ],
 "metadata": {
  "kernelspec": {
   "display_name": "Python 3",
   "language": "python",
   "name": "python3"
  },
  "language_info": {
   "codemirror_mode": {
    "name": "ipython",
    "version": 3
   },
   "file_extension": ".py",
   "mimetype": "text/x-python",
   "name": "python",
   "nbconvert_exporter": "python",
   "pygments_lexer": "ipython3",
   "version": "3.7.4"
  }
 },
 "nbformat": 4,
 "nbformat_minor": 4
}
