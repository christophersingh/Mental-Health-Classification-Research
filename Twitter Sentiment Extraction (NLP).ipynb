{
  "nbformat": 4,
  "nbformat_minor": 0,
  "metadata": {
    "kernelspec": {
      "display_name": "Python 3",
      "language": "python",
      "name": "python3"
    },
    "language_info": {
      "codemirror_mode": {
        "name": "ipython",
        "version": 3
      },
      "file_extension": ".py",
      "mimetype": "text/x-python",
      "name": "python",
      "nbconvert_exporter": "python",
      "pygments_lexer": "ipython3",
      "version": "3.8.3"
    },
    "colab": {
      "name": "Twitter Data NLP Analysis.ipynb",
      "provenance": []
    }
  },
  "cells": [
    {
      "cell_type": "markdown",
      "metadata": {
        "id": "cuW3B7vXRpnR"
      },
      "source": [
        "Import Libraries"
      ]
    },
    {
      "cell_type": "code",
      "metadata": {
        "id": "66NhzukURoMQ"
      },
      "source": [
        "import pandas as pd\n",
        "import numpy as np \n",
        "import nltk"
      ],
      "execution_count": null,
      "outputs": []
    },
    {
      "cell_type": "markdown",
      "metadata": {
        "id": "4RodyyBDRsOw"
      },
      "source": [
        "ELT (Extract, Load, Transform)"
      ]
    },
    {
      "cell_type": "code",
      "metadata": {
        "id": "7BVC7Ez4RoMR"
      },
      "source": [
        "import calendar \n",
        "\n",
        "def getData(month,day):\n",
        "    url = \"https://raw.githubusercontent.com/thepanacealab/covid19_twitter/master/dailies/2020-\"+month+\"-\"+str(day)+\"/2020-\"+month+\"-\"+str(day)+\"_top1000trigrams.csv\"\n",
        "    df = pd.read_csv(url)\n",
        "    df = df[:550]\n",
        "    df['date'] = calendar.month_name[int(month)] + \" \"+str(day) + \", 2020\"\n",
        "    return df\n",
        "\n",
        "def getData2(month,day):\n",
        "    url = \"https://raw.githubusercontent.com/thepanacealab/covid19_twitter/master/dailies/2020-\"+month+\"-\"+str(day)+\"/2020-\"+month+\"-\"+str(day)+\"_top1000triigrams.csv\"\n",
        "    df = pd.read_csv(url)\n",
        "    df = df[:550]\n",
        "    df['date'] = calendar.month_name[int(month)] + \" \"+str(day) + \", 2020\"\n",
        "    return df\n",
        "\n",
        "apr23 = getData('04',23)\n",
        "apr24 = getData('04',24)\n",
        "apr25 = getData('04',25)\n",
        "apr26 = getData('04',26)\n",
        "apr27 = getData('04',27)\n",
        "apr28 = getData('04',28)\n",
        "apr29 = getData('04',29)\n",
        "apr30 = getData('04',30)\n",
        "\n",
        "may01 = getData('05','01')\n",
        "may02 = getData('05','02')\n",
        "may03 = getData('05','03')\n",
        "may04 = getData('05','04')\n",
        "may05 = getData('05','05')\n",
        "may06 = getData('05','06')\n",
        "may07 = getData('05','07')\n",
        "may08 = getData('05','08')\n",
        "may09 = getData('05','09')\n",
        "may10 = getData('05','10')\n",
        "may11 = getData('05','11')\n",
        "may12 = getData('05','12')\n",
        "may13 = getData('05','13')\n",
        "may14 = getData('05','14')\n",
        "may15 = getData('05','15')\n",
        "may16 = getData('05','16')\n",
        "may17 = getData('05','17')\n",
        "may18 = getData('05','18')\n",
        "\n",
        "may19 = getData('05',19)\n",
        "may20 = getData2('05',20)\n",
        "may21 = getData('05',21)\n",
        "may22 = getData('05',22)\n",
        "may23 = getData('05',23)\n",
        "may24 = getData('05',24)\n",
        "may25 = getData('05',25)\n",
        "may26 = getData('05',26)\n",
        "may27 = getData('05',27)\n",
        "may28 = getData('05',28)\n",
        "may29 = getData('05',29)\n",
        "may30 = getData('05',30)\n",
        "may31 = getData('05',31)\n"
      ],
      "execution_count": null,
      "outputs": []
    },
    {
      "cell_type": "code",
      "metadata": {
        "id": "fp8ZRSYSRoMS"
      },
      "source": [
        "june01 = getData('06','01')\n",
        "june02 = getData('06','02')\n",
        "june03 = getData('06','03')\n",
        "june04 = getData('06','04')\n",
        "june05 = getData('06','05')\n",
        "june06 = getData('06','06')\n",
        "june07 = getData('06','07')\n",
        "june08 = getData('06','08')\n",
        "june09 = getData('06','09')\n",
        "june10 = getData('06','10')\n",
        "june11 = getData('06','11')\n",
        "june12 = getData('06','12')\n",
        "june13 = getData('06','13')\n",
        "june14 = getData('06','14')\n",
        "june15 = getData('06','15')\n",
        "june16 = getData('06','16')\n",
        "june17 = getData('06','17')\n",
        "june18 = getData('06','18')\n",
        "june19 = getData('06','19')\n",
        "june20 = getData('06','20')\n",
        "june21 = getData('06','21')\n",
        "june22 = getData('06','22')\n",
        "june23 = getData('06','23')\n",
        "june24 = getData('06','24')\n",
        "june25 = getData('06','25')\n",
        "june26 = getData('06','26')\n",
        "june27 = getData('06','27')\n",
        "june28 = getData('06','28')\n",
        "june29 = getData('06','29')\n",
        "june30 = getData('06','30')"
      ],
      "execution_count": null,
      "outputs": []
    },
    {
      "cell_type": "code",
      "metadata": {
        "id": "sCZOA-HwRoMT"
      },
      "source": [
        "july01 = getData('07','01')\n",
        "july02 = getData('07','02')\n",
        "july03 = getData('07','03')\n",
        "july04 = getData('07','04')\n",
        "july05 = getData('07','05')\n",
        "july06 = getData('07','06')\n",
        "july07 = getData('07','07')\n",
        "july08 = getData('07','08')\n",
        "july09 = getData('07','09')\n",
        "july10 = getData('07','10')\n",
        "july11 = getData('07','11')\n",
        "july12 = getData('07','12')\n",
        "july13 = getData('07','13')\n",
        "july14 = getData('07','14')\n",
        "july15 = getData('07','15')\n",
        "july16 = getData('07','16')\n",
        "july17 = getData('07','17')\n",
        "july18 = getData('07','18')\n",
        "july19 = getData('07','19')\n",
        "july20 = getData('07','20')\n",
        "july21 = getData('07','21')\n",
        "july22 = getData('07','22')\n",
        "july23 = getData('07','23')\n",
        "july24 = getData('07','24')\n",
        "july25 = getData('07','25')\n",
        "july26 = getData('07','26')\n",
        "july27 = getData('07','27')\n",
        "july28 = getData('07','28')\n",
        "july29 = getData('07','29')\n",
        "july30 = getData('07','30')\n",
        "july31 = getData('07','31')"
      ],
      "execution_count": null,
      "outputs": []
    },
    {
      "cell_type": "code",
      "metadata": {
        "id": "oChCFhCDRoMT"
      },
      "source": [
        "aug01 = getData('08','01')\n",
        "aug02 = getData('08','02')\n",
        "aug03 = getData('08','03')\n",
        "aug04 = getData('08','04')\n",
        "aug05 = getData('08','05')\n",
        "aug06 = getData('08','06')\n",
        "aug07 = getData('08','07')\n",
        "aug08 = getData('08','08')\n",
        "aug09 = getData('08','09')\n",
        "aug10 = getData('08','10')\n",
        "aug11 = getData('08','11')\n",
        "aug12 = getData('08','12')\n",
        "aug13 = getData('08','13')\n",
        "aug14 = getData('08','14')\n",
        "aug15 = getData('08','15')\n",
        "aug16 = getData('08','16')\n",
        "aug17 = getData('08','17')\n",
        "aug18 = getData('08','18')\n",
        "aug19 = getData('08','19')\n",
        "aug20 = getData('08','20')\n",
        "aug21 = getData('08','21')\n",
        "aug22 = getData('08','22')\n",
        "aug23 = getData('08','23')\n",
        "aug24 = getData('08','24')\n",
        "aug25 = getData('08','25')\n",
        "aug26 = getData('08','26')\n",
        "aug27 = getData('08','27')\n",
        "aug28 = getData('08','28')\n",
        "aug29 = getData('08','29')\n",
        "aug30 = getData('08','30')\n",
        "aug31 = getData('08','31')"
      ],
      "execution_count": null,
      "outputs": []
    },
    {
      "cell_type": "code",
      "metadata": {
        "id": "OhcnFegzRoMU"
      },
      "source": [
        "sep01 = getData('09','01')\n",
        "sep02 = getData('09','02')\n",
        "sep03 = getData('09','03')\n",
        "sep04 = getData('09','04')\n",
        "sep05 = getData('09','05')\n",
        "sep06 = getData('09','06')\n",
        "sep07 = getData('09','07')\n",
        "sep08 = getData('09','08')\n",
        "sep09 = getData('09','09')\n",
        "sep10 = getData('09','10')\n",
        "sep11 = getData('09','11')\n",
        "sep12 = getData('09','12')\n",
        "sep13 = getData('09','13')\n",
        "sep14 = getData('09','14')"
      ],
      "execution_count": null,
      "outputs": []
    },
    {
      "cell_type": "code",
      "metadata": {
        "id": "Df_RNh9QRoMU"
      },
      "source": [
        "sep15 = getData('09','15')\n",
        "sep16 = getData('09','16')\n",
        "sep17 = getData('09','17')\n",
        "sep18 = getData('09','18')\n",
        "sep19 = getData('09','19')\n",
        "sep20 = getData('09','20')\n",
        "sep21 = getData('09','21')\n",
        "sep22 = getData('09','22')\n",
        "sep23 = getData('09','23')\n",
        "sep24 = getData('09','24')\n",
        "sep25 = getData('09','25')\n",
        "sep26 = getData('09','26')\n",
        "sep27 = getData('09','27')\n",
        "sep28 = getData('09','28')\n",
        "sep29 = getData('09','29')\n",
        "sep30 = getData('09','30')"
      ],
      "execution_count": null,
      "outputs": []
    },
    {
      "cell_type": "code",
      "metadata": {
        "id": "cvsHuurDRoMV"
      },
      "source": [
        "oct01 = getData('10','01')\n",
        "oct02 = getData('10','02')\n",
        "oct03 = getData('10','03')\n",
        "oct04 = getData('10','04')\n",
        "oct05 = getData('10','05')\n",
        "oct06 = getData('10','06')\n",
        "oct07 = getData('10','07')\n",
        "oct08 = getData('10','08')\n",
        "oct09 = getData('10','09')\n",
        "oct10 = getData('10','10')\n",
        "oct11 = getData('10','11')\n",
        "oct12 = getData('10','12')\n",
        "oct13 = getData('10','13')\n",
        "oct14 = getData('10','14')\n",
        "oct15 = getData('10','15')\n",
        "oct16 = getData('10','16')\n",
        "oct17 = getData('10','17')\n",
        "oct18 = getData('10','18')\n",
        "oct19 = getData('10','19')\n",
        "oct20 = getData('10','20')\n",
        "oct21 = getData('10','21')\n",
        "oct22 = getData('10','22')\n",
        "oct23 = getData('10','23')\n",
        "oct24 = getData('10','24')\n",
        "oct25 = getData('10','25')\n",
        "oct26 = getData('10','26')\n",
        "oct27 = getData('10','27')\n",
        "oct28 = getData('10','28')\n",
        "oct29 = getData('10','29')\n",
        "oct30 = getData('10','30')\n",
        "oct31 = getData('10','31')"
      ],
      "execution_count": null,
      "outputs": []
    },
    {
      "cell_type": "code",
      "metadata": {
        "id": "_z2Kd7EWRoMV"
      },
      "source": [
        "nov01 = getData('11','01')\n",
        "nov02 = getData('11','02')\n",
        "nov03 = getData('11','03')\n",
        "nov04 = getData('11','04')\n",
        "nov05 = getData('11','05')\n",
        "nov06 = getData('11','06')\n",
        "nov07 = getData('11','07')\n",
        "nov08 = getData('11','08')\n",
        "nov09 = getData('11','09')\n",
        "nov10 = getData('11','10')\n",
        "nov11 = getData('11','11')\n",
        "nov12 = getData('11','12')\n",
        "nov13 = getData('11','13')\n",
        "nov14 = getData('11','14')\n",
        "nov15 = getData('11','15')\n",
        "nov16 = getData('11','16')\n",
        "nov17 = getData('11','17')\n",
        "nov18 = getData('11','18')\n",
        "nov19 = getData('11','19')\n",
        "nov20 = getData('11','20')\n",
        "nov21 = getData('11','21')\n",
        "nov22 = getData('11','22')\n",
        "nov23 = getData('11','23')\n",
        "nov24 = getData('11','24')\n",
        "nov25 = getData('11','25')\n",
        "nov26 = getData('11','26')\n",
        "nov27 = getData('11','27')\n",
        "nov28 = getData('11','28')\n",
        "nov29 = getData('11','29')\n",
        "nov30 = getData('11','30')"
      ],
      "execution_count": null,
      "outputs": []
    },
    {
      "cell_type": "code",
      "metadata": {
        "id": "6uZaKi7ZRoMW"
      },
      "source": [
        "dec01 = getData('12','01')\n",
        "dec02 = getData('12','02')\n",
        "dec03 = getData('12','03')\n",
        "dec04 = getData('12','04')\n",
        "dec05 = getData('12','05')\n",
        "dec06 = getData('12','06')\n",
        "dec07 = getData('12','07')\n",
        "dec08 = getData('12','08')\n",
        "dec09 = getData('12','09')\n",
        "dec10 = getData('12','10')\n",
        "dec11 = getData('12','11')\n",
        "dec12 = getData('12','12')\n",
        "dec13 = getData('12','13')\n",
        "dec14 = getData('12','14')\n",
        "dec15 = getData('12','15')\n",
        "dec16 = getData('12','16')\n",
        "dec17 = getData('12','17')\n",
        "dec18 = getData('12','18')\n",
        "dec19 = getData('12','19')\n",
        "dec20 = getData('12','20')\n",
        "dec21 = getData('12','21')\n",
        "dec22 = getData('12','22')\n",
        "dec23 = getData('12','23')\n",
        "dec24 = getData('12','24')\n",
        "dec25 = getData('12','25')\n",
        "dec26 = getData('12','26')\n",
        "dec27 = getData('12','27')\n",
        "dec28 = getData('12','28')\n",
        "dec29 = getData('12','29')\n",
        "dec30 = getData('12','30')\n",
        "dec31 = getData('12','31')"
      ],
      "execution_count": null,
      "outputs": []
    },
    {
      "cell_type": "markdown",
      "metadata": {
        "id": "e6sHT6ivRzH5"
      },
      "source": [
        "API Format Change"
      ]
    },
    {
      "cell_type": "code",
      "metadata": {
        "id": "9sP5Vom9RoMW"
      },
      "source": [
        "def getData2(month,day):\n",
        "    url = \"https://raw.githubusercontent.com/thepanacealab/covid19_twitter/master/dailies/2021-\"+month+\"-\"+str(day)+\"/2021-\"+month+\"-\"+str(day)+\"_top1000trigrams.csv\"\n",
        "    #url2 = \"https://github.com/thepanacealab/covid19_twitter/blob/master/dailies/2021-\"+month+\"-\"+str(day)+\"/2021-\"+month+\"-\"+str(day)+\"_top1000bigrams.csv\"\n",
        "    df = pd.read_csv(url)\n",
        "    df = df[:550]\n",
        "    df['date'] = calendar.month_name[int(month)] + \" \"+str(day) + \", 2021\"\n",
        "    return df"
      ],
      "execution_count": null,
      "outputs": []
    },
    {
      "cell_type": "code",
      "metadata": {
        "id": "A5WKgyhnRoMW"
      },
      "source": [
        "jan01 = getData2('01','01')\n",
        "jan02 = getData2('01','02')\n",
        "jan03 = getData2('01','03')\n",
        "jan04 = getData2('01','04')\n",
        "jan05 = getData2('01','05')\n",
        "jan06 = getData2('01','06')\n",
        "jan07 = getData2('01','07')\n",
        "jan08 = getData2('01','08')\n",
        "jan09 = getData2('01','09')\n",
        "jan10 = getData2('01','10')\n",
        "jan11 = getData2('01','11')\n",
        "jan12 = getData2('01','12')\n",
        "jan13 = getData2('01','13')\n",
        "jan14 = getData2('01','14')\n",
        "jan15 = getData2('01','15')\n",
        "jan16 = getData2('01','16')\n",
        "jan17 = getData2('01','17')\n",
        "jan18 = getData2('01','18')\n",
        "jan19 = getData2('01','19')\n",
        "jan20 = getData2('01','20')\n",
        "jan21 = getData2('01','21')\n",
        "jan22 = getData2('01','22')\n",
        "jan23 = getData2('01','23')\n",
        "jan24 = getData2('01','24')\n",
        "jan25 = getData2('01','25')\n",
        "jan26 = getData2('01','26')\n",
        "jan27 = getData2('01','27')\n",
        "jan28 = getData2('01','28')\n",
        "jan29 = getData2('01','29')\n",
        "jan30 = getData2('01','30')\n",
        "jan31 = getData2('01','31')\n",
        "feb01 = getData2('02','01')"
      ],
      "execution_count": null,
      "outputs": []
    },
    {
      "cell_type": "markdown",
      "metadata": {
        "id": "yDWYZpAwR2Ac"
      },
      "source": [
        "Data consolidation"
      ]
    },
    {
      "cell_type": "code",
      "metadata": {
        "id": "qku8NIydRoMW",
        "outputId": "10bc0a85-2b10-4660-e0ff-d96b6594b543"
      },
      "source": [
        "df = pd.concat([apr23,apr24,apr25,apr26,apr27,apr28,apr29,apr30,\n",
        "               may01,may02,may03,may04,may05,may06,may07,may08,may09,may10,\n",
        "               may11,may12,may13,may14,may15,may16,may17,may18,may19,may20,\n",
        "               may21,may22,may23,may24,may25,may26,may27,may28,may29,may30,may31,\n",
        "               june01,june02,june03,june04,june05,june06,june07,june08,june09,june10,\n",
        "               june11,june12,june13,june14,june15,june16,june17,june18,june19,june20,\n",
        "               june21,june22,june23,june24,june25,june26,june27,june28,june29,june30,\n",
        "               july01,july02,july03,july04,july05,july06,july07,july08,july09,july10,\n",
        "               july11,july12,july13,july14,july15,july16,july17,july18,july19,july20,\n",
        "               july21,july22,july23,july24,july25,july26,july27,july28,july29,july30,july31,\n",
        "               aug01,aug02,aug03,aug04,aug05,aug06,aug07,aug08,aug09,aug10,\n",
        "               aug11,aug12,aug13,aug14,aug15,aug16,aug17,aug18,aug19,aug20,\n",
        "               aug21,aug22,aug23,aug24,aug25,aug26,aug27,aug28,aug29,aug30,aug31,\n",
        "               sep01,sep02,sep03,sep04,sep05,sep06,sep07,sep08,sep09,sep10,\n",
        "               sep11,sep12,sep13,sep14,sep15,sep16,sep17,sep18,sep19,sep20,sep21,sep22,sep23,sep24,\n",
        "               sep25,sep26,sep27,sep28,sep29,sep30,oct01,oct02,oct03,oct04,oct05,oct06,oct07,\n",
        "               oct08,oct09,oct10,oct11,oct12,oct13,oct14,oct15,oct16,oct17,oct18,oct19,oct20,oct21,\n",
        "               oct22,oct23,oct24,oct25,oct26,oct27,oct28,oct29,oct30,oct31,nov01,nov02,nov03,nov04,nov05,\n",
        "               nov06,nov07,nov08,nov09,nov10,nov11,nov12,nov13,nov14,nov15,nov16,nov17,nov18,nov19,nov20,nov21,\n",
        "               nov22,nov23,nov24,nov25,nov26,nov27,nov28,nov29,nov30,dec01,dec02,dec03,dec04,dec05,\n",
        "               dec06,dec07,dec08,dec09,dec10,dec11,dec12,dec13,dec14,dec15,dec16,dec17,dec18,dec19,dec20,\n",
        "               dec21,dec22,dec23,dec24,dec25,dec26,dec27,dec28,dec29,dec30,dec31,jan01,jan02,jan03,jan04,\n",
        "               jan05,jan06,jan07,jan08,jan09,jan10,jan11,jan12,jan13,jan14,jan15,jan16,jan17,jan18,jan19,\n",
        "               jan20,jan21,jan22,jan23,jan24,jan25,jan26,jan27,jan28,jan29,jan30,jan31,feb01])\n",
        "df"
      ],
      "execution_count": null,
      "outputs": [
        {
          "output_type": "execute_result",
          "data": {
            "text/html": [
              "<div>\n",
              "<style scoped>\n",
              "    .dataframe tbody tr th:only-of-type {\n",
              "        vertical-align: middle;\n",
              "    }\n",
              "\n",
              "    .dataframe tbody tr th {\n",
              "        vertical-align: top;\n",
              "    }\n",
              "\n",
              "    .dataframe thead th {\n",
              "        text-align: right;\n",
              "    }\n",
              "</style>\n",
              "<table border=\"1\" class=\"dataframe\">\n",
              "  <thead>\n",
              "    <tr style=\"text-align: right;\">\n",
              "      <th></th>\n",
              "      <th>gram</th>\n",
              "      <th>counts</th>\n",
              "      <th>date</th>\n",
              "    </tr>\n",
              "  </thead>\n",
              "  <tbody>\n",
              "    <tr>\n",
              "      <th>0</th>\n",
              "      <td>covid 19 pandemic</td>\n",
              "      <td>8036</td>\n",
              "      <td>April 23, 2020</td>\n",
              "    </tr>\n",
              "    <tr>\n",
              "      <th>1</th>\n",
              "      <td>href rel nofollow</td>\n",
              "      <td>4204</td>\n",
              "      <td>April 23, 2020</td>\n",
              "    </tr>\n",
              "    <tr>\n",
              "      <th>2</th>\n",
              "      <td>covid 19 cases</td>\n",
              "      <td>4161</td>\n",
              "      <td>April 23, 2020</td>\n",
              "    </tr>\n",
              "    <tr>\n",
              "      <th>3</th>\n",
              "      <td>true href rel</td>\n",
              "      <td>4130</td>\n",
              "      <td>April 23, 2020</td>\n",
              "    </tr>\n",
              "    <tr>\n",
              "      <th>4</th>\n",
              "      <td>covid 19 crisis</td>\n",
              "      <td>3860</td>\n",
              "      <td>April 23, 2020</td>\n",
              "    </tr>\n",
              "    <tr>\n",
              "      <th>...</th>\n",
              "      <td>...</td>\n",
              "      <td>...</td>\n",
              "      <td>...</td>\n",
              "    </tr>\n",
              "    <tr>\n",
              "      <th>545</th>\n",
              "      <td>enero 2021</td>\n",
              "      <td>240</td>\n",
              "      <td>February 01, 2021</td>\n",
              "    </tr>\n",
              "    <tr>\n",
              "      <th>546</th>\n",
              "      <td>vacuna curevac</td>\n",
              "      <td>240</td>\n",
              "      <td>February 01, 2021</td>\n",
              "    </tr>\n",
              "    <tr>\n",
              "      <th>547</th>\n",
              "      <td>plan vacunación</td>\n",
              "      <td>239</td>\n",
              "      <td>February 01, 2021</td>\n",
              "    </tr>\n",
              "    <tr>\n",
              "      <th>548</th>\n",
              "      <td>variant coronavirus</td>\n",
              "      <td>239</td>\n",
              "      <td>February 01, 2021</td>\n",
              "    </tr>\n",
              "    <tr>\n",
              "      <th>549</th>\n",
              "      <td>know covid</td>\n",
              "      <td>238</td>\n",
              "      <td>February 01, 2021</td>\n",
              "    </tr>\n",
              "  </tbody>\n",
              "</table>\n",
              "<p>156750 rows × 3 columns</p>\n",
              "</div>"
            ],
            "text/plain": [
              "                    gram counts               date\n",
              "0      covid 19 pandemic   8036     April 23, 2020\n",
              "1      href rel nofollow   4204     April 23, 2020\n",
              "2         covid 19 cases   4161     April 23, 2020\n",
              "3          true href rel   4130     April 23, 2020\n",
              "4        covid 19 crisis   3860     April 23, 2020\n",
              "..                   ...    ...                ...\n",
              "545           enero 2021    240  February 01, 2021\n",
              "546       vacuna curevac    240  February 01, 2021\n",
              "547      plan vacunación    239  February 01, 2021\n",
              "548  variant coronavirus    239  February 01, 2021\n",
              "549           know covid    238  February 01, 2021\n",
              "\n",
              "[156750 rows x 3 columns]"
            ]
          },
          "metadata": {
            "tags": []
          },
          "execution_count": 213
        }
      ]
    },
    {
      "cell_type": "markdown",
      "metadata": {
        "id": "rZSFcVAuR4IL"
      },
      "source": [
        "Word Cloud"
      ]
    },
    {
      "cell_type": "code",
      "metadata": {
        "id": "hP9bRWO-RoMY",
        "outputId": "5ba66afd-03ac-43f9-f6c1-75936673c1b0"
      },
      "source": [
        "import nltk\n",
        "from nltk.corpus import stopwords\n",
        "from wordcloud import WordCloud \n",
        "from matplotlib import pyplot as plt\n",
        "\n",
        "stopwords = set(stopwords.words('english'))\n",
        "stopwords.update([\"br\", \"href\"])\n",
        "textt = \" \".join(review for review in df.gram)\n",
        "wordcloud = WordCloud(stopwords=stopwords).generate(textt)\n",
        "plt.imshow(wordcloud, interpolation='bilinear')\n",
        "plt.axis(\"off\")\n",
        "plt.show()"
      ],
      "execution_count": null,
      "outputs": [
        {
          "output_type": "display_data",
          "data": {
            "image/png": "[encoded data removed]",
            "text/plain": [
              "<Figure size 432x288 with 1 Axes>"
            ]
          },
          "metadata": {
            "tags": [],
            "needs_background": "light"
          }
        }
      ]
    },
    {
      "cell_type": "code",
      "metadata": {
        "id": "qfgxlMAuRoMY"
      },
      "source": [
        "df.to_csv('./twitterData.csv',index=False)"
      ],
      "execution_count": null,
      "outputs": []
    },
    {
      "cell_type": "code",
      "metadata": {
        "id": "vRQJoKnqRoMZ",
        "outputId": "acd4560c-c2c4-47b8-d2b1-f6ef356bdc90"
      },
      "source": [
        "df['gram'].unique"
      ],
      "execution_count": null,
      "outputs": [
        {
          "output_type": "execute_result",
          "data": {
            "text/plain": [
              "<bound method Series.unique of 0        covid 19 pandemic\n",
              "1        href rel nofollow\n",
              "2           covid 19 cases\n",
              "3            true href rel\n",
              "4          covid 19 crisis\n",
              "              ...         \n",
              "545             enero 2021\n",
              "546         vacuna curevac\n",
              "547        plan vacunación\n",
              "548    variant coronavirus\n",
              "549             know covid\n",
              "Name: gram, Length: 156750, dtype: object>"
            ]
          },
          "metadata": {
            "tags": []
          },
          "execution_count": 216
        }
      ]
    },
    {
      "cell_type": "code",
      "metadata": {
        "id": "qvfGqBtoRoMZ",
        "outputId": "3316c75f-f048-4b5f-a896-e22f6d8d4706"
      },
      "source": [
        "df['gram'].unique()"
      ],
      "execution_count": null,
      "outputs": [
        {
          "output_type": "execute_result",
          "data": {
            "text/plain": [
              "array(['covid 19 pandemic', 'href rel nofollow', 'covid 19 cases', ...,\n",
              "       'home workers', '231 million', 'vacuna curevac'], dtype=object)"
            ]
          },
          "metadata": {
            "tags": []
          },
          "execution_count": 217
        }
      ]
    },
    {
      "cell_type": "code",
      "metadata": {
        "id": "IaAEvzjgRoMa"
      },
      "source": [
        "df['counts'] = df['counts'].astype(float)"
      ],
      "execution_count": null,
      "outputs": []
    },
    {
      "cell_type": "markdown",
      "metadata": {
        "id": "rMDZegaXR6-f"
      },
      "source": [
        "Polarity vs Subjectivity"
      ]
    },
    {
      "cell_type": "code",
      "metadata": {
        "id": "ALe0YrhuRoMa"
      },
      "source": [
        "from textblob import TextBlob\n",
        "df['polarity'] = df['gram'].apply(lambda x: TextBlob(x).polarity)\n",
        "df['subjective'] = df['gram'].apply(lambda x: TextBlob(x).subjectivity)"
      ],
      "execution_count": null,
      "outputs": []
    },
    {
      "cell_type": "code",
      "metadata": {
        "id": "KLJQTUHYRoMa",
        "outputId": "feb257e2-f6e5-4219-ed2e-9c97bbc8ce38"
      },
      "source": [
        "df"
      ],
      "execution_count": null,
      "outputs": [
        {
          "output_type": "execute_result",
          "data": {
            "text/html": [
              "<div>\n",
              "<style scoped>\n",
              "    .dataframe tbody tr th:only-of-type {\n",
              "        vertical-align: middle;\n",
              "    }\n",
              "\n",
              "    .dataframe tbody tr th {\n",
              "        vertical-align: top;\n",
              "    }\n",
              "\n",
              "    .dataframe thead th {\n",
              "        text-align: right;\n",
              "    }\n",
              "</style>\n",
              "<table border=\"1\" class=\"dataframe\">\n",
              "  <thead>\n",
              "    <tr style=\"text-align: right;\">\n",
              "      <th></th>\n",
              "      <th>gram</th>\n",
              "      <th>counts</th>\n",
              "      <th>date</th>\n",
              "    </tr>\n",
              "  </thead>\n",
              "  <tbody>\n",
              "    <tr>\n",
              "      <th>0</th>\n",
              "      <td>covid 19 pandemic</td>\n",
              "      <td>8036.0</td>\n",
              "      <td>April 23, 2020</td>\n",
              "    </tr>\n",
              "    <tr>\n",
              "      <th>1</th>\n",
              "      <td>href rel nofollow</td>\n",
              "      <td>4204.0</td>\n",
              "      <td>April 23, 2020</td>\n",
              "    </tr>\n",
              "    <tr>\n",
              "      <th>2</th>\n",
              "      <td>covid 19 cases</td>\n",
              "      <td>4161.0</td>\n",
              "      <td>April 23, 2020</td>\n",
              "    </tr>\n",
              "    <tr>\n",
              "      <th>3</th>\n",
              "      <td>true href rel</td>\n",
              "      <td>4130.0</td>\n",
              "      <td>April 23, 2020</td>\n",
              "    </tr>\n",
              "    <tr>\n",
              "      <th>4</th>\n",
              "      <td>covid 19 crisis</td>\n",
              "      <td>3860.0</td>\n",
              "      <td>April 23, 2020</td>\n",
              "    </tr>\n",
              "    <tr>\n",
              "      <th>...</th>\n",
              "      <td>...</td>\n",
              "      <td>...</td>\n",
              "      <td>...</td>\n",
              "    </tr>\n",
              "    <tr>\n",
              "      <th>545</th>\n",
              "      <td>enero 2021</td>\n",
              "      <td>240.0</td>\n",
              "      <td>February 01, 2021</td>\n",
              "    </tr>\n",
              "    <tr>\n",
              "      <th>546</th>\n",
              "      <td>vacuna curevac</td>\n",
              "      <td>240.0</td>\n",
              "      <td>February 01, 2021</td>\n",
              "    </tr>\n",
              "    <tr>\n",
              "      <th>547</th>\n",
              "      <td>plan vacunación</td>\n",
              "      <td>239.0</td>\n",
              "      <td>February 01, 2021</td>\n",
              "    </tr>\n",
              "    <tr>\n",
              "      <th>548</th>\n",
              "      <td>variant coronavirus</td>\n",
              "      <td>239.0</td>\n",
              "      <td>February 01, 2021</td>\n",
              "    </tr>\n",
              "    <tr>\n",
              "      <th>549</th>\n",
              "      <td>know covid</td>\n",
              "      <td>238.0</td>\n",
              "      <td>February 01, 2021</td>\n",
              "    </tr>\n",
              "  </tbody>\n",
              "</table>\n",
              "<p>156750 rows × 3 columns</p>\n",
              "</div>"
            ],
            "text/plain": [
              "                    gram  counts               date\n",
              "0      covid 19 pandemic  8036.0     April 23, 2020\n",
              "1      href rel nofollow  4204.0     April 23, 2020\n",
              "2         covid 19 cases  4161.0     April 23, 2020\n",
              "3          true href rel  4130.0     April 23, 2020\n",
              "4        covid 19 crisis  3860.0     April 23, 2020\n",
              "..                   ...     ...                ...\n",
              "545           enero 2021   240.0  February 01, 2021\n",
              "546       vacuna curevac   240.0  February 01, 2021\n",
              "547      plan vacunación   239.0  February 01, 2021\n",
              "548  variant coronavirus   239.0  February 01, 2021\n",
              "549           know covid   238.0  February 01, 2021\n",
              "\n",
              "[156750 rows x 3 columns]"
            ]
          },
          "metadata": {
            "tags": []
          },
          "execution_count": 219
        }
      ]
    },
    {
      "cell_type": "code",
      "metadata": {
        "id": "swaU9h-aRoMa",
        "outputId": "efbf42c9-18c8-4641-c375-10dd36177151"
      },
      "source": [
        "gram_list = df['gram'].values\n",
        "type(gram_list)"
      ],
      "execution_count": null,
      "outputs": [
        {
          "output_type": "execute_result",
          "data": {
            "text/plain": [
              "numpy.ndarray"
            ]
          },
          "metadata": {
            "tags": []
          },
          "execution_count": 220
        }
      ]
    },
    {
      "cell_type": "code",
      "metadata": {
        "id": "OKfySjPdRoMb",
        "outputId": "b9ca21fe-fd86-41a0-8f1f-6cfa286a5658"
      },
      "source": [
        "df"
      ],
      "execution_count": null,
      "outputs": [
        {
          "output_type": "execute_result",
          "data": {
            "text/html": [
              "<div>\n",
              "<style scoped>\n",
              "    .dataframe tbody tr th:only-of-type {\n",
              "        vertical-align: middle;\n",
              "    }\n",
              "\n",
              "    .dataframe tbody tr th {\n",
              "        vertical-align: top;\n",
              "    }\n",
              "\n",
              "    .dataframe thead th {\n",
              "        text-align: right;\n",
              "    }\n",
              "</style>\n",
              "<table border=\"1\" class=\"dataframe\">\n",
              "  <thead>\n",
              "    <tr style=\"text-align: right;\">\n",
              "      <th></th>\n",
              "      <th>gram</th>\n",
              "      <th>counts</th>\n",
              "      <th>date</th>\n",
              "    </tr>\n",
              "  </thead>\n",
              "  <tbody>\n",
              "    <tr>\n",
              "      <th>0</th>\n",
              "      <td>covid 19 pandemic</td>\n",
              "      <td>8036.0</td>\n",
              "      <td>April 23, 2020</td>\n",
              "    </tr>\n",
              "    <tr>\n",
              "      <th>1</th>\n",
              "      <td>href rel nofollow</td>\n",
              "      <td>4204.0</td>\n",
              "      <td>April 23, 2020</td>\n",
              "    </tr>\n",
              "    <tr>\n",
              "      <th>2</th>\n",
              "      <td>covid 19 cases</td>\n",
              "      <td>4161.0</td>\n",
              "      <td>April 23, 2020</td>\n",
              "    </tr>\n",
              "    <tr>\n",
              "      <th>3</th>\n",
              "      <td>true href rel</td>\n",
              "      <td>4130.0</td>\n",
              "      <td>April 23, 2020</td>\n",
              "    </tr>\n",
              "    <tr>\n",
              "      <th>4</th>\n",
              "      <td>covid 19 crisis</td>\n",
              "      <td>3860.0</td>\n",
              "      <td>April 23, 2020</td>\n",
              "    </tr>\n",
              "    <tr>\n",
              "      <th>...</th>\n",
              "      <td>...</td>\n",
              "      <td>...</td>\n",
              "      <td>...</td>\n",
              "    </tr>\n",
              "    <tr>\n",
              "      <th>545</th>\n",
              "      <td>enero 2021</td>\n",
              "      <td>240.0</td>\n",
              "      <td>February 01, 2021</td>\n",
              "    </tr>\n",
              "    <tr>\n",
              "      <th>546</th>\n",
              "      <td>vacuna curevac</td>\n",
              "      <td>240.0</td>\n",
              "      <td>February 01, 2021</td>\n",
              "    </tr>\n",
              "    <tr>\n",
              "      <th>547</th>\n",
              "      <td>plan vacunación</td>\n",
              "      <td>239.0</td>\n",
              "      <td>February 01, 2021</td>\n",
              "    </tr>\n",
              "    <tr>\n",
              "      <th>548</th>\n",
              "      <td>variant coronavirus</td>\n",
              "      <td>239.0</td>\n",
              "      <td>February 01, 2021</td>\n",
              "    </tr>\n",
              "    <tr>\n",
              "      <th>549</th>\n",
              "      <td>know covid</td>\n",
              "      <td>238.0</td>\n",
              "      <td>February 01, 2021</td>\n",
              "    </tr>\n",
              "  </tbody>\n",
              "</table>\n",
              "<p>156750 rows × 3 columns</p>\n",
              "</div>"
            ],
            "text/plain": [
              "                    gram  counts               date\n",
              "0      covid 19 pandemic  8036.0     April 23, 2020\n",
              "1      href rel nofollow  4204.0     April 23, 2020\n",
              "2         covid 19 cases  4161.0     April 23, 2020\n",
              "3          true href rel  4130.0     April 23, 2020\n",
              "4        covid 19 crisis  3860.0     April 23, 2020\n",
              "..                   ...     ...                ...\n",
              "545           enero 2021   240.0  February 01, 2021\n",
              "546       vacuna curevac   240.0  February 01, 2021\n",
              "547      plan vacunación   239.0  February 01, 2021\n",
              "548  variant coronavirus   239.0  February 01, 2021\n",
              "549           know covid   238.0  February 01, 2021\n",
              "\n",
              "[156750 rows x 3 columns]"
            ]
          },
          "metadata": {
            "tags": []
          },
          "execution_count": 222
        }
      ]
    },
    {
      "cell_type": "code",
      "metadata": {
        "id": "f2VbLU1HRoMb"
      },
      "source": [
        "import json\n",
        "import pandas as pd\n",
        "import numpy as np\n",
        "from sklearn import metrics, manifold## for processing\n",
        "import re\n",
        "import nltk## for plotting\n",
        "import matplotlib.pyplot as plt\n",
        "import seaborn as sns## for w2v\n",
        "import gensim\n",
        "import gensim.downloader as gensim_api## for bert\n",
        "import transformers"
      ],
      "execution_count": null,
      "outputs": []
    },
    {
      "cell_type": "markdown",
      "metadata": {
        "id": "u7luLBdkSFjO"
      },
      "source": [
        "Polarity and Subjectivity Score"
      ]
    },
    {
      "cell_type": "code",
      "metadata": {
        "id": "s9Wjc9MGRoMc",
        "outputId": "104cacbd-1fb5-42b0-e5d3-a3bfad210d63"
      },
      "source": [
        "from textblob import TextBlob\n",
        "df['polarity'] = df['gram'].apply(lambda x: TextBlob(x).polarity)\n",
        "df['subjective'] = df['gram'].apply(lambda x: TextBlob(x).subjectivity)\n",
        "df"
      ],
      "execution_count": null,
      "outputs": [
        {
          "output_type": "execute_result",
          "data": {
            "text/html": [
              "<div>\n",
              "<style scoped>\n",
              "    .dataframe tbody tr th:only-of-type {\n",
              "        vertical-align: middle;\n",
              "    }\n",
              "\n",
              "    .dataframe tbody tr th {\n",
              "        vertical-align: top;\n",
              "    }\n",
              "\n",
              "    .dataframe thead th {\n",
              "        text-align: right;\n",
              "    }\n",
              "</style>\n",
              "<table border=\"1\" class=\"dataframe\">\n",
              "  <thead>\n",
              "    <tr style=\"text-align: right;\">\n",
              "      <th></th>\n",
              "      <th>gram</th>\n",
              "      <th>counts</th>\n",
              "      <th>date</th>\n",
              "      <th>polarity</th>\n",
              "      <th>subjective</th>\n",
              "    </tr>\n",
              "  </thead>\n",
              "  <tbody>\n",
              "    <tr>\n",
              "      <th>0</th>\n",
              "      <td>covid 19 pandemic</td>\n",
              "      <td>8036.0</td>\n",
              "      <td>April 23, 2020</td>\n",
              "      <td>0.00</td>\n",
              "      <td>0.00</td>\n",
              "    </tr>\n",
              "    <tr>\n",
              "      <th>1</th>\n",
              "      <td>href rel nofollow</td>\n",
              "      <td>4204.0</td>\n",
              "      <td>April 23, 2020</td>\n",
              "      <td>0.00</td>\n",
              "      <td>0.00</td>\n",
              "    </tr>\n",
              "    <tr>\n",
              "      <th>2</th>\n",
              "      <td>covid 19 cases</td>\n",
              "      <td>4161.0</td>\n",
              "      <td>April 23, 2020</td>\n",
              "      <td>0.00</td>\n",
              "      <td>0.00</td>\n",
              "    </tr>\n",
              "    <tr>\n",
              "      <th>3</th>\n",
              "      <td>true href rel</td>\n",
              "      <td>4130.0</td>\n",
              "      <td>April 23, 2020</td>\n",
              "      <td>0.35</td>\n",
              "      <td>0.65</td>\n",
              "    </tr>\n",
              "    <tr>\n",
              "      <th>4</th>\n",
              "      <td>covid 19 crisis</td>\n",
              "      <td>3860.0</td>\n",
              "      <td>April 23, 2020</td>\n",
              "      <td>0.00</td>\n",
              "      <td>0.00</td>\n",
              "    </tr>\n",
              "    <tr>\n",
              "      <th>...</th>\n",
              "      <td>...</td>\n",
              "      <td>...</td>\n",
              "      <td>...</td>\n",
              "      <td>...</td>\n",
              "      <td>...</td>\n",
              "    </tr>\n",
              "    <tr>\n",
              "      <th>545</th>\n",
              "      <td>enero 2021</td>\n",
              "      <td>240.0</td>\n",
              "      <td>February 01, 2021</td>\n",
              "      <td>0.00</td>\n",
              "      <td>0.00</td>\n",
              "    </tr>\n",
              "    <tr>\n",
              "      <th>546</th>\n",
              "      <td>vacuna curevac</td>\n",
              "      <td>240.0</td>\n",
              "      <td>February 01, 2021</td>\n",
              "      <td>0.00</td>\n",
              "      <td>0.00</td>\n",
              "    </tr>\n",
              "    <tr>\n",
              "      <th>547</th>\n",
              "      <td>plan vacunación</td>\n",
              "      <td>239.0</td>\n",
              "      <td>February 01, 2021</td>\n",
              "      <td>0.00</td>\n",
              "      <td>0.00</td>\n",
              "    </tr>\n",
              "    <tr>\n",
              "      <th>548</th>\n",
              "      <td>variant coronavirus</td>\n",
              "      <td>239.0</td>\n",
              "      <td>February 01, 2021</td>\n",
              "      <td>0.00</td>\n",
              "      <td>0.00</td>\n",
              "    </tr>\n",
              "    <tr>\n",
              "      <th>549</th>\n",
              "      <td>know covid</td>\n",
              "      <td>238.0</td>\n",
              "      <td>February 01, 2021</td>\n",
              "      <td>0.00</td>\n",
              "      <td>0.00</td>\n",
              "    </tr>\n",
              "  </tbody>\n",
              "</table>\n",
              "<p>156750 rows × 5 columns</p>\n",
              "</div>"
            ],
            "text/plain": [
              "                    gram  counts               date  polarity  subjective\n",
              "0      covid 19 pandemic  8036.0     April 23, 2020      0.00        0.00\n",
              "1      href rel nofollow  4204.0     April 23, 2020      0.00        0.00\n",
              "2         covid 19 cases  4161.0     April 23, 2020      0.00        0.00\n",
              "3          true href rel  4130.0     April 23, 2020      0.35        0.65\n",
              "4        covid 19 crisis  3860.0     April 23, 2020      0.00        0.00\n",
              "..                   ...     ...                ...       ...         ...\n",
              "545           enero 2021   240.0  February 01, 2021      0.00        0.00\n",
              "546       vacuna curevac   240.0  February 01, 2021      0.00        0.00\n",
              "547      plan vacunación   239.0  February 01, 2021      0.00        0.00\n",
              "548  variant coronavirus   239.0  February 01, 2021      0.00        0.00\n",
              "549           know covid   238.0  February 01, 2021      0.00        0.00\n",
              "\n",
              "[156750 rows x 5 columns]"
            ]
          },
          "metadata": {
            "tags": []
          },
          "execution_count": 234
        }
      ]
    },
    {
      "cell_type": "markdown",
      "metadata": {
        "id": "i2KG7LQwSJRo"
      },
      "source": [
        "Topic Modeling"
      ]
    },
    {
      "cell_type": "code",
      "metadata": {
        "id": "k1BEO77vRoMc",
        "outputId": "09696627-c323-41a3-e46e-23083487052d"
      },
      "source": [
        "from sklearn.feature_extraction.text import TfidfVectorizer\n",
        "from sklearn.decomposition import NMF\n",
        "from sklearn.pipeline import make_pipeline\n",
        "tfidf_vectorizer = TfidfVectorizer(stop_words=stoplist, ngram_range=(2,3))\n",
        "nmf = NMF(n_components=3)\n",
        "pipe = make_pipeline(tfidf_vectorizer, nmf)\n",
        "pipe.fit(df['gram'])\n",
        "def print_top_words(model, feature_names, n_top_words):\n",
        "    for topic_idx, topic in enumerate(model.components_):\n",
        "        message = \"Topic #%d: \" % topic_idx\n",
        "        message += \", \".join([feature_names[i]\n",
        "                             for i in topic.argsort()[:-n_top_words - 1:-1]])\n",
        "        print(message)\n",
        "    print()\n",
        "print_top_words(nmf, tfidf_vectorizer.get_feature_names(), n_top_words=3)"
      ],
      "execution_count": null,
      "outputs": [
        {
          "output_type": "stream",
          "text": [
            "Topic #0: covid 19, casos covid, 19 via\n",
            "Topic #1: positive covid, tested positive, positive coronavirus\n",
            "Topic #2: new cases, cases covid, cases covid19\n",
            "\n"
          ],
          "name": "stdout"
        }
      ]
    },
    {
      "cell_type": "markdown",
      "metadata": {
        "id": "QkY8Zm1eSMPn"
      },
      "source": [
        "LDA Implementation"
      ]
    },
    {
      "cell_type": "code",
      "metadata": {
        "id": "4voMRrmpRoMc",
        "outputId": "88d5c963-e149-49e5-fba1-a4b03e51f6e3"
      },
      "source": [
        "from sklearn.decomposition import LatentDirichletAllocation\n",
        "tfidf_vectorizer = TfidfVectorizer(stop_words=stoplist, ngram_range=(2,3))\n",
        "lda = LatentDirichletAllocation(n_components=3)\n",
        "pipe = make_pipeline(tfidf_vectorizer, lda)\n",
        "pipe.fit(df['gram'])\n",
        "def print_top_words(model, feature_names, n_top_words):\n",
        "    for topic_idx, topic in enumerate(model.components_):\n",
        "        message = \"Topic #%d: \" % topic_idx\n",
        "        message += \", \".join([feature_names[i]\n",
        "                             for i in topic.argsort()[:-n_top_words - 1:-1]])\n",
        "        print(message)\n",
        "    print()\n",
        "print_top_words(lda, tfidf_vectorizer.get_feature_names(), n_top_words=3)"
      ],
      "execution_count": null,
      "outputs": [
        {
          "output_type": "stream",
          "text": [
            "Topic #0: covid 19, tested positive, stay home\n",
            "Topic #1: coronavirus pandemic, new york, cases covid\n",
            "Topic #2: covid 19, new cases, positive covid\n",
            "\n"
          ],
          "name": "stdout"
        }
      ]
    },
    {
      "cell_type": "code",
      "metadata": {
        "id": "LtAwttC8RoMd",
        "outputId": "f328578a-5d59-4f5b-b76d-1d171f4850e7"
      },
      "source": [
        "df_vander = df[['gram','counts','date']]\n",
        "df_vander"
      ],
      "execution_count": null,
      "outputs": [
        {
          "output_type": "execute_result",
          "data": {
            "text/html": [
              "<div>\n",
              "<style scoped>\n",
              "    .dataframe tbody tr th:only-of-type {\n",
              "        vertical-align: middle;\n",
              "    }\n",
              "\n",
              "    .dataframe tbody tr th {\n",
              "        vertical-align: top;\n",
              "    }\n",
              "\n",
              "    .dataframe thead th {\n",
              "        text-align: right;\n",
              "    }\n",
              "</style>\n",
              "<table border=\"1\" class=\"dataframe\">\n",
              "  <thead>\n",
              "    <tr style=\"text-align: right;\">\n",
              "      <th></th>\n",
              "      <th>gram</th>\n",
              "      <th>counts</th>\n",
              "      <th>date</th>\n",
              "    </tr>\n",
              "  </thead>\n",
              "  <tbody>\n",
              "    <tr>\n",
              "      <th>0</th>\n",
              "      <td>covid 19 pandemic</td>\n",
              "      <td>8036.0</td>\n",
              "      <td>April 23, 2020</td>\n",
              "    </tr>\n",
              "    <tr>\n",
              "      <th>1</th>\n",
              "      <td>href rel nofollow</td>\n",
              "      <td>4204.0</td>\n",
              "      <td>April 23, 2020</td>\n",
              "    </tr>\n",
              "    <tr>\n",
              "      <th>2</th>\n",
              "      <td>covid 19 cases</td>\n",
              "      <td>4161.0</td>\n",
              "      <td>April 23, 2020</td>\n",
              "    </tr>\n",
              "    <tr>\n",
              "      <th>3</th>\n",
              "      <td>true href rel</td>\n",
              "      <td>4130.0</td>\n",
              "      <td>April 23, 2020</td>\n",
              "    </tr>\n",
              "    <tr>\n",
              "      <th>4</th>\n",
              "      <td>covid 19 crisis</td>\n",
              "      <td>3860.0</td>\n",
              "      <td>April 23, 2020</td>\n",
              "    </tr>\n",
              "    <tr>\n",
              "      <th>...</th>\n",
              "      <td>...</td>\n",
              "      <td>...</td>\n",
              "      <td>...</td>\n",
              "    </tr>\n",
              "    <tr>\n",
              "      <th>545</th>\n",
              "      <td>enero 2021</td>\n",
              "      <td>240.0</td>\n",
              "      <td>February 01, 2021</td>\n",
              "    </tr>\n",
              "    <tr>\n",
              "      <th>546</th>\n",
              "      <td>vacuna curevac</td>\n",
              "      <td>240.0</td>\n",
              "      <td>February 01, 2021</td>\n",
              "    </tr>\n",
              "    <tr>\n",
              "      <th>547</th>\n",
              "      <td>plan vacunación</td>\n",
              "      <td>239.0</td>\n",
              "      <td>February 01, 2021</td>\n",
              "    </tr>\n",
              "    <tr>\n",
              "      <th>548</th>\n",
              "      <td>variant coronavirus</td>\n",
              "      <td>239.0</td>\n",
              "      <td>February 01, 2021</td>\n",
              "    </tr>\n",
              "    <tr>\n",
              "      <th>549</th>\n",
              "      <td>know covid</td>\n",
              "      <td>238.0</td>\n",
              "      <td>February 01, 2021</td>\n",
              "    </tr>\n",
              "  </tbody>\n",
              "</table>\n",
              "<p>156750 rows × 3 columns</p>\n",
              "</div>"
            ],
            "text/plain": [
              "                    gram  counts               date\n",
              "0      covid 19 pandemic  8036.0     April 23, 2020\n",
              "1      href rel nofollow  4204.0     April 23, 2020\n",
              "2         covid 19 cases  4161.0     April 23, 2020\n",
              "3          true href rel  4130.0     April 23, 2020\n",
              "4        covid 19 crisis  3860.0     April 23, 2020\n",
              "..                   ...     ...                ...\n",
              "545           enero 2021   240.0  February 01, 2021\n",
              "546       vacuna curevac   240.0  February 01, 2021\n",
              "547      plan vacunación   239.0  February 01, 2021\n",
              "548  variant coronavirus   239.0  February 01, 2021\n",
              "549           know covid   238.0  February 01, 2021\n",
              "\n",
              "[156750 rows x 3 columns]"
            ]
          },
          "metadata": {
            "tags": []
          },
          "execution_count": 260
        }
      ]
    },
    {
      "cell_type": "code",
      "metadata": {
        "id": "BIYn0GOvRoMd",
        "outputId": "c8caf21b-5f82-4f83-a07b-c608721272a3"
      },
      "source": [
        "import nltk\n",
        "nltk.download('vader_lexicon')"
      ],
      "execution_count": null,
      "outputs": [
        {
          "output_type": "stream",
          "text": [
            "[nltk_data] Downloading package vader_lexicon to\n",
            "[nltk_data]     C:\\Users\\chris\\AppData\\Roaming\\nltk_data...\n"
          ],
          "name": "stderr"
        },
        {
          "output_type": "execute_result",
          "data": {
            "text/plain": [
              "True"
            ]
          },
          "metadata": {
            "tags": []
          },
          "execution_count": 261
        }
      ]
    },
    {
      "cell_type": "markdown",
      "metadata": {
        "id": "jR0WjTzXSPJH"
      },
      "source": [
        "NLTK Approach to get sentiment"
      ]
    },
    {
      "cell_type": "code",
      "metadata": {
        "id": "dd4gZ35yRoMd"
      },
      "source": [
        "from nltk.sentiment.vader import SentimentIntensityAnalyzer\n",
        "\n",
        "sentimentAnalyzer = SentimentIntensityAnalyzer()"
      ],
      "execution_count": null,
      "outputs": []
    },
    {
      "cell_type": "code",
      "metadata": {
        "id": "0Qe97D_oRoMd",
        "outputId": "15573ffb-24f3-47f7-8aba-95576f0ab3cc"
      },
      "source": [
        "df"
      ],
      "execution_count": null,
      "outputs": [
        {
          "output_type": "execute_result",
          "data": {
            "text/html": [
              "<div>\n",
              "<style scoped>\n",
              "    .dataframe tbody tr th:only-of-type {\n",
              "        vertical-align: middle;\n",
              "    }\n",
              "\n",
              "    .dataframe tbody tr th {\n",
              "        vertical-align: top;\n",
              "    }\n",
              "\n",
              "    .dataframe thead th {\n",
              "        text-align: right;\n",
              "    }\n",
              "</style>\n",
              "<table border=\"1\" class=\"dataframe\">\n",
              "  <thead>\n",
              "    <tr style=\"text-align: right;\">\n",
              "      <th></th>\n",
              "      <th>gram</th>\n",
              "      <th>counts</th>\n",
              "      <th>date</th>\n",
              "      <th>sentiment_label</th>\n",
              "    </tr>\n",
              "  </thead>\n",
              "  <tbody>\n",
              "    <tr>\n",
              "      <th>0</th>\n",
              "      <td>covid 19 pandemic</td>\n",
              "      <td>8036.0</td>\n",
              "      <td>April 23, 2020</td>\n",
              "      <td>negative</td>\n",
              "    </tr>\n",
              "    <tr>\n",
              "      <th>1</th>\n",
              "      <td>href rel nofollow</td>\n",
              "      <td>4204.0</td>\n",
              "      <td>April 23, 2020</td>\n",
              "      <td>negative</td>\n",
              "    </tr>\n",
              "    <tr>\n",
              "      <th>2</th>\n",
              "      <td>covid 19 cases</td>\n",
              "      <td>4161.0</td>\n",
              "      <td>April 23, 2020</td>\n",
              "      <td>negative</td>\n",
              "    </tr>\n",
              "    <tr>\n",
              "      <th>3</th>\n",
              "      <td>true href rel</td>\n",
              "      <td>4130.0</td>\n",
              "      <td>April 23, 2020</td>\n",
              "      <td>positive</td>\n",
              "    </tr>\n",
              "    <tr>\n",
              "      <th>4</th>\n",
              "      <td>covid 19 crisis</td>\n",
              "      <td>3860.0</td>\n",
              "      <td>April 23, 2020</td>\n",
              "      <td>negative</td>\n",
              "    </tr>\n",
              "    <tr>\n",
              "      <th>...</th>\n",
              "      <td>...</td>\n",
              "      <td>...</td>\n",
              "      <td>...</td>\n",
              "      <td>...</td>\n",
              "    </tr>\n",
              "    <tr>\n",
              "      <th>545</th>\n",
              "      <td>enero 2021</td>\n",
              "      <td>240.0</td>\n",
              "      <td>February 01, 2021</td>\n",
              "      <td>negative</td>\n",
              "    </tr>\n",
              "    <tr>\n",
              "      <th>546</th>\n",
              "      <td>vacuna curevac</td>\n",
              "      <td>240.0</td>\n",
              "      <td>February 01, 2021</td>\n",
              "      <td>negative</td>\n",
              "    </tr>\n",
              "    <tr>\n",
              "      <th>547</th>\n",
              "      <td>plan vacunación</td>\n",
              "      <td>239.0</td>\n",
              "      <td>February 01, 2021</td>\n",
              "      <td>negative</td>\n",
              "    </tr>\n",
              "    <tr>\n",
              "      <th>548</th>\n",
              "      <td>variant coronavirus</td>\n",
              "      <td>239.0</td>\n",
              "      <td>February 01, 2021</td>\n",
              "      <td>negative</td>\n",
              "    </tr>\n",
              "    <tr>\n",
              "      <th>549</th>\n",
              "      <td>know covid</td>\n",
              "      <td>238.0</td>\n",
              "      <td>February 01, 2021</td>\n",
              "      <td>negative</td>\n",
              "    </tr>\n",
              "  </tbody>\n",
              "</table>\n",
              "<p>156750 rows × 4 columns</p>\n",
              "</div>"
            ],
            "text/plain": [
              "                    gram  counts               date sentiment_label\n",
              "0      covid 19 pandemic  8036.0     April 23, 2020        negative\n",
              "1      href rel nofollow  4204.0     April 23, 2020        negative\n",
              "2         covid 19 cases  4161.0     April 23, 2020        negative\n",
              "3          true href rel  4130.0     April 23, 2020        positive\n",
              "4        covid 19 crisis  3860.0     April 23, 2020        negative\n",
              "..                   ...     ...                ...             ...\n",
              "545           enero 2021   240.0  February 01, 2021        negative\n",
              "546       vacuna curevac   240.0  February 01, 2021        negative\n",
              "547      plan vacunación   239.0  February 01, 2021        negative\n",
              "548  variant coronavirus   239.0  February 01, 2021        negative\n",
              "549           know covid   238.0  February 01, 2021        negative\n",
              "\n",
              "[156750 rows x 4 columns]"
            ]
          },
          "metadata": {
            "tags": []
          },
          "execution_count": 369
        }
      ]
    },
    {
      "cell_type": "code",
      "metadata": {
        "id": "_CbXximqRoMd",
        "outputId": "5bb135e5-23e9-44e6-d5bb-6ba699298d91"
      },
      "source": [
        "polarity = sentimentAnalyzer.polarity_scores(text)\n",
        "polarity"
      ],
      "execution_count": null,
      "outputs": [
        {
          "output_type": "execute_result",
          "data": {
            "text/plain": [
              "{'neg': 0.403, 'neu': 0.427, 'pos': 0.17, 'compound': -0.6565}"
            ]
          },
          "metadata": {
            "tags": []
          },
          "execution_count": 454
        }
      ]
    },
    {
      "cell_type": "markdown",
      "metadata": {
        "id": "OFkAl1ZRSfsI"
      },
      "source": [
        "Partitioning Sector"
      ]
    },
    {
      "cell_type": "code",
      "metadata": {
        "id": "Yz1aH65IRoMe"
      },
      "source": [
        "text = \"This was a terrible movie. It was very funny and I hated it.\"\n",
        "count = 0\n",
        "def getSentiment(text):\n",
        "    helper = (sentimentAnalyzer.polarity_scores(text))\n",
        "    sentiment = helper['compound']\n",
        "    if(helper['positive'] > helper['negative']):\n",
        "        return \"positive\"\n",
        "    else:\n",
        "        return \"negative\""
      ],
      "execution_count": null,
      "outputs": []
    },
    {
      "cell_type": "code",
      "metadata": {
        "id": "WUZBAQmJRoMe"
      },
      "source": [
        "helper = list(df['gram'])\n",
        "res = []\n",
        "for x in helper:\n",
        "    call = (getSentiment(x))\n",
        "    res.append(call)"
      ],
      "execution_count": null,
      "outputs": []
    },
    {
      "cell_type": "code",
      "metadata": {
        "id": "LPbfzgH9RoMe",
        "outputId": "a098fc48-f9ef-405c-ea63-b4a315991749"
      },
      "source": [
        "from collections import Counter\n",
        "\n",
        "d = Counter(res)\n",
        "x = \"positive\"\n",
        "y = \"negative\"\n",
        "#z = \"neutral\"\n",
        "print('{} has occurred {} times'.format(x, d[x]))\n",
        "print('{} has occurred {} times'.format(y, d[y]))\n",
        "#print('{} has occurred {} times'.format(z, d[z]))"
      ],
      "execution_count": null,
      "outputs": [
        {
          "output_type": "stream",
          "text": [
            "positive has occurred 14037 times\n",
            "negative has occurred 142713 times\n"
          ],
          "name": "stdout"
        }
      ]
    },
    {
      "cell_type": "code",
      "metadata": {
        "id": "36hwuJLbRoMe",
        "outputId": "60652457-9a2b-461c-9c29-e2f93865c6c1"
      },
      "source": [
        "df['sentiment_label'] = res\n",
        "del df['sentiment__positive']\n",
        "df"
      ],
      "execution_count": null,
      "outputs": [
        {
          "output_type": "execute_result",
          "data": {
            "text/html": [
              "<div>\n",
              "<style scoped>\n",
              "    .dataframe tbody tr th:only-of-type {\n",
              "        vertical-align: middle;\n",
              "    }\n",
              "\n",
              "    .dataframe tbody tr th {\n",
              "        vertical-align: top;\n",
              "    }\n",
              "\n",
              "    .dataframe thead th {\n",
              "        text-align: right;\n",
              "    }\n",
              "</style>\n",
              "<table border=\"1\" class=\"dataframe\">\n",
              "  <thead>\n",
              "    <tr style=\"text-align: right;\">\n",
              "      <th></th>\n",
              "      <th>gram</th>\n",
              "      <th>counts</th>\n",
              "      <th>date</th>\n",
              "      <th>sentiment_label</th>\n",
              "    </tr>\n",
              "  </thead>\n",
              "  <tbody>\n",
              "    <tr>\n",
              "      <th>0</th>\n",
              "      <td>covid 19 pandemic</td>\n",
              "      <td>8036.0</td>\n",
              "      <td>April 23, 2020</td>\n",
              "      <td>negative</td>\n",
              "    </tr>\n",
              "    <tr>\n",
              "      <th>1</th>\n",
              "      <td>href rel nofollow</td>\n",
              "      <td>4204.0</td>\n",
              "      <td>April 23, 2020</td>\n",
              "      <td>negative</td>\n",
              "    </tr>\n",
              "    <tr>\n",
              "      <th>2</th>\n",
              "      <td>covid 19 cases</td>\n",
              "      <td>4161.0</td>\n",
              "      <td>April 23, 2020</td>\n",
              "      <td>negative</td>\n",
              "    </tr>\n",
              "    <tr>\n",
              "      <th>3</th>\n",
              "      <td>true href rel</td>\n",
              "      <td>4130.0</td>\n",
              "      <td>April 23, 2020</td>\n",
              "      <td>positive</td>\n",
              "    </tr>\n",
              "    <tr>\n",
              "      <th>4</th>\n",
              "      <td>covid 19 crisis</td>\n",
              "      <td>3860.0</td>\n",
              "      <td>April 23, 2020</td>\n",
              "      <td>negative</td>\n",
              "    </tr>\n",
              "    <tr>\n",
              "      <th>...</th>\n",
              "      <td>...</td>\n",
              "      <td>...</td>\n",
              "      <td>...</td>\n",
              "      <td>...</td>\n",
              "    </tr>\n",
              "    <tr>\n",
              "      <th>545</th>\n",
              "      <td>enero 2021</td>\n",
              "      <td>240.0</td>\n",
              "      <td>February 01, 2021</td>\n",
              "      <td>negative</td>\n",
              "    </tr>\n",
              "    <tr>\n",
              "      <th>546</th>\n",
              "      <td>vacuna curevac</td>\n",
              "      <td>240.0</td>\n",
              "      <td>February 01, 2021</td>\n",
              "      <td>negative</td>\n",
              "    </tr>\n",
              "    <tr>\n",
              "      <th>547</th>\n",
              "      <td>plan vacunación</td>\n",
              "      <td>239.0</td>\n",
              "      <td>February 01, 2021</td>\n",
              "      <td>negative</td>\n",
              "    </tr>\n",
              "    <tr>\n",
              "      <th>548</th>\n",
              "      <td>variant coronavirus</td>\n",
              "      <td>239.0</td>\n",
              "      <td>February 01, 2021</td>\n",
              "      <td>negative</td>\n",
              "    </tr>\n",
              "    <tr>\n",
              "      <th>549</th>\n",
              "      <td>know covid</td>\n",
              "      <td>238.0</td>\n",
              "      <td>February 01, 2021</td>\n",
              "      <td>negative</td>\n",
              "    </tr>\n",
              "  </tbody>\n",
              "</table>\n",
              "<p>156750 rows × 4 columns</p>\n",
              "</div>"
            ],
            "text/plain": [
              "                    gram  counts               date sentiment_label\n",
              "0      covid 19 pandemic  8036.0     April 23, 2020        negative\n",
              "1      href rel nofollow  4204.0     April 23, 2020        negative\n",
              "2         covid 19 cases  4161.0     April 23, 2020        negative\n",
              "3          true href rel  4130.0     April 23, 2020        positive\n",
              "4        covid 19 crisis  3860.0     April 23, 2020        negative\n",
              "..                   ...     ...                ...             ...\n",
              "545           enero 2021   240.0  February 01, 2021        negative\n",
              "546       vacuna curevac   240.0  February 01, 2021        negative\n",
              "547      plan vacunación   239.0  February 01, 2021        negative\n",
              "548  variant coronavirus   239.0  February 01, 2021        negative\n",
              "549           know covid   238.0  February 01, 2021        negative\n",
              "\n",
              "[156750 rows x 4 columns]"
            ]
          },
          "metadata": {
            "tags": []
          },
          "execution_count": 438
        }
      ]
    },
    {
      "cell_type": "code",
      "metadata": {
        "id": "Jf2e6s4RRoMe",
        "outputId": "f9846bf7-ed9a-4ae1-ab01-499326ac12c5"
      },
      "source": [
        "df = pd.concat([df,pd.get_dummies(df['sentiment_label'], prefix='sentiment_')],axis=1)\n",
        "df"
      ],
      "execution_count": null,
      "outputs": [
        {
          "output_type": "execute_result",
          "data": {
            "text/html": [
              "<div>\n",
              "<style scoped>\n",
              "    .dataframe tbody tr th:only-of-type {\n",
              "        vertical-align: middle;\n",
              "    }\n",
              "\n",
              "    .dataframe tbody tr th {\n",
              "        vertical-align: top;\n",
              "    }\n",
              "\n",
              "    .dataframe thead th {\n",
              "        text-align: right;\n",
              "    }\n",
              "</style>\n",
              "<table border=\"1\" class=\"dataframe\">\n",
              "  <thead>\n",
              "    <tr style=\"text-align: right;\">\n",
              "      <th></th>\n",
              "      <th>gram</th>\n",
              "      <th>counts</th>\n",
              "      <th>date</th>\n",
              "      <th>sentiment_label</th>\n",
              "      <th>sentiment__negative</th>\n",
              "      <th>sentiment__positive</th>\n",
              "    </tr>\n",
              "  </thead>\n",
              "  <tbody>\n",
              "    <tr>\n",
              "      <th>0</th>\n",
              "      <td>covid 19 pandemic</td>\n",
              "      <td>8036.0</td>\n",
              "      <td>April 23, 2020</td>\n",
              "      <td>negative</td>\n",
              "      <td>1</td>\n",
              "      <td>0</td>\n",
              "    </tr>\n",
              "    <tr>\n",
              "      <th>1</th>\n",
              "      <td>href rel nofollow</td>\n",
              "      <td>4204.0</td>\n",
              "      <td>April 23, 2020</td>\n",
              "      <td>negative</td>\n",
              "      <td>1</td>\n",
              "      <td>0</td>\n",
              "    </tr>\n",
              "    <tr>\n",
              "      <th>2</th>\n",
              "      <td>covid 19 cases</td>\n",
              "      <td>4161.0</td>\n",
              "      <td>April 23, 2020</td>\n",
              "      <td>negative</td>\n",
              "      <td>1</td>\n",
              "      <td>0</td>\n",
              "    </tr>\n",
              "    <tr>\n",
              "      <th>3</th>\n",
              "      <td>true href rel</td>\n",
              "      <td>4130.0</td>\n",
              "      <td>April 23, 2020</td>\n",
              "      <td>positive</td>\n",
              "      <td>0</td>\n",
              "      <td>1</td>\n",
              "    </tr>\n",
              "    <tr>\n",
              "      <th>4</th>\n",
              "      <td>covid 19 crisis</td>\n",
              "      <td>3860.0</td>\n",
              "      <td>April 23, 2020</td>\n",
              "      <td>negative</td>\n",
              "      <td>1</td>\n",
              "      <td>0</td>\n",
              "    </tr>\n",
              "    <tr>\n",
              "      <th>...</th>\n",
              "      <td>...</td>\n",
              "      <td>...</td>\n",
              "      <td>...</td>\n",
              "      <td>...</td>\n",
              "      <td>...</td>\n",
              "      <td>...</td>\n",
              "    </tr>\n",
              "    <tr>\n",
              "      <th>545</th>\n",
              "      <td>enero 2021</td>\n",
              "      <td>240.0</td>\n",
              "      <td>February 01, 2021</td>\n",
              "      <td>negative</td>\n",
              "      <td>1</td>\n",
              "      <td>0</td>\n",
              "    </tr>\n",
              "    <tr>\n",
              "      <th>546</th>\n",
              "      <td>vacuna curevac</td>\n",
              "      <td>240.0</td>\n",
              "      <td>February 01, 2021</td>\n",
              "      <td>negative</td>\n",
              "      <td>1</td>\n",
              "      <td>0</td>\n",
              "    </tr>\n",
              "    <tr>\n",
              "      <th>547</th>\n",
              "      <td>plan vacunación</td>\n",
              "      <td>239.0</td>\n",
              "      <td>February 01, 2021</td>\n",
              "      <td>negative</td>\n",
              "      <td>1</td>\n",
              "      <td>0</td>\n",
              "    </tr>\n",
              "    <tr>\n",
              "      <th>548</th>\n",
              "      <td>variant coronavirus</td>\n",
              "      <td>239.0</td>\n",
              "      <td>February 01, 2021</td>\n",
              "      <td>negative</td>\n",
              "      <td>1</td>\n",
              "      <td>0</td>\n",
              "    </tr>\n",
              "    <tr>\n",
              "      <th>549</th>\n",
              "      <td>know covid</td>\n",
              "      <td>238.0</td>\n",
              "      <td>February 01, 2021</td>\n",
              "      <td>negative</td>\n",
              "      <td>1</td>\n",
              "      <td>0</td>\n",
              "    </tr>\n",
              "  </tbody>\n",
              "</table>\n",
              "<p>156750 rows × 6 columns</p>\n",
              "</div>"
            ],
            "text/plain": [
              "                    gram  counts               date sentiment_label  \\\n",
              "0      covid 19 pandemic  8036.0     April 23, 2020        negative   \n",
              "1      href rel nofollow  4204.0     April 23, 2020        negative   \n",
              "2         covid 19 cases  4161.0     April 23, 2020        negative   \n",
              "3          true href rel  4130.0     April 23, 2020        positive   \n",
              "4        covid 19 crisis  3860.0     April 23, 2020        negative   \n",
              "..                   ...     ...                ...             ...   \n",
              "545           enero 2021   240.0  February 01, 2021        negative   \n",
              "546       vacuna curevac   240.0  February 01, 2021        negative   \n",
              "547      plan vacunación   239.0  February 01, 2021        negative   \n",
              "548  variant coronavirus   239.0  February 01, 2021        negative   \n",
              "549           know covid   238.0  February 01, 2021        negative   \n",
              "\n",
              "     sentiment__negative  sentiment__positive  \n",
              "0                      1                    0  \n",
              "1                      1                    0  \n",
              "2                      1                    0  \n",
              "3                      0                    1  \n",
              "4                      1                    0  \n",
              "..                   ...                  ...  \n",
              "545                    1                    0  \n",
              "546                    1                    0  \n",
              "547                    1                    0  \n",
              "548                    1                    0  \n",
              "549                    1                    0  \n",
              "\n",
              "[156750 rows x 6 columns]"
            ]
          },
          "metadata": {
            "tags": []
          },
          "execution_count": 439
        }
      ]
    },
    {
      "cell_type": "markdown",
      "metadata": {
        "id": "NFYKRvWFSlAh"
      },
      "source": [
        "Dispersion of Sentiment Class Labels"
      ]
    },
    {
      "cell_type": "code",
      "metadata": {
        "id": "TMUaGbjERoMe",
        "outputId": "1071c342-acdf-4224-8990-4452fa12b8a3"
      },
      "source": [
        "import numpy as np\n",
        "import pandas as pd\n",
        "import matplotlib.pyplot as plt\n",
        "import seaborn as sns\n",
        " \n",
        "sns.catplot(x=\"sentiment_label\", kind=\"count\", palette=\"rainbow_r\", data=df)"
      ],
      "execution_count": null,
      "outputs": [
        {
          "output_type": "execute_result",
          "data": {
            "text/plain": [
              "<seaborn.axisgrid.FacetGrid at 0x21e31efbca0>"
            ]
          },
          "metadata": {
            "tags": []
          },
          "execution_count": 440
        },
        {
          "output_type": "display_data",
          "data": {
            "image/png": "[encoded data removed]",
            "text/plain": [
              "<Figure size 360x360 with 1 Axes>"
            ]
          },
          "metadata": {
            "tags": []
          }
        }
      ]
    }
  ]
}