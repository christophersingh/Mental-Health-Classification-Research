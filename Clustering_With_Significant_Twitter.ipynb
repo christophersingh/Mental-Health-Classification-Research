{
  "nbformat": 4,
  "nbformat_minor": 0,
  "metadata": {
    "accelerator": "GPU",
    "colab": {
      "name": "Clustering With Significant Twitter.ipynb",
      "provenance": [],
      "collapsed_sections": [],
      "machine_shape": "hm",
      "include_colab_link": true
    },
    "kernelspec": {
      "display_name": "Python 3",
      "language": "python",
      "name": "python3"
    },
    "language_info": {
      "codemirror_mode": {
        "name": "ipython",
        "version": 3
      },
      "file_extension": ".py",
      "mimetype": "text/x-python",
      "name": "python",
      "nbconvert_exporter": "python",
      "pygments_lexer": "ipython3",
      "version": "3.8.3"
    }
  },
  "cells": [
    {
      "cell_type": "markdown",
      "metadata": {
        "id": "view-in-github",
        "colab_type": "text"
      },
      "source": [
        "<a href=\"https://colab.research.google.com/github/christophersingh/Mental-Health-Classification-Research/blob/main/Clustering_With_Significant_Twitter.ipynb\" target=\"_parent\"><img src=\"https://colab.research.google.com/assets/colab-badge.svg\" alt=\"Open In Colab\"/></a>"
      ]
    },
    {
      "cell_type": "code",
      "metadata": {
        "id": "KrhJmSD9tvnk"
      },
      "source": [
        "import pandas as pd\n",
        "import matplotlib.pyplot as plt\n",
        "plt.rcParams[\"figure.figsize\"] = (20,10)\n",
        "from sklearn import model_selection\n",
        "from sklearn.svm import SVC\n",
        "from sklearn.neighbors import KNeighborsClassifier\n",
        "from sklearn.tree import DecisionTreeClassifier\n",
        "from sklearn.naive_bayes import GaussianNB\n",
        "from sklearn.discriminant_analysis import LinearDiscriminantAnalysis\n",
        "from sklearn.linear_model import LogisticRegression\n",
        "import warnings\n",
        "warnings.filterwarnings(\"ignore\")"
      ],
      "execution_count": 1,
      "outputs": []
    },
    {
      "cell_type": "code",
      "metadata": {
        "colab": {
          "base_uri": "https://localhost:8080/",
          "height": 417
        },
        "id": "6ixI6sgLtvny",
        "outputId": "51d709d8-36a3-45ed-dd4b-31ca819ed58b"
      },
      "source": [
        "#read in the data\n",
        "ny = pd.read_csv('./statistically_significant_data.csv')\n",
        "ny"
      ],
      "execution_count": 2,
      "outputs": [
        {
          "output_type": "execute_result",
          "data": {
            "text/html": [
              "<div>\n",
              "<style scoped>\n",
              "    .dataframe tbody tr th:only-of-type {\n",
              "        vertical-align: middle;\n",
              "    }\n",
              "\n",
              "    .dataframe tbody tr th {\n",
              "        vertical-align: top;\n",
              "    }\n",
              "\n",
              "    .dataframe thead th {\n",
              "        text-align: right;\n",
              "    }\n",
              "</style>\n",
              "<table border=\"1\" class=\"dataframe\">\n",
              "  <thead>\n",
              "    <tr style=\"text-align: right;\">\n",
              "      <th></th>\n",
              "      <th>time_period</th>\n",
              "      <th>value</th>\n",
              "      <th>CASE_RATE</th>\n",
              "      <th>HOSPITALIZED_RATE</th>\n",
              "      <th>sentiment__negative</th>\n",
              "      <th>sentiment__positive</th>\n",
              "      <th>indicator</th>\n",
              "    </tr>\n",
              "  </thead>\n",
              "  <tbody>\n",
              "    <tr>\n",
              "      <th>0</th>\n",
              "      <td>1.0</td>\n",
              "      <td>28.7</td>\n",
              "      <td>171.46</td>\n",
              "      <td>13.55</td>\n",
              "      <td>500.0</td>\n",
              "      <td>50.0</td>\n",
              "      <td>1.0</td>\n",
              "    </tr>\n",
              "    <tr>\n",
              "      <th>1</th>\n",
              "      <td>1.0</td>\n",
              "      <td>28.7</td>\n",
              "      <td>1554.45</td>\n",
              "      <td>153.69</td>\n",
              "      <td>500.0</td>\n",
              "      <td>50.0</td>\n",
              "      <td>1.0</td>\n",
              "    </tr>\n",
              "    <tr>\n",
              "      <th>2</th>\n",
              "      <td>1.0</td>\n",
              "      <td>28.7</td>\n",
              "      <td>2529.03</td>\n",
              "      <td>630.34</td>\n",
              "      <td>500.0</td>\n",
              "      <td>50.0</td>\n",
              "      <td>1.0</td>\n",
              "    </tr>\n",
              "    <tr>\n",
              "      <th>3</th>\n",
              "      <td>1.0</td>\n",
              "      <td>28.7</td>\n",
              "      <td>2552.64</td>\n",
              "      <td>1192.50</td>\n",
              "      <td>500.0</td>\n",
              "      <td>50.0</td>\n",
              "      <td>1.0</td>\n",
              "    </tr>\n",
              "    <tr>\n",
              "      <th>4</th>\n",
              "      <td>1.0</td>\n",
              "      <td>28.7</td>\n",
              "      <td>2976.74</td>\n",
              "      <td>1830.07</td>\n",
              "      <td>500.0</td>\n",
              "      <td>50.0</td>\n",
              "      <td>1.0</td>\n",
              "    </tr>\n",
              "    <tr>\n",
              "      <th>...</th>\n",
              "      <td>...</td>\n",
              "      <td>...</td>\n",
              "      <td>...</td>\n",
              "      <td>...</td>\n",
              "      <td>...</td>\n",
              "      <td>...</td>\n",
              "      <td>...</td>\n",
              "    </tr>\n",
              "    <tr>\n",
              "      <th>35779</th>\n",
              "      <td>23.0</td>\n",
              "      <td>35.8</td>\n",
              "      <td>20207.72</td>\n",
              "      <td>1160.60</td>\n",
              "      <td>501.0</td>\n",
              "      <td>49.0</td>\n",
              "      <td>2.0</td>\n",
              "    </tr>\n",
              "    <tr>\n",
              "      <th>35780</th>\n",
              "      <td>23.0</td>\n",
              "      <td>35.8</td>\n",
              "      <td>15941.19</td>\n",
              "      <td>2540.10</td>\n",
              "      <td>501.0</td>\n",
              "      <td>49.0</td>\n",
              "      <td>2.0</td>\n",
              "    </tr>\n",
              "    <tr>\n",
              "      <th>35781</th>\n",
              "      <td>23.0</td>\n",
              "      <td>35.8</td>\n",
              "      <td>7067.11</td>\n",
              "      <td>2418.35</td>\n",
              "      <td>501.0</td>\n",
              "      <td>49.0</td>\n",
              "      <td>2.0</td>\n",
              "    </tr>\n",
              "    <tr>\n",
              "      <th>35782</th>\n",
              "      <td>23.0</td>\n",
              "      <td>35.8</td>\n",
              "      <td>7477.43</td>\n",
              "      <td>3995.12</td>\n",
              "      <td>501.0</td>\n",
              "      <td>49.0</td>\n",
              "      <td>2.0</td>\n",
              "    </tr>\n",
              "    <tr>\n",
              "      <th>35783</th>\n",
              "      <td>23.0</td>\n",
              "      <td>35.8</td>\n",
              "      <td>6302.86</td>\n",
              "      <td>958.30</td>\n",
              "      <td>501.0</td>\n",
              "      <td>49.0</td>\n",
              "      <td>2.0</td>\n",
              "    </tr>\n",
              "  </tbody>\n",
              "</table>\n",
              "<p>35784 rows × 7 columns</p>\n",
              "</div>"
            ],
            "text/plain": [
              "       time_period  value  ...  sentiment__positive  indicator\n",
              "0              1.0   28.7  ...                 50.0        1.0\n",
              "1              1.0   28.7  ...                 50.0        1.0\n",
              "2              1.0   28.7  ...                 50.0        1.0\n",
              "3              1.0   28.7  ...                 50.0        1.0\n",
              "4              1.0   28.7  ...                 50.0        1.0\n",
              "...            ...    ...  ...                  ...        ...\n",
              "35779         23.0   35.8  ...                 49.0        2.0\n",
              "35780         23.0   35.8  ...                 49.0        2.0\n",
              "35781         23.0   35.8  ...                 49.0        2.0\n",
              "35782         23.0   35.8  ...                 49.0        2.0\n",
              "35783         23.0   35.8  ...                 49.0        2.0\n",
              "\n",
              "[35784 rows x 7 columns]"
            ]
          },
          "metadata": {
            "tags": []
          },
          "execution_count": 2
        }
      ]
    },
    {
      "cell_type": "code",
      "metadata": {
        "colab": {
          "base_uri": "https://localhost:8080/"
        },
        "id": "xkZ7ifpXtvn-",
        "outputId": "d8f491dd-d339-430a-d5eb-f0429a28de6a"
      },
      "source": [
        "dataset = ny.values\n",
        "dataset"
      ],
      "execution_count": 3,
      "outputs": [
        {
          "output_type": "execute_result",
          "data": {
            "text/plain": [
              "array([[1.00000e+00, 2.87000e+01, 1.71460e+02, ..., 5.00000e+02,\n",
              "        5.00000e+01, 1.00000e+00],\n",
              "       [1.00000e+00, 2.87000e+01, 1.55445e+03, ..., 5.00000e+02,\n",
              "        5.00000e+01, 1.00000e+00],\n",
              "       [1.00000e+00, 2.87000e+01, 2.52903e+03, ..., 5.00000e+02,\n",
              "        5.00000e+01, 1.00000e+00],\n",
              "       ...,\n",
              "       [2.30000e+01, 3.58000e+01, 7.06711e+03, ..., 5.01000e+02,\n",
              "        4.90000e+01, 2.00000e+00],\n",
              "       [2.30000e+01, 3.58000e+01, 7.47743e+03, ..., 5.01000e+02,\n",
              "        4.90000e+01, 2.00000e+00],\n",
              "       [2.30000e+01, 3.58000e+01, 6.30286e+03, ..., 5.01000e+02,\n",
              "        4.90000e+01, 2.00000e+00]])"
            ]
          },
          "metadata": {
            "tags": []
          },
          "execution_count": 3
        }
      ]
    },
    {
      "cell_type": "code",
      "metadata": {
        "id": "17n-xrZctvn_"
      },
      "source": [
        "X = dataset[:, :-1]\n",
        "y = dataset[:,-1]"
      ],
      "execution_count": 4,
      "outputs": []
    },
    {
      "cell_type": "code",
      "metadata": {
        "id": "ljPcv-WAtvoA"
      },
      "source": [
        "import pandas as pd\n",
        "from sklearn import preprocessing\n",
        "from sklearn.preprocessing import StandardScaler\n",
        "\n",
        "min_max_scaler = preprocessing.MinMaxScaler()\n",
        "x_scaled = min_max_scaler.fit_transform(X)\n",
        "y_scaled = min_max_scaler.fit_transform(y.reshape(-1, 1))\n",
        "X = pd.DataFrame(x_scaled)\n",
        "#y = pd.DataFrame(y_scaled)"
      ],
      "execution_count": 5,
      "outputs": []
    },
    {
      "cell_type": "code",
      "metadata": {
        "colab": {
          "base_uri": "https://localhost:8080/",
          "height": 417
        },
        "id": "3tEVcn7JtvoD",
        "outputId": "40d05d07-3a97-4790-987a-8ad3d18f532b"
      },
      "source": [
        "X"
      ],
      "execution_count": 6,
      "outputs": [
        {
          "output_type": "execute_result",
          "data": {
            "text/html": [
              "<div>\n",
              "<style scoped>\n",
              "    .dataframe tbody tr th:only-of-type {\n",
              "        vertical-align: middle;\n",
              "    }\n",
              "\n",
              "    .dataframe tbody tr th {\n",
              "        vertical-align: top;\n",
              "    }\n",
              "\n",
              "    .dataframe thead th {\n",
              "        text-align: right;\n",
              "    }\n",
              "</style>\n",
              "<table border=\"1\" class=\"dataframe\">\n",
              "  <thead>\n",
              "    <tr style=\"text-align: right;\">\n",
              "      <th></th>\n",
              "      <th>0</th>\n",
              "      <th>1</th>\n",
              "      <th>2</th>\n",
              "      <th>3</th>\n",
              "      <th>4</th>\n",
              "      <th>5</th>\n",
              "    </tr>\n",
              "  </thead>\n",
              "  <tbody>\n",
              "    <tr>\n",
              "      <th>0</th>\n",
              "      <td>0.0</td>\n",
              "      <td>0.340102</td>\n",
              "      <td>0.000000</td>\n",
              "      <td>0.000000</td>\n",
              "      <td>0.607843</td>\n",
              "      <td>0.392157</td>\n",
              "    </tr>\n",
              "    <tr>\n",
              "      <th>1</th>\n",
              "      <td>0.0</td>\n",
              "      <td>0.340102</td>\n",
              "      <td>0.069024</td>\n",
              "      <td>0.035197</td>\n",
              "      <td>0.607843</td>\n",
              "      <td>0.392157</td>\n",
              "    </tr>\n",
              "    <tr>\n",
              "      <th>2</th>\n",
              "      <td>0.0</td>\n",
              "      <td>0.340102</td>\n",
              "      <td>0.117665</td>\n",
              "      <td>0.154911</td>\n",
              "      <td>0.607843</td>\n",
              "      <td>0.392157</td>\n",
              "    </tr>\n",
              "    <tr>\n",
              "      <th>3</th>\n",
              "      <td>0.0</td>\n",
              "      <td>0.340102</td>\n",
              "      <td>0.118844</td>\n",
              "      <td>0.296102</td>\n",
              "      <td>0.607843</td>\n",
              "      <td>0.392157</td>\n",
              "    </tr>\n",
              "    <tr>\n",
              "      <th>4</th>\n",
              "      <td>0.0</td>\n",
              "      <td>0.340102</td>\n",
              "      <td>0.140010</td>\n",
              "      <td>0.456232</td>\n",
              "      <td>0.607843</td>\n",
              "      <td>0.392157</td>\n",
              "    </tr>\n",
              "    <tr>\n",
              "      <th>...</th>\n",
              "      <td>...</td>\n",
              "      <td>...</td>\n",
              "      <td>...</td>\n",
              "      <td>...</td>\n",
              "      <td>...</td>\n",
              "      <td>...</td>\n",
              "    </tr>\n",
              "    <tr>\n",
              "      <th>35779</th>\n",
              "      <td>1.0</td>\n",
              "      <td>0.700508</td>\n",
              "      <td>1.000000</td>\n",
              "      <td>0.288090</td>\n",
              "      <td>0.627451</td>\n",
              "      <td>0.372549</td>\n",
              "    </tr>\n",
              "    <tr>\n",
              "      <th>35780</th>\n",
              "      <td>1.0</td>\n",
              "      <td>0.700508</td>\n",
              "      <td>0.787060</td>\n",
              "      <td>0.634561</td>\n",
              "      <td>0.627451</td>\n",
              "      <td>0.372549</td>\n",
              "    </tr>\n",
              "    <tr>\n",
              "      <th>35781</th>\n",
              "      <td>1.0</td>\n",
              "      <td>0.700508</td>\n",
              "      <td>0.344159</td>\n",
              "      <td>0.603983</td>\n",
              "      <td>0.627451</td>\n",
              "      <td>0.372549</td>\n",
              "    </tr>\n",
              "    <tr>\n",
              "      <th>35782</th>\n",
              "      <td>1.0</td>\n",
              "      <td>0.700508</td>\n",
              "      <td>0.364637</td>\n",
              "      <td>1.000000</td>\n",
              "      <td>0.627451</td>\n",
              "      <td>0.372549</td>\n",
              "    </tr>\n",
              "    <tr>\n",
              "      <th>35783</th>\n",
              "      <td>1.0</td>\n",
              "      <td>0.700508</td>\n",
              "      <td>0.306015</td>\n",
              "      <td>0.237281</td>\n",
              "      <td>0.627451</td>\n",
              "      <td>0.372549</td>\n",
              "    </tr>\n",
              "  </tbody>\n",
              "</table>\n",
              "<p>35784 rows × 6 columns</p>\n",
              "</div>"
            ],
            "text/plain": [
              "         0         1         2         3         4         5\n",
              "0      0.0  0.340102  0.000000  0.000000  0.607843  0.392157\n",
              "1      0.0  0.340102  0.069024  0.035197  0.607843  0.392157\n",
              "2      0.0  0.340102  0.117665  0.154911  0.607843  0.392157\n",
              "3      0.0  0.340102  0.118844  0.296102  0.607843  0.392157\n",
              "4      0.0  0.340102  0.140010  0.456232  0.607843  0.392157\n",
              "...    ...       ...       ...       ...       ...       ...\n",
              "35779  1.0  0.700508  1.000000  0.288090  0.627451  0.372549\n",
              "35780  1.0  0.700508  0.787060  0.634561  0.627451  0.372549\n",
              "35781  1.0  0.700508  0.344159  0.603983  0.627451  0.372549\n",
              "35782  1.0  0.700508  0.364637  1.000000  0.627451  0.372549\n",
              "35783  1.0  0.700508  0.306015  0.237281  0.627451  0.372549\n",
              "\n",
              "[35784 rows x 6 columns]"
            ]
          },
          "metadata": {
            "tags": []
          },
          "execution_count": 6
        }
      ]
    },
    {
      "cell_type": "code",
      "metadata": {
        "colab": {
          "base_uri": "https://localhost:8080/"
        },
        "id": "H7AZFbTQtvoD",
        "outputId": "ed737f00-bffc-4658-8872-2d9e4a016f3e"
      },
      "source": [
        "y"
      ],
      "execution_count": 7,
      "outputs": [
        {
          "output_type": "execute_result",
          "data": {
            "text/plain": [
              "array([1., 1., 1., ..., 2., 2., 2.])"
            ]
          },
          "metadata": {
            "tags": []
          },
          "execution_count": 7
        }
      ]
    },
    {
      "cell_type": "code",
      "metadata": {
        "id": "Ax5RitlRtvoE"
      },
      "source": [
        "# Helper\n",
        "\n",
        "def load_dataset(filename):\n",
        "    # load the dataset as a pandas DataFrame\n",
        "    data = pd.read_csv(filename, header=None)\n",
        "    # retrieve numpy array\n",
        "    dataset = data.values\n",
        "    # split into input (X) and output (y) variables\n",
        "    X = dataset[:, :-1]\n",
        "    y = dataset[:,-1]\n",
        "    return X, y"
      ],
      "execution_count": 8,
      "outputs": []
    },
    {
      "cell_type": "code",
      "metadata": {
        "id": "cUhooIrjtvoE"
      },
      "source": [
        "from sklearn.model_selection import train_test_split\n",
        "from sklearn.preprocessing import OneHotEncoder, StandardScaler\n",
        "X_train, X_test, y_train, y_test = train_test_split(X, y, test_size=0.3, random_state=42)"
      ],
      "execution_count": 9,
      "outputs": []
    },
    {
      "cell_type": "code",
      "metadata": {
        "id": "q2hb_F83tvoE"
      },
      "source": [
        "from pandas import read_csv\n",
        "from sklearn.model_selection import train_test_split\n",
        "from sklearn.feature_selection import SelectKBest\n",
        "from sklearn.feature_selection import f_classif\n",
        "from matplotlib import pyplot"
      ],
      "execution_count": 10,
      "outputs": []
    },
    {
      "cell_type": "code",
      "metadata": {
        "colab": {
          "base_uri": "https://localhost:8080/",
          "height": 366
        },
        "id": "Ia1UvrdAtvoE",
        "outputId": "46d06b6e-178e-427d-9276-44faaca91000"
      },
      "source": [
        "def select_features(X_train, y_train, X_test):\n",
        "    # configure to select all features\n",
        "    fs = SelectKBest(score_func=f_classif, k='all')\n",
        "    # learn relationship from training data\n",
        "    fs.fit(X_train, y_train)\n",
        "    # transform train input data\n",
        "    X_train_fs = fs.transform(X_train)\n",
        "    # transform test input data\n",
        "    X_test_fs = fs.transform(X_test)\n",
        "    return X_train_fs, X_test_fs, fs\n",
        " \n",
        "\"\"\"# load the dataset\n",
        "X, y = load_dataset('pima-indians-diabetes.csv')\n",
        "# split into train and test sets\n",
        "X_train, X_test, y_train, y_test = train_test_split(X, y, test_size=0.33, random_state=1)\n",
        "\"\"\"\n",
        "# feature selection\n",
        "X_train_fs, X_test_fs, fs = select_features(X_train, y_train, X_test)\n",
        "# what are scores for the features\n",
        "for i in range(len(fs.scores_)):\n",
        "    print('Feature %d: %f' % (i, fs.scores_[i]))\n",
        "# plot the scores\n",
        "pyplot.bar([i for i in range(len(fs.scores_))], fs.scores_)\n",
        "pyplot.show()"
      ],
      "execution_count": 11,
      "outputs": [
        {
          "output_type": "stream",
          "text": [
            "Feature 0: 0.392809\n",
            "Feature 1: 50197.061854\n",
            "Feature 2: 0.202854\n",
            "Feature 3: 0.192411\n",
            "Feature 4: 0.016217\n",
            "Feature 5: 0.016217\n"
          ],
          "name": "stdout"
        },
        {
          "output_type": "display_data",
          "data": {
            "image/png": "[encoded data removed]",
            "text/plain": [
              "<Figure size 432x288 with 1 Axes>"
            ]
          },
          "metadata": {
            "tags": [],
            "needs_background": "light"
          }
        }
      ]
    },
    {
      "cell_type": "code",
      "metadata": {
        "colab": {
          "base_uri": "https://localhost:8080/",
          "height": 366
        },
        "id": "MpIN4_netvoG",
        "outputId": "9fee102a-52ee-47bb-ed4f-00d71bd958c8"
      },
      "source": [
        "#feature selection \n",
        "\n",
        "def select_features(X_train, y_train, X_test):\n",
        "    # configure to select all features\n",
        "    fs = SelectKBest(score_func=f_classif, k='all')\n",
        "    # learn relationship from training data\n",
        "    fs.fit(X_train, y_train)\n",
        "    # transform train input data\n",
        "    X_train_fs = fs.transform(X_train)\n",
        "    # transform test input data\n",
        "    X_test_fs = fs.transform(X_test)\n",
        "    return X_train_fs, X_test_fs, fs\n",
        " \n",
        "\n",
        "X_train_fs, X_test_fs, fs = select_features(X_train, y_train, X_test)\n",
        "# what are scores for the features\n",
        "for i in range(len(fs.scores_)):\n",
        "    print('Feature %d: %f' % (i, fs.scores_[i]))\n",
        "# plot the scores\n",
        "pyplot.bar([i for i in range(len(fs.scores_))], fs.scores_)\n",
        "pyplot.show()"
      ],
      "execution_count": 12,
      "outputs": [
        {
          "output_type": "stream",
          "text": [
            "Feature 0: 0.392809\n",
            "Feature 1: 50197.061854\n",
            "Feature 2: 0.202854\n",
            "Feature 3: 0.192411\n",
            "Feature 4: 0.016217\n",
            "Feature 5: 0.016217\n"
          ],
          "name": "stdout"
        },
        {
          "output_type": "display_data",
          "data": {
            "image/png": "[encoded data removed]",
            "text/plain": [
              "<Figure size 432x288 with 1 Axes>"
            ]
          },
          "metadata": {
            "tags": [],
            "needs_background": "light"
          }
        }
      ]
    },
    {
      "cell_type": "code",
      "metadata": {
        "colab": {
          "base_uri": "https://localhost:8080/"
        },
        "id": "o9cefrNttvoG",
        "outputId": "4eb8c466-0268-4873-910e-418e4d7b212d"
      },
      "source": [
        "#https://www.dezyre.com/recipes/select-features-using-best-anova-f-values-in-python\n",
        "\n",
        "def ProjectPro_Ex_56():\n",
        "    print()\n",
        "    print('**How we can select features using best ANOVA F-values in Python**')\n",
        "\n",
        "    # loading libraries\n",
        "    from sklearn.datasets import load_iris\n",
        "    from sklearn.feature_selection import SelectKBest\n",
        "    from sklearn.feature_selection import f_classif\n",
        "\n",
        "    # Selecting Features With Best ANOVA F-Values\n",
        "    # Creating an SelectKBest object to select features with two best ANOVA F-Values\n",
        "    fvalue_Best = SelectKBest(f_classif, k=5)\n",
        "    # Applying the SelectKBest object to the features and target\n",
        "    X_kbest = fvalue_Best.fit_transform(X, y)\n",
        "    print(X_kbest)\n",
        "\n",
        "    # Showing results\n",
        "    print('Original number of features:', X.shape)\n",
        "    print('Reduced number of features:', X_kbest.shape)\n",
        "    return X_kbest\n",
        "\n",
        "result = ProjectPro_Ex_56()\n",
        "result"
      ],
      "execution_count": 13,
      "outputs": [
        {
          "output_type": "stream",
          "text": [
            "\n",
            "**How we can select features using best ANOVA F-values in Python**\n",
            "[[0.         0.34010152 0.         0.         0.39215686]\n",
            " [0.         0.34010152 0.06902436 0.03519717 0.39215686]\n",
            " [0.         0.34010152 0.11766517 0.15491125 0.39215686]\n",
            " ...\n",
            " [1.         0.70050761 0.34415854 0.60398285 0.37254902]\n",
            " [1.         0.70050761 0.36463741 1.         0.37254902]\n",
            " [1.         0.70050761 0.30601519 0.23728077 0.37254902]]\n",
            "Original number of features: (35784, 6)\n",
            "Reduced number of features: (35784, 5)\n"
          ],
          "name": "stdout"
        },
        {
          "output_type": "execute_result",
          "data": {
            "text/plain": [
              "array([[0.        , 0.34010152, 0.        , 0.        , 0.39215686],\n",
              "       [0.        , 0.34010152, 0.06902436, 0.03519717, 0.39215686],\n",
              "       [0.        , 0.34010152, 0.11766517, 0.15491125, 0.39215686],\n",
              "       ...,\n",
              "       [1.        , 0.70050761, 0.34415854, 0.60398285, 0.37254902],\n",
              "       [1.        , 0.70050761, 0.36463741, 1.        , 0.37254902],\n",
              "       [1.        , 0.70050761, 0.30601519, 0.23728077, 0.37254902]])"
            ]
          },
          "metadata": {
            "tags": []
          },
          "execution_count": 13
        }
      ]
    },
    {
      "cell_type": "code",
      "metadata": {
        "id": "ac3b5gxStvoH"
      },
      "source": [
        "#https://kgptalkie.com/feature-selection-based-on-univariate-anova-test-for-classification-machine-learning-kgp-talkie/\n",
        "\n",
        "import numpy as np\n",
        "import pandas as pd\n",
        "import matplotlib.pyplot as plt\n",
        "import seaborn as sns"
      ],
      "execution_count": 14,
      "outputs": []
    },
    {
      "cell_type": "code",
      "metadata": {
        "id": "Om2hK4IntvoI"
      },
      "source": [
        "from sklearn.model_selection import train_test_split\n",
        "from sklearn.ensemble import RandomForestClassifier\n",
        "from sklearn.metrics import accuracy_score\n",
        "from sklearn.feature_selection import VarianceThreshold\n",
        "from sklearn.feature_selection import f_classif, f_regression\n",
        "from sklearn.feature_selection import SelectKBest, SelectPercentile"
      ],
      "execution_count": 15,
      "outputs": []
    },
    {
      "cell_type": "code",
      "metadata": {
        "colab": {
          "base_uri": "https://localhost:8080/"
        },
        "id": "gJvj5a8KtvoI",
        "outputId": "b6dfa948-8d11-46e3-aa2e-68e910ea2c83"
      },
      "source": [
        "X.shape, y.shape"
      ],
      "execution_count": 16,
      "outputs": [
        {
          "output_type": "execute_result",
          "data": {
            "text/plain": [
              "((35784, 6), (35784,))"
            ]
          },
          "metadata": {
            "tags": []
          },
          "execution_count": 16
        }
      ]
    },
    {
      "cell_type": "code",
      "metadata": {
        "id": "JXkgAHb8tvoJ"
      },
      "source": [
        "X_train, X_test, y_train, y_test = train_test_split(X, y, test_size = 0.5, random_state = 1, stratify = y)"
      ],
      "execution_count": 17,
      "outputs": []
    },
    {
      "cell_type": "code",
      "metadata": {
        "id": "aUqeVXjCtvoJ"
      },
      "source": [
        "constant_filter = VarianceThreshold(threshold=0.01)\n",
        "constant_filter.fit(X_train)\n",
        "X_train_filter = constant_filter.transform(X_train)\n",
        "X_test_filter = constant_filter.transform(X_test)"
      ],
      "execution_count": 18,
      "outputs": []
    },
    {
      "cell_type": "code",
      "metadata": {
        "colab": {
          "base_uri": "https://localhost:8080/"
        },
        "id": "j6UALVUvtvoJ",
        "outputId": "fd42c4ba-1b61-479a-de62-0e43bf0b0be1"
      },
      "source": [
        "X_train_filter.shape, X_test_filter.shape"
      ],
      "execution_count": 19,
      "outputs": [
        {
          "output_type": "execute_result",
          "data": {
            "text/plain": [
              "((17892, 6), (17892, 6))"
            ]
          },
          "metadata": {
            "tags": []
          },
          "execution_count": 19
        }
      ]
    },
    {
      "cell_type": "code",
      "metadata": {
        "id": "nFvvpN23tvoK"
      },
      "source": [
        "X_train_T = X_train_filter.T\n",
        "X_test_T = X_test_filter.T"
      ],
      "execution_count": 20,
      "outputs": []
    },
    {
      "cell_type": "code",
      "metadata": {
        "id": "FyR9-kX0tvoL"
      },
      "source": [
        "X_train_T = pd.DataFrame(X_train_T)\n",
        "X_test_T = pd.DataFrame(X_test_T)"
      ],
      "execution_count": 21,
      "outputs": []
    },
    {
      "cell_type": "code",
      "metadata": {
        "colab": {
          "base_uri": "https://localhost:8080/"
        },
        "id": "YEAhALCitvoN",
        "outputId": "a7044f47-c0eb-4721-91d3-a2d746776556"
      },
      "source": [
        "X_train_T.duplicated().sum()"
      ],
      "execution_count": 22,
      "outputs": [
        {
          "output_type": "execute_result",
          "data": {
            "text/plain": [
              "0"
            ]
          },
          "metadata": {
            "tags": []
          },
          "execution_count": 22
        }
      ]
    },
    {
      "cell_type": "code",
      "metadata": {
        "id": "mgRLU36CtvoO"
      },
      "source": [
        "duplicated_features = X_train_T.duplicated()"
      ],
      "execution_count": 23,
      "outputs": []
    },
    {
      "cell_type": "code",
      "metadata": {
        "id": "0eA2WHVVtvoO"
      },
      "source": [
        "features_to_keep = [not index for index in duplicated_features]\n",
        "X_train_unique = X_train_T[features_to_keep].T\n",
        "X_test_unique = X_test_T[features_to_keep].T"
      ],
      "execution_count": 24,
      "outputs": []
    },
    {
      "cell_type": "code",
      "metadata": {
        "colab": {
          "base_uri": "https://localhost:8080/"
        },
        "id": "VFQ63j6itvoO",
        "outputId": "27e62b80-e5d8-4ee0-b8db-0e3015dd780c"
      },
      "source": [
        "X_train_unique.shape, X_train.shape"
      ],
      "execution_count": 25,
      "outputs": [
        {
          "output_type": "execute_result",
          "data": {
            "text/plain": [
              "((17892, 6), (17892, 6))"
            ]
          },
          "metadata": {
            "tags": []
          },
          "execution_count": 25
        }
      ]
    },
    {
      "cell_type": "code",
      "metadata": {
        "colab": {
          "base_uri": "https://localhost:8080/"
        },
        "id": "zVIqGccKtvoP",
        "outputId": "a4800f23-b826-448b-c6fa-1178d0321084"
      },
      "source": [
        "sel = f_classif(X_train_unique, y_train)\n",
        "sel"
      ],
      "execution_count": 26,
      "outputs": [
        {
          "output_type": "execute_result",
          "data": {
            "text/plain": [
              "(array([3.57054103e-01, 3.62278773e+04, 5.21075844e-01, 3.27348209e-01,\n",
              "        1.94728629e+00, 1.94728629e+00]),\n",
              " array([0.69973963, 0.        , 0.59389029, 0.72083702, 0.14269092,\n",
              "        0.14269092]))"
            ]
          },
          "metadata": {
            "tags": []
          },
          "execution_count": 26
        }
      ]
    },
    {
      "cell_type": "code",
      "metadata": {
        "id": "Mgkh7bO_tvoP"
      },
      "source": [
        "p_values = pd.Series(sel[1])\n",
        "p_values.index = X_train_unique.columns\n",
        "p_values.sort_values(ascending = True, inplace = True)"
      ],
      "execution_count": 27,
      "outputs": []
    },
    {
      "cell_type": "code",
      "metadata": {
        "colab": {
          "base_uri": "https://localhost:8080/",
          "height": 495
        },
        "id": "2z9pazKLtvoQ",
        "outputId": "e39918d3-775e-476b-9df1-cbec6ec155c4"
      },
      "source": [
        "p_values.plot.bar(figsize = (8, 8))\n",
        "plt.title('pvalues with respect to features')\n",
        "plt.show()"
      ],
      "execution_count": 28,
      "outputs": [
        {
          "output_type": "display_data",
          "data": {
            "image/png": "[encoded data removed]",
            "text/plain": [
              "<Figure size 576x576 with 1 Axes>"
            ]
          },
          "metadata": {
            "tags": [],
            "needs_background": "light"
          }
        }
      ]
    },
    {
      "cell_type": "code",
      "metadata": {
        "colab": {
          "base_uri": "https://localhost:8080/"
        },
        "id": "opaP-OxWtvoS",
        "outputId": "b9a8f484-9cd5-4509-9cd9-95f969bd6433"
      },
      "source": [
        "p_values = p_values[p_values<.15]\n",
        "p_values"
      ],
      "execution_count": 29,
      "outputs": [
        {
          "output_type": "execute_result",
          "data": {
            "text/plain": [
              "1    0.000000\n",
              "4    0.142691\n",
              "5    0.142691\n",
              "dtype: float64"
            ]
          },
          "metadata": {
            "tags": []
          },
          "execution_count": 29
        }
      ]
    },
    {
      "cell_type": "code",
      "metadata": {
        "colab": {
          "base_uri": "https://localhost:8080/"
        },
        "id": "vwImSRY4tvoT",
        "outputId": "962dab24-2076-4344-ec53-690ce28436f0"
      },
      "source": [
        "p_values.index"
      ],
      "execution_count": 30,
      "outputs": [
        {
          "output_type": "execute_result",
          "data": {
            "text/plain": [
              "Int64Index([1, 4, 5], dtype='int64')"
            ]
          },
          "metadata": {
            "tags": []
          },
          "execution_count": 30
        }
      ]
    },
    {
      "cell_type": "code",
      "metadata": {
        "id": "jeSQbyBOtvoT"
      },
      "source": [
        "X_train_p = X_train_unique[p_values.index]\n",
        "X_test_p = X_test_unique[p_values.index]"
      ],
      "execution_count": 31,
      "outputs": []
    },
    {
      "cell_type": "code",
      "metadata": {
        "colab": {
          "base_uri": "https://localhost:8080/"
        },
        "id": "lp2iOt4AtvoU",
        "outputId": "c6217d2f-f0b6-4712-88f2-b71ccc6beb7f"
      },
      "source": [
        "#https://chrisalbon.com/machine_learning/feature_selection/anova_f-value_for_feature_selection/\n",
        "\n",
        "# Create an SelectKBest object to select features with six best ANOVA F-Values\n",
        "fvalue_selector = SelectKBest(f_classif, k=6)\n",
        "\n",
        "# Apply the SelectKBest object to the features and target\n",
        "X_kbest = fvalue_selector.fit_transform(X, y)\n",
        "\n",
        "# Show results\n",
        "print('Original number of features:', X.shape[1])\n",
        "print('Reduced number of features:', X_kbest.shape[1])"
      ],
      "execution_count": 32,
      "outputs": [
        {
          "output_type": "stream",
          "text": [
            "Original number of features: 6\n",
            "Reduced number of features: 6\n"
          ],
          "name": "stdout"
        }
      ]
    },
    {
      "cell_type": "code",
      "metadata": {
        "colab": {
          "base_uri": "https://localhost:8080/"
        },
        "id": "mrJvwnSL0qba",
        "outputId": "e4920c0e-a78c-460d-9206-4bcd4aa1270a"
      },
      "source": [
        "X_kbest"
      ],
      "execution_count": 33,
      "outputs": [
        {
          "output_type": "execute_result",
          "data": {
            "text/plain": [
              "array([[0.        , 0.34010152, 0.        , 0.        , 0.60784314,\n",
              "        0.39215686],\n",
              "       [0.        , 0.34010152, 0.06902436, 0.03519717, 0.60784314,\n",
              "        0.39215686],\n",
              "       [0.        , 0.34010152, 0.11766517, 0.15491125, 0.60784314,\n",
              "        0.39215686],\n",
              "       ...,\n",
              "       [1.        , 0.70050761, 0.34415854, 0.60398285, 0.62745098,\n",
              "        0.37254902],\n",
              "       [1.        , 0.70050761, 0.36463741, 1.        , 0.62745098,\n",
              "        0.37254902],\n",
              "       [1.        , 0.70050761, 0.30601519, 0.23728077, 0.62745098,\n",
              "        0.37254902]])"
            ]
          },
          "metadata": {
            "tags": []
          },
          "execution_count": 33
        }
      ]
    },
    {
      "cell_type": "markdown",
      "metadata": {
        "id": "px7tlRaPtvoU"
      },
      "source": [
        "# PCA Analysis Below"
      ]
    },
    {
      "cell_type": "code",
      "metadata": {
        "id": "Ij2BWHp6tvoV"
      },
      "source": [
        "from numpy import mean\n",
        "from numpy import std\n",
        "import pandas as pd\n",
        "from sklearn.datasets import make_classification\n",
        "from sklearn.model_selection import cross_val_score\n",
        "from sklearn.model_selection import RepeatedStratifiedKFold\n",
        "from sklearn.pipeline import Pipeline\n",
        "from sklearn.decomposition import PCA\n",
        "from sklearn.linear_model import LogisticRegression\n",
        "from matplotlib import pyplot"
      ],
      "execution_count": 34,
      "outputs": []
    },
    {
      "cell_type": "code",
      "metadata": {
        "colab": {
          "base_uri": "https://localhost:8080/",
          "height": 417
        },
        "id": "lSUDlopXtvoV",
        "outputId": "568d75d2-08f7-4bcc-de4f-d2667d0803be"
      },
      "source": [
        "ny = pd.read_csv('./statistically_significant_data.csv')\n",
        "ny"
      ],
      "execution_count": 57,
      "outputs": [
        {
          "output_type": "execute_result",
          "data": {
            "text/html": [
              "<div>\n",
              "<style scoped>\n",
              "    .dataframe tbody tr th:only-of-type {\n",
              "        vertical-align: middle;\n",
              "    }\n",
              "\n",
              "    .dataframe tbody tr th {\n",
              "        vertical-align: top;\n",
              "    }\n",
              "\n",
              "    .dataframe thead th {\n",
              "        text-align: right;\n",
              "    }\n",
              "</style>\n",
              "<table border=\"1\" class=\"dataframe\">\n",
              "  <thead>\n",
              "    <tr style=\"text-align: right;\">\n",
              "      <th></th>\n",
              "      <th>time_period</th>\n",
              "      <th>value</th>\n",
              "      <th>CASE_RATE</th>\n",
              "      <th>HOSPITALIZED_RATE</th>\n",
              "      <th>sentiment__negative</th>\n",
              "      <th>sentiment__positive</th>\n",
              "      <th>indicator</th>\n",
              "    </tr>\n",
              "  </thead>\n",
              "  <tbody>\n",
              "    <tr>\n",
              "      <th>0</th>\n",
              "      <td>1.0</td>\n",
              "      <td>28.7</td>\n",
              "      <td>171.46</td>\n",
              "      <td>13.55</td>\n",
              "      <td>500.0</td>\n",
              "      <td>50.0</td>\n",
              "      <td>1.0</td>\n",
              "    </tr>\n",
              "    <tr>\n",
              "      <th>1</th>\n",
              "      <td>1.0</td>\n",
              "      <td>28.7</td>\n",
              "      <td>1554.45</td>\n",
              "      <td>153.69</td>\n",
              "      <td>500.0</td>\n",
              "      <td>50.0</td>\n",
              "      <td>1.0</td>\n",
              "    </tr>\n",
              "    <tr>\n",
              "      <th>2</th>\n",
              "      <td>1.0</td>\n",
              "      <td>28.7</td>\n",
              "      <td>2529.03</td>\n",
              "      <td>630.34</td>\n",
              "      <td>500.0</td>\n",
              "      <td>50.0</td>\n",
              "      <td>1.0</td>\n",
              "    </tr>\n",
              "    <tr>\n",
              "      <th>3</th>\n",
              "      <td>1.0</td>\n",
              "      <td>28.7</td>\n",
              "      <td>2552.64</td>\n",
              "      <td>1192.50</td>\n",
              "      <td>500.0</td>\n",
              "      <td>50.0</td>\n",
              "      <td>1.0</td>\n",
              "    </tr>\n",
              "    <tr>\n",
              "      <th>4</th>\n",
              "      <td>1.0</td>\n",
              "      <td>28.7</td>\n",
              "      <td>2976.74</td>\n",
              "      <td>1830.07</td>\n",
              "      <td>500.0</td>\n",
              "      <td>50.0</td>\n",
              "      <td>1.0</td>\n",
              "    </tr>\n",
              "    <tr>\n",
              "      <th>...</th>\n",
              "      <td>...</td>\n",
              "      <td>...</td>\n",
              "      <td>...</td>\n",
              "      <td>...</td>\n",
              "      <td>...</td>\n",
              "      <td>...</td>\n",
              "      <td>...</td>\n",
              "    </tr>\n",
              "    <tr>\n",
              "      <th>35779</th>\n",
              "      <td>23.0</td>\n",
              "      <td>35.8</td>\n",
              "      <td>20207.72</td>\n",
              "      <td>1160.60</td>\n",
              "      <td>501.0</td>\n",
              "      <td>49.0</td>\n",
              "      <td>2.0</td>\n",
              "    </tr>\n",
              "    <tr>\n",
              "      <th>35780</th>\n",
              "      <td>23.0</td>\n",
              "      <td>35.8</td>\n",
              "      <td>15941.19</td>\n",
              "      <td>2540.10</td>\n",
              "      <td>501.0</td>\n",
              "      <td>49.0</td>\n",
              "      <td>2.0</td>\n",
              "    </tr>\n",
              "    <tr>\n",
              "      <th>35781</th>\n",
              "      <td>23.0</td>\n",
              "      <td>35.8</td>\n",
              "      <td>7067.11</td>\n",
              "      <td>2418.35</td>\n",
              "      <td>501.0</td>\n",
              "      <td>49.0</td>\n",
              "      <td>2.0</td>\n",
              "    </tr>\n",
              "    <tr>\n",
              "      <th>35782</th>\n",
              "      <td>23.0</td>\n",
              "      <td>35.8</td>\n",
              "      <td>7477.43</td>\n",
              "      <td>3995.12</td>\n",
              "      <td>501.0</td>\n",
              "      <td>49.0</td>\n",
              "      <td>2.0</td>\n",
              "    </tr>\n",
              "    <tr>\n",
              "      <th>35783</th>\n",
              "      <td>23.0</td>\n",
              "      <td>35.8</td>\n",
              "      <td>6302.86</td>\n",
              "      <td>958.30</td>\n",
              "      <td>501.0</td>\n",
              "      <td>49.0</td>\n",
              "      <td>2.0</td>\n",
              "    </tr>\n",
              "  </tbody>\n",
              "</table>\n",
              "<p>35784 rows × 7 columns</p>\n",
              "</div>"
            ],
            "text/plain": [
              "       time_period  value  ...  sentiment__positive  indicator\n",
              "0              1.0   28.7  ...                 50.0        1.0\n",
              "1              1.0   28.7  ...                 50.0        1.0\n",
              "2              1.0   28.7  ...                 50.0        1.0\n",
              "3              1.0   28.7  ...                 50.0        1.0\n",
              "4              1.0   28.7  ...                 50.0        1.0\n",
              "...            ...    ...  ...                  ...        ...\n",
              "35779         23.0   35.8  ...                 49.0        2.0\n",
              "35780         23.0   35.8  ...                 49.0        2.0\n",
              "35781         23.0   35.8  ...                 49.0        2.0\n",
              "35782         23.0   35.8  ...                 49.0        2.0\n",
              "35783         23.0   35.8  ...                 49.0        2.0\n",
              "\n",
              "[35784 rows x 7 columns]"
            ]
          },
          "metadata": {
            "tags": []
          },
          "execution_count": 57
        }
      ]
    },
    {
      "cell_type": "code",
      "metadata": {
        "id": "vrN2RUzotvoY"
      },
      "source": [
        "values = ny.values\n",
        " \n",
        "Y = values[:,-1]\n",
        "X = values[:,0:6]\n",
        "\n",
        "import pandas as pd\n",
        "from sklearn import preprocessing\n",
        "from sklearn.preprocessing import StandardScaler\n",
        "\n",
        "min_max_scaler = preprocessing.MinMaxScaler()\n",
        "#x = StandardScaler().fit_transform(x)\n",
        "x_scaled = StandardScaler().fit_transform(X)\n",
        "X = pd.DataFrame(x_scaled)"
      ],
      "execution_count": 58,
      "outputs": []
    },
    {
      "cell_type": "code",
      "metadata": {
        "colab": {
          "base_uri": "https://localhost:8080/",
          "height": 417
        },
        "id": "fxfF8C1StvoY",
        "outputId": "97bebd7b-c647-4459-ecc1-a86da15f2a8f"
      },
      "source": [
        "X"
      ],
      "execution_count": 59,
      "outputs": [
        {
          "output_type": "execute_result",
          "data": {
            "text/html": [
              "<div>\n",
              "<style scoped>\n",
              "    .dataframe tbody tr th:only-of-type {\n",
              "        vertical-align: middle;\n",
              "    }\n",
              "\n",
              "    .dataframe tbody tr th {\n",
              "        vertical-align: top;\n",
              "    }\n",
              "\n",
              "    .dataframe thead th {\n",
              "        text-align: right;\n",
              "    }\n",
              "</style>\n",
              "<table border=\"1\" class=\"dataframe\">\n",
              "  <thead>\n",
              "    <tr style=\"text-align: right;\">\n",
              "      <th></th>\n",
              "      <th>0</th>\n",
              "      <th>1</th>\n",
              "      <th>2</th>\n",
              "      <th>3</th>\n",
              "      <th>4</th>\n",
              "      <th>5</th>\n",
              "    </tr>\n",
              "  </thead>\n",
              "  <tbody>\n",
              "    <tr>\n",
              "      <th>0</th>\n",
              "      <td>-2.028335</td>\n",
              "      <td>-0.519765</td>\n",
              "      <td>-1.255775</td>\n",
              "      <td>-1.196508</td>\n",
              "      <td>-0.078653</td>\n",
              "      <td>0.078653</td>\n",
              "    </tr>\n",
              "    <tr>\n",
              "      <th>1</th>\n",
              "      <td>-2.028335</td>\n",
              "      <td>-0.519765</td>\n",
              "      <td>-0.837174</td>\n",
              "      <td>-1.056190</td>\n",
              "      <td>-0.078653</td>\n",
              "      <td>0.078653</td>\n",
              "    </tr>\n",
              "    <tr>\n",
              "      <th>2</th>\n",
              "      <td>-2.028335</td>\n",
              "      <td>-0.519765</td>\n",
              "      <td>-0.542190</td>\n",
              "      <td>-0.578936</td>\n",
              "      <td>-0.078653</td>\n",
              "      <td>0.078653</td>\n",
              "    </tr>\n",
              "    <tr>\n",
              "      <th>3</th>\n",
              "      <td>-2.028335</td>\n",
              "      <td>-0.519765</td>\n",
              "      <td>-0.535043</td>\n",
              "      <td>-0.016063</td>\n",
              "      <td>-0.078653</td>\n",
              "      <td>0.078653</td>\n",
              "    </tr>\n",
              "    <tr>\n",
              "      <th>4</th>\n",
              "      <td>-2.028335</td>\n",
              "      <td>-0.519765</td>\n",
              "      <td>-0.406678</td>\n",
              "      <td>0.622315</td>\n",
              "      <td>-0.078653</td>\n",
              "      <td>0.078653</td>\n",
              "    </tr>\n",
              "    <tr>\n",
              "      <th>...</th>\n",
              "      <td>...</td>\n",
              "      <td>...</td>\n",
              "      <td>...</td>\n",
              "      <td>...</td>\n",
              "      <td>...</td>\n",
              "      <td>...</td>\n",
              "    </tr>\n",
              "    <tr>\n",
              "      <th>35779</th>\n",
              "      <td>1.392188</td>\n",
              "      <td>0.725645</td>\n",
              "      <td>4.808764</td>\n",
              "      <td>-0.048004</td>\n",
              "      <td>0.033034</td>\n",
              "      <td>-0.033034</td>\n",
              "    </tr>\n",
              "    <tr>\n",
              "      <th>35780</th>\n",
              "      <td>1.392188</td>\n",
              "      <td>0.725645</td>\n",
              "      <td>3.517378</td>\n",
              "      <td>1.333245</td>\n",
              "      <td>0.033034</td>\n",
              "      <td>-0.033034</td>\n",
              "    </tr>\n",
              "    <tr>\n",
              "      <th>35781</th>\n",
              "      <td>1.392188</td>\n",
              "      <td>0.725645</td>\n",
              "      <td>0.831388</td>\n",
              "      <td>1.211341</td>\n",
              "      <td>0.033034</td>\n",
              "      <td>-0.033034</td>\n",
              "    </tr>\n",
              "    <tr>\n",
              "      <th>35782</th>\n",
              "      <td>1.392188</td>\n",
              "      <td>0.725645</td>\n",
              "      <td>0.955583</td>\n",
              "      <td>2.790110</td>\n",
              "      <td>0.033034</td>\n",
              "      <td>-0.033034</td>\n",
              "    </tr>\n",
              "    <tr>\n",
              "      <th>35783</th>\n",
              "      <td>1.392188</td>\n",
              "      <td>0.725645</td>\n",
              "      <td>0.600066</td>\n",
              "      <td>-0.250560</td>\n",
              "      <td>0.033034</td>\n",
              "      <td>-0.033034</td>\n",
              "    </tr>\n",
              "  </tbody>\n",
              "</table>\n",
              "<p>35784 rows × 6 columns</p>\n",
              "</div>"
            ],
            "text/plain": [
              "              0         1         2         3         4         5\n",
              "0     -2.028335 -0.519765 -1.255775 -1.196508 -0.078653  0.078653\n",
              "1     -2.028335 -0.519765 -0.837174 -1.056190 -0.078653  0.078653\n",
              "2     -2.028335 -0.519765 -0.542190 -0.578936 -0.078653  0.078653\n",
              "3     -2.028335 -0.519765 -0.535043 -0.016063 -0.078653  0.078653\n",
              "4     -2.028335 -0.519765 -0.406678  0.622315 -0.078653  0.078653\n",
              "...         ...       ...       ...       ...       ...       ...\n",
              "35779  1.392188  0.725645  4.808764 -0.048004  0.033034 -0.033034\n",
              "35780  1.392188  0.725645  3.517378  1.333245  0.033034 -0.033034\n",
              "35781  1.392188  0.725645  0.831388  1.211341  0.033034 -0.033034\n",
              "35782  1.392188  0.725645  0.955583  2.790110  0.033034 -0.033034\n",
              "35783  1.392188  0.725645  0.600066 -0.250560  0.033034 -0.033034\n",
              "\n",
              "[35784 rows x 6 columns]"
            ]
          },
          "metadata": {
            "tags": []
          },
          "execution_count": 59
        }
      ]
    },
    {
      "cell_type": "code",
      "metadata": {
        "id": "3me_JMK5TYZC"
      },
      "source": [
        "from sklearn.model_selection import train_test_split\n",
        "X_train, X_test, y_train, y_test = train_test_split(X, Y, test_size = 0.3, random_state = 1)"
      ],
      "execution_count": 60,
      "outputs": []
    },
    {
      "cell_type": "code",
      "metadata": {
        "id": "HlOaubDKTw9p"
      },
      "source": [
        "from sklearn.cluster import KMeans\n",
        "kmeans = KNeighborsClassifier(n_neighbors=3)\n",
        "kmeans.fit(X_train, y_train)\n",
        "y_kmeans = kmeans.predict(X_test)"
      ],
      "execution_count": 61,
      "outputs": []
    },
    {
      "cell_type": "code",
      "metadata": {
        "colab": {
          "base_uri": "https://localhost:8080/"
        },
        "id": "g-LiGhZcT6z2",
        "outputId": "8854512a-a4fb-4648-ca2d-bde8aa05a8b2"
      },
      "source": [
        "from sklearn.metrics import accuracy_score\n",
        "from sklearn.metrics import classification_report\n",
        "from sklearn.metrics import confusion_matrix\n",
        "\n",
        "acc = accuracy_score(y_test , y_kmeans)\n",
        "print(\"Accuracy:\",accuracy_score(y_test , y_kmeans))\n",
        "print(classification_report(y_test , y_kmeans))\n",
        "print(confusion_matrix(y_test , y_kmeans))"
      ],
      "execution_count": 62,
      "outputs": [
        {
          "output_type": "stream",
          "text": [
            "Accuracy: 0.999441132637854\n",
            "              precision    recall  f1-score   support\n",
            "\n",
            "         0.0       1.00      1.00      1.00      3596\n",
            "         1.0       1.00      1.00      1.00      3559\n",
            "         2.0       1.00      1.00      1.00      3581\n",
            "\n",
            "    accuracy                           1.00     10736\n",
            "   macro avg       1.00      1.00      1.00     10736\n",
            "weighted avg       1.00      1.00      1.00     10736\n",
            "\n",
            "[[3596    0    0]\n",
            " [   0 3559    0]\n",
            " [   6    0 3575]]\n"
          ],
          "name": "stdout"
        }
      ]
    },
    {
      "cell_type": "code",
      "metadata": {
        "id": "WnHNYX8etvoZ"
      },
      "source": [
        "from sklearn.decomposition import PCA\n",
        "\n",
        "pca = PCA(n_components=2)\n",
        "principalComponents = pca.fit_transform(StandardScaler().fit_transform(ny))\n",
        "\n",
        "principalDf = pd.DataFrame(data = principalComponents\n",
        "             , columns = ['PC1', 'PC2'])"
      ],
      "execution_count": 64,
      "outputs": []
    },
    {
      "cell_type": "code",
      "metadata": {
        "id": "VAZNjj7AtvoZ"
      },
      "source": [
        "finalDf = pd.concat([principalDf, ny[['indicator']]], axis = 1)"
      ],
      "execution_count": 65,
      "outputs": []
    },
    {
      "cell_type": "code",
      "metadata": {
        "colab": {
          "base_uri": "https://localhost:8080/",
          "height": 388
        },
        "id": "Cyceu0Mktvoa",
        "outputId": "068a5eac-befa-48a5-fa24-99a7bf6e865b"
      },
      "source": [
        "plt.figure(figsize=(8,6))\n",
        "targets = ['Anxiety', 'Depression', 'Anxiety or Depression']\n",
        "plt.scatter(finalDf.iloc[:,0],finalDf.iloc[:,1],\n",
        "            c=finalDf['indicator'],\n",
        "            cmap='rainbow'\n",
        "           )\n",
        "plt.xlabel('First principal component')\n",
        "plt.ylabel('Second Principal Component')\n",
        "pass;"
      ],
      "execution_count": 66,
      "outputs": [
        {
          "output_type": "display_data",
          "data": {
            "image/png": "[encoded data removed]",
            "text/plain": [
              "<Figure size 576x432 with 1 Axes>"
            ]
          },
          "metadata": {
            "tags": [],
            "needs_background": "light"
          }
        }
      ]
    },
    {
      "cell_type": "code",
      "metadata": {
        "colab": {
          "base_uri": "https://localhost:8080/",
          "height": 388
        },
        "id": "TxWWzcDWtvoc",
        "outputId": "8bd071d2-6bb0-4b50-f682-19c45c3cbf49"
      },
      "source": [
        "import seaborn as sns\n",
        "plt.figure(figsize=(8,6))\n",
        "sns.scatterplot(\n",
        "    x=\"PC1\", y=\"PC2\",\n",
        "    hue=\"indicator\",\n",
        "    palette=sns.color_palette(\"hls\", 3),\n",
        "    data=finalDf,\n",
        "    legend=\"full\",\n",
        "    alpha=0.3\n",
        ")\n",
        "pass;"
      ],
      "execution_count": 67,
      "outputs": [
        {
          "output_type": "display_data",
          "data": {
            "image/png": "[encoded data removed]",
            "text/plain": [
              "<Figure size 576x432 with 1 Axes>"
            ]
          },
          "metadata": {
            "tags": [],
            "needs_background": "light"
          }
        }
      ]
    },
    {
      "cell_type": "code",
      "metadata": {
        "colab": {
          "base_uri": "https://localhost:8080/"
        },
        "id": "LYTAWb_otvod",
        "outputId": "da7b3dcd-82e1-4cec-eff6-f608b382421f"
      },
      "source": [
        "pca.explained_variance_ratio_"
      ],
      "execution_count": 68,
      "outputs": [
        {
          "output_type": "execute_result",
          "data": {
            "text/plain": [
              "array([0.31737145, 0.23161736])"
            ]
          },
          "metadata": {
            "tags": []
          },
          "execution_count": 68
        }
      ]
    },
    {
      "cell_type": "code",
      "metadata": {
        "colab": {
          "base_uri": "https://localhost:8080/"
        },
        "id": "a3bbeFGdtvog",
        "outputId": "b01968f1-e873-4e8c-a780-e70dbae01e8f"
      },
      "source": [
        "values = finalDf.values\n",
        " \n",
        "Y = values[:,-1]\n",
        "X = values[:,0:2]\n",
        "Y"
      ],
      "execution_count": 69,
      "outputs": [
        {
          "output_type": "execute_result",
          "data": {
            "text/plain": [
              "array([1., 1., 1., ..., 2., 2., 2.])"
            ]
          },
          "metadata": {
            "tags": []
          },
          "execution_count": 69
        }
      ]
    },
    {
      "cell_type": "code",
      "metadata": {
        "id": "t8XFT8w-tvoh"
      },
      "source": [
        "import pandas as pd\n",
        "from sklearn import metrics\n",
        "from sklearn.cluster import KMeans\n",
        "import matplotlib.pyplot as plt"
      ],
      "execution_count": 70,
      "outputs": []
    },
    {
      "cell_type": "code",
      "metadata": {
        "id": "nZIaq-5Qtvoh"
      },
      "source": [
        "finalDf2 = finalDf\n",
        "finalDf3 = finalDf "
      ],
      "execution_count": 71,
      "outputs": []
    },
    {
      "cell_type": "code",
      "metadata": {
        "colab": {
          "base_uri": "https://localhost:8080/"
        },
        "id": "N6P_roqC8kTE",
        "outputId": "70333deb-8e51-48a4-e40a-5dd443c03c0f"
      },
      "source": [
        "X"
      ],
      "execution_count": 72,
      "outputs": [
        {
          "output_type": "execute_result",
          "data": {
            "text/plain": [
              "array([[ 1.63958206, -2.03959699],\n",
              "       [ 1.43940138, -1.77319738],\n",
              "       [ 1.20339285, -1.4219291 ],\n",
              "       ...,\n",
              "       [-1.2088751 ,  1.79755711],\n",
              "       [-1.65397183,  2.54097023],\n",
              "       [-0.75088441,  1.05200077]])"
            ]
          },
          "metadata": {
            "tags": []
          },
          "execution_count": 72
        }
      ]
    },
    {
      "cell_type": "code",
      "metadata": {
        "id": "AvLSOfzqtvoi"
      },
      "source": [
        "from sklearn.cluster import KMeans\n",
        "from sklearn.neighbors import KNeighborsClassifier\n",
        "kmeans = KMeans(n_clusters=3)\n",
        "kmeans.fit(StandardScaler().fit_transform(X))\n",
        "y_kmeans = kmeans.predict(X)"
      ],
      "execution_count": 73,
      "outputs": []
    },
    {
      "cell_type": "code",
      "metadata": {
        "id": "jI0D2Lpqtvoi"
      },
      "source": [
        "#plt.scatter(finalDf.iloc[:,0], finalDf.iloc[:,1], c=y_kmeans, s=50, cmap='gist_rainbow')\n",
        "\n",
        "centers = kmeans.cluster_centers_\n",
        "#plt.scatter(centers[:, 0], centers[:, -1], c='blue', s=200, alpha=0.5);"
      ],
      "execution_count": 74,
      "outputs": []
    },
    {
      "cell_type": "code",
      "metadata": {
        "colab": {
          "base_uri": "https://localhost:8080/"
        },
        "id": "97mtWi9X8cl3",
        "outputId": "c40bb4bd-82f9-4a53-c057-22acda1f5998"
      },
      "source": [
        "y_kmeans"
      ],
      "execution_count": 75,
      "outputs": [
        {
          "output_type": "execute_result",
          "data": {
            "text/plain": [
              "array([1, 1, 1, ..., 2, 2, 2], dtype=int32)"
            ]
          },
          "metadata": {
            "tags": []
          },
          "execution_count": 75
        }
      ]
    },
    {
      "cell_type": "code",
      "metadata": {
        "id": "-NBKINbsy6wR"
      },
      "source": [
        "finalDf['cluster'] = y_kmeans"
      ],
      "execution_count": 76,
      "outputs": []
    },
    {
      "cell_type": "code",
      "metadata": {
        "colab": {
          "base_uri": "https://localhost:8080/"
        },
        "id": "3sfT5BCpwZUr",
        "outputId": "6d60f060-df65-4d6e-cf3f-fab406c545d4"
      },
      "source": [
        "from sklearn.metrics import accuracy_score\n",
        "from sklearn.metrics import classification_report\n",
        "from sklearn.metrics import confusion_matrix\n",
        "\n",
        "acc = accuracy_score(finalDf['indicator'] , finalDf['cluster'])\n",
        "print(\"Accuracy:\",accuracy_score(finalDf['indicator'] , finalDf['cluster']))\n",
        "print(classification_report(finalDf['indicator'] , finalDf['cluster']))\n",
        "print(confusion_matrix(finalDf['indicator'] , finalDf['cluster']))"
      ],
      "execution_count": 77,
      "outputs": [
        {
          "output_type": "stream",
          "text": [
            "Accuracy: 0.36071987480438183\n",
            "              precision    recall  f1-score   support\n",
            "\n",
            "         0.0       0.31      0.27      0.29     11928\n",
            "         1.0       0.38      0.51      0.44     11928\n",
            "         2.0       0.38      0.31      0.34     11928\n",
            "\n",
            "    accuracy                           0.36     35784\n",
            "   macro avg       0.36      0.36      0.35     35784\n",
            "weighted avg       0.36      0.36      0.35     35784\n",
            "\n",
            "[[3171 5628 3129]\n",
            " [2947 6048 2933]\n",
            " [4109 4130 3689]]\n"
          ],
          "name": "stdout"
        }
      ]
    },
    {
      "cell_type": "code",
      "metadata": {
        "id": "mv0y2LDx6-PG"
      },
      "source": [
        "finalDf['indicator'] = finalDf['indicator'] + 1\n",
        "finalDf['cluster'] = finalDf['cluster'] + 1"
      ],
      "execution_count": 78,
      "outputs": []
    },
    {
      "cell_type": "code",
      "metadata": {
        "colab": {
          "base_uri": "https://localhost:8080/"
        },
        "id": "XKHAomdz7EhL",
        "outputId": "1adb12a8-cc0b-44c9-b17f-4b43b03bd01c"
      },
      "source": [
        "import math\n",
        "def get_entropys(df_clustered, label_col_name='indicator', cluster_col_name='cluster', cluster_values=range(2,3,2)):\n",
        "    p = [[round(df_clustered[(df_clustered[label_col_name]==label) & (df_clustered[cluster_col_name]==cluster)].shape[0]/\n",
        "                df_clustered[df_clustered[cluster_col_name]==cluster].shape[0],3) for label in cluster_values] for cluster in cluster_values]\n",
        "    p_log_p = [[p_i*math.log(p_i) for p_i in p_i_s if p_i!=0] for p_i_s in p]\n",
        "    e = [-round(sum(p_log_p_i),3) for p_log_p_i in p_log_p]\n",
        "    return e\n",
        "  \n",
        "entropys_5 = get_entropys(finalDf, label_col_name='indicator', cluster_col_name='cluster', cluster_values=range(2,3,2))\n",
        "print(\"Clusters' Entropy\")\n",
        "print(\"Entropy: {0:.3f}\".format(min(entropys_5)))"
      ],
      "execution_count": 79,
      "outputs": [
        {
          "output_type": "stream",
          "text": [
            "Clusters' Entropy\n",
            "Entropy: 0.368\n"
          ],
          "name": "stdout"
        }
      ]
    },
    {
      "cell_type": "code",
      "metadata": {
        "colab": {
          "base_uri": "https://localhost:8080/"
        },
        "id": "65x0UcdiAqWN",
        "outputId": "cdce9d89-637e-4dae-fc1a-4f2f73461048"
      },
      "source": [
        "import numpy as np\n",
        "from sklearn import metrics\n",
        "\n",
        "def purity_score(y_true, y_pred):\n",
        "    # compute contingency matrix (also called confusion matrix)\n",
        "    contingency_matrix = metrics.cluster.contingency_matrix(y_true, y_pred)\n",
        "    # return purity\n",
        "    return np.sum(np.amax(contingency_matrix, axis=0)) / np.sum(contingency_matrix) \n",
        "\n",
        "purity = purity_score(finalDf['indicator'], finalDf['cluster'])\n",
        "print(\"The purity is:\",purity)"
      ],
      "execution_count": 80,
      "outputs": [
        {
          "output_type": "stream",
          "text": [
            "The purity is: 0.38693270735524254\n"
          ],
          "name": "stdout"
        }
      ]
    },
    {
      "cell_type": "code",
      "metadata": {
        "colab": {
          "base_uri": "https://localhost:8080/"
        },
        "id": "wokYWRqyAyTJ",
        "outputId": "7e0bccb7-7465-43b3-d0a0-adbe63aada92"
      },
      "source": [
        "from sklearn.metrics.cluster import v_measure_score\n",
        "v_measure = v_measure_score(finalDf['indicator'], finalDf['cluster'])\n",
        "print(\"The v_measure is:\",v_measure)"
      ],
      "execution_count": 81,
      "outputs": [
        {
          "output_type": "stream",
          "text": [
            "The v_measure is: 0.009145935808347687\n"
          ],
          "name": "stdout"
        }
      ]
    },
    {
      "cell_type": "code",
      "metadata": {
        "colab": {
          "base_uri": "https://localhost:8080/"
        },
        "id": "lGj4RzCXA0pM",
        "outputId": "bbe9b8e9-93ea-43c6-ea8c-e81cda5aa88e"
      },
      "source": [
        "from sklearn.metrics.cluster import adjusted_rand_score\n",
        "randScore = adjusted_rand_score(finalDf['indicator'], finalDf['cluster'])\n",
        "print(\"The rand_score is:\",randScore)"
      ],
      "execution_count": 82,
      "outputs": [
        {
          "output_type": "stream",
          "text": [
            "The rand_score is: 0.010701741673974014\n"
          ],
          "name": "stdout"
        }
      ]
    },
    {
      "cell_type": "code",
      "metadata": {
        "id": "OEa1iB_Ntvom"
      },
      "source": [
        "df = finalDf\n",
        "labels_final = df['indicator'].values\n",
        "#df = df[:,0:1]\n",
        "#del df['indicator']\n",
        "df = df.drop(['indicator'], axis=1)"
      ],
      "execution_count": 83,
      "outputs": []
    },
    {
      "cell_type": "code",
      "metadata": {
        "colab": {
          "base_uri": "https://localhost:8080/",
          "height": 417
        },
        "id": "jKNShkDjtvom",
        "outputId": "e67b23f3-d8a6-43da-eaa8-d1c8d430dafb"
      },
      "source": [
        "finalDf"
      ],
      "execution_count": 84,
      "outputs": [
        {
          "output_type": "execute_result",
          "data": {
            "text/html": [
              "<div>\n",
              "<style scoped>\n",
              "    .dataframe tbody tr th:only-of-type {\n",
              "        vertical-align: middle;\n",
              "    }\n",
              "\n",
              "    .dataframe tbody tr th {\n",
              "        vertical-align: top;\n",
              "    }\n",
              "\n",
              "    .dataframe thead th {\n",
              "        text-align: right;\n",
              "    }\n",
              "</style>\n",
              "<table border=\"1\" class=\"dataframe\">\n",
              "  <thead>\n",
              "    <tr style=\"text-align: right;\">\n",
              "      <th></th>\n",
              "      <th>PC1</th>\n",
              "      <th>PC2</th>\n",
              "      <th>indicator</th>\n",
              "      <th>cluster</th>\n",
              "    </tr>\n",
              "  </thead>\n",
              "  <tbody>\n",
              "    <tr>\n",
              "      <th>0</th>\n",
              "      <td>1.639582</td>\n",
              "      <td>-2.039597</td>\n",
              "      <td>2.0</td>\n",
              "      <td>2</td>\n",
              "    </tr>\n",
              "    <tr>\n",
              "      <th>1</th>\n",
              "      <td>1.439401</td>\n",
              "      <td>-1.773197</td>\n",
              "      <td>2.0</td>\n",
              "      <td>2</td>\n",
              "    </tr>\n",
              "    <tr>\n",
              "      <th>2</th>\n",
              "      <td>1.203393</td>\n",
              "      <td>-1.421929</td>\n",
              "      <td>2.0</td>\n",
              "      <td>2</td>\n",
              "    </tr>\n",
              "    <tr>\n",
              "      <th>3</th>\n",
              "      <td>1.059338</td>\n",
              "      <td>-1.175134</td>\n",
              "      <td>2.0</td>\n",
              "      <td>2</td>\n",
              "    </tr>\n",
              "    <tr>\n",
              "      <th>4</th>\n",
              "      <td>0.848564</td>\n",
              "      <td>-0.836122</td>\n",
              "      <td>2.0</td>\n",
              "      <td>2</td>\n",
              "    </tr>\n",
              "    <tr>\n",
              "      <th>...</th>\n",
              "      <td>...</td>\n",
              "      <td>...</td>\n",
              "      <td>...</td>\n",
              "      <td>...</td>\n",
              "    </tr>\n",
              "    <tr>\n",
              "      <th>35779</th>\n",
              "      <td>-2.460368</td>\n",
              "      <td>3.208222</td>\n",
              "      <td>3.0</td>\n",
              "      <td>3</td>\n",
              "    </tr>\n",
              "    <tr>\n",
              "      <th>35780</th>\n",
              "      <td>-2.298019</td>\n",
              "      <td>3.170473</td>\n",
              "      <td>3.0</td>\n",
              "      <td>3</td>\n",
              "    </tr>\n",
              "    <tr>\n",
              "      <th>35781</th>\n",
              "      <td>-1.208875</td>\n",
              "      <td>1.797557</td>\n",
              "      <td>3.0</td>\n",
              "      <td>3</td>\n",
              "    </tr>\n",
              "    <tr>\n",
              "      <th>35782</th>\n",
              "      <td>-1.653972</td>\n",
              "      <td>2.540970</td>\n",
              "      <td>3.0</td>\n",
              "      <td>3</td>\n",
              "    </tr>\n",
              "    <tr>\n",
              "      <th>35783</th>\n",
              "      <td>-0.750884</td>\n",
              "      <td>1.052001</td>\n",
              "      <td>3.0</td>\n",
              "      <td>3</td>\n",
              "    </tr>\n",
              "  </tbody>\n",
              "</table>\n",
              "<p>35784 rows × 4 columns</p>\n",
              "</div>"
            ],
            "text/plain": [
              "            PC1       PC2  indicator  cluster\n",
              "0      1.639582 -2.039597        2.0        2\n",
              "1      1.439401 -1.773197        2.0        2\n",
              "2      1.203393 -1.421929        2.0        2\n",
              "3      1.059338 -1.175134        2.0        2\n",
              "4      0.848564 -0.836122        2.0        2\n",
              "...         ...       ...        ...      ...\n",
              "35779 -2.460368  3.208222        3.0        3\n",
              "35780 -2.298019  3.170473        3.0        3\n",
              "35781 -1.208875  1.797557        3.0        3\n",
              "35782 -1.653972  2.540970        3.0        3\n",
              "35783 -0.750884  1.052001        3.0        3\n",
              "\n",
              "[35784 rows x 4 columns]"
            ]
          },
          "metadata": {
            "tags": []
          },
          "execution_count": 84
        }
      ]
    },
    {
      "cell_type": "code",
      "metadata": {
        "id": "j6f8KVBGtvom",
        "outputId": "854a23f4-38a9-402b-d6a2-ec02c448057e",
        "colab": {
          "base_uri": "https://localhost:8080/",
          "height": 404
        }
      },
      "source": [
        "#Creating the model\n",
        "from sklearn.cluster import AgglomerativeClustering\n",
        "agg_clustering = AgglomerativeClustering(n_clusters = 3, affinity = 'euclidean', linkage = 'complete')\n",
        " \n",
        "#predicting the labels\n",
        " \n",
        "labels = agg_clustering.fit_predict(X,Y)"
      ],
      "execution_count": 85,
      "outputs": [
        {
          "output_type": "error",
          "ename": "KeyboardInterrupt",
          "evalue": "ignored",
          "traceback": [
            "\u001b[0;31m---------------------------------------------------------------------------\u001b[0m",
            "\u001b[0;31mKeyboardInterrupt\u001b[0m                         Traceback (most recent call last)",
            "\u001b[0;32m<ipython-input-85-28b7ddca6047>\u001b[0m in \u001b[0;36m<module>\u001b[0;34m()\u001b[0m\n\u001b[1;32m      5\u001b[0m \u001b[0;31m#predicting the labels\u001b[0m\u001b[0;34m\u001b[0m\u001b[0;34m\u001b[0m\u001b[0;34m\u001b[0m\u001b[0m\n\u001b[1;32m      6\u001b[0m \u001b[0;34m\u001b[0m\u001b[0m\n\u001b[0;32m----> 7\u001b[0;31m \u001b[0mlabels\u001b[0m \u001b[0;34m=\u001b[0m \u001b[0magg_clustering\u001b[0m\u001b[0;34m.\u001b[0m\u001b[0mfit_predict\u001b[0m\u001b[0;34m(\u001b[0m\u001b[0mX\u001b[0m\u001b[0;34m,\u001b[0m\u001b[0mY\u001b[0m\u001b[0;34m)\u001b[0m\u001b[0;34m\u001b[0m\u001b[0;34m\u001b[0m\u001b[0m\n\u001b[0m",
            "\u001b[0;32m/usr/local/lib/python3.7/dist-packages/sklearn/cluster/_agglomerative.py\u001b[0m in \u001b[0;36mfit_predict\u001b[0;34m(self, X, y)\u001b[0m\n\u001b[1;32m    900\u001b[0m             \u001b[0mCluster\u001b[0m \u001b[0mlabels\u001b[0m\u001b[0;34m.\u001b[0m\u001b[0;34m\u001b[0m\u001b[0;34m\u001b[0m\u001b[0m\n\u001b[1;32m    901\u001b[0m         \"\"\"\n\u001b[0;32m--> 902\u001b[0;31m         \u001b[0;32mreturn\u001b[0m \u001b[0msuper\u001b[0m\u001b[0;34m(\u001b[0m\u001b[0;34m)\u001b[0m\u001b[0;34m.\u001b[0m\u001b[0mfit_predict\u001b[0m\u001b[0;34m(\u001b[0m\u001b[0mX\u001b[0m\u001b[0;34m,\u001b[0m \u001b[0my\u001b[0m\u001b[0;34m)\u001b[0m\u001b[0;34m\u001b[0m\u001b[0;34m\u001b[0m\u001b[0m\n\u001b[0m\u001b[1;32m    903\u001b[0m \u001b[0;34m\u001b[0m\u001b[0m\n\u001b[1;32m    904\u001b[0m \u001b[0;34m\u001b[0m\u001b[0m\n",
            "\u001b[0;32m/usr/local/lib/python3.7/dist-packages/sklearn/base.py\u001b[0m in \u001b[0;36mfit_predict\u001b[0;34m(self, X, y)\u001b[0m\n\u001b[1;32m    460\u001b[0m         \u001b[0;31m# non-optimized default implementation; override when a better\u001b[0m\u001b[0;34m\u001b[0m\u001b[0;34m\u001b[0m\u001b[0;34m\u001b[0m\u001b[0m\n\u001b[1;32m    461\u001b[0m         \u001b[0;31m# method is possible for a given clustering algorithm\u001b[0m\u001b[0;34m\u001b[0m\u001b[0;34m\u001b[0m\u001b[0;34m\u001b[0m\u001b[0m\n\u001b[0;32m--> 462\u001b[0;31m         \u001b[0mself\u001b[0m\u001b[0;34m.\u001b[0m\u001b[0mfit\u001b[0m\u001b[0;34m(\u001b[0m\u001b[0mX\u001b[0m\u001b[0;34m)\u001b[0m\u001b[0;34m\u001b[0m\u001b[0;34m\u001b[0m\u001b[0m\n\u001b[0m\u001b[1;32m    463\u001b[0m         \u001b[0;32mreturn\u001b[0m \u001b[0mself\u001b[0m\u001b[0;34m.\u001b[0m\u001b[0mlabels_\u001b[0m\u001b[0;34m\u001b[0m\u001b[0;34m\u001b[0m\u001b[0m\n\u001b[1;32m    464\u001b[0m \u001b[0;34m\u001b[0m\u001b[0m\n",
            "\u001b[0;32m/usr/local/lib/python3.7/dist-packages/sklearn/cluster/_agglomerative.py\u001b[0m in \u001b[0;36mfit\u001b[0;34m(self, X, y)\u001b[0m\n\u001b[1;32m    857\u001b[0m                                          \u001b[0mn_clusters\u001b[0m\u001b[0;34m=\u001b[0m\u001b[0mn_clusters\u001b[0m\u001b[0;34m,\u001b[0m\u001b[0;34m\u001b[0m\u001b[0;34m\u001b[0m\u001b[0m\n\u001b[1;32m    858\u001b[0m                                          \u001b[0mreturn_distance\u001b[0m\u001b[0;34m=\u001b[0m\u001b[0mreturn_distance\u001b[0m\u001b[0;34m,\u001b[0m\u001b[0;34m\u001b[0m\u001b[0;34m\u001b[0m\u001b[0m\n\u001b[0;32m--> 859\u001b[0;31m                                          **kwargs)\n\u001b[0m\u001b[1;32m    860\u001b[0m         (self.children_,\n\u001b[1;32m    861\u001b[0m          \u001b[0mself\u001b[0m\u001b[0;34m.\u001b[0m\u001b[0mn_connected_components_\u001b[0m\u001b[0;34m,\u001b[0m\u001b[0;34m\u001b[0m\u001b[0;34m\u001b[0m\u001b[0m\n",
            "\u001b[0;32m/usr/local/lib/python3.7/dist-packages/joblib/memory.py\u001b[0m in \u001b[0;36m__call__\u001b[0;34m(self, *args, **kwargs)\u001b[0m\n\u001b[1;32m    350\u001b[0m \u001b[0;34m\u001b[0m\u001b[0m\n\u001b[1;32m    351\u001b[0m     \u001b[0;32mdef\u001b[0m \u001b[0m__call__\u001b[0m\u001b[0;34m(\u001b[0m\u001b[0mself\u001b[0m\u001b[0;34m,\u001b[0m \u001b[0;34m*\u001b[0m\u001b[0margs\u001b[0m\u001b[0;34m,\u001b[0m \u001b[0;34m**\u001b[0m\u001b[0mkwargs\u001b[0m\u001b[0;34m)\u001b[0m\u001b[0;34m:\u001b[0m\u001b[0;34m\u001b[0m\u001b[0;34m\u001b[0m\u001b[0m\n\u001b[0;32m--> 352\u001b[0;31m         \u001b[0;32mreturn\u001b[0m \u001b[0mself\u001b[0m\u001b[0;34m.\u001b[0m\u001b[0mfunc\u001b[0m\u001b[0;34m(\u001b[0m\u001b[0;34m*\u001b[0m\u001b[0margs\u001b[0m\u001b[0;34m,\u001b[0m \u001b[0;34m**\u001b[0m\u001b[0mkwargs\u001b[0m\u001b[0;34m)\u001b[0m\u001b[0;34m\u001b[0m\u001b[0;34m\u001b[0m\u001b[0m\n\u001b[0m\u001b[1;32m    353\u001b[0m \u001b[0;34m\u001b[0m\u001b[0m\n\u001b[1;32m    354\u001b[0m     \u001b[0;32mdef\u001b[0m \u001b[0mcall_and_shelve\u001b[0m\u001b[0;34m(\u001b[0m\u001b[0mself\u001b[0m\u001b[0;34m,\u001b[0m \u001b[0;34m*\u001b[0m\u001b[0margs\u001b[0m\u001b[0;34m,\u001b[0m \u001b[0;34m**\u001b[0m\u001b[0mkwargs\u001b[0m\u001b[0;34m)\u001b[0m\u001b[0;34m:\u001b[0m\u001b[0;34m\u001b[0m\u001b[0;34m\u001b[0m\u001b[0m\n",
            "\u001b[0;32m/usr/local/lib/python3.7/dist-packages/sklearn/cluster/_agglomerative.py\u001b[0m in \u001b[0;36m_complete_linkage\u001b[0;34m(*args, **kwargs)\u001b[0m\n\u001b[1;32m    582\u001b[0m \u001b[0;32mdef\u001b[0m \u001b[0m_complete_linkage\u001b[0m\u001b[0;34m(\u001b[0m\u001b[0;34m*\u001b[0m\u001b[0margs\u001b[0m\u001b[0;34m,\u001b[0m \u001b[0;34m**\u001b[0m\u001b[0mkwargs\u001b[0m\u001b[0;34m)\u001b[0m\u001b[0;34m:\u001b[0m\u001b[0;34m\u001b[0m\u001b[0;34m\u001b[0m\u001b[0m\n\u001b[1;32m    583\u001b[0m     \u001b[0mkwargs\u001b[0m\u001b[0;34m[\u001b[0m\u001b[0;34m'linkage'\u001b[0m\u001b[0;34m]\u001b[0m \u001b[0;34m=\u001b[0m \u001b[0;34m'complete'\u001b[0m\u001b[0;34m\u001b[0m\u001b[0;34m\u001b[0m\u001b[0m\n\u001b[0;32m--> 584\u001b[0;31m     \u001b[0;32mreturn\u001b[0m \u001b[0mlinkage_tree\u001b[0m\u001b[0;34m(\u001b[0m\u001b[0;34m*\u001b[0m\u001b[0margs\u001b[0m\u001b[0;34m,\u001b[0m \u001b[0;34m**\u001b[0m\u001b[0mkwargs\u001b[0m\u001b[0;34m)\u001b[0m\u001b[0;34m\u001b[0m\u001b[0;34m\u001b[0m\u001b[0m\n\u001b[0m\u001b[1;32m    585\u001b[0m \u001b[0;34m\u001b[0m\u001b[0m\n\u001b[1;32m    586\u001b[0m \u001b[0;34m\u001b[0m\u001b[0m\n",
            "\u001b[0;32m/usr/local/lib/python3.7/dist-packages/sklearn/cluster/_agglomerative.py\u001b[0m in \u001b[0;36mlinkage_tree\u001b[0;34m(X, connectivity, n_clusters, linkage, affinity, return_distance)\u001b[0m\n\u001b[1;32m    466\u001b[0m             \u001b[0mi\u001b[0m\u001b[0;34m,\u001b[0m \u001b[0mj\u001b[0m \u001b[0;34m=\u001b[0m \u001b[0mnp\u001b[0m\u001b[0;34m.\u001b[0m\u001b[0mtriu_indices\u001b[0m\u001b[0;34m(\u001b[0m\u001b[0mX\u001b[0m\u001b[0;34m.\u001b[0m\u001b[0mshape\u001b[0m\u001b[0;34m[\u001b[0m\u001b[0;36m0\u001b[0m\u001b[0;34m]\u001b[0m\u001b[0;34m,\u001b[0m \u001b[0mk\u001b[0m\u001b[0;34m=\u001b[0m\u001b[0;36m1\u001b[0m\u001b[0;34m)\u001b[0m\u001b[0;34m\u001b[0m\u001b[0;34m\u001b[0m\u001b[0m\n\u001b[1;32m    467\u001b[0m             \u001b[0mX\u001b[0m \u001b[0;34m=\u001b[0m \u001b[0mX\u001b[0m\u001b[0;34m[\u001b[0m\u001b[0mi\u001b[0m\u001b[0;34m,\u001b[0m \u001b[0mj\u001b[0m\u001b[0;34m]\u001b[0m\u001b[0;34m\u001b[0m\u001b[0;34m\u001b[0m\u001b[0m\n\u001b[0;32m--> 468\u001b[0;31m         \u001b[0mout\u001b[0m \u001b[0;34m=\u001b[0m \u001b[0mhierarchy\u001b[0m\u001b[0;34m.\u001b[0m\u001b[0mlinkage\u001b[0m\u001b[0;34m(\u001b[0m\u001b[0mX\u001b[0m\u001b[0;34m,\u001b[0m \u001b[0mmethod\u001b[0m\u001b[0;34m=\u001b[0m\u001b[0mlinkage\u001b[0m\u001b[0;34m,\u001b[0m \u001b[0mmetric\u001b[0m\u001b[0;34m=\u001b[0m\u001b[0maffinity\u001b[0m\u001b[0;34m)\u001b[0m\u001b[0;34m\u001b[0m\u001b[0;34m\u001b[0m\u001b[0m\n\u001b[0m\u001b[1;32m    469\u001b[0m         \u001b[0mchildren_\u001b[0m \u001b[0;34m=\u001b[0m \u001b[0mout\u001b[0m\u001b[0;34m[\u001b[0m\u001b[0;34m:\u001b[0m\u001b[0;34m,\u001b[0m \u001b[0;34m:\u001b[0m\u001b[0;36m2\u001b[0m\u001b[0;34m]\u001b[0m\u001b[0;34m.\u001b[0m\u001b[0mastype\u001b[0m\u001b[0;34m(\u001b[0m\u001b[0mnp\u001b[0m\u001b[0;34m.\u001b[0m\u001b[0mint\u001b[0m\u001b[0;34m,\u001b[0m \u001b[0mcopy\u001b[0m\u001b[0;34m=\u001b[0m\u001b[0;32mFalse\u001b[0m\u001b[0;34m)\u001b[0m\u001b[0;34m\u001b[0m\u001b[0;34m\u001b[0m\u001b[0m\n\u001b[1;32m    470\u001b[0m \u001b[0;34m\u001b[0m\u001b[0m\n",
            "\u001b[0;32m/usr/local/lib/python3.7/dist-packages/scipy/cluster/hierarchy.py\u001b[0m in \u001b[0;36mlinkage\u001b[0;34m(y, method, metric, optimal_ordering)\u001b[0m\n\u001b[1;32m   1068\u001b[0m         \u001b[0mresult\u001b[0m \u001b[0;34m=\u001b[0m \u001b[0m_hierarchy\u001b[0m\u001b[0;34m.\u001b[0m\u001b[0mmst_single_linkage\u001b[0m\u001b[0;34m(\u001b[0m\u001b[0my\u001b[0m\u001b[0;34m,\u001b[0m \u001b[0mn\u001b[0m\u001b[0;34m)\u001b[0m\u001b[0;34m\u001b[0m\u001b[0;34m\u001b[0m\u001b[0m\n\u001b[1;32m   1069\u001b[0m     \u001b[0;32melif\u001b[0m \u001b[0mmethod\u001b[0m \u001b[0;32min\u001b[0m \u001b[0;34m[\u001b[0m\u001b[0;34m'complete'\u001b[0m\u001b[0;34m,\u001b[0m \u001b[0;34m'average'\u001b[0m\u001b[0;34m,\u001b[0m \u001b[0;34m'weighted'\u001b[0m\u001b[0;34m,\u001b[0m \u001b[0;34m'ward'\u001b[0m\u001b[0;34m]\u001b[0m\u001b[0;34m:\u001b[0m\u001b[0;34m\u001b[0m\u001b[0;34m\u001b[0m\u001b[0m\n\u001b[0;32m-> 1070\u001b[0;31m         \u001b[0mresult\u001b[0m \u001b[0;34m=\u001b[0m \u001b[0m_hierarchy\u001b[0m\u001b[0;34m.\u001b[0m\u001b[0mnn_chain\u001b[0m\u001b[0;34m(\u001b[0m\u001b[0my\u001b[0m\u001b[0;34m,\u001b[0m \u001b[0mn\u001b[0m\u001b[0;34m,\u001b[0m \u001b[0mmethod_code\u001b[0m\u001b[0;34m)\u001b[0m\u001b[0;34m\u001b[0m\u001b[0;34m\u001b[0m\u001b[0m\n\u001b[0m\u001b[1;32m   1071\u001b[0m     \u001b[0;32melse\u001b[0m\u001b[0;34m:\u001b[0m\u001b[0;34m\u001b[0m\u001b[0;34m\u001b[0m\u001b[0m\n\u001b[1;32m   1072\u001b[0m         \u001b[0mresult\u001b[0m \u001b[0;34m=\u001b[0m \u001b[0m_hierarchy\u001b[0m\u001b[0;34m.\u001b[0m\u001b[0mfast_linkage\u001b[0m\u001b[0;34m(\u001b[0m\u001b[0my\u001b[0m\u001b[0;34m,\u001b[0m \u001b[0mn\u001b[0m\u001b[0;34m,\u001b[0m \u001b[0mmethod_code\u001b[0m\u001b[0;34m)\u001b[0m\u001b[0;34m\u001b[0m\u001b[0;34m\u001b[0m\u001b[0m\n",
            "\u001b[0;32m_hierarchy.pyx\u001b[0m in \u001b[0;36mscipy.cluster._hierarchy.nn_chain\u001b[0;34m()\u001b[0m\n",
            "\u001b[0;32m<__array_function__ internals>\u001b[0m in \u001b[0;36margsort\u001b[0;34m(*args, **kwargs)\u001b[0m\n",
            "\u001b[0;31mKeyboardInterrupt\u001b[0m: "
          ]
        }
      ]
    },
    {
      "cell_type": "code",
      "metadata": {
        "id": "JYMzjC4m9Nqv"
      },
      "source": [
        "finalDf['indicator'] = finalDf['indicator'] - 1"
      ],
      "execution_count": null,
      "outputs": []
    },
    {
      "cell_type": "code",
      "metadata": {
        "id": "qye8SSTvtvom"
      },
      "source": [
        "labels"
      ],
      "execution_count": null,
      "outputs": []
    },
    {
      "cell_type": "code",
      "metadata": {
        "colab": {
          "base_uri": "https://localhost:8080/"
        },
        "id": "LWavaw1S1JoP",
        "outputId": "3ff285ba-f5c6-4fc8-a53f-be015bcfa863"
      },
      "source": [
        "print(\"Accuracy:\",accuracy_score(finalDf.iloc[:,2] , labels))\n",
        "print(classification_report(finalDf.iloc[:,2] , labels))\n",
        "print(confusion_matrix(finalDf.iloc[:,2] , labels))"
      ],
      "execution_count": null,
      "outputs": [
        {
          "output_type": "stream",
          "text": [
            "Accuracy: 0.2949921752738654\n",
            "              precision    recall  f1-score   support\n",
            "\n",
            "         0.0       0.31      0.29      0.30     11928\n",
            "         1.0       0.31      0.06      0.10     11928\n",
            "         2.0       0.29      0.53      0.37     11928\n",
            "\n",
            "    accuracy                           0.29     35784\n",
            "   macro avg       0.30      0.29      0.26     35784\n",
            "weighted avg       0.30      0.29      0.26     35784\n",
            "\n",
            "[[3479  700 7749]\n",
            " [3059  714 8155]\n",
            " [4676  889 6363]]\n"
          ],
          "name": "stdout"
        }
      ]
    },
    {
      "cell_type": "code",
      "metadata": {
        "colab": {
          "base_uri": "https://localhost:8080/",
          "height": 281
        },
        "id": "35Y1d9QBtvon",
        "outputId": "c6d8f506-0f17-461d-fcb8-c00995437e5a"
      },
      "source": [
        "#filter rows of original data\n",
        "filtered_label0 = df[labels == 0]\n",
        "filtered_label1 = df[labels == 1]\n",
        "filtered_label2 = df[labels == 2]\n",
        " \n",
        "#Plotting the results\n",
        "plt.scatter(filtered_label0.iloc[:,0] , filtered_label0.iloc[:,1] , color = 'red')\n",
        "plt.scatter(filtered_label1.iloc[:,0] , filtered_label1.iloc[:,1] , color = 'black')\n",
        "plt.scatter(filtered_label2.iloc[:,0] , filtered_label2.iloc[:,1] , color = 'green')\n",
        "plt.title(\"Hierarchical clustering - Agglomerative clustering\")\n",
        "plt.show()"
      ],
      "execution_count": null,
      "outputs": [
        {
          "output_type": "display_data",
          "data": {
            "image/png": "[encoded data removed]",
            "text/plain": [
              "<Figure size 432x288 with 1 Axes>"
            ]
          },
          "metadata": {
            "tags": [],
            "needs_background": "light"
          }
        }
      ]
    },
    {
      "cell_type": "code",
      "metadata": {
        "id": "NNEpLyCptvon"
      },
      "source": [
        "from sklearn.datasets import load_iris\n",
        "from sklearn.cluster import AgglomerativeClustering\n",
        "import numpy as np\n",
        "import matplotlib.pyplot as plt\n",
        "from scipy.cluster.hierarchy import dendrogram , linkage"
      ],
      "execution_count": null,
      "outputs": []
    },
    {
      "cell_type": "code",
      "metadata": {
        "id": "AdxtWiBctvoo"
      },
      "source": [
        "def plot_dendrogram(model, **kwargs):\n",
        "    # Create linkage matrix and then plot the dendrogram\n",
        "\n",
        "    # create the counts of samples under each node\n",
        "    counts = np.zeros(model.children_.shape[0])\n",
        "    n_samples = len(model.labels_)\n",
        "    for i, merge in enumerate(model.children_):\n",
        "        current_count = 0\n",
        "        for child_idx in merge:\n",
        "            if child_idx < n_samples:\n",
        "                current_count += 1  # leaf node\n",
        "            else:\n",
        "                current_count += counts[child_idx - n_samples]\n",
        "        counts[i] = current_count\n",
        "\n",
        "    linkage_matrix = np.column_stack([model.children_, model.distances_,\n",
        "                                      counts]).astype(float)\n",
        "\n",
        "    # Plot the corresponding dendrogram\n",
        "    dendrogram(linkage_matrix, **kwargs)"
      ],
      "execution_count": null,
      "outputs": []
    },
    {
      "cell_type": "code",
      "metadata": {
        "colab": {
          "base_uri": "https://localhost:8080/",
          "height": 36
        },
        "id": "VlkjmFQNtvop",
        "outputId": "63d23d47-2b22-4f04-91a0-8c6c8eecbd4f"
      },
      "source": [
        "Z = linkage(df, method = 'complete')\n",
        " \n",
        "\"\"\"#plotting dendrogram\n",
        "dendro = dendrogram(Z)\n",
        "plt.title('Dendrogram')\n",
        "plt.ylabel('Euclidean distance')\n",
        "plt.show()\"\"\""
      ],
      "execution_count": null,
      "outputs": [
        {
          "output_type": "execute_result",
          "data": {
            "application/vnd.google.colaboratory.intrinsic+json": {
              "type": "string"
            },
            "text/plain": [
              "\"#plotting dendrogram\\ndendro = dendrogram(Z)\\nplt.title('Dendrogram')\\nplt.ylabel('Euclidean distance')\\nplt.show()\""
            ]
          },
          "metadata": {
            "tags": []
          },
          "execution_count": 69
        }
      ]
    },
    {
      "cell_type": "code",
      "metadata": {
        "colab": {
          "base_uri": "https://localhost:8080/",
          "height": 54
        },
        "id": "Mt9Te75u1YF8",
        "outputId": "d75c7b77-4acd-45d7-af19-b6355c2d653e"
      },
      "source": [
        "from matplotlib.pyplot import figure\n",
        "figure(figsize=(20, 20))"
      ],
      "execution_count": null,
      "outputs": [
        {
          "output_type": "execute_result",
          "data": {
            "text/plain": [
              "<Figure size 1440x1440 with 0 Axes>"
            ]
          },
          "metadata": {
            "tags": []
          },
          "execution_count": 70
        },
        {
          "output_type": "display_data",
          "data": {
            "text/plain": [
              "<Figure size 1440x1440 with 0 Axes>"
            ]
          },
          "metadata": {
            "tags": []
          }
        }
      ]
    },
    {
      "cell_type": "code",
      "metadata": {
        "colab": {
          "base_uri": "https://localhost:8080/",
          "height": 278
        },
        "id": "15Mwq5c21pdP",
        "outputId": "8041ffd6-9378-45f2-82c3-95a70375beb0"
      },
      "source": [
        "plt.title('Hierarchical Clustering Dendrogram')\n",
        "plt.rcParams[\"figure.figsize\"] = (30,20)\n",
        "# Plot axis labels\n",
        "plt.xlabel('data index')\n",
        "plt.xticks([])\n",
        "plt.ylabel('distance (Ward)')\n",
        "\n",
        "# Make the dendrogram\n",
        "dendrogram(Z, leaf_rotation=90)\n",
        "plt.xticks([])\n",
        "# Show the graph\n",
        "plt.show()"
      ],
      "execution_count": null,
      "outputs": [
        {
          "output_type": "display_data",
          "data": {
            "image/png": "[encoded data removed]",
            "text/plain": [
              "<Figure size 432x288 with 1 Axes>"
            ]
          },
          "metadata": {
            "tags": [],
            "needs_background": "light"
          }
        }
      ]
    },
    {
      "cell_type": "code",
      "metadata": {
        "id": "j-QOxq0V8_KJ"
      },
      "source": [
        "finalDf['cluster'] = labels"
      ],
      "execution_count": null,
      "outputs": []
    },
    {
      "cell_type": "code",
      "metadata": {
        "colab": {
          "base_uri": "https://localhost:8080/"
        },
        "id": "8v3SyTof9gEy",
        "outputId": "26e4cdfc-0792-4440-e9a1-1c034f2aaccb"
      },
      "source": [
        "import math\n",
        "def get_entropys(df_clustered, label_col_name='indicator', cluster_col_name='cluster', cluster_values=range(1,2,1)):\n",
        "    p = [[round(df_clustered[(df_clustered[label_col_name]==label) & (df_clustered[cluster_col_name]==cluster)].shape[0]/\n",
        "                df_clustered[df_clustered[cluster_col_name]==cluster].shape[0],3) for label in cluster_values] for cluster in cluster_values]\n",
        "    p_log_p = [[p_i*math.log(p_i) for p_i in p_i_s if p_i!=0] for p_i_s in p]\n",
        "    e = [-round(sum(p_log_p_i),3) for p_log_p_i in p_log_p]\n",
        "    return e\n",
        "  \n",
        "entropys_5 = get_entropys(finalDf, label_col_name='indicator', cluster_col_name='cluster', cluster_values=range(1,2,1))\n",
        "print(\"Clusters' Entropy\")\n",
        "print(\"Entropy: {0:.3f}\".format(min(entropys_5)))"
      ],
      "execution_count": null,
      "outputs": [
        {
          "output_type": "stream",
          "text": [
            "Clusters' Entropy\n",
            "Entropy: 0.363\n"
          ],
          "name": "stdout"
        }
      ]
    },
    {
      "cell_type": "code",
      "metadata": {
        "id": "fb-r5iwnCeNf"
      },
      "source": [
        "from sklearn.cluster import DBSCAN"
      ],
      "execution_count": null,
      "outputs": []
    },
    {
      "cell_type": "code",
      "metadata": {
        "id": "LeyE2QSsvdkO"
      },
      "source": [
        "from sklearn.neighbors import NearestNeighbors\n",
        "from sklearn.cluster import DBSCAN\n",
        "from matplotlib import pyplot as plt\n",
        "import seaborn as sns\n",
        "sns.set()"
      ],
      "execution_count": null,
      "outputs": []
    },
    {
      "cell_type": "code",
      "metadata": {
        "id": "7S675vhqwUTF"
      },
      "source": [
        "neigh = NearestNeighbors(n_neighbors=3000)\n",
        "nbrs = neigh.fit(df.values)\n",
        "distances, indices = nbrs.kneighbors(df.values)"
      ],
      "execution_count": null,
      "outputs": []
    },
    {
      "cell_type": "code",
      "metadata": {
        "colab": {
          "base_uri": "https://localhost:8080/",
          "height": 605
        },
        "id": "AKekKlcnwcOI",
        "outputId": "5d674602-cfbb-4c2e-efb0-8291a691dfb1"
      },
      "source": [
        "distances = np.sort(distances, axis=0)\n",
        "distances = distances[:,1]\n",
        "plt.rcParams[\"figure.figsize\"] = (10,10)\n",
        "plt.plot(distances)\n",
        "pass;"
      ],
      "execution_count": null,
      "outputs": [
        {
          "output_type": "display_data",
          "data": {
            "image/png": "[encoded data removed]",
            "text/plain": [
              "<Figure size 720x720 with 1 Axes>"
            ]
          },
          "metadata": {
            "tags": []
          }
        }
      ]
    },
    {
      "cell_type": "code",
      "metadata": {
        "colab": {
          "base_uri": "https://localhost:8080/",
          "height": 424
        },
        "id": "Bu-IWRs015vx",
        "outputId": "381c07a4-600c-4446-e35e-041c1e818a8e"
      },
      "source": [
        "df"
      ],
      "execution_count": null,
      "outputs": [
        {
          "output_type": "execute_result",
          "data": {
            "text/html": [
              "<div>\n",
              "<style scoped>\n",
              "    .dataframe tbody tr th:only-of-type {\n",
              "        vertical-align: middle;\n",
              "    }\n",
              "\n",
              "    .dataframe tbody tr th {\n",
              "        vertical-align: top;\n",
              "    }\n",
              "\n",
              "    .dataframe thead th {\n",
              "        text-align: right;\n",
              "    }\n",
              "</style>\n",
              "<table border=\"1\" class=\"dataframe\">\n",
              "  <thead>\n",
              "    <tr style=\"text-align: right;\">\n",
              "      <th></th>\n",
              "      <th>PC1</th>\n",
              "      <th>PC2</th>\n",
              "    </tr>\n",
              "  </thead>\n",
              "  <tbody>\n",
              "    <tr>\n",
              "      <th>0</th>\n",
              "      <td>1.637754</td>\n",
              "      <td>-2.051391</td>\n",
              "    </tr>\n",
              "    <tr>\n",
              "      <th>1</th>\n",
              "      <td>1.437658</td>\n",
              "      <td>-1.779038</td>\n",
              "    </tr>\n",
              "    <tr>\n",
              "      <th>2</th>\n",
              "      <td>1.201745</td>\n",
              "      <td>-1.419202</td>\n",
              "    </tr>\n",
              "    <tr>\n",
              "      <th>3</th>\n",
              "      <td>1.057747</td>\n",
              "      <td>-1.165829</td>\n",
              "    </tr>\n",
              "    <tr>\n",
              "      <th>4</th>\n",
              "      <td>0.847057</td>\n",
              "      <td>-0.818112</td>\n",
              "    </tr>\n",
              "    <tr>\n",
              "      <th>...</th>\n",
              "      <td>...</td>\n",
              "      <td>...</td>\n",
              "    </tr>\n",
              "    <tr>\n",
              "      <th>35779</th>\n",
              "      <td>-2.447307</td>\n",
              "      <td>3.078429</td>\n",
              "    </tr>\n",
              "    <tr>\n",
              "      <th>35780</th>\n",
              "      <td>-2.285039</td>\n",
              "      <td>3.043275</td>\n",
              "    </tr>\n",
              "    <tr>\n",
              "      <th>35781</th>\n",
              "      <td>-1.196358</td>\n",
              "      <td>1.641152</td>\n",
              "    </tr>\n",
              "    <tr>\n",
              "      <th>35782</th>\n",
              "      <td>-1.641280</td>\n",
              "      <td>2.404094</td>\n",
              "    </tr>\n",
              "    <tr>\n",
              "      <th>35783</th>\n",
              "      <td>-0.738549</td>\n",
              "      <td>0.876310</td>\n",
              "    </tr>\n",
              "  </tbody>\n",
              "</table>\n",
              "<p>35784 rows × 2 columns</p>\n",
              "</div>"
            ],
            "text/plain": [
              "            PC1       PC2\n",
              "0      1.637754 -2.051391\n",
              "1      1.437658 -1.779038\n",
              "2      1.201745 -1.419202\n",
              "3      1.057747 -1.165829\n",
              "4      0.847057 -0.818112\n",
              "...         ...       ...\n",
              "35779 -2.447307  3.078429\n",
              "35780 -2.285039  3.043275\n",
              "35781 -1.196358  1.641152\n",
              "35782 -1.641280  2.404094\n",
              "35783 -0.738549  0.876310\n",
              "\n",
              "[35784 rows x 2 columns]"
            ]
          },
          "metadata": {
            "tags": []
          },
          "execution_count": 69
        }
      ]
    },
    {
      "cell_type": "code",
      "metadata": {
        "colab": {
          "base_uri": "https://localhost:8080/"
        },
        "id": "t9uQGd2-wjQ6",
        "outputId": "61f67e7f-2d06-4ae0-9e28-caf0ffe36772"
      },
      "source": [
        "db = DBSCAN(eps=0.45, min_samples=10).fit(X)\n",
        "core_samples_mask = np.zeros_like(db.labels_, dtype=bool)\n",
        "core_samples_mask[db.core_sample_indices_] = True\n",
        "labels = db.labels_\n",
        "\n",
        "# Number of clusters in labels, ignoring noise if present.\n",
        "n_clusters_ = len(set(labels)) - (1 if -1 in labels else 0)\n",
        "n_noise_ = list(labels).count(-1)\n",
        "\n",
        "print('Estimated number of clusters: %d' % n_clusters_)\n",
        "print('Estimated number of noise points: %d' % n_noise_)"
      ],
      "execution_count": null,
      "outputs": [
        {
          "output_type": "stream",
          "text": [
            "Estimated number of clusters: 3\n",
            "Estimated number of noise points: 0\n"
          ],
          "name": "stdout"
        }
      ]
    },
    {
      "cell_type": "code",
      "metadata": {
        "colab": {
          "base_uri": "https://localhost:8080/"
        },
        "id": "HgaPHqFW5cnu",
        "outputId": "dc5ddaf3-34a5-4c9e-f05b-187611d3f101"
      },
      "source": [
        "print(\"Accuracy:\",accuracy_score(finalDf.iloc[:,2] , labels))\n",
        "print(classification_report(finalDf.iloc[:,2] , labels))\n",
        "print(confusion_matrix(finalDf.iloc[:,2] , labels))"
      ],
      "execution_count": null,
      "outputs": [
        {
          "output_type": "stream",
          "text": [
            "Accuracy: 0.3333333333333333\n",
            "              precision    recall  f1-score   support\n",
            "\n",
            "         0.0       0.33      0.99      0.50     11928\n",
            "         1.0       0.33      0.00      0.01     11928\n",
            "         2.0       0.33      0.00      0.01     11928\n",
            "\n",
            "    accuracy                           0.33     35784\n",
            "   macro avg       0.33      0.33      0.17     35784\n",
            "weighted avg       0.33      0.33      0.17     35784\n",
            "\n",
            "[[11844    42    42]\n",
            " [11844    42    42]\n",
            " [11844    42    42]]\n"
          ],
          "name": "stdout"
        }
      ]
    },
    {
      "cell_type": "code",
      "metadata": {
        "colab": {
          "base_uri": "https://localhost:8080/"
        },
        "id": "m86sq0izuw1-",
        "outputId": "ed317e9e-fd41-4ae0-c9c2-b302c45280b9"
      },
      "source": [
        "db"
      ],
      "execution_count": null,
      "outputs": [
        {
          "output_type": "execute_result",
          "data": {
            "text/plain": [
              "DBSCAN(algorithm='auto', eps=0.45, leaf_size=30, metric='euclidean',\n",
              "       metric_params=None, min_samples=10, n_jobs=None, p=None)"
            ]
          },
          "metadata": {
            "tags": []
          },
          "execution_count": 72
        }
      ]
    },
    {
      "cell_type": "markdown",
      "metadata": {
        "id": "ChDwIjROKNXS"
      },
      "source": [
        "Follow tutorial from: https://towardsdatascience.com/k-means-dbscan-gmm-agglomerative-clustering-mastering-the-popular-models-in-a-segmentation-c891a3818e29"
      ]
    },
    {
      "cell_type": "code",
      "metadata": {
        "id": "d7JEpublKqBw",
        "outputId": "aedc8650-841f-4ab2-d5bc-4d522f67acd3",
        "colab": {
          "base_uri": "https://localhost:8080/",
          "height": 417
        }
      },
      "source": [
        "cluster_df = pd.read_csv('./statistically_significant_data.csv')\n",
        "cluster_df"
      ],
      "execution_count": 180,
      "outputs": [
        {
          "output_type": "execute_result",
          "data": {
            "text/html": [
              "<div>\n",
              "<style scoped>\n",
              "    .dataframe tbody tr th:only-of-type {\n",
              "        vertical-align: middle;\n",
              "    }\n",
              "\n",
              "    .dataframe tbody tr th {\n",
              "        vertical-align: top;\n",
              "    }\n",
              "\n",
              "    .dataframe thead th {\n",
              "        text-align: right;\n",
              "    }\n",
              "</style>\n",
              "<table border=\"1\" class=\"dataframe\">\n",
              "  <thead>\n",
              "    <tr style=\"text-align: right;\">\n",
              "      <th></th>\n",
              "      <th>time_period</th>\n",
              "      <th>value</th>\n",
              "      <th>CASE_RATE</th>\n",
              "      <th>HOSPITALIZED_RATE</th>\n",
              "      <th>sentiment__negative</th>\n",
              "      <th>sentiment__positive</th>\n",
              "      <th>indicator</th>\n",
              "    </tr>\n",
              "  </thead>\n",
              "  <tbody>\n",
              "    <tr>\n",
              "      <th>0</th>\n",
              "      <td>1.0</td>\n",
              "      <td>28.7</td>\n",
              "      <td>171.46</td>\n",
              "      <td>13.55</td>\n",
              "      <td>500.0</td>\n",
              "      <td>50.0</td>\n",
              "      <td>1.0</td>\n",
              "    </tr>\n",
              "    <tr>\n",
              "      <th>1</th>\n",
              "      <td>1.0</td>\n",
              "      <td>28.7</td>\n",
              "      <td>1554.45</td>\n",
              "      <td>153.69</td>\n",
              "      <td>500.0</td>\n",
              "      <td>50.0</td>\n",
              "      <td>1.0</td>\n",
              "    </tr>\n",
              "    <tr>\n",
              "      <th>2</th>\n",
              "      <td>1.0</td>\n",
              "      <td>28.7</td>\n",
              "      <td>2529.03</td>\n",
              "      <td>630.34</td>\n",
              "      <td>500.0</td>\n",
              "      <td>50.0</td>\n",
              "      <td>1.0</td>\n",
              "    </tr>\n",
              "    <tr>\n",
              "      <th>3</th>\n",
              "      <td>1.0</td>\n",
              "      <td>28.7</td>\n",
              "      <td>2552.64</td>\n",
              "      <td>1192.50</td>\n",
              "      <td>500.0</td>\n",
              "      <td>50.0</td>\n",
              "      <td>1.0</td>\n",
              "    </tr>\n",
              "    <tr>\n",
              "      <th>4</th>\n",
              "      <td>1.0</td>\n",
              "      <td>28.7</td>\n",
              "      <td>2976.74</td>\n",
              "      <td>1830.07</td>\n",
              "      <td>500.0</td>\n",
              "      <td>50.0</td>\n",
              "      <td>1.0</td>\n",
              "    </tr>\n",
              "    <tr>\n",
              "      <th>...</th>\n",
              "      <td>...</td>\n",
              "      <td>...</td>\n",
              "      <td>...</td>\n",
              "      <td>...</td>\n",
              "      <td>...</td>\n",
              "      <td>...</td>\n",
              "      <td>...</td>\n",
              "    </tr>\n",
              "    <tr>\n",
              "      <th>35779</th>\n",
              "      <td>23.0</td>\n",
              "      <td>35.8</td>\n",
              "      <td>20207.72</td>\n",
              "      <td>1160.60</td>\n",
              "      <td>501.0</td>\n",
              "      <td>49.0</td>\n",
              "      <td>2.0</td>\n",
              "    </tr>\n",
              "    <tr>\n",
              "      <th>35780</th>\n",
              "      <td>23.0</td>\n",
              "      <td>35.8</td>\n",
              "      <td>15941.19</td>\n",
              "      <td>2540.10</td>\n",
              "      <td>501.0</td>\n",
              "      <td>49.0</td>\n",
              "      <td>2.0</td>\n",
              "    </tr>\n",
              "    <tr>\n",
              "      <th>35781</th>\n",
              "      <td>23.0</td>\n",
              "      <td>35.8</td>\n",
              "      <td>7067.11</td>\n",
              "      <td>2418.35</td>\n",
              "      <td>501.0</td>\n",
              "      <td>49.0</td>\n",
              "      <td>2.0</td>\n",
              "    </tr>\n",
              "    <tr>\n",
              "      <th>35782</th>\n",
              "      <td>23.0</td>\n",
              "      <td>35.8</td>\n",
              "      <td>7477.43</td>\n",
              "      <td>3995.12</td>\n",
              "      <td>501.0</td>\n",
              "      <td>49.0</td>\n",
              "      <td>2.0</td>\n",
              "    </tr>\n",
              "    <tr>\n",
              "      <th>35783</th>\n",
              "      <td>23.0</td>\n",
              "      <td>35.8</td>\n",
              "      <td>6302.86</td>\n",
              "      <td>958.30</td>\n",
              "      <td>501.0</td>\n",
              "      <td>49.0</td>\n",
              "      <td>2.0</td>\n",
              "    </tr>\n",
              "  </tbody>\n",
              "</table>\n",
              "<p>35784 rows × 7 columns</p>\n",
              "</div>"
            ],
            "text/plain": [
              "       time_period  value  ...  sentiment__positive  indicator\n",
              "0              1.0   28.7  ...                 50.0        1.0\n",
              "1              1.0   28.7  ...                 50.0        1.0\n",
              "2              1.0   28.7  ...                 50.0        1.0\n",
              "3              1.0   28.7  ...                 50.0        1.0\n",
              "4              1.0   28.7  ...                 50.0        1.0\n",
              "...            ...    ...  ...                  ...        ...\n",
              "35779         23.0   35.8  ...                 49.0        2.0\n",
              "35780         23.0   35.8  ...                 49.0        2.0\n",
              "35781         23.0   35.8  ...                 49.0        2.0\n",
              "35782         23.0   35.8  ...                 49.0        2.0\n",
              "35783         23.0   35.8  ...                 49.0        2.0\n",
              "\n",
              "[35784 rows x 7 columns]"
            ]
          },
          "metadata": {
            "tags": []
          },
          "execution_count": 180
        }
      ]
    },
    {
      "cell_type": "code",
      "metadata": {
        "id": "0__WZ1rtZiyi"
      },
      "source": [
        "cluster_df.drop(['indicator', 'time_period', 'CASE_RATE', 'HOSPITALIZED_RATE', 'sentiment__negative', 'sentiment__positive'], axis=1, inplace=True)\n",
        "cluster_df = StandardScaler().fit_transform(cluster_df)"
      ],
      "execution_count": 181,
      "outputs": []
    },
    {
      "cell_type": "code",
      "metadata": {
        "id": "w4Mr93Cfaj9u",
        "outputId": "103d4a5a-ae27-473e-9e56-9cac58f49172",
        "colab": {
          "base_uri": "https://localhost:8080/",
          "height": 370
        }
      },
      "source": [
        "from sklearn.decomposition import PCA\n",
        "\n",
        "pca = PCA(n_components=2)\n",
        "principalComponents = pca.fit_transform(StandardScaler().fit_transform(cluster_df))\n",
        "\n",
        "principalDf = pd.DataFrame(data = principalComponents\n",
        "             , columns = ['PC1', 'PC2'])\n",
        "principalDf"
      ],
      "execution_count": 182,
      "outputs": [
        {
          "output_type": "error",
          "ename": "ValueError",
          "evalue": "ignored",
          "traceback": [
            "\u001b[0;31m---------------------------------------------------------------------------\u001b[0m",
            "\u001b[0;31mValueError\u001b[0m                                Traceback (most recent call last)",
            "\u001b[0;32m<ipython-input-182-b2e6e8892c98>\u001b[0m in \u001b[0;36m<module>\u001b[0;34m()\u001b[0m\n\u001b[1;32m      2\u001b[0m \u001b[0;34m\u001b[0m\u001b[0m\n\u001b[1;32m      3\u001b[0m \u001b[0mpca\u001b[0m \u001b[0;34m=\u001b[0m \u001b[0mPCA\u001b[0m\u001b[0;34m(\u001b[0m\u001b[0mn_components\u001b[0m\u001b[0;34m=\u001b[0m\u001b[0;36m2\u001b[0m\u001b[0;34m)\u001b[0m\u001b[0;34m\u001b[0m\u001b[0;34m\u001b[0m\u001b[0m\n\u001b[0;32m----> 4\u001b[0;31m \u001b[0mprincipalComponents\u001b[0m \u001b[0;34m=\u001b[0m \u001b[0mpca\u001b[0m\u001b[0;34m.\u001b[0m\u001b[0mfit_transform\u001b[0m\u001b[0;34m(\u001b[0m\u001b[0mStandardScaler\u001b[0m\u001b[0;34m(\u001b[0m\u001b[0;34m)\u001b[0m\u001b[0;34m.\u001b[0m\u001b[0mfit_transform\u001b[0m\u001b[0;34m(\u001b[0m\u001b[0mcluster_df\u001b[0m\u001b[0;34m)\u001b[0m\u001b[0;34m)\u001b[0m\u001b[0;34m\u001b[0m\u001b[0;34m\u001b[0m\u001b[0m\n\u001b[0m\u001b[1;32m      5\u001b[0m \u001b[0;34m\u001b[0m\u001b[0m\n\u001b[1;32m      6\u001b[0m principalDf = pd.DataFrame(data = principalComponents\n",
            "\u001b[0;32m/usr/local/lib/python3.7/dist-packages/sklearn/decomposition/_pca.py\u001b[0m in \u001b[0;36mfit_transform\u001b[0;34m(self, X, y)\u001b[0m\n\u001b[1;32m    367\u001b[0m         \u001b[0mC\u001b[0m\u001b[0;34m-\u001b[0m\u001b[0mordered\u001b[0m \u001b[0marray\u001b[0m\u001b[0;34m,\u001b[0m \u001b[0muse\u001b[0m \u001b[0;34m'np.ascontiguousarray'\u001b[0m\u001b[0;34m.\u001b[0m\u001b[0;34m\u001b[0m\u001b[0;34m\u001b[0m\u001b[0m\n\u001b[1;32m    368\u001b[0m         \"\"\"\n\u001b[0;32m--> 369\u001b[0;31m         \u001b[0mU\u001b[0m\u001b[0;34m,\u001b[0m \u001b[0mS\u001b[0m\u001b[0;34m,\u001b[0m \u001b[0mV\u001b[0m \u001b[0;34m=\u001b[0m \u001b[0mself\u001b[0m\u001b[0;34m.\u001b[0m\u001b[0m_fit\u001b[0m\u001b[0;34m(\u001b[0m\u001b[0mX\u001b[0m\u001b[0;34m)\u001b[0m\u001b[0;34m\u001b[0m\u001b[0;34m\u001b[0m\u001b[0m\n\u001b[0m\u001b[1;32m    370\u001b[0m         \u001b[0mU\u001b[0m \u001b[0;34m=\u001b[0m \u001b[0mU\u001b[0m\u001b[0;34m[\u001b[0m\u001b[0;34m:\u001b[0m\u001b[0;34m,\u001b[0m \u001b[0;34m:\u001b[0m\u001b[0mself\u001b[0m\u001b[0;34m.\u001b[0m\u001b[0mn_components_\u001b[0m\u001b[0;34m]\u001b[0m\u001b[0;34m\u001b[0m\u001b[0;34m\u001b[0m\u001b[0m\n\u001b[1;32m    371\u001b[0m \u001b[0;34m\u001b[0m\u001b[0m\n",
            "\u001b[0;32m/usr/local/lib/python3.7/dist-packages/sklearn/decomposition/_pca.py\u001b[0m in \u001b[0;36m_fit\u001b[0;34m(self, X)\u001b[0m\n\u001b[1;32m    414\u001b[0m         \u001b[0;31m# Call different fits for either full or truncated SVD\u001b[0m\u001b[0;34m\u001b[0m\u001b[0;34m\u001b[0m\u001b[0;34m\u001b[0m\u001b[0m\n\u001b[1;32m    415\u001b[0m         \u001b[0;32mif\u001b[0m \u001b[0mself\u001b[0m\u001b[0;34m.\u001b[0m\u001b[0m_fit_svd_solver\u001b[0m \u001b[0;34m==\u001b[0m \u001b[0;34m'full'\u001b[0m\u001b[0;34m:\u001b[0m\u001b[0;34m\u001b[0m\u001b[0;34m\u001b[0m\u001b[0m\n\u001b[0;32m--> 416\u001b[0;31m             \u001b[0;32mreturn\u001b[0m \u001b[0mself\u001b[0m\u001b[0;34m.\u001b[0m\u001b[0m_fit_full\u001b[0m\u001b[0;34m(\u001b[0m\u001b[0mX\u001b[0m\u001b[0;34m,\u001b[0m \u001b[0mn_components\u001b[0m\u001b[0;34m)\u001b[0m\u001b[0;34m\u001b[0m\u001b[0;34m\u001b[0m\u001b[0m\n\u001b[0m\u001b[1;32m    417\u001b[0m         \u001b[0;32melif\u001b[0m \u001b[0mself\u001b[0m\u001b[0;34m.\u001b[0m\u001b[0m_fit_svd_solver\u001b[0m \u001b[0;32min\u001b[0m \u001b[0;34m[\u001b[0m\u001b[0;34m'arpack'\u001b[0m\u001b[0;34m,\u001b[0m \u001b[0;34m'randomized'\u001b[0m\u001b[0;34m]\u001b[0m\u001b[0;34m:\u001b[0m\u001b[0;34m\u001b[0m\u001b[0;34m\u001b[0m\u001b[0m\n\u001b[1;32m    418\u001b[0m             \u001b[0;32mreturn\u001b[0m \u001b[0mself\u001b[0m\u001b[0;34m.\u001b[0m\u001b[0m_fit_truncated\u001b[0m\u001b[0;34m(\u001b[0m\u001b[0mX\u001b[0m\u001b[0;34m,\u001b[0m \u001b[0mn_components\u001b[0m\u001b[0;34m,\u001b[0m \u001b[0mself\u001b[0m\u001b[0;34m.\u001b[0m\u001b[0m_fit_svd_solver\u001b[0m\u001b[0;34m)\u001b[0m\u001b[0;34m\u001b[0m\u001b[0;34m\u001b[0m\u001b[0m\n",
            "\u001b[0;32m/usr/local/lib/python3.7/dist-packages/sklearn/decomposition/_pca.py\u001b[0m in \u001b[0;36m_fit_full\u001b[0;34m(self, X, n_components)\u001b[0m\n\u001b[1;32m    433\u001b[0m                              \u001b[0;34m\"min(n_samples, n_features)=%r with \"\u001b[0m\u001b[0;34m\u001b[0m\u001b[0;34m\u001b[0m\u001b[0m\n\u001b[1;32m    434\u001b[0m                              \u001b[0;34m\"svd_solver='full'\"\u001b[0m\u001b[0;34m\u001b[0m\u001b[0;34m\u001b[0m\u001b[0m\n\u001b[0;32m--> 435\u001b[0;31m                              % (n_components, min(n_samples, n_features)))\n\u001b[0m\u001b[1;32m    436\u001b[0m         \u001b[0;32melif\u001b[0m \u001b[0mn_components\u001b[0m \u001b[0;34m>=\u001b[0m \u001b[0;36m1\u001b[0m\u001b[0;34m:\u001b[0m\u001b[0;34m\u001b[0m\u001b[0;34m\u001b[0m\u001b[0m\n\u001b[1;32m    437\u001b[0m             \u001b[0;32mif\u001b[0m \u001b[0;32mnot\u001b[0m \u001b[0misinstance\u001b[0m\u001b[0;34m(\u001b[0m\u001b[0mn_components\u001b[0m\u001b[0;34m,\u001b[0m \u001b[0mnumbers\u001b[0m\u001b[0;34m.\u001b[0m\u001b[0mIntegral\u001b[0m\u001b[0;34m)\u001b[0m\u001b[0;34m:\u001b[0m\u001b[0;34m\u001b[0m\u001b[0;34m\u001b[0m\u001b[0m\n",
            "\u001b[0;31mValueError\u001b[0m: n_components=2 must be between 0 and min(n_samples, n_features)=1 with svd_solver='full'"
          ]
        }
      ]
    },
    {
      "cell_type": "code",
      "metadata": {
        "colab": {
          "base_uri": "https://localhost:8080/",
          "height": 69
        },
        "id": "01boOYCVKUVw",
        "outputId": "6d98261c-3b36-4dea-8c71-d6e7f8e08242"
      },
      "source": [
        "# K meansfrom sklearn.cluster import KMeans\n",
        "from sklearn.metrics import silhouette_score \n",
        "from sklearn.metrics import calinski_harabasz_score\n",
        "from sklearn.metrics import davies_bouldin_score\n",
        "# Fit K-Means\n",
        "kmeans_1 = KMeans(n_clusters=3,random_state= 42, max_iter=5000)\n",
        "# Use fit_predict to cluster the dataset\n",
        "predictions = kmeans_1.fit_predict(cluster_df)\n",
        "# Calculate cluster validation metrics\n",
        "\"\"\"score_kemans_s = silhouette_score(principalDf, kmeans_1.labels_, metric='euclidean')\n",
        "score_kemans_c = calinski_harabasz_score(principalDf, kmeans_1.labels_)\n",
        "score_kemans_d = davies_bouldin_score(principalDf, predictions)\n",
        "print('Silhouette Score: %.4f' % score_kemans_s)\n",
        "print('Calinski Harabasz Score: %.4f' % score_kemans_c)\n",
        "print('Davies Bouldin Score: %.4f' % score_kemans_d)\"\"\""
      ],
      "execution_count": 183,
      "outputs": [
        {
          "output_type": "execute_result",
          "data": {
            "application/vnd.google.colaboratory.intrinsic+json": {
              "type": "string"
            },
            "text/plain": [
              "\"score_kemans_s = silhouette_score(principalDf, kmeans_1.labels_, metric='euclidean')\\nscore_kemans_c = calinski_harabasz_score(principalDf, kmeans_1.labels_)\\nscore_kemans_d = davies_bouldin_score(principalDf, predictions)\\nprint('Silhouette Score: %.4f' % score_kemans_s)\\nprint('Calinski Harabasz Score: %.4f' % score_kemans_c)\\nprint('Davies Bouldin Score: %.4f' % score_kemans_d)\""
            ]
          },
          "metadata": {
            "tags": []
          },
          "execution_count": 183
        }
      ]
    },
    {
      "cell_type": "code",
      "metadata": {
        "id": "YxtsOVfYZf6u",
        "outputId": "f1d5fe0b-8bca-4c81-e1b5-a0b1581b3cf0",
        "colab": {
          "base_uri": "https://localhost:8080/",
          "height": 428
        }
      },
      "source": [
        "model = KMeans(3, max_iter=5000)\n",
        "plt.figure(figsize=(8,5))\n",
        "ax = visualizer = InterclusterDistance(model, max_size=18000, min_size=18000, legend_size=1.5, embedding='mds' )\n",
        "plt.title('0 - Anxiety, 1 - Depression, 2 - Anxiety and Depression',  x=2, y=2.5, fontweight='bold')\n",
        "plt.xlabel('First Principal Component', x=2, y=4.5, labelpad=35, fontweight='bold')\n",
        "plt.ylabel('Second Principal Component', x=4, y=1.25, labelpad=45, fontweight='bold')\n",
        "ax.fit(cluster_df)      "
      ],
      "execution_count": 246,
      "outputs": [
        {
          "output_type": "execute_result",
          "data": {
            "text/plain": [
              "InterclusterDistance(ax=<matplotlib.axes._subplots.AxesSubplot object at 0x7efe844bda10>,\n",
              "                     embedding='mds', legend=True, legend_loc='lower left',\n",
              "                     legend_size=1.5, max_size=18000, min_size=18000,\n",
              "                     model=None, random_state=None, scoring='membership')"
            ]
          },
          "metadata": {
            "tags": []
          },
          "execution_count": 246
        },
        {
          "output_type": "display_data",
          "data": {
            "image/png": "[encoded data removed]",
            "text/plain": [
              "<Figure size 576x360 with 2 Axes>"
            ]
          },
          "metadata": {
            "tags": []
          }
        }
      ]
    },
    {
      "cell_type": "code",
      "metadata": {
        "colab": {
          "base_uri": "https://localhost:8080/",
          "height": 406
        },
        "id": "Jd2DUVl6KvuQ",
        "outputId": "dac67994-5c6f-4948-d6cc-80c6dac95cb8"
      },
      "source": [
        "model = KMeans(3, max_iter=5000)\n",
        "plt.figure(figsize=(8,5))\n",
        "ax = visualizer = InterclusterDistance(model, max_size=18000, min_size=18000, legend_size=1.5, embedding='mds' )\n",
        "plt.title('0 - Anxiety, 1 - Depression, 2 - Anxiety and Depression',  x=2, y=2.5, fontweight='bold')\n",
        "plt.xlabel('Distance')\n",
        "ax.fit(principalDf)      "
      ],
      "execution_count": 224,
      "outputs": [
        {
          "output_type": "execute_result",
          "data": {
            "text/plain": [
              "InterclusterDistance(ax=<matplotlib.axes._subplots.AxesSubplot object at 0x7efe8537a7d0>,\n",
              "                     embedding='mds', legend=True, legend_loc='lower left',\n",
              "                     legend_size=1.5, max_size=18000, min_size=18000,\n",
              "                     model=None, random_state=None, scoring='membership')"
            ]
          },
          "metadata": {
            "tags": []
          },
          "execution_count": 224
        },
        {
          "output_type": "display_data",
          "data": {
            "image/png": "[encoded data removed]",
            "text/plain": [
              "<Figure size 576x360 with 2 Axes>"
            ]
          },
          "metadata": {
            "tags": []
          }
        }
      ]
    },
    {
      "cell_type": "code",
      "metadata": {
        "id": "HB74Noex9yZe",
        "outputId": "af801f3f-1c8c-4c22-af0a-cc04196ae166",
        "colab": {
          "base_uri": "https://localhost:8080/",
          "height": 555
        }
      },
      "source": [
        "cluster_df['indicator'] = cluster_df['indicator'] + 1\n",
        "cluster_df['predictions'] = kmeans_1.labels_\n",
        "cluster_df['predictions'] = cluster_df['predictions'] + 1"
      ],
      "execution_count": 111,
      "outputs": [
        {
          "output_type": "error",
          "ename": "KeyError",
          "evalue": "ignored",
          "traceback": [
            "\u001b[0;31m---------------------------------------------------------------------------\u001b[0m",
            "\u001b[0;31mKeyError\u001b[0m                                  Traceback (most recent call last)",
            "\u001b[0;32m/usr/local/lib/python3.7/dist-packages/pandas/core/indexes/base.py\u001b[0m in \u001b[0;36mget_loc\u001b[0;34m(self, key, method, tolerance)\u001b[0m\n\u001b[1;32m   2897\u001b[0m             \u001b[0;32mtry\u001b[0m\u001b[0;34m:\u001b[0m\u001b[0;34m\u001b[0m\u001b[0;34m\u001b[0m\u001b[0m\n\u001b[0;32m-> 2898\u001b[0;31m                 \u001b[0;32mreturn\u001b[0m \u001b[0mself\u001b[0m\u001b[0;34m.\u001b[0m\u001b[0m_engine\u001b[0m\u001b[0;34m.\u001b[0m\u001b[0mget_loc\u001b[0m\u001b[0;34m(\u001b[0m\u001b[0mcasted_key\u001b[0m\u001b[0;34m)\u001b[0m\u001b[0;34m\u001b[0m\u001b[0;34m\u001b[0m\u001b[0m\n\u001b[0m\u001b[1;32m   2899\u001b[0m             \u001b[0;32mexcept\u001b[0m \u001b[0mKeyError\u001b[0m \u001b[0;32mas\u001b[0m \u001b[0merr\u001b[0m\u001b[0;34m:\u001b[0m\u001b[0;34m\u001b[0m\u001b[0;34m\u001b[0m\u001b[0m\n",
            "\u001b[0;32mpandas/_libs/index.pyx\u001b[0m in \u001b[0;36mpandas._libs.index.IndexEngine.get_loc\u001b[0;34m()\u001b[0m\n",
            "\u001b[0;32mpandas/_libs/index.pyx\u001b[0m in \u001b[0;36mpandas._libs.index.IndexEngine.get_loc\u001b[0;34m()\u001b[0m\n",
            "\u001b[0;32mpandas/_libs/hashtable_class_helper.pxi\u001b[0m in \u001b[0;36mpandas._libs.hashtable.PyObjectHashTable.get_item\u001b[0;34m()\u001b[0m\n",
            "\u001b[0;32mpandas/_libs/hashtable_class_helper.pxi\u001b[0m in \u001b[0;36mpandas._libs.hashtable.PyObjectHashTable.get_item\u001b[0;34m()\u001b[0m\n",
            "\u001b[0;31mKeyError\u001b[0m: 'indicator'",
            "\nThe above exception was the direct cause of the following exception:\n",
            "\u001b[0;31mKeyError\u001b[0m                                  Traceback (most recent call last)",
            "\u001b[0;32m<ipython-input-111-214adc10a656>\u001b[0m in \u001b[0;36m<module>\u001b[0;34m()\u001b[0m\n\u001b[0;32m----> 1\u001b[0;31m \u001b[0mcluster_df\u001b[0m\u001b[0;34m[\u001b[0m\u001b[0;34m'indicator'\u001b[0m\u001b[0;34m]\u001b[0m \u001b[0;34m=\u001b[0m \u001b[0mcluster_df\u001b[0m\u001b[0;34m[\u001b[0m\u001b[0;34m'indicator'\u001b[0m\u001b[0;34m]\u001b[0m \u001b[0;34m+\u001b[0m \u001b[0;36m1\u001b[0m\u001b[0;34m\u001b[0m\u001b[0;34m\u001b[0m\u001b[0m\n\u001b[0m\u001b[1;32m      2\u001b[0m \u001b[0mcluster_df\u001b[0m\u001b[0;34m[\u001b[0m\u001b[0;34m'predictions'\u001b[0m\u001b[0;34m]\u001b[0m \u001b[0;34m=\u001b[0m \u001b[0mkmeans_1\u001b[0m\u001b[0;34m.\u001b[0m\u001b[0mlabels_\u001b[0m\u001b[0;34m\u001b[0m\u001b[0;34m\u001b[0m\u001b[0m\n\u001b[1;32m      3\u001b[0m \u001b[0mcluster_df\u001b[0m\u001b[0;34m[\u001b[0m\u001b[0;34m'predictions'\u001b[0m\u001b[0;34m]\u001b[0m \u001b[0;34m=\u001b[0m \u001b[0mcluster_df\u001b[0m\u001b[0;34m[\u001b[0m\u001b[0;34m'predictions'\u001b[0m\u001b[0;34m]\u001b[0m \u001b[0;34m+\u001b[0m \u001b[0;36m1\u001b[0m\u001b[0;34m\u001b[0m\u001b[0;34m\u001b[0m\u001b[0m\n",
            "\u001b[0;32m/usr/local/lib/python3.7/dist-packages/pandas/core/frame.py\u001b[0m in \u001b[0;36m__getitem__\u001b[0;34m(self, key)\u001b[0m\n\u001b[1;32m   2904\u001b[0m             \u001b[0;32mif\u001b[0m \u001b[0mself\u001b[0m\u001b[0;34m.\u001b[0m\u001b[0mcolumns\u001b[0m\u001b[0;34m.\u001b[0m\u001b[0mnlevels\u001b[0m \u001b[0;34m>\u001b[0m \u001b[0;36m1\u001b[0m\u001b[0;34m:\u001b[0m\u001b[0;34m\u001b[0m\u001b[0;34m\u001b[0m\u001b[0m\n\u001b[1;32m   2905\u001b[0m                 \u001b[0;32mreturn\u001b[0m \u001b[0mself\u001b[0m\u001b[0;34m.\u001b[0m\u001b[0m_getitem_multilevel\u001b[0m\u001b[0;34m(\u001b[0m\u001b[0mkey\u001b[0m\u001b[0;34m)\u001b[0m\u001b[0;34m\u001b[0m\u001b[0;34m\u001b[0m\u001b[0m\n\u001b[0;32m-> 2906\u001b[0;31m             \u001b[0mindexer\u001b[0m \u001b[0;34m=\u001b[0m \u001b[0mself\u001b[0m\u001b[0;34m.\u001b[0m\u001b[0mcolumns\u001b[0m\u001b[0;34m.\u001b[0m\u001b[0mget_loc\u001b[0m\u001b[0;34m(\u001b[0m\u001b[0mkey\u001b[0m\u001b[0;34m)\u001b[0m\u001b[0;34m\u001b[0m\u001b[0;34m\u001b[0m\u001b[0m\n\u001b[0m\u001b[1;32m   2907\u001b[0m             \u001b[0;32mif\u001b[0m \u001b[0mis_integer\u001b[0m\u001b[0;34m(\u001b[0m\u001b[0mindexer\u001b[0m\u001b[0;34m)\u001b[0m\u001b[0;34m:\u001b[0m\u001b[0;34m\u001b[0m\u001b[0;34m\u001b[0m\u001b[0m\n\u001b[1;32m   2908\u001b[0m                 \u001b[0mindexer\u001b[0m \u001b[0;34m=\u001b[0m \u001b[0;34m[\u001b[0m\u001b[0mindexer\u001b[0m\u001b[0;34m]\u001b[0m\u001b[0;34m\u001b[0m\u001b[0;34m\u001b[0m\u001b[0m\n",
            "\u001b[0;32m/usr/local/lib/python3.7/dist-packages/pandas/core/indexes/base.py\u001b[0m in \u001b[0;36mget_loc\u001b[0;34m(self, key, method, tolerance)\u001b[0m\n\u001b[1;32m   2898\u001b[0m                 \u001b[0;32mreturn\u001b[0m \u001b[0mself\u001b[0m\u001b[0;34m.\u001b[0m\u001b[0m_engine\u001b[0m\u001b[0;34m.\u001b[0m\u001b[0mget_loc\u001b[0m\u001b[0;34m(\u001b[0m\u001b[0mcasted_key\u001b[0m\u001b[0;34m)\u001b[0m\u001b[0;34m\u001b[0m\u001b[0;34m\u001b[0m\u001b[0m\n\u001b[1;32m   2899\u001b[0m             \u001b[0;32mexcept\u001b[0m \u001b[0mKeyError\u001b[0m \u001b[0;32mas\u001b[0m \u001b[0merr\u001b[0m\u001b[0;34m:\u001b[0m\u001b[0;34m\u001b[0m\u001b[0;34m\u001b[0m\u001b[0m\n\u001b[0;32m-> 2900\u001b[0;31m                 \u001b[0;32mraise\u001b[0m \u001b[0mKeyError\u001b[0m\u001b[0;34m(\u001b[0m\u001b[0mkey\u001b[0m\u001b[0;34m)\u001b[0m \u001b[0;32mfrom\u001b[0m \u001b[0merr\u001b[0m\u001b[0;34m\u001b[0m\u001b[0;34m\u001b[0m\u001b[0m\n\u001b[0m\u001b[1;32m   2901\u001b[0m \u001b[0;34m\u001b[0m\u001b[0m\n\u001b[1;32m   2902\u001b[0m         \u001b[0;32mif\u001b[0m \u001b[0mtolerance\u001b[0m \u001b[0;32mis\u001b[0m \u001b[0;32mnot\u001b[0m \u001b[0;32mNone\u001b[0m\u001b[0;34m:\u001b[0m\u001b[0;34m\u001b[0m\u001b[0;34m\u001b[0m\u001b[0m\n",
            "\u001b[0;31mKeyError\u001b[0m: 'indicator'"
          ]
        }
      ]
    },
    {
      "cell_type": "code",
      "metadata": {
        "colab": {
          "base_uri": "https://localhost:8080/"
        },
        "id": "1SZ5R7ge9xP_",
        "outputId": "6225d07c-0e68-4364-c922-90228a742d22"
      },
      "source": [
        "import math\n",
        "def get_entropys(df_clustered, label_col_name='indicator', cluster_col_name='cluster', cluster_values=range(1,2,1)):\n",
        "    p = [[round(df_clustered[(df_clustered[label_col_name]==label) & (df_clustered[cluster_col_name]==cluster)].shape[0]/\n",
        "                df_clustered[df_clustered[cluster_col_name]==cluster].shape[0],3) for label in cluster_values] for cluster in cluster_values]\n",
        "    p_log_p = [[p_i*math.log(p_i) for p_i in p_i_s if p_i!=0] for p_i_s in p]\n",
        "    e = [-round(sum(p_log_p_i),3) for p_log_p_i in p_log_p]\n",
        "    return e\n",
        "  \n",
        "entropys_5 = get_entropys(cluster_df, label_col_name='indicator', cluster_col_name='predictions', cluster_values=range(1,2,1))\n",
        "print(\"Clusters' Entropy\")\n",
        "print(\"Entropy: {0:.3f}\".format(min(entropys_5)))"
      ],
      "execution_count": null,
      "outputs": [
        {
          "output_type": "stream",
          "text": [
            "Clusters' Entropy\n",
            "Entropy: 0.366\n"
          ],
          "name": "stdout"
        }
      ]
    },
    {
      "cell_type": "code",
      "metadata": {
        "colab": {
          "base_uri": "https://localhost:8080/"
        },
        "id": "LEqZ2Fn2BOF5",
        "outputId": "294679b2-1fd8-407c-864d-c4b765744df9"
      },
      "source": [
        "import numpy as np\n",
        "from sklearn import metrics\n",
        "\n",
        "def purity_score(y_true, y_pred):\n",
        "    # compute contingency matrix (also called confusion matrix)\n",
        "    contingency_matrix = metrics.cluster.contingency_matrix(y_true, y_pred)\n",
        "    # return purity\n",
        "    return np.sum(np.amax(contingency_matrix, axis=0)) / np.sum(contingency_matrix) \n",
        "\n",
        "purity = purity_score(cluster_df['indicator'], cluster_df['predictions'])\n",
        "print(\"The purity is:\",purity)"
      ],
      "execution_count": null,
      "outputs": [
        {
          "output_type": "stream",
          "text": [
            "The purity is: 0.3333333333333333\n"
          ],
          "name": "stdout"
        }
      ]
    },
    {
      "cell_type": "code",
      "metadata": {
        "colab": {
          "base_uri": "https://localhost:8080/"
        },
        "id": "ZmE6WnjcBTZy",
        "outputId": "ea7db339-a31b-43a7-a2de-409b5e8ff777"
      },
      "source": [
        "from sklearn.metrics.cluster import v_measure_score\n",
        "v_measure = v_measure_score(cluster_df['indicator'], cluster_df['predictions'])\n",
        "print(\"The v_measure is:\",v_measure)"
      ],
      "execution_count": null,
      "outputs": [
        {
          "output_type": "stream",
          "text": [
            "The v_measure is: 6.5115549007705745e-16\n"
          ],
          "name": "stdout"
        }
      ]
    },
    {
      "cell_type": "code",
      "metadata": {
        "colab": {
          "base_uri": "https://localhost:8080/"
        },
        "id": "W4_JoorgBXuB",
        "outputId": "d78cde36-b859-40d8-81e2-38aff071eec0"
      },
      "source": [
        "from sklearn.metrics.cluster import adjusted_rand_score\n",
        "randScore = adjusted_rand_score(cluster_df['indicator'], cluster_df['predictions'])\n",
        "print(\"The rand_score is:\",randScore)"
      ],
      "execution_count": null,
      "outputs": [
        {
          "output_type": "stream",
          "text": [
            "The rand_score is: -4.5914114374477704e-05\n"
          ],
          "name": "stdout"
        }
      ]
    },
    {
      "cell_type": "code",
      "metadata": {
        "colab": {
          "base_uri": "https://localhost:8080/"
        },
        "id": "0Uxz9_giLbFM",
        "outputId": "cbebb0ed-4b14-4257-bae0-ad76815696ea"
      },
      "source": [
        "# Agglomerative clustering\n",
        "from numpy import unique\n",
        "from numpy import where\n",
        "from sklearn.cluster import AgglomerativeClustering\n",
        "from matplotlib import pyplot# define the model\n",
        "model = AgglomerativeClustering(n_clusters=3)\n",
        "# fit model and predict clusters\n",
        "yhat = model.fit(cluster_df)\n",
        "yhat_2 = model.fit_predict(cluster_df)\n",
        "# retrieve unique clusters\n",
        "clusters = unique(yhat)\n",
        "# Calculate cluster validation metrics\n",
        "score_AGclustering_s = silhouette_score(cluster_df, yhat.labels_, metric='euclidean')\n",
        "score_AGclustering_c = calinski_harabasz_score(cluster_df, yhat.labels_)\n",
        "score_AGclustering_d = davies_bouldin_score(cluster_df, yhat_2)\n",
        "print('Silhouette Score: %.4f' % score_AGclustering_s)\n",
        "print('Calinski Harabasz Score: %.4f' % score_AGclustering_c)\n",
        "print('Davies Bouldin Score: %.4f' % score_AGclustering_d)"
      ],
      "execution_count": null,
      "outputs": [
        {
          "output_type": "stream",
          "text": [
            "Silhouette Score: 0.5122\n",
            "Calinski Harabasz Score: 75051.6513\n",
            "Davies Bouldin Score: 0.6389\n"
          ],
          "name": "stdout"
        }
      ]
    },
    {
      "cell_type": "code",
      "metadata": {
        "id": "uZkqK-Ey-hYe"
      },
      "source": [
        "cluster_df['predictions'] = yhat.labels_\n",
        "cluster_df['predictions'] = cluster_df['predictions'] + 1"
      ],
      "execution_count": null,
      "outputs": []
    },
    {
      "cell_type": "code",
      "metadata": {
        "colab": {
          "base_uri": "https://localhost:8080/"
        },
        "id": "1y5EOqHd-nVz",
        "outputId": "20a224ef-5b38-47ae-b1c7-7fc7af7eb842"
      },
      "source": [
        "import math\n",
        "def get_entropys(df_clustered, label_col_name='indicator', cluster_col_name='cluster', cluster_values=range(1,3,1)):\n",
        "    p = [[round(df_clustered[(df_clustered[label_col_name]==label) & (df_clustered[cluster_col_name]==cluster)].shape[0]/\n",
        "                df_clustered[df_clustered[cluster_col_name]==cluster].shape[0],3) for label in cluster_values] for cluster in cluster_values]\n",
        "    p_log_p = [[p_i*math.log(p_i) for p_i in p_i_s if p_i!=0] for p_i_s in p]\n",
        "    e = [-round(sum(p_log_p_i),3) for p_log_p_i in p_log_p]\n",
        "    return e\n",
        "  \n",
        "entropys_5 = get_entropys(cluster_df, label_col_name='indicator', cluster_col_name='predictions', cluster_values=range(2,5,6))\n",
        "print(\"Clusters' Entropy\")\n",
        "print(\"Entropy: {0:.3f}\".format(min(entropys_5)))"
      ],
      "execution_count": null,
      "outputs": [
        {
          "output_type": "stream",
          "text": [
            "Clusters' Entropy\n",
            "Entropy: 0.366\n"
          ],
          "name": "stdout"
        }
      ]
    },
    {
      "cell_type": "code",
      "metadata": {
        "colab": {
          "base_uri": "https://localhost:8080/"
        },
        "id": "WptqdUmcBpS_",
        "outputId": "4d048ad9-8c60-428d-f2aa-2322c811faea"
      },
      "source": [
        "import numpy as np\n",
        "from sklearn import metrics\n",
        "\n",
        "def purity_score(y_true, y_pred):\n",
        "    # compute contingency matrix (also called confusion matrix)\n",
        "    contingency_matrix = metrics.cluster.contingency_matrix(y_true, y_pred)\n",
        "    # return purity\n",
        "    return np.sum(np.amax(contingency_matrix, axis=0)) / np.sum(contingency_matrix) \n",
        "\n",
        "purity = purity_score(cluster_df['indicator'], cluster_df['predictions'])\n",
        "print(\"The purity is:\",purity)\n",
        "\n",
        "from sklearn.metrics.cluster import v_measure_score\n",
        "v_measure = v_measure_score(cluster_df['indicator'], cluster_df['predictions'])\n",
        "print(\"The v_measure is:\",v_measure)\n",
        "\n",
        "from sklearn.metrics.cluster import adjusted_rand_score\n",
        "randScore = adjusted_rand_score(cluster_df['indicator'], cluster_df['predictions'])\n",
        "print(\"The rand_score is:\",randScore)"
      ],
      "execution_count": null,
      "outputs": [
        {
          "output_type": "stream",
          "text": [
            "The purity is: 0.3333333333333333\n",
            "The v_measure is: 0.0\n",
            "The rand_score is: -4.561462528729797e-05\n"
          ],
          "name": "stdout"
        }
      ]
    },
    {
      "cell_type": "code",
      "metadata": {
        "colab": {
          "base_uri": "https://localhost:8080/",
          "height": 440
        },
        "id": "Ow849oM0MLCa",
        "outputId": "ce2c6420-0bda-4e95-c606-c9a2098e1995"
      },
      "source": [
        "from sklearn.neighbors import NearestNeighbors\n",
        "nearest_neighbors = NearestNeighbors(n_neighbors=11)\n",
        "neighbors = nearest_neighbors.fit(cluster_df)\n",
        "distances, indices = neighbors.kneighbors(cluster_df)\n",
        "distances = np.sort(distances[:,10], axis=0)\n",
        "!pip install -q kneed\n",
        "from kneed import KneeLocator\n",
        "i = np.arange(len(distances))\n",
        "knee = KneeLocator(i, distances, S=1, curve='convex', direction='increasing', interp_method='polynomial')\n",
        "fig = plt.figure(figsize=(5, 5))\n",
        "knee.plot_knee()\n",
        "plt.xlabel(\"Points\")\n",
        "plt.ylabel(\"Distance\")\n",
        "print(distances[knee.knee])"
      ],
      "execution_count": null,
      "outputs": [
        {
          "output_type": "stream",
          "text": [
            "7.46726188103779\n"
          ],
          "name": "stdout"
        },
        {
          "output_type": "display_data",
          "data": {
            "text/plain": [
              "<Figure size 360x360 with 0 Axes>"
            ]
          },
          "metadata": {
            "tags": []
          }
        },
        {
          "output_type": "display_data",
          "data": {
            "image/png": "[encoded data removed]",
            "text/plain": [
              "<Figure size 432x432 with 1 Axes>"
            ]
          },
          "metadata": {
            "tags": []
          }
        }
      ]
    },
    {
      "cell_type": "code",
      "metadata": {
        "colab": {
          "base_uri": "https://localhost:8080/",
          "height": 394
        },
        "id": "9SbD_bub3rhm",
        "outputId": "493bb7f5-26b2-4703-c4ff-e06bc7f525ad"
      },
      "source": [
        "from sklearn.metrics import silhouette_score \n",
        "from sklearn.cluster import DBSCAN\n",
        "\n",
        "def get_dbscan_score(data, center):\n",
        "    '''\n",
        "    \n",
        "    INPUT:\n",
        "        data - the dataset you want to fit kmeans to\n",
        "        center - the number of centers you want (the k value)\n",
        "    OUTPUT:\n",
        "        score - the Silhouette Score for DBSCAN\n",
        "    '''\n",
        "    #instantiate kmeans\n",
        "    dbscan = DBSCAN(eps= 7.46726188103779, min_samples=center)\n",
        "\n",
        "    # Then fit the model to your data using the fit method\n",
        "    model = dbscan.fit(cluster_df)\n",
        "    \n",
        "    # Calculate Silhoutte Score\n",
        "\n",
        "    score = silhouette_score(cluster_df, model.labels_, metric='euclidean')\n",
        "    \n",
        "    return score\n",
        "\n",
        "scores = []\n",
        "centers = list(range(2,30))\n",
        "\n",
        "for center in centers:\n",
        "    scores.append(get_dbscan_score(cluster_df, center))\n",
        "    \n",
        "plt.plot(centers, scores, linestyle='--', marker='o', color='b');\n",
        "plt.xlabel('min_samples');\n",
        "plt.ylabel('Silhouette Score');\n",
        "plt.title('Silhouette Score vs. min_samples');\n",
        "\n",
        "df3 = pd.DataFrame(centers,columns=['min_samples'])\n",
        "df3['scores'] = scores\n",
        "df4 = df3[df3.scores == df3.scores.max()]\n",
        "print('Optimal number of min_samples based on silhouette score:', df4['min_samples'].tolist())"
      ],
      "execution_count": null,
      "outputs": [
        {
          "output_type": "stream",
          "text": [
            "Optimal number of min_samples based on silhouette score: [2, 3, 4, 5, 6, 7]\n"
          ],
          "name": "stdout"
        },
        {
          "output_type": "display_data",
          "data": {
            "image/png": "[encoded data removed]",
            "text/plain": [
              "<Figure size 576x396 with 1 Axes>"
            ]
          },
          "metadata": {
            "tags": []
          }
        }
      ]
    },
    {
      "cell_type": "code",
      "metadata": {
        "colab": {
          "base_uri": "https://localhost:8080/"
        },
        "id": "y9AjPqG3yDMc",
        "outputId": "4d590cad-8b3e-41e6-f83c-a2946fa07bed"
      },
      "source": [
        "from numpy import unique\n",
        "from numpy import where\n",
        "from sklearn.cluster import DBSCAN\n",
        "from matplotlib import pyplot\n",
        "# define dataset\n",
        "# define the model\n",
        "model = DBSCAN(eps=7.46726188103779, min_samples= 7)\n",
        "# rule of thumb for min_samples: 2*len(cluster_df.columns)\n",
        "# fit model and predict clusters\n",
        "yhat = model.fit_predict(cluster_df)\n",
        "# retrieve unique clusters\n",
        "clusters = unique(yhat)\n",
        "# Calculate cluster validation metrics\n",
        "score_dbsacn_s = silhouette_score(cluster_df, yhat, metric='euclidean')\n",
        "score_dbsacn_c = calinski_harabasz_score(cluster_df, yhat)\n",
        "score_dbsacn_d = davies_bouldin_score(cluster_df, yhat)\n",
        "print('Silhouette Score: %.4f' % score_dbsacn_s)\n",
        "print('Calinski Harabasz Score: %.4f' % score_dbsacn_c)\n",
        "print('Davies Bouldin Score: %.4f' % score_dbsacn_d)"
      ],
      "execution_count": null,
      "outputs": [
        {
          "output_type": "stream",
          "text": [
            "Silhouette Score: 0.5914\n",
            "Calinski Harabasz Score: 5089798.8314\n",
            "Davies Bouldin Score: 0.3991\n"
          ],
          "name": "stdout"
        }
      ]
    },
    {
      "cell_type": "code",
      "metadata": {
        "id": "IRC9wugz_tRF"
      },
      "source": [
        "cluster_df['predictions'] = yhat\n",
        "cluster_df['predictions'] = cluster_df['predictions'] + 1"
      ],
      "execution_count": null,
      "outputs": []
    },
    {
      "cell_type": "code",
      "metadata": {
        "colab": {
          "base_uri": "https://localhost:8080/"
        },
        "id": "XnqCTeSx_v1K",
        "outputId": "03d52f44-610e-4f9b-9fc1-ec96c4c6e1ed"
      },
      "source": [
        "import math\n",
        "def get_entropys(df_clustered, label_col_name='indicator', cluster_col_name='cluster', cluster_values=range(1,3,1)):\n",
        "    p = [[round(df_clustered[(df_clustered[label_col_name]==label) & (df_clustered[cluster_col_name]==cluster)].shape[0]/\n",
        "                df_clustered[df_clustered[cluster_col_name]==cluster].shape[0],3) for label in cluster_values] for cluster in cluster_values]\n",
        "    p_log_p = [[p_i*math.log(p_i) for p_i in p_i_s if p_i!=0] for p_i_s in p]\n",
        "    e = [-round(sum(p_log_p_i),3) for p_log_p_i in p_log_p]\n",
        "    return e\n",
        "  \n",
        "entropys_5 = get_entropys(cluster_df, label_col_name='indicator', cluster_col_name='predictions', cluster_values=range(1,2,1))\n",
        "print(\"Clusters' Entropy\")\n",
        "print(\"Entropy: {0:.3f}\".format(min(entropys_5)))"
      ],
      "execution_count": null,
      "outputs": [
        {
          "output_type": "stream",
          "text": [
            "Clusters' Entropy\n",
            "Entropy: 0.366\n"
          ],
          "name": "stdout"
        }
      ]
    },
    {
      "cell_type": "code",
      "metadata": {
        "colab": {
          "base_uri": "https://localhost:8080/"
        },
        "id": "-c-WY5kwB3_5",
        "outputId": "48b9f65b-2764-45e1-f928-533b3a4eb4ab"
      },
      "source": [
        "import numpy as np\n",
        "from sklearn import metrics\n",
        "\n",
        "def purity_score(y_true, y_pred):\n",
        "    # compute contingency matrix (also called confusion matrix)\n",
        "    contingency_matrix = metrics.cluster.contingency_matrix(y_true, y_pred)\n",
        "    # return purity\n",
        "    return np.sum(np.amax(contingency_matrix, axis=0)) / np.sum(contingency_matrix) \n",
        "\n",
        "purity = purity_score(cluster_df['indicator'], cluster_df['predictions'])\n",
        "print(\"The purity is:\",purity)\n",
        "\n",
        "from sklearn.metrics.cluster import v_measure_score\n",
        "v_measure = v_measure_score(cluster_df['indicator'], cluster_df['predictions'])\n",
        "print(\"The v_measure is:\",v_measure)\n",
        "\n",
        "from sklearn.metrics.cluster import adjusted_rand_score\n",
        "randScore = adjusted_rand_score(cluster_df['indicator'], cluster_df['predictions'])\n",
        "print(\"The rand_score is:\",randScore)"
      ],
      "execution_count": null,
      "outputs": [
        {
          "output_type": "stream",
          "text": [
            "The purity is: 0.4749608763693271\n",
            "The v_measure is: 0.06593864475455123\n",
            "The rand_score is: 0.00018257029320141463\n"
          ],
          "name": "stdout"
        }
      ]
    },
    {
      "cell_type": "code",
      "metadata": {
        "colab": {
          "base_uri": "https://localhost:8080/",
          "height": 81
        },
        "id": "x_3j5ZJJ7yCo",
        "outputId": "19224b33-7df2-43dc-964c-6a79280c09d5"
      },
      "source": [
        "from sklearn.mixture import GaussianMixture\n",
        "n_components = range(1, 30)\n",
        "covariance_type = ['spherical', 'tied', 'diag', 'full']\n",
        "score=[]\n",
        "for cov in covariance_type:\n",
        "    for n_comp in n_components:\n",
        "        gmm=GaussianMixture(n_components=n_comp,covariance_type=cov, random_state = 10)\n",
        "        gmm.fit(cluster_df)\n",
        "        score.append((cov,n_comp,gmm.bic(cluster_df)))\n",
        "score_1 = pd.DataFrame(score)\n",
        "score_1.columns = ['Covariance_Type', 'N_Components','BIC_Score']\n",
        "score_2 = score_1[score_1.BIC_Score == score_1.BIC_Score.min()]\n",
        "\n",
        "score_2.head(n=2)"
      ],
      "execution_count": null,
      "outputs": [
        {
          "output_type": "execute_result",
          "data": {
            "text/html": [
              "<div>\n",
              "<style scoped>\n",
              "    .dataframe tbody tr th:only-of-type {\n",
              "        vertical-align: middle;\n",
              "    }\n",
              "\n",
              "    .dataframe tbody tr th {\n",
              "        vertical-align: top;\n",
              "    }\n",
              "\n",
              "    .dataframe thead th {\n",
              "        text-align: right;\n",
              "    }\n",
              "</style>\n",
              "<table border=\"1\" class=\"dataframe\">\n",
              "  <thead>\n",
              "    <tr style=\"text-align: right;\">\n",
              "      <th></th>\n",
              "      <th>Covariance_Type</th>\n",
              "      <th>N_Components</th>\n",
              "      <th>BIC_Score</th>\n",
              "    </tr>\n",
              "  </thead>\n",
              "  <tbody>\n",
              "    <tr>\n",
              "      <th>115</th>\n",
              "      <td>full</td>\n",
              "      <td>29</td>\n",
              "      <td>1.103509e+06</td>\n",
              "    </tr>\n",
              "  </tbody>\n",
              "</table>\n",
              "</div>"
            ],
            "text/plain": [
              "    Covariance_Type  N_Components     BIC_Score\n",
              "115            full            29  1.103509e+06"
            ]
          },
          "metadata": {
            "tags": []
          },
          "execution_count": 112
        }
      ]
    },
    {
      "cell_type": "code",
      "metadata": {
        "colab": {
          "base_uri": "https://localhost:8080/",
          "height": 81
        },
        "id": "I63TEAcu7z6V",
        "outputId": "1c692aee-2e4f-4275-e098-d85474bf0681"
      },
      "source": [
        "# Silhouette Score for GMM\n",
        "\n",
        "\n",
        "n_components = range(2, 30)\n",
        "covariance_type = ['spherical', 'tied', 'diag', 'full']\n",
        "score=[]\n",
        "for cov in covariance_type:\n",
        "    for n_comp in n_components:\n",
        "        gmm=GaussianMixture(n_components=n_comp,covariance_type=cov,random_state = 10)\n",
        "        model = gmm.fit(cluster_df)\n",
        "        model_2 = model.predict(cluster_df)\n",
        "        score_s = silhouette_score(cluster_df, model_2, metric='euclidean')\n",
        "        score.append((cov,n_comp,score_s))\n",
        "score_1 = pd.DataFrame(score)\n",
        "score_1.columns = ['Covariance_Type', 'N_Components','Silhouette_Score']\n",
        "score_2 = score_1[score_1.Silhouette_Score == score_1.Silhouette_Score.max()]\n",
        "score_2.head(n=2)"
      ],
      "execution_count": null,
      "outputs": [
        {
          "output_type": "execute_result",
          "data": {
            "text/html": [
              "<div>\n",
              "<style scoped>\n",
              "    .dataframe tbody tr th:only-of-type {\n",
              "        vertical-align: middle;\n",
              "    }\n",
              "\n",
              "    .dataframe tbody tr th {\n",
              "        vertical-align: top;\n",
              "    }\n",
              "\n",
              "    .dataframe thead th {\n",
              "        text-align: right;\n",
              "    }\n",
              "</style>\n",
              "<table border=\"1\" class=\"dataframe\">\n",
              "  <thead>\n",
              "    <tr style=\"text-align: right;\">\n",
              "      <th></th>\n",
              "      <th>Covariance_Type</th>\n",
              "      <th>N_Components</th>\n",
              "      <th>Silhouette_Score</th>\n",
              "    </tr>\n",
              "  </thead>\n",
              "  <tbody>\n",
              "    <tr>\n",
              "      <th>28</th>\n",
              "      <td>tied</td>\n",
              "      <td>2</td>\n",
              "      <td>0.730373</td>\n",
              "    </tr>\n",
              "  </tbody>\n",
              "</table>\n",
              "</div>"
            ],
            "text/plain": [
              "   Covariance_Type  N_Components  Silhouette_Score\n",
              "28            tied             2          0.730373"
            ]
          },
          "metadata": {
            "tags": []
          },
          "execution_count": 113
        }
      ]
    },
    {
      "cell_type": "code",
      "metadata": {
        "colab": {
          "base_uri": "https://localhost:8080/",
          "height": 81
        },
        "id": "6m7S6zbO75wt",
        "outputId": "ae23bd39-f1b5-4f91-c2b6-cc7a73712aa9"
      },
      "source": [
        "# Calinski Harabasz Score for GMM\n",
        "\n",
        "\n",
        "n_components = range(2, 30)\n",
        "covariance_type = ['spherical', 'tied', 'diag', 'full']\n",
        "score=[]\n",
        "for cov in covariance_type:\n",
        "    for n_comp in n_components:\n",
        "        gmm=GaussianMixture(n_components=n_comp,covariance_type=cov, random_state = 10)\n",
        "        model = gmm.fit(cluster_df)\n",
        "        model_2 = model.predict(cluster_df)\n",
        "        score_c = calinski_harabasz_score(cluster_df, model_2)\n",
        "        score.append((cov,n_comp,score_c))\n",
        "score_1 = pd.DataFrame(score)\n",
        "score_1.columns = ['Covariance_Type', 'N_Components','Calinski_Harabasz_Score']\n",
        "score_2 = score_1[score_1.Calinski_Harabasz_Score == score_1.Calinski_Harabasz_Score.max()]\n",
        "score_2.head(n=5)"
      ],
      "execution_count": null,
      "outputs": [
        {
          "output_type": "execute_result",
          "data": {
            "text/html": [
              "<div>\n",
              "<style scoped>\n",
              "    .dataframe tbody tr th:only-of-type {\n",
              "        vertical-align: middle;\n",
              "    }\n",
              "\n",
              "    .dataframe tbody tr th {\n",
              "        vertical-align: top;\n",
              "    }\n",
              "\n",
              "    .dataframe thead th {\n",
              "        text-align: right;\n",
              "    }\n",
              "</style>\n",
              "<table border=\"1\" class=\"dataframe\">\n",
              "  <thead>\n",
              "    <tr style=\"text-align: right;\">\n",
              "      <th></th>\n",
              "      <th>Covariance_Type</th>\n",
              "      <th>N_Components</th>\n",
              "      <th>Calinski_Harabasz_Score</th>\n",
              "    </tr>\n",
              "  </thead>\n",
              "  <tbody>\n",
              "    <tr>\n",
              "      <th>24</th>\n",
              "      <td>spherical</td>\n",
              "      <td>26</td>\n",
              "      <td>154774.72949</td>\n",
              "    </tr>\n",
              "  </tbody>\n",
              "</table>\n",
              "</div>"
            ],
            "text/plain": [
              "   Covariance_Type  N_Components  Calinski_Harabasz_Score\n",
              "24       spherical            26             154774.72949"
            ]
          },
          "metadata": {
            "tags": []
          },
          "execution_count": 114
        }
      ]
    },
    {
      "cell_type": "code",
      "metadata": {
        "colab": {
          "base_uri": "https://localhost:8080/"
        },
        "id": "eL9kP_km79RF",
        "outputId": "7f598319-86fb-4f05-f689-e7d818fa5548"
      },
      "source": [
        "# Davies Bouldin Score for GMM\n",
        "\n",
        "\n",
        "n_components = range(2, 30)\n",
        "covariance_type = ['spherical', 'tied', 'diag', 'full']\n",
        "score=[]\n",
        "for cov in covariance_type:\n",
        "    for n_comp in n_components:\n",
        "        gmm=GaussianMixture(n_components=n_comp,covariance_type=cov, random_state = 10)\n",
        "        model = gmm.fit(cluster_df)\n",
        "        model_2 = model.predict(cluster_df)\n",
        "        score_d = davies_bouldin_score(cluster_df, model_2)\n",
        "        score.append((cov,n_comp,score_d))\n",
        "score_1 = pd.DataFrame(score)\n",
        "score_1.columns = ['Covariance_Type', 'N_Components','Davies_Bouldin_Score']\n",
        "score_2 = score_1[score_1.Davies_Bouldin_Score == score_1.Davies_Bouldin_Score.max()]\n",
        "score_2.head(n=2)"
      ],
      "execution_count": null,
      "outputs": [
        {
          "output_type": "execute_result",
          "data": {
            "text/html": [
              "<div>\n",
              "<style scoped>\n",
              "    .dataframe tbody tr th:only-of-type {\n",
              "        vertical-align: middle;\n",
              "    }\n",
              "\n",
              "    .dataframe tbody tr th {\n",
              "        vertical-align: top;\n",
              "    }\n",
              "\n",
              "    .dataframe thead th {\n",
              "        text-align: right;\n",
              "    }\n",
              "</style>\n",
              "<table border=\"1\" class=\"dataframe\">\n",
              "  <thead>\n",
              "    <tr style=\"text-align: right;\">\n",
              "      <th></th>\n",
              "      <th>Covariance_Type</th>\n",
              "      <th>N_Components</th>\n",
              "      <th>Davies_Bouldin_Score</th>\n",
              "    </tr>\n",
              "  </thead>\n",
              "  <tbody>\n",
              "    <tr>\n",
              "      <th>35</th>\n",
              "      <td>tied</td>\n",
              "      <td>9</td>\n",
              "      <td>1.957264</td>\n",
              "    </tr>\n",
              "  </tbody>\n",
              "</table>\n",
              "</div>"
            ],
            "text/plain": [
              "   Covariance_Type  N_Components  Davies_Bouldin_Score\n",
              "35            tied             9              1.957264"
            ]
          },
          "metadata": {
            "tags": []
          },
          "execution_count": 115
        }
      ]
    },
    {
      "cell_type": "code",
      "metadata": {
        "colab": {
          "base_uri": "https://localhost:8080/"
        },
        "id": "On3aFBLi8APx",
        "outputId": "c54783cf-bcbe-4d18-86ab-5ce15a2ede4c"
      },
      "source": [
        "from numpy import unique\n",
        "from numpy import where\n",
        "from sklearn.datasets import make_classification\n",
        "from sklearn.mixture import GaussianMixture\n",
        "from matplotlib import pyplot\n",
        "# define the model\n",
        "model = GaussianMixture(n_components= 29,covariance_type= \"full\", random_state = 10)\n",
        "# fit the model\n",
        "model.fit(cluster_df)\n",
        "# assign a cluster to each example\n",
        "yhat = model.predict(cluster_df)\n",
        "# retrieve unique clusters\n",
        "clusters = unique(yhat)\n",
        "\n",
        "\n",
        "\n",
        "# Calculate cluster validation score\n",
        "\n",
        "score_dbsacn_s = silhouette_score(cluster_df, yhat, metric='euclidean')\n",
        "\n",
        "score_dbsacn_c = calinski_harabasz_score(cluster_df, yhat)\n",
        "\n",
        "score_dbsacn_d = davies_bouldin_score(cluster_df, yhat)\n",
        "\n",
        "\n",
        "\n",
        "print('Silhouette Score: %.4f' % score_dbsacn_s)\n",
        "print('Calinski Harabasz Score: %.4f' % score_dbsacn_c)\n",
        "print('Davies Bouldin Score: %.4f' % score_dbsacn_d)"
      ],
      "execution_count": null,
      "outputs": [
        {
          "output_type": "stream",
          "text": [
            "Silhouette Score: 0.4816\n",
            "Calinski Harabasz Score: 103893.3121\n",
            "Davies Bouldin Score: 0.7670\n"
          ],
          "name": "stdout"
        }
      ]
    },
    {
      "cell_type": "code",
      "metadata": {
        "id": "_v7aHpSr2IvM"
      },
      "source": [
        "cluster_df['predictions'] = yhat\n",
        "cluster_df['predictions'] = cluster_df['predictions'] + 1"
      ],
      "execution_count": null,
      "outputs": []
    },
    {
      "cell_type": "code",
      "metadata": {
        "colab": {
          "base_uri": "https://localhost:8080/"
        },
        "id": "i-3_-XtvAShw",
        "outputId": "f76f843d-690b-49e6-867a-bc81c255e0ce"
      },
      "source": [
        "import math\n",
        "def get_entropys(df_clustered, label_col_name='indicator', cluster_col_name='cluster', cluster_values=range(1,3,1)):\n",
        "    p = [[round(df_clustered[(df_clustered[label_col_name]==label) & (df_clustered[cluster_col_name]==cluster)].shape[0]/\n",
        "                df_clustered[df_clustered[cluster_col_name]==cluster].shape[0],3) for label in cluster_values] for cluster in cluster_values]\n",
        "    p_log_p = [[p_i*math.log(p_i) for p_i in p_i_s if p_i!=0] for p_i_s in p]\n",
        "    e = [-round(sum(p_log_p_i),3) for p_log_p_i in p_log_p]\n",
        "    return e\n",
        "  \n",
        "entropys_5 = get_entropys(cluster_df, label_col_name='indicator', cluster_col_name='predictions', cluster_values=range(1,3,1))\n",
        "print(\"Clusters' Entropy\")\n",
        "print(\"Entropy: {0:.3f}\".format(min(entropys_5)))"
      ],
      "execution_count": null,
      "outputs": [
        {
          "output_type": "stream",
          "text": [
            "Clusters' Entropy\n",
            "Entropy: 0.732\n"
          ],
          "name": "stdout"
        }
      ]
    },
    {
      "cell_type": "code",
      "metadata": {
        "colab": {
          "base_uri": "https://localhost:8080/"
        },
        "id": "f-bFL3lDATKg",
        "outputId": "9f218fbb-5b43-47bd-8ca3-0692e2972e86"
      },
      "source": [
        "import numpy as np\n",
        "from sklearn import metrics\n",
        "\n",
        "def purity_score(y_true, y_pred):\n",
        "    # compute contingency matrix (also called confusion matrix)\n",
        "    contingency_matrix = metrics.cluster.contingency_matrix(y_true, y_pred)\n",
        "    # return purity\n",
        "    return np.sum(np.amax(contingency_matrix, axis=0)) / np.sum(contingency_matrix) \n",
        "\n",
        "purity = purity_score(cluster_df['indicator'], cluster_df['predictions'])\n",
        "print(\"The purity is:\",purity)\n",
        "\n",
        "from sklearn.metrics.cluster import v_measure_score\n",
        "v_measure = v_measure_score(cluster_df['indicator'], cluster_df['predictions'])\n",
        "print(\"The v_measure is:\",v_measure)\n",
        "\n",
        "from sklearn.metrics.cluster import adjusted_rand_score\n",
        "randScore = adjusted_rand_score(cluster_df['indicator'], cluster_df['predictions'])\n",
        "print(\"The rand_score is:\",randScore)"
      ],
      "execution_count": null,
      "outputs": [
        {
          "output_type": "stream",
          "text": [
            "The purity is: 0.3337245696400626\n",
            "The v_measure is: 2.6094129762910626e-06\n",
            "The rand_score is: -9.793860639894828e-05\n"
          ],
          "name": "stdout"
        }
      ]
    }
  ]
}