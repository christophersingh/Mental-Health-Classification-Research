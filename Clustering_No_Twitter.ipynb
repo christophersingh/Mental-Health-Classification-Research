{
  "nbformat": 4,
  "nbformat_minor": 0,
  "metadata": {
    "kernelspec": {
      "display_name": "Python 3",
      "language": "python",
      "name": "python3"
    },
    "language_info": {
      "codemirror_mode": {
        "name": "ipython",
        "version": 3
      },
      "file_extension": ".py",
      "mimetype": "text/x-python",
      "name": "python",
      "nbconvert_exporter": "python",
      "pygments_lexer": "ipython3",
      "version": "3.8.3"
    },
    "colab": {
      "name": "Clustering No Twitter.ipynb",
      "provenance": [],
      "collapsed_sections": [],
      "include_colab_link": true
    },
    "accelerator": "GPU"
  },
  "cells": [
    {
      "cell_type": "markdown",
      "metadata": {
        "id": "view-in-github",
        "colab_type": "text"
      },
      "source": [
        "<a href=\"https://colab.research.google.com/github/christophersingh/Mental-Health-Classification-Research-/blob/main/Clustering_No_Twitter.ipynb\" target=\"_parent\"><img src=\"https://colab.research.google.com/assets/colab-badge.svg\" alt=\"Open In Colab\"/></a>"
      ]
    },
    {
      "cell_type": "code",
      "metadata": {
        "id": "KrhJmSD9tvnk"
      },
      "source": [
        "import pandas as pd\n",
        "import matplotlib.pyplot as plt\n",
        "plt.rcParams[\"figure.figsize\"] = (20,10)\n",
        "from sklearn import model_selection\n",
        "from sklearn.svm import SVC\n",
        "from sklearn.neighbors import KNeighborsClassifier\n",
        "from sklearn.tree import DecisionTreeClassifier\n",
        "from sklearn.naive_bayes import GaussianNB\n",
        "from sklearn.discriminant_analysis import LinearDiscriminantAnalysis\n",
        "from sklearn.linear_model import LogisticRegression\n",
        "import warnings\n",
        "warnings.filterwarnings(\"ignore\")"
      ],
      "execution_count": null,
      "outputs": []
    },
    {
      "cell_type": "code",
      "metadata": {
        "colab": {
          "base_uri": "https://localhost:8080/",
          "height": 1000
        },
        "id": "6ixI6sgLtvny",
        "outputId": "d200bb65-7680-479d-eb9b-844630c546aa"
      },
      "source": [
        "#read in the data\n",
        "ny = pd.read_csv('./new_york.csv')\n",
        "ny"
      ],
      "execution_count": null,
      "outputs": [
        {
          "output_type": "execute_result",
          "data": {
            "text/html": [
              "<div>\n",
              "<style scoped>\n",
              "    .dataframe tbody tr th:only-of-type {\n",
              "        vertical-align: middle;\n",
              "    }\n",
              "\n",
              "    .dataframe tbody tr th {\n",
              "        vertical-align: top;\n",
              "    }\n",
              "\n",
              "    .dataframe thead th {\n",
              "        text-align: right;\n",
              "    }\n",
              "</style>\n",
              "<table border=\"1\" class=\"dataframe\">\n",
              "  <thead>\n",
              "    <tr style=\"text-align: right;\">\n",
              "      <th></th>\n",
              "      <th>indicator</th>\n",
              "      <th>group</th>\n",
              "      <th>state</th>\n",
              "      <th>subgroup</th>\n",
              "      <th>phase</th>\n",
              "      <th>time_period</th>\n",
              "      <th>time_period_label</th>\n",
              "      <th>time_period_start_date</th>\n",
              "      <th>time_period_end_date</th>\n",
              "      <th>value</th>\n",
              "      <th>lowci</th>\n",
              "      <th>highci</th>\n",
              "      <th>confidence_interval</th>\n",
              "      <th>quartile_range</th>\n",
              "      <th>age</th>\n",
              "      <th>CASE_RATE</th>\n",
              "      <th>HOSPITALIZED_RATE</th>\n",
              "      <th>DEATH_RATE</th>\n",
              "      <th>date</th>\n",
              "      <th>CASE_COUNT</th>\n",
              "      <th>HOSPITALIZED_COUNT</th>\n",
              "      <th>DEATH_COUNT</th>\n",
              "      <th>counts</th>\n",
              "      <th>sentiment__negative</th>\n",
              "      <th>sentiment__positive</th>\n",
              "    </tr>\n",
              "  </thead>\n",
              "  <tbody>\n",
              "    <tr>\n",
              "      <th>0</th>\n",
              "      <td>Symptoms of Depressive Disorder</td>\n",
              "      <td>By State</td>\n",
              "      <td>New York</td>\n",
              "      <td>New York</td>\n",
              "      <td>1</td>\n",
              "      <td>1.0</td>\n",
              "      <td>Apr 23 - May 5</td>\n",
              "      <td>2020-04-23T00:00:00.000</td>\n",
              "      <td>2020-05-05T00:00:00.000</td>\n",
              "      <td>28.7</td>\n",
              "      <td>24.6</td>\n",
              "      <td>33.1</td>\n",
              "      <td>24.6 - 33.1</td>\n",
              "      <td>24.1 - 28.7</td>\n",
              "      <td>18 - 29 years</td>\n",
              "      <td>171.46</td>\n",
              "      <td>13.55</td>\n",
              "      <td>0.23</td>\n",
              "      <td>2020-04-23</td>\n",
              "      <td>90629.21686</td>\n",
              "      <td>19942.175032</td>\n",
              "      <td>6754.809134</td>\n",
              "      <td>295066.0</td>\n",
              "      <td>500.0</td>\n",
              "      <td>50.0</td>\n",
              "    </tr>\n",
              "    <tr>\n",
              "      <th>1</th>\n",
              "      <td>Symptoms of Depressive Disorder</td>\n",
              "      <td>By State</td>\n",
              "      <td>New York</td>\n",
              "      <td>New York</td>\n",
              "      <td>1</td>\n",
              "      <td>1.0</td>\n",
              "      <td>Apr 23 - May 5</td>\n",
              "      <td>2020-04-23T00:00:00.000</td>\n",
              "      <td>2020-05-05T00:00:00.000</td>\n",
              "      <td>28.7</td>\n",
              "      <td>24.6</td>\n",
              "      <td>33.1</td>\n",
              "      <td>24.6 - 33.1</td>\n",
              "      <td>24.1 - 28.7</td>\n",
              "      <td>18 - 29 years</td>\n",
              "      <td>1554.45</td>\n",
              "      <td>153.69</td>\n",
              "      <td>12.88</td>\n",
              "      <td>2020-04-23</td>\n",
              "      <td>90629.21686</td>\n",
              "      <td>19942.175032</td>\n",
              "      <td>6754.809134</td>\n",
              "      <td>295066.0</td>\n",
              "      <td>500.0</td>\n",
              "      <td>50.0</td>\n",
              "    </tr>\n",
              "    <tr>\n",
              "      <th>2</th>\n",
              "      <td>Symptoms of Depressive Disorder</td>\n",
              "      <td>By State</td>\n",
              "      <td>New York</td>\n",
              "      <td>New York</td>\n",
              "      <td>1</td>\n",
              "      <td>1.0</td>\n",
              "      <td>Apr 23 - May 5</td>\n",
              "      <td>2020-04-23T00:00:00.000</td>\n",
              "      <td>2020-05-05T00:00:00.000</td>\n",
              "      <td>28.7</td>\n",
              "      <td>24.6</td>\n",
              "      <td>33.1</td>\n",
              "      <td>24.6 - 33.1</td>\n",
              "      <td>24.1 - 28.7</td>\n",
              "      <td>18 - 29 years</td>\n",
              "      <td>2529.03</td>\n",
              "      <td>630.34</td>\n",
              "      <td>113.37</td>\n",
              "      <td>2020-04-23</td>\n",
              "      <td>90629.21686</td>\n",
              "      <td>19942.175032</td>\n",
              "      <td>6754.809134</td>\n",
              "      <td>295066.0</td>\n",
              "      <td>500.0</td>\n",
              "      <td>50.0</td>\n",
              "    </tr>\n",
              "    <tr>\n",
              "      <th>3</th>\n",
              "      <td>Symptoms of Depressive Disorder</td>\n",
              "      <td>By State</td>\n",
              "      <td>New York</td>\n",
              "      <td>New York</td>\n",
              "      <td>1</td>\n",
              "      <td>1.0</td>\n",
              "      <td>Apr 23 - May 5</td>\n",
              "      <td>2020-04-23T00:00:00.000</td>\n",
              "      <td>2020-05-05T00:00:00.000</td>\n",
              "      <td>28.7</td>\n",
              "      <td>24.6</td>\n",
              "      <td>33.1</td>\n",
              "      <td>24.6 - 33.1</td>\n",
              "      <td>24.1 - 28.7</td>\n",
              "      <td>18 - 29 years</td>\n",
              "      <td>2552.64</td>\n",
              "      <td>1192.50</td>\n",
              "      <td>364.17</td>\n",
              "      <td>2020-04-23</td>\n",
              "      <td>90629.21686</td>\n",
              "      <td>19942.175032</td>\n",
              "      <td>6754.809134</td>\n",
              "      <td>295066.0</td>\n",
              "      <td>500.0</td>\n",
              "      <td>50.0</td>\n",
              "    </tr>\n",
              "    <tr>\n",
              "      <th>4</th>\n",
              "      <td>Symptoms of Depressive Disorder</td>\n",
              "      <td>By State</td>\n",
              "      <td>New York</td>\n",
              "      <td>New York</td>\n",
              "      <td>1</td>\n",
              "      <td>1.0</td>\n",
              "      <td>Apr 23 - May 5</td>\n",
              "      <td>2020-04-23T00:00:00.000</td>\n",
              "      <td>2020-05-05T00:00:00.000</td>\n",
              "      <td>28.7</td>\n",
              "      <td>24.6</td>\n",
              "      <td>33.1</td>\n",
              "      <td>24.6 - 33.1</td>\n",
              "      <td>24.1 - 28.7</td>\n",
              "      <td>18 - 29 years</td>\n",
              "      <td>2976.74</td>\n",
              "      <td>1830.07</td>\n",
              "      <td>909.18</td>\n",
              "      <td>2020-04-23</td>\n",
              "      <td>90629.21686</td>\n",
              "      <td>19942.175032</td>\n",
              "      <td>6754.809134</td>\n",
              "      <td>295066.0</td>\n",
              "      <td>500.0</td>\n",
              "      <td>50.0</td>\n",
              "    </tr>\n",
              "    <tr>\n",
              "      <th>...</th>\n",
              "      <td>...</td>\n",
              "      <td>...</td>\n",
              "      <td>...</td>\n",
              "      <td>...</td>\n",
              "      <td>...</td>\n",
              "      <td>...</td>\n",
              "      <td>...</td>\n",
              "      <td>...</td>\n",
              "      <td>...</td>\n",
              "      <td>...</td>\n",
              "      <td>...</td>\n",
              "      <td>...</td>\n",
              "      <td>...</td>\n",
              "      <td>...</td>\n",
              "      <td>...</td>\n",
              "      <td>...</td>\n",
              "      <td>...</td>\n",
              "      <td>...</td>\n",
              "      <td>...</td>\n",
              "      <td>...</td>\n",
              "      <td>...</td>\n",
              "      <td>...</td>\n",
              "      <td>...</td>\n",
              "      <td>...</td>\n",
              "      <td>...</td>\n",
              "    </tr>\n",
              "    <tr>\n",
              "      <th>35779</th>\n",
              "      <td>Symptoms of Anxiety Disorder or Depressive Dis...</td>\n",
              "      <td>By State</td>\n",
              "      <td>New York</td>\n",
              "      <td>New York</td>\n",
              "      <td>3 (Jan 6 � Feb 1)</td>\n",
              "      <td>23.0</td>\n",
              "      <td>Jan 20 - Feb 1</td>\n",
              "      <td>2021-01-20T00:00:00.000</td>\n",
              "      <td>2021-02-01T00:00:00.000</td>\n",
              "      <td>35.8</td>\n",
              "      <td>32.0</td>\n",
              "      <td>39.7</td>\n",
              "      <td>32.0 - 39.7</td>\n",
              "      <td>28.8-37.6</td>\n",
              "      <td>80 years and above</td>\n",
              "      <td>20207.72</td>\n",
              "      <td>1160.60</td>\n",
              "      <td>67.68</td>\n",
              "      <td>2021-02-01</td>\n",
              "      <td>224684.00000</td>\n",
              "      <td>13326.000000</td>\n",
              "      <td>794.000000</td>\n",
              "      <td>419169.0</td>\n",
              "      <td>501.0</td>\n",
              "      <td>49.0</td>\n",
              "    </tr>\n",
              "    <tr>\n",
              "      <th>35780</th>\n",
              "      <td>Symptoms of Anxiety Disorder or Depressive Dis...</td>\n",
              "      <td>By State</td>\n",
              "      <td>New York</td>\n",
              "      <td>New York</td>\n",
              "      <td>3 (Jan 6 � Feb 1)</td>\n",
              "      <td>23.0</td>\n",
              "      <td>Jan 20 - Feb 1</td>\n",
              "      <td>2021-01-20T00:00:00.000</td>\n",
              "      <td>2021-02-01T00:00:00.000</td>\n",
              "      <td>35.8</td>\n",
              "      <td>32.0</td>\n",
              "      <td>39.7</td>\n",
              "      <td>32.0 - 39.7</td>\n",
              "      <td>28.8-37.6</td>\n",
              "      <td>80 years and above</td>\n",
              "      <td>15941.19</td>\n",
              "      <td>2540.10</td>\n",
              "      <td>476.51</td>\n",
              "      <td>2021-02-01</td>\n",
              "      <td>161559.00000</td>\n",
              "      <td>25652.000000</td>\n",
              "      <td>4800.000000</td>\n",
              "      <td>419169.0</td>\n",
              "      <td>501.0</td>\n",
              "      <td>49.0</td>\n",
              "    </tr>\n",
              "    <tr>\n",
              "      <th>35781</th>\n",
              "      <td>Symptoms of Anxiety Disorder or Depressive Dis...</td>\n",
              "      <td>By State</td>\n",
              "      <td>New York</td>\n",
              "      <td>New York</td>\n",
              "      <td>3 (Jan 6 � Feb 1)</td>\n",
              "      <td>23.0</td>\n",
              "      <td>Jan 20 - Feb 1</td>\n",
              "      <td>2021-01-20T00:00:00.000</td>\n",
              "      <td>2021-02-01T00:00:00.000</td>\n",
              "      <td>35.8</td>\n",
              "      <td>32.0</td>\n",
              "      <td>39.7</td>\n",
              "      <td>32.0 - 39.7</td>\n",
              "      <td>28.8-37.6</td>\n",
              "      <td>80 years and above</td>\n",
              "      <td>7067.11</td>\n",
              "      <td>2418.35</td>\n",
              "      <td>756.82</td>\n",
              "      <td>2021-02-01</td>\n",
              "      <td>50798.00000</td>\n",
              "      <td>17383.000000</td>\n",
              "      <td>5440.000000</td>\n",
              "      <td>419169.0</td>\n",
              "      <td>501.0</td>\n",
              "      <td>49.0</td>\n",
              "    </tr>\n",
              "    <tr>\n",
              "      <th>35782</th>\n",
              "      <td>Symptoms of Anxiety Disorder or Depressive Dis...</td>\n",
              "      <td>By State</td>\n",
              "      <td>New York</td>\n",
              "      <td>New York</td>\n",
              "      <td>3 (Jan 6 � Feb 1)</td>\n",
              "      <td>23.0</td>\n",
              "      <td>Jan 20 - Feb 1</td>\n",
              "      <td>2021-01-20T00:00:00.000</td>\n",
              "      <td>2021-02-01T00:00:00.000</td>\n",
              "      <td>35.8</td>\n",
              "      <td>32.0</td>\n",
              "      <td>39.7</td>\n",
              "      <td>32.0 - 39.7</td>\n",
              "      <td>28.8-37.6</td>\n",
              "      <td>80 years and above</td>\n",
              "      <td>7477.43</td>\n",
              "      <td>3995.12</td>\n",
              "      <td>1989.81</td>\n",
              "      <td>2021-02-01</td>\n",
              "      <td>41994.00000</td>\n",
              "      <td>22437.000000</td>\n",
              "      <td>11175.000000</td>\n",
              "      <td>419169.0</td>\n",
              "      <td>501.0</td>\n",
              "      <td>49.0</td>\n",
              "    </tr>\n",
              "    <tr>\n",
              "      <th>35783</th>\n",
              "      <td>Symptoms of Anxiety Disorder or Depressive Dis...</td>\n",
              "      <td>By State</td>\n",
              "      <td>New York</td>\n",
              "      <td>New York</td>\n",
              "      <td>3 (Jan 6 � Feb 1)</td>\n",
              "      <td>23.0</td>\n",
              "      <td>Jan 20 - Feb 1</td>\n",
              "      <td>2021-01-20T00:00:00.000</td>\n",
              "      <td>2021-02-01T00:00:00.000</td>\n",
              "      <td>35.8</td>\n",
              "      <td>32.0</td>\n",
              "      <td>39.7</td>\n",
              "      <td>32.0 - 39.7</td>\n",
              "      <td>28.8-37.6</td>\n",
              "      <td>80 years and above</td>\n",
              "      <td>6302.86</td>\n",
              "      <td>958.30</td>\n",
              "      <td>266.66</td>\n",
              "      <td>2021-02-01</td>\n",
              "      <td>525458.00000</td>\n",
              "      <td>79892.000000</td>\n",
              "      <td>22231.000000</td>\n",
              "      <td>419169.0</td>\n",
              "      <td>501.0</td>\n",
              "      <td>49.0</td>\n",
              "    </tr>\n",
              "  </tbody>\n",
              "</table>\n",
              "<p>35784 rows × 25 columns</p>\n",
              "</div>"
            ],
            "text/plain": [
              "                                               indicator  ... sentiment__positive\n",
              "0                        Symptoms of Depressive Disorder  ...                50.0\n",
              "1                        Symptoms of Depressive Disorder  ...                50.0\n",
              "2                        Symptoms of Depressive Disorder  ...                50.0\n",
              "3                        Symptoms of Depressive Disorder  ...                50.0\n",
              "4                        Symptoms of Depressive Disorder  ...                50.0\n",
              "...                                                  ...  ...                 ...\n",
              "35779  Symptoms of Anxiety Disorder or Depressive Dis...  ...                49.0\n",
              "35780  Symptoms of Anxiety Disorder or Depressive Dis...  ...                49.0\n",
              "35781  Symptoms of Anxiety Disorder or Depressive Dis...  ...                49.0\n",
              "35782  Symptoms of Anxiety Disorder or Depressive Dis...  ...                49.0\n",
              "35783  Symptoms of Anxiety Disorder or Depressive Dis...  ...                49.0\n",
              "\n",
              "[35784 rows x 25 columns]"
            ]
          },
          "metadata": {
            "tags": []
          },
          "execution_count": 2
        }
      ]
    },
    {
      "cell_type": "code",
      "metadata": {
        "colab": {
          "base_uri": "https://localhost:8080/"
        },
        "id": "FGbwgPNWtvn0",
        "outputId": "67423f0f-f3a3-4a81-817a-8302bcc47f8b"
      },
      "source": [
        "ny[\"indicator\"].replace({\"Symptoms of Anxiety Disorder\": \"0\", \"Symptoms of Depressive Disorder\": \"1\", \"Symptoms of Anxiety Disorder or Depressive Disorder\": \"2\"}, inplace=True)\n",
        "ny[\"age\"].replace({\"18 - 29 years\": \"29\", \"30 - 39 years\": \"39\", \"40 - 49 years\": \"49\", \"50 - 59 years\":\"59\",\"60 - 69 years\":\"69\",\"70 - 79 years\":\"79\",\"80 years and above\":\"80\"}, inplace=True)\n",
        "\n",
        "data_to_use = ny\n",
        "del data_to_use['group']\n",
        "del data_to_use['state']\n",
        "del data_to_use['subgroup']\n",
        "del data_to_use['time_period_label']\n",
        "del data_to_use['confidence_interval']\n",
        "del data_to_use['quartile_range']\n",
        "del data_to_use['counts']\n",
        "\n",
        "ny = data_to_use\n",
        "ny.info()"
      ],
      "execution_count": null,
      "outputs": [
        {
          "output_type": "stream",
          "text": [
            "<class 'pandas.core.frame.DataFrame'>\n",
            "RangeIndex: 35784 entries, 0 to 35783\n",
            "Data columns (total 18 columns):\n",
            " #   Column                  Non-Null Count  Dtype  \n",
            "---  ------                  --------------  -----  \n",
            " 0   indicator               35784 non-null  object \n",
            " 1   phase                   35784 non-null  object \n",
            " 2   time_period             35784 non-null  float64\n",
            " 3   time_period_start_date  35784 non-null  object \n",
            " 4   time_period_end_date    35784 non-null  object \n",
            " 5   value                   35784 non-null  float64\n",
            " 6   lowci                   35784 non-null  float64\n",
            " 7   highci                  35784 non-null  float64\n",
            " 8   age                     35784 non-null  object \n",
            " 9   CASE_RATE               35784 non-null  float64\n",
            " 10  HOSPITALIZED_RATE       35784 non-null  float64\n",
            " 11  DEATH_RATE              33957 non-null  float64\n",
            " 12  date                    35784 non-null  object \n",
            " 13  CASE_COUNT              35784 non-null  float64\n",
            " 14  HOSPITALIZED_COUNT      35784 non-null  float64\n",
            " 15  DEATH_COUNT             35784 non-null  float64\n",
            " 16  sentiment__negative     35784 non-null  float64\n",
            " 17  sentiment__positive     35784 non-null  float64\n",
            "dtypes: float64(12), object(6)\n",
            "memory usage: 4.9+ MB\n"
          ],
          "name": "stdout"
        }
      ]
    },
    {
      "cell_type": "code",
      "metadata": {
        "colab": {
          "base_uri": "https://localhost:8080/"
        },
        "id": "5EFoAULztvn2",
        "outputId": "f086bdd2-6926-4b10-9787-fbd9d58895ea"
      },
      "source": [
        "ny['DEATH_RATE'].fillna((ny['DEATH_RATE'].mean()), inplace=True)\n",
        "ny.isna().sum()"
      ],
      "execution_count": null,
      "outputs": [
        {
          "output_type": "execute_result",
          "data": {
            "text/plain": [
              "indicator                 0\n",
              "phase                     0\n",
              "time_period               0\n",
              "time_period_start_date    0\n",
              "time_period_end_date      0\n",
              "value                     0\n",
              "lowci                     0\n",
              "highci                    0\n",
              "age                       0\n",
              "CASE_RATE                 0\n",
              "HOSPITALIZED_RATE         0\n",
              "DEATH_RATE                0\n",
              "date                      0\n",
              "CASE_COUNT                0\n",
              "HOSPITALIZED_COUNT        0\n",
              "DEATH_COUNT               0\n",
              "sentiment__negative       0\n",
              "sentiment__positive       0\n",
              "dtype: int64"
            ]
          },
          "metadata": {
            "tags": []
          },
          "execution_count": 4
        }
      ]
    },
    {
      "cell_type": "code",
      "metadata": {
        "id": "bRzqS3xDtvn3"
      },
      "source": [
        "#Add this cell after API change\n",
        "ny.loc[ny['phase'] == ('Oct 28 � Dec 21'), 'phase'] = 3\n",
        "ny.loc[ny['phase'] == ('3 (Oct 28 � Dec 21)'), 'phase'] = 4\n",
        "ny.loc[ny['phase'] == ('3 (Jan 6 � Feb 1)'), 'phase'] = 5\n",
        "ny.rename(columns = {'counts':'twitter_count'}, inplace = True)"
      ],
      "execution_count": null,
      "outputs": []
    },
    {
      "cell_type": "code",
      "metadata": {
        "colab": {
          "base_uri": "https://localhost:8080/",
          "height": 444
        },
        "id": "6ZFTU8tRtvn4",
        "outputId": "0c7cd2ad-974b-4e2e-8018-4c5c18eb727c"
      },
      "source": [
        "from sklearn import preprocessing\n",
        "\n",
        "ny[\"age\"] = ny['age'].astype(float)\n",
        "ny[\"phase\"] = ny['phase'].astype(float)\n",
        "ny[\"indicator\"] = ny['indicator'].astype(float)\n",
        "ny[\"time_period\"] = ny['time_period'].astype(float)\n",
        "\n",
        "\"\"\"def min_max_normalization(df):\n",
        "    # copy the dataframe\n",
        "    df_norm = df.copy()\n",
        "    # apply min-max scaling\n",
        "    for column in df_norm.columns:\n",
        "        df_norm[column] = (df_norm[column] - df_norm[column].min()) / (df_norm[column].max() - df_norm[column].min())\n",
        "        \n",
        "    return df_norm\n",
        "\n",
        "ny = min_max_normalization(data_to_use)\"\"\"\n",
        "ny"
      ],
      "execution_count": null,
      "outputs": [
        {
          "output_type": "execute_result",
          "data": {
            "text/html": [
              "<div>\n",
              "<style scoped>\n",
              "    .dataframe tbody tr th:only-of-type {\n",
              "        vertical-align: middle;\n",
              "    }\n",
              "\n",
              "    .dataframe tbody tr th {\n",
              "        vertical-align: top;\n",
              "    }\n",
              "\n",
              "    .dataframe thead th {\n",
              "        text-align: right;\n",
              "    }\n",
              "</style>\n",
              "<table border=\"1\" class=\"dataframe\">\n",
              "  <thead>\n",
              "    <tr style=\"text-align: right;\">\n",
              "      <th></th>\n",
              "      <th>indicator</th>\n",
              "      <th>phase</th>\n",
              "      <th>time_period</th>\n",
              "      <th>time_period_start_date</th>\n",
              "      <th>time_period_end_date</th>\n",
              "      <th>value</th>\n",
              "      <th>lowci</th>\n",
              "      <th>highci</th>\n",
              "      <th>age</th>\n",
              "      <th>CASE_RATE</th>\n",
              "      <th>HOSPITALIZED_RATE</th>\n",
              "      <th>DEATH_RATE</th>\n",
              "      <th>date</th>\n",
              "      <th>CASE_COUNT</th>\n",
              "      <th>HOSPITALIZED_COUNT</th>\n",
              "      <th>DEATH_COUNT</th>\n",
              "      <th>sentiment__negative</th>\n",
              "      <th>sentiment__positive</th>\n",
              "    </tr>\n",
              "  </thead>\n",
              "  <tbody>\n",
              "    <tr>\n",
              "      <th>0</th>\n",
              "      <td>1.0</td>\n",
              "      <td>1.0</td>\n",
              "      <td>1.0</td>\n",
              "      <td>2020-04-23T00:00:00.000</td>\n",
              "      <td>2020-05-05T00:00:00.000</td>\n",
              "      <td>28.7</td>\n",
              "      <td>24.6</td>\n",
              "      <td>33.1</td>\n",
              "      <td>29.0</td>\n",
              "      <td>171.46</td>\n",
              "      <td>13.55</td>\n",
              "      <td>0.23</td>\n",
              "      <td>2020-04-23</td>\n",
              "      <td>90629.21686</td>\n",
              "      <td>19942.175032</td>\n",
              "      <td>6754.809134</td>\n",
              "      <td>500.0</td>\n",
              "      <td>50.0</td>\n",
              "    </tr>\n",
              "    <tr>\n",
              "      <th>1</th>\n",
              "      <td>1.0</td>\n",
              "      <td>1.0</td>\n",
              "      <td>1.0</td>\n",
              "      <td>2020-04-23T00:00:00.000</td>\n",
              "      <td>2020-05-05T00:00:00.000</td>\n",
              "      <td>28.7</td>\n",
              "      <td>24.6</td>\n",
              "      <td>33.1</td>\n",
              "      <td>29.0</td>\n",
              "      <td>1554.45</td>\n",
              "      <td>153.69</td>\n",
              "      <td>12.88</td>\n",
              "      <td>2020-04-23</td>\n",
              "      <td>90629.21686</td>\n",
              "      <td>19942.175032</td>\n",
              "      <td>6754.809134</td>\n",
              "      <td>500.0</td>\n",
              "      <td>50.0</td>\n",
              "    </tr>\n",
              "    <tr>\n",
              "      <th>2</th>\n",
              "      <td>1.0</td>\n",
              "      <td>1.0</td>\n",
              "      <td>1.0</td>\n",
              "      <td>2020-04-23T00:00:00.000</td>\n",
              "      <td>2020-05-05T00:00:00.000</td>\n",
              "      <td>28.7</td>\n",
              "      <td>24.6</td>\n",
              "      <td>33.1</td>\n",
              "      <td>29.0</td>\n",
              "      <td>2529.03</td>\n",
              "      <td>630.34</td>\n",
              "      <td>113.37</td>\n",
              "      <td>2020-04-23</td>\n",
              "      <td>90629.21686</td>\n",
              "      <td>19942.175032</td>\n",
              "      <td>6754.809134</td>\n",
              "      <td>500.0</td>\n",
              "      <td>50.0</td>\n",
              "    </tr>\n",
              "    <tr>\n",
              "      <th>3</th>\n",
              "      <td>1.0</td>\n",
              "      <td>1.0</td>\n",
              "      <td>1.0</td>\n",
              "      <td>2020-04-23T00:00:00.000</td>\n",
              "      <td>2020-05-05T00:00:00.000</td>\n",
              "      <td>28.7</td>\n",
              "      <td>24.6</td>\n",
              "      <td>33.1</td>\n",
              "      <td>29.0</td>\n",
              "      <td>2552.64</td>\n",
              "      <td>1192.50</td>\n",
              "      <td>364.17</td>\n",
              "      <td>2020-04-23</td>\n",
              "      <td>90629.21686</td>\n",
              "      <td>19942.175032</td>\n",
              "      <td>6754.809134</td>\n",
              "      <td>500.0</td>\n",
              "      <td>50.0</td>\n",
              "    </tr>\n",
              "    <tr>\n",
              "      <th>4</th>\n",
              "      <td>1.0</td>\n",
              "      <td>1.0</td>\n",
              "      <td>1.0</td>\n",
              "      <td>2020-04-23T00:00:00.000</td>\n",
              "      <td>2020-05-05T00:00:00.000</td>\n",
              "      <td>28.7</td>\n",
              "      <td>24.6</td>\n",
              "      <td>33.1</td>\n",
              "      <td>29.0</td>\n",
              "      <td>2976.74</td>\n",
              "      <td>1830.07</td>\n",
              "      <td>909.18</td>\n",
              "      <td>2020-04-23</td>\n",
              "      <td>90629.21686</td>\n",
              "      <td>19942.175032</td>\n",
              "      <td>6754.809134</td>\n",
              "      <td>500.0</td>\n",
              "      <td>50.0</td>\n",
              "    </tr>\n",
              "    <tr>\n",
              "      <th>...</th>\n",
              "      <td>...</td>\n",
              "      <td>...</td>\n",
              "      <td>...</td>\n",
              "      <td>...</td>\n",
              "      <td>...</td>\n",
              "      <td>...</td>\n",
              "      <td>...</td>\n",
              "      <td>...</td>\n",
              "      <td>...</td>\n",
              "      <td>...</td>\n",
              "      <td>...</td>\n",
              "      <td>...</td>\n",
              "      <td>...</td>\n",
              "      <td>...</td>\n",
              "      <td>...</td>\n",
              "      <td>...</td>\n",
              "      <td>...</td>\n",
              "      <td>...</td>\n",
              "    </tr>\n",
              "    <tr>\n",
              "      <th>35779</th>\n",
              "      <td>2.0</td>\n",
              "      <td>5.0</td>\n",
              "      <td>23.0</td>\n",
              "      <td>2021-01-20T00:00:00.000</td>\n",
              "      <td>2021-02-01T00:00:00.000</td>\n",
              "      <td>35.8</td>\n",
              "      <td>32.0</td>\n",
              "      <td>39.7</td>\n",
              "      <td>80.0</td>\n",
              "      <td>20207.72</td>\n",
              "      <td>1160.60</td>\n",
              "      <td>67.68</td>\n",
              "      <td>2021-02-01</td>\n",
              "      <td>224684.00000</td>\n",
              "      <td>13326.000000</td>\n",
              "      <td>794.000000</td>\n",
              "      <td>501.0</td>\n",
              "      <td>49.0</td>\n",
              "    </tr>\n",
              "    <tr>\n",
              "      <th>35780</th>\n",
              "      <td>2.0</td>\n",
              "      <td>5.0</td>\n",
              "      <td>23.0</td>\n",
              "      <td>2021-01-20T00:00:00.000</td>\n",
              "      <td>2021-02-01T00:00:00.000</td>\n",
              "      <td>35.8</td>\n",
              "      <td>32.0</td>\n",
              "      <td>39.7</td>\n",
              "      <td>80.0</td>\n",
              "      <td>15941.19</td>\n",
              "      <td>2540.10</td>\n",
              "      <td>476.51</td>\n",
              "      <td>2021-02-01</td>\n",
              "      <td>161559.00000</td>\n",
              "      <td>25652.000000</td>\n",
              "      <td>4800.000000</td>\n",
              "      <td>501.0</td>\n",
              "      <td>49.0</td>\n",
              "    </tr>\n",
              "    <tr>\n",
              "      <th>35781</th>\n",
              "      <td>2.0</td>\n",
              "      <td>5.0</td>\n",
              "      <td>23.0</td>\n",
              "      <td>2021-01-20T00:00:00.000</td>\n",
              "      <td>2021-02-01T00:00:00.000</td>\n",
              "      <td>35.8</td>\n",
              "      <td>32.0</td>\n",
              "      <td>39.7</td>\n",
              "      <td>80.0</td>\n",
              "      <td>7067.11</td>\n",
              "      <td>2418.35</td>\n",
              "      <td>756.82</td>\n",
              "      <td>2021-02-01</td>\n",
              "      <td>50798.00000</td>\n",
              "      <td>17383.000000</td>\n",
              "      <td>5440.000000</td>\n",
              "      <td>501.0</td>\n",
              "      <td>49.0</td>\n",
              "    </tr>\n",
              "    <tr>\n",
              "      <th>35782</th>\n",
              "      <td>2.0</td>\n",
              "      <td>5.0</td>\n",
              "      <td>23.0</td>\n",
              "      <td>2021-01-20T00:00:00.000</td>\n",
              "      <td>2021-02-01T00:00:00.000</td>\n",
              "      <td>35.8</td>\n",
              "      <td>32.0</td>\n",
              "      <td>39.7</td>\n",
              "      <td>80.0</td>\n",
              "      <td>7477.43</td>\n",
              "      <td>3995.12</td>\n",
              "      <td>1989.81</td>\n",
              "      <td>2021-02-01</td>\n",
              "      <td>41994.00000</td>\n",
              "      <td>22437.000000</td>\n",
              "      <td>11175.000000</td>\n",
              "      <td>501.0</td>\n",
              "      <td>49.0</td>\n",
              "    </tr>\n",
              "    <tr>\n",
              "      <th>35783</th>\n",
              "      <td>2.0</td>\n",
              "      <td>5.0</td>\n",
              "      <td>23.0</td>\n",
              "      <td>2021-01-20T00:00:00.000</td>\n",
              "      <td>2021-02-01T00:00:00.000</td>\n",
              "      <td>35.8</td>\n",
              "      <td>32.0</td>\n",
              "      <td>39.7</td>\n",
              "      <td>80.0</td>\n",
              "      <td>6302.86</td>\n",
              "      <td>958.30</td>\n",
              "      <td>266.66</td>\n",
              "      <td>2021-02-01</td>\n",
              "      <td>525458.00000</td>\n",
              "      <td>79892.000000</td>\n",
              "      <td>22231.000000</td>\n",
              "      <td>501.0</td>\n",
              "      <td>49.0</td>\n",
              "    </tr>\n",
              "  </tbody>\n",
              "</table>\n",
              "<p>35784 rows × 18 columns</p>\n",
              "</div>"
            ],
            "text/plain": [
              "       indicator  phase  ...  sentiment__negative sentiment__positive\n",
              "0            1.0    1.0  ...                500.0                50.0\n",
              "1            1.0    1.0  ...                500.0                50.0\n",
              "2            1.0    1.0  ...                500.0                50.0\n",
              "3            1.0    1.0  ...                500.0                50.0\n",
              "4            1.0    1.0  ...                500.0                50.0\n",
              "...          ...    ...  ...                  ...                 ...\n",
              "35779        2.0    5.0  ...                501.0                49.0\n",
              "35780        2.0    5.0  ...                501.0                49.0\n",
              "35781        2.0    5.0  ...                501.0                49.0\n",
              "35782        2.0    5.0  ...                501.0                49.0\n",
              "35783        2.0    5.0  ...                501.0                49.0\n",
              "\n",
              "[35784 rows x 18 columns]"
            ]
          },
          "metadata": {
            "tags": []
          },
          "execution_count": 6
        }
      ]
    },
    {
      "cell_type": "code",
      "metadata": {
        "colab": {
          "base_uri": "https://localhost:8080/",
          "height": 444
        },
        "id": "uhBHB_wBtvn6",
        "outputId": "500c40dd-a16b-422e-fe22-fec186c2d02a"
      },
      "source": [
        "ny = ny[['phase', 'time_period', 'value', 'lowci', 'highci', 'age', 'CASE_RATE', 'HOSPITALIZED_RATE','DEATH_RATE','CASE_COUNT','HOSPITALIZED_COUNT','DEATH_COUNT','indicator']]\n",
        "ny"
      ],
      "execution_count": null,
      "outputs": [
        {
          "output_type": "execute_result",
          "data": {
            "text/html": [
              "<div>\n",
              "<style scoped>\n",
              "    .dataframe tbody tr th:only-of-type {\n",
              "        vertical-align: middle;\n",
              "    }\n",
              "\n",
              "    .dataframe tbody tr th {\n",
              "        vertical-align: top;\n",
              "    }\n",
              "\n",
              "    .dataframe thead th {\n",
              "        text-align: right;\n",
              "    }\n",
              "</style>\n",
              "<table border=\"1\" class=\"dataframe\">\n",
              "  <thead>\n",
              "    <tr style=\"text-align: right;\">\n",
              "      <th></th>\n",
              "      <th>phase</th>\n",
              "      <th>time_period</th>\n",
              "      <th>value</th>\n",
              "      <th>lowci</th>\n",
              "      <th>highci</th>\n",
              "      <th>age</th>\n",
              "      <th>CASE_RATE</th>\n",
              "      <th>HOSPITALIZED_RATE</th>\n",
              "      <th>DEATH_RATE</th>\n",
              "      <th>CASE_COUNT</th>\n",
              "      <th>HOSPITALIZED_COUNT</th>\n",
              "      <th>DEATH_COUNT</th>\n",
              "      <th>indicator</th>\n",
              "    </tr>\n",
              "  </thead>\n",
              "  <tbody>\n",
              "    <tr>\n",
              "      <th>0</th>\n",
              "      <td>1.0</td>\n",
              "      <td>1.0</td>\n",
              "      <td>28.7</td>\n",
              "      <td>24.6</td>\n",
              "      <td>33.1</td>\n",
              "      <td>29.0</td>\n",
              "      <td>171.46</td>\n",
              "      <td>13.55</td>\n",
              "      <td>0.23</td>\n",
              "      <td>90629.21686</td>\n",
              "      <td>19942.175032</td>\n",
              "      <td>6754.809134</td>\n",
              "      <td>1.0</td>\n",
              "    </tr>\n",
              "    <tr>\n",
              "      <th>1</th>\n",
              "      <td>1.0</td>\n",
              "      <td>1.0</td>\n",
              "      <td>28.7</td>\n",
              "      <td>24.6</td>\n",
              "      <td>33.1</td>\n",
              "      <td>29.0</td>\n",
              "      <td>1554.45</td>\n",
              "      <td>153.69</td>\n",
              "      <td>12.88</td>\n",
              "      <td>90629.21686</td>\n",
              "      <td>19942.175032</td>\n",
              "      <td>6754.809134</td>\n",
              "      <td>1.0</td>\n",
              "    </tr>\n",
              "    <tr>\n",
              "      <th>2</th>\n",
              "      <td>1.0</td>\n",
              "      <td>1.0</td>\n",
              "      <td>28.7</td>\n",
              "      <td>24.6</td>\n",
              "      <td>33.1</td>\n",
              "      <td>29.0</td>\n",
              "      <td>2529.03</td>\n",
              "      <td>630.34</td>\n",
              "      <td>113.37</td>\n",
              "      <td>90629.21686</td>\n",
              "      <td>19942.175032</td>\n",
              "      <td>6754.809134</td>\n",
              "      <td>1.0</td>\n",
              "    </tr>\n",
              "    <tr>\n",
              "      <th>3</th>\n",
              "      <td>1.0</td>\n",
              "      <td>1.0</td>\n",
              "      <td>28.7</td>\n",
              "      <td>24.6</td>\n",
              "      <td>33.1</td>\n",
              "      <td>29.0</td>\n",
              "      <td>2552.64</td>\n",
              "      <td>1192.50</td>\n",
              "      <td>364.17</td>\n",
              "      <td>90629.21686</td>\n",
              "      <td>19942.175032</td>\n",
              "      <td>6754.809134</td>\n",
              "      <td>1.0</td>\n",
              "    </tr>\n",
              "    <tr>\n",
              "      <th>4</th>\n",
              "      <td>1.0</td>\n",
              "      <td>1.0</td>\n",
              "      <td>28.7</td>\n",
              "      <td>24.6</td>\n",
              "      <td>33.1</td>\n",
              "      <td>29.0</td>\n",
              "      <td>2976.74</td>\n",
              "      <td>1830.07</td>\n",
              "      <td>909.18</td>\n",
              "      <td>90629.21686</td>\n",
              "      <td>19942.175032</td>\n",
              "      <td>6754.809134</td>\n",
              "      <td>1.0</td>\n",
              "    </tr>\n",
              "    <tr>\n",
              "      <th>...</th>\n",
              "      <td>...</td>\n",
              "      <td>...</td>\n",
              "      <td>...</td>\n",
              "      <td>...</td>\n",
              "      <td>...</td>\n",
              "      <td>...</td>\n",
              "      <td>...</td>\n",
              "      <td>...</td>\n",
              "      <td>...</td>\n",
              "      <td>...</td>\n",
              "      <td>...</td>\n",
              "      <td>...</td>\n",
              "      <td>...</td>\n",
              "    </tr>\n",
              "    <tr>\n",
              "      <th>35779</th>\n",
              "      <td>5.0</td>\n",
              "      <td>23.0</td>\n",
              "      <td>35.8</td>\n",
              "      <td>32.0</td>\n",
              "      <td>39.7</td>\n",
              "      <td>80.0</td>\n",
              "      <td>20207.72</td>\n",
              "      <td>1160.60</td>\n",
              "      <td>67.68</td>\n",
              "      <td>224684.00000</td>\n",
              "      <td>13326.000000</td>\n",
              "      <td>794.000000</td>\n",
              "      <td>2.0</td>\n",
              "    </tr>\n",
              "    <tr>\n",
              "      <th>35780</th>\n",
              "      <td>5.0</td>\n",
              "      <td>23.0</td>\n",
              "      <td>35.8</td>\n",
              "      <td>32.0</td>\n",
              "      <td>39.7</td>\n",
              "      <td>80.0</td>\n",
              "      <td>15941.19</td>\n",
              "      <td>2540.10</td>\n",
              "      <td>476.51</td>\n",
              "      <td>161559.00000</td>\n",
              "      <td>25652.000000</td>\n",
              "      <td>4800.000000</td>\n",
              "      <td>2.0</td>\n",
              "    </tr>\n",
              "    <tr>\n",
              "      <th>35781</th>\n",
              "      <td>5.0</td>\n",
              "      <td>23.0</td>\n",
              "      <td>35.8</td>\n",
              "      <td>32.0</td>\n",
              "      <td>39.7</td>\n",
              "      <td>80.0</td>\n",
              "      <td>7067.11</td>\n",
              "      <td>2418.35</td>\n",
              "      <td>756.82</td>\n",
              "      <td>50798.00000</td>\n",
              "      <td>17383.000000</td>\n",
              "      <td>5440.000000</td>\n",
              "      <td>2.0</td>\n",
              "    </tr>\n",
              "    <tr>\n",
              "      <th>35782</th>\n",
              "      <td>5.0</td>\n",
              "      <td>23.0</td>\n",
              "      <td>35.8</td>\n",
              "      <td>32.0</td>\n",
              "      <td>39.7</td>\n",
              "      <td>80.0</td>\n",
              "      <td>7477.43</td>\n",
              "      <td>3995.12</td>\n",
              "      <td>1989.81</td>\n",
              "      <td>41994.00000</td>\n",
              "      <td>22437.000000</td>\n",
              "      <td>11175.000000</td>\n",
              "      <td>2.0</td>\n",
              "    </tr>\n",
              "    <tr>\n",
              "      <th>35783</th>\n",
              "      <td>5.0</td>\n",
              "      <td>23.0</td>\n",
              "      <td>35.8</td>\n",
              "      <td>32.0</td>\n",
              "      <td>39.7</td>\n",
              "      <td>80.0</td>\n",
              "      <td>6302.86</td>\n",
              "      <td>958.30</td>\n",
              "      <td>266.66</td>\n",
              "      <td>525458.00000</td>\n",
              "      <td>79892.000000</td>\n",
              "      <td>22231.000000</td>\n",
              "      <td>2.0</td>\n",
              "    </tr>\n",
              "  </tbody>\n",
              "</table>\n",
              "<p>35784 rows × 13 columns</p>\n",
              "</div>"
            ],
            "text/plain": [
              "       phase  time_period  value  ...  HOSPITALIZED_COUNT   DEATH_COUNT  indicator\n",
              "0        1.0          1.0   28.7  ...        19942.175032   6754.809134        1.0\n",
              "1        1.0          1.0   28.7  ...        19942.175032   6754.809134        1.0\n",
              "2        1.0          1.0   28.7  ...        19942.175032   6754.809134        1.0\n",
              "3        1.0          1.0   28.7  ...        19942.175032   6754.809134        1.0\n",
              "4        1.0          1.0   28.7  ...        19942.175032   6754.809134        1.0\n",
              "...      ...          ...    ...  ...                 ...           ...        ...\n",
              "35779    5.0         23.0   35.8  ...        13326.000000    794.000000        2.0\n",
              "35780    5.0         23.0   35.8  ...        25652.000000   4800.000000        2.0\n",
              "35781    5.0         23.0   35.8  ...        17383.000000   5440.000000        2.0\n",
              "35782    5.0         23.0   35.8  ...        22437.000000  11175.000000        2.0\n",
              "35783    5.0         23.0   35.8  ...        79892.000000  22231.000000        2.0\n",
              "\n",
              "[35784 rows x 13 columns]"
            ]
          },
          "metadata": {
            "tags": []
          },
          "execution_count": 7
        }
      ]
    },
    {
      "cell_type": "code",
      "metadata": {
        "id": "tpuetoYZtvn-"
      },
      "source": [
        "names = ['Symptoms of Anxiety Disorder', 'Symptoms of Depression Disorder', 'Symptoms of Anxiety or Depression Disorder' ]\n",
        "feature_names = ['phase', 'time_period', 'value', 'lowci', 'highci', 'age', 'CASE_RATE', 'HOSPITALIZED_RATE', 'DEATH_RATE', 'CASE_COUNT', 'HOSPITALIZED_COUNT', 'DEATH_COUNT']"
      ],
      "execution_count": null,
      "outputs": []
    },
    {
      "cell_type": "code",
      "metadata": {
        "colab": {
          "base_uri": "https://localhost:8080/"
        },
        "id": "xkZ7ifpXtvn-",
        "outputId": "3ca446ce-2cc1-4ca5-a0e8-bb8bbada7250"
      },
      "source": [
        "dataset = ny.values\n",
        "dataset"
      ],
      "execution_count": null,
      "outputs": [
        {
          "output_type": "execute_result",
          "data": {
            "text/plain": [
              "array([[1.00000000e+00, 1.00000000e+00, 2.87000000e+01, ...,\n",
              "        1.99421750e+04, 6.75480913e+03, 1.00000000e+00],\n",
              "       [1.00000000e+00, 1.00000000e+00, 2.87000000e+01, ...,\n",
              "        1.99421750e+04, 6.75480913e+03, 1.00000000e+00],\n",
              "       [1.00000000e+00, 1.00000000e+00, 2.87000000e+01, ...,\n",
              "        1.99421750e+04, 6.75480913e+03, 1.00000000e+00],\n",
              "       ...,\n",
              "       [5.00000000e+00, 2.30000000e+01, 3.58000000e+01, ...,\n",
              "        1.73830000e+04, 5.44000000e+03, 2.00000000e+00],\n",
              "       [5.00000000e+00, 2.30000000e+01, 3.58000000e+01, ...,\n",
              "        2.24370000e+04, 1.11750000e+04, 2.00000000e+00],\n",
              "       [5.00000000e+00, 2.30000000e+01, 3.58000000e+01, ...,\n",
              "        7.98920000e+04, 2.22310000e+04, 2.00000000e+00]])"
            ]
          },
          "metadata": {
            "tags": []
          },
          "execution_count": 9
        }
      ]
    },
    {
      "cell_type": "code",
      "metadata": {
        "id": "17n-xrZctvn_"
      },
      "source": [
        "X = dataset[:, :-1]\n",
        "y = dataset[:,-1]"
      ],
      "execution_count": null,
      "outputs": []
    },
    {
      "cell_type": "code",
      "metadata": {
        "id": "ljPcv-WAtvoA"
      },
      "source": [
        "import pandas as pd\n",
        "from sklearn import preprocessing\n",
        "\n",
        "min_max_scaler = preprocessing.MinMaxScaler()\n",
        "x_scaled = min_max_scaler.fit_transform(X)\n",
        "y_scaled = min_max_scaler.fit_transform(y.reshape(-1, 1))\n",
        "X = pd.DataFrame(x_scaled)\n",
        "y = pd.DataFrame(y_scaled)"
      ],
      "execution_count": null,
      "outputs": []
    },
    {
      "cell_type": "code",
      "metadata": {
        "colab": {
          "base_uri": "https://localhost:8080/",
          "height": 424
        },
        "id": "3tEVcn7JtvoD",
        "outputId": "7cbf37bd-34fc-47d1-b653-ccfe1e1c5bd0"
      },
      "source": [
        "X"
      ],
      "execution_count": null,
      "outputs": [
        {
          "output_type": "execute_result",
          "data": {
            "text/html": [
              "<div>\n",
              "<style scoped>\n",
              "    .dataframe tbody tr th:only-of-type {\n",
              "        vertical-align: middle;\n",
              "    }\n",
              "\n",
              "    .dataframe tbody tr th {\n",
              "        vertical-align: top;\n",
              "    }\n",
              "\n",
              "    .dataframe thead th {\n",
              "        text-align: right;\n",
              "    }\n",
              "</style>\n",
              "<table border=\"1\" class=\"dataframe\">\n",
              "  <thead>\n",
              "    <tr style=\"text-align: right;\">\n",
              "      <th></th>\n",
              "      <th>0</th>\n",
              "      <th>1</th>\n",
              "      <th>2</th>\n",
              "      <th>3</th>\n",
              "      <th>4</th>\n",
              "      <th>5</th>\n",
              "      <th>6</th>\n",
              "      <th>7</th>\n",
              "      <th>8</th>\n",
              "      <th>9</th>\n",
              "      <th>10</th>\n",
              "      <th>11</th>\n",
              "    </tr>\n",
              "  </thead>\n",
              "  <tbody>\n",
              "    <tr>\n",
              "      <th>0</th>\n",
              "      <td>0.0</td>\n",
              "      <td>0.0</td>\n",
              "      <td>0.340102</td>\n",
              "      <td>0.294737</td>\n",
              "      <td>0.372642</td>\n",
              "      <td>0.0</td>\n",
              "      <td>0.000000</td>\n",
              "      <td>0.000000</td>\n",
              "      <td>0.000000</td>\n",
              "      <td>0.164543</td>\n",
              "      <td>0.245592</td>\n",
              "      <td>0.303533</td>\n",
              "    </tr>\n",
              "    <tr>\n",
              "      <th>1</th>\n",
              "      <td>0.0</td>\n",
              "      <td>0.0</td>\n",
              "      <td>0.340102</td>\n",
              "      <td>0.294737</td>\n",
              "      <td>0.372642</td>\n",
              "      <td>0.0</td>\n",
              "      <td>0.069024</td>\n",
              "      <td>0.035197</td>\n",
              "      <td>0.006358</td>\n",
              "      <td>0.164543</td>\n",
              "      <td>0.245592</td>\n",
              "      <td>0.303533</td>\n",
              "    </tr>\n",
              "    <tr>\n",
              "      <th>2</th>\n",
              "      <td>0.0</td>\n",
              "      <td>0.0</td>\n",
              "      <td>0.340102</td>\n",
              "      <td>0.294737</td>\n",
              "      <td>0.372642</td>\n",
              "      <td>0.0</td>\n",
              "      <td>0.117665</td>\n",
              "      <td>0.154911</td>\n",
              "      <td>0.056866</td>\n",
              "      <td>0.164543</td>\n",
              "      <td>0.245592</td>\n",
              "      <td>0.303533</td>\n",
              "    </tr>\n",
              "    <tr>\n",
              "      <th>3</th>\n",
              "      <td>0.0</td>\n",
              "      <td>0.0</td>\n",
              "      <td>0.340102</td>\n",
              "      <td>0.294737</td>\n",
              "      <td>0.372642</td>\n",
              "      <td>0.0</td>\n",
              "      <td>0.118844</td>\n",
              "      <td>0.296102</td>\n",
              "      <td>0.182923</td>\n",
              "      <td>0.164543</td>\n",
              "      <td>0.245592</td>\n",
              "      <td>0.303533</td>\n",
              "    </tr>\n",
              "    <tr>\n",
              "      <th>4</th>\n",
              "      <td>0.0</td>\n",
              "      <td>0.0</td>\n",
              "      <td>0.340102</td>\n",
              "      <td>0.294737</td>\n",
              "      <td>0.372642</td>\n",
              "      <td>0.0</td>\n",
              "      <td>0.140010</td>\n",
              "      <td>0.456232</td>\n",
              "      <td>0.456855</td>\n",
              "      <td>0.164543</td>\n",
              "      <td>0.245592</td>\n",
              "      <td>0.303533</td>\n",
              "    </tr>\n",
              "    <tr>\n",
              "      <th>...</th>\n",
              "      <td>...</td>\n",
              "      <td>...</td>\n",
              "      <td>...</td>\n",
              "      <td>...</td>\n",
              "      <td>...</td>\n",
              "      <td>...</td>\n",
              "      <td>...</td>\n",
              "      <td>...</td>\n",
              "      <td>...</td>\n",
              "      <td>...</td>\n",
              "      <td>...</td>\n",
              "      <td>...</td>\n",
              "    </tr>\n",
              "    <tr>\n",
              "      <th>35779</th>\n",
              "      <td>1.0</td>\n",
              "      <td>1.0</td>\n",
              "      <td>0.700508</td>\n",
              "      <td>0.684211</td>\n",
              "      <td>0.683962</td>\n",
              "      <td>1.0</td>\n",
              "      <td>1.000000</td>\n",
              "      <td>0.288090</td>\n",
              "      <td>0.033902</td>\n",
              "      <td>0.422109</td>\n",
              "      <td>0.162334</td>\n",
              "      <td>0.035282</td>\n",
              "    </tr>\n",
              "    <tr>\n",
              "      <th>35780</th>\n",
              "      <td>1.0</td>\n",
              "      <td>1.0</td>\n",
              "      <td>0.700508</td>\n",
              "      <td>0.684211</td>\n",
              "      <td>0.683962</td>\n",
              "      <td>1.0</td>\n",
              "      <td>0.787060</td>\n",
              "      <td>0.634561</td>\n",
              "      <td>0.239387</td>\n",
              "      <td>0.300823</td>\n",
              "      <td>0.317444</td>\n",
              "      <td>0.215562</td>\n",
              "    </tr>\n",
              "    <tr>\n",
              "      <th>35781</th>\n",
              "      <td>1.0</td>\n",
              "      <td>1.0</td>\n",
              "      <td>0.700508</td>\n",
              "      <td>0.684211</td>\n",
              "      <td>0.683962</td>\n",
              "      <td>1.0</td>\n",
              "      <td>0.344159</td>\n",
              "      <td>0.603983</td>\n",
              "      <td>0.380276</td>\n",
              "      <td>0.088013</td>\n",
              "      <td>0.213387</td>\n",
              "      <td>0.244363</td>\n",
              "    </tr>\n",
              "    <tr>\n",
              "      <th>35782</th>\n",
              "      <td>1.0</td>\n",
              "      <td>1.0</td>\n",
              "      <td>0.700508</td>\n",
              "      <td>0.684211</td>\n",
              "      <td>0.683962</td>\n",
              "      <td>1.0</td>\n",
              "      <td>0.364637</td>\n",
              "      <td>1.000000</td>\n",
              "      <td>1.000000</td>\n",
              "      <td>0.071098</td>\n",
              "      <td>0.276986</td>\n",
              "      <td>0.502453</td>\n",
              "    </tr>\n",
              "    <tr>\n",
              "      <th>35783</th>\n",
              "      <td>1.0</td>\n",
              "      <td>1.0</td>\n",
              "      <td>0.700508</td>\n",
              "      <td>0.684211</td>\n",
              "      <td>0.683962</td>\n",
              "      <td>1.0</td>\n",
              "      <td>0.306015</td>\n",
              "      <td>0.237281</td>\n",
              "      <td>0.133913</td>\n",
              "      <td>1.000000</td>\n",
              "      <td>1.000000</td>\n",
              "      <td>1.000000</td>\n",
              "    </tr>\n",
              "  </tbody>\n",
              "</table>\n",
              "<p>35784 rows × 12 columns</p>\n",
              "</div>"
            ],
            "text/plain": [
              "        0    1         2         3   ...        8         9         10        11\n",
              "0      0.0  0.0  0.340102  0.294737  ...  0.000000  0.164543  0.245592  0.303533\n",
              "1      0.0  0.0  0.340102  0.294737  ...  0.006358  0.164543  0.245592  0.303533\n",
              "2      0.0  0.0  0.340102  0.294737  ...  0.056866  0.164543  0.245592  0.303533\n",
              "3      0.0  0.0  0.340102  0.294737  ...  0.182923  0.164543  0.245592  0.303533\n",
              "4      0.0  0.0  0.340102  0.294737  ...  0.456855  0.164543  0.245592  0.303533\n",
              "...    ...  ...       ...       ...  ...       ...       ...       ...       ...\n",
              "35779  1.0  1.0  0.700508  0.684211  ...  0.033902  0.422109  0.162334  0.035282\n",
              "35780  1.0  1.0  0.700508  0.684211  ...  0.239387  0.300823  0.317444  0.215562\n",
              "35781  1.0  1.0  0.700508  0.684211  ...  0.380276  0.088013  0.213387  0.244363\n",
              "35782  1.0  1.0  0.700508  0.684211  ...  1.000000  0.071098  0.276986  0.502453\n",
              "35783  1.0  1.0  0.700508  0.684211  ...  0.133913  1.000000  1.000000  1.000000\n",
              "\n",
              "[35784 rows x 12 columns]"
            ]
          },
          "metadata": {
            "tags": []
          },
          "execution_count": 12
        }
      ]
    },
    {
      "cell_type": "code",
      "metadata": {
        "colab": {
          "base_uri": "https://localhost:8080/",
          "height": 424
        },
        "id": "H7AZFbTQtvoD",
        "outputId": "c0d4678d-dd43-4f00-d7fe-b7536056d2c9"
      },
      "source": [
        "y"
      ],
      "execution_count": null,
      "outputs": [
        {
          "output_type": "execute_result",
          "data": {
            "text/html": [
              "<div>\n",
              "<style scoped>\n",
              "    .dataframe tbody tr th:only-of-type {\n",
              "        vertical-align: middle;\n",
              "    }\n",
              "\n",
              "    .dataframe tbody tr th {\n",
              "        vertical-align: top;\n",
              "    }\n",
              "\n",
              "    .dataframe thead th {\n",
              "        text-align: right;\n",
              "    }\n",
              "</style>\n",
              "<table border=\"1\" class=\"dataframe\">\n",
              "  <thead>\n",
              "    <tr style=\"text-align: right;\">\n",
              "      <th></th>\n",
              "      <th>0</th>\n",
              "    </tr>\n",
              "  </thead>\n",
              "  <tbody>\n",
              "    <tr>\n",
              "      <th>0</th>\n",
              "      <td>0.5</td>\n",
              "    </tr>\n",
              "    <tr>\n",
              "      <th>1</th>\n",
              "      <td>0.5</td>\n",
              "    </tr>\n",
              "    <tr>\n",
              "      <th>2</th>\n",
              "      <td>0.5</td>\n",
              "    </tr>\n",
              "    <tr>\n",
              "      <th>3</th>\n",
              "      <td>0.5</td>\n",
              "    </tr>\n",
              "    <tr>\n",
              "      <th>4</th>\n",
              "      <td>0.5</td>\n",
              "    </tr>\n",
              "    <tr>\n",
              "      <th>...</th>\n",
              "      <td>...</td>\n",
              "    </tr>\n",
              "    <tr>\n",
              "      <th>35779</th>\n",
              "      <td>1.0</td>\n",
              "    </tr>\n",
              "    <tr>\n",
              "      <th>35780</th>\n",
              "      <td>1.0</td>\n",
              "    </tr>\n",
              "    <tr>\n",
              "      <th>35781</th>\n",
              "      <td>1.0</td>\n",
              "    </tr>\n",
              "    <tr>\n",
              "      <th>35782</th>\n",
              "      <td>1.0</td>\n",
              "    </tr>\n",
              "    <tr>\n",
              "      <th>35783</th>\n",
              "      <td>1.0</td>\n",
              "    </tr>\n",
              "  </tbody>\n",
              "</table>\n",
              "<p>35784 rows × 1 columns</p>\n",
              "</div>"
            ],
            "text/plain": [
              "         0\n",
              "0      0.5\n",
              "1      0.5\n",
              "2      0.5\n",
              "3      0.5\n",
              "4      0.5\n",
              "...    ...\n",
              "35779  1.0\n",
              "35780  1.0\n",
              "35781  1.0\n",
              "35782  1.0\n",
              "35783  1.0\n",
              "\n",
              "[35784 rows x 1 columns]"
            ]
          },
          "metadata": {
            "tags": []
          },
          "execution_count": 13
        }
      ]
    },
    {
      "cell_type": "code",
      "metadata": {
        "id": "Ax5RitlRtvoE"
      },
      "source": [
        "# Helper\n",
        "\n",
        "def load_dataset(filename):\n",
        "    # load the dataset as a pandas DataFrame\n",
        "    data = pd.read_csv(filename, header=None)\n",
        "    # retrieve numpy array\n",
        "    dataset = data.values\n",
        "    # split into input (X) and output (y) variables\n",
        "    X = dataset[:, :-1]\n",
        "    y = dataset[:,-1]\n",
        "    return X, y"
      ],
      "execution_count": null,
      "outputs": []
    },
    {
      "cell_type": "code",
      "metadata": {
        "id": "cUhooIrjtvoE"
      },
      "source": [
        "from sklearn.model_selection import train_test_split\n",
        "from sklearn.preprocessing import OneHotEncoder, StandardScaler\n",
        "X_train, X_test, y_train, y_test = train_test_split(X, y, test_size=0.5, random_state=42)"
      ],
      "execution_count": null,
      "outputs": []
    },
    {
      "cell_type": "code",
      "metadata": {
        "id": "q2hb_F83tvoE"
      },
      "source": [
        "from pandas import read_csv\n",
        "from sklearn.model_selection import train_test_split\n",
        "from sklearn.feature_selection import SelectKBest\n",
        "from sklearn.feature_selection import f_classif\n",
        "from matplotlib import pyplot"
      ],
      "execution_count": null,
      "outputs": []
    },
    {
      "cell_type": "code",
      "metadata": {
        "colab": {
          "base_uri": "https://localhost:8080/",
          "height": 485
        },
        "id": "Ia1UvrdAtvoE",
        "outputId": "0ed44689-774a-4c76-bf42-93fedf57211a"
      },
      "source": [
        "def select_features(X_train, y_train, X_test):\n",
        "    # configure to select all features\n",
        "    fs = SelectKBest(score_func=f_classif, k='all')\n",
        "    # learn relationship from training data\n",
        "    fs.fit(X_train, y_train)\n",
        "    # transform train input data\n",
        "    X_train_fs = fs.transform(X_train)\n",
        "    # transform test input data\n",
        "    X_test_fs = fs.transform(X_test)\n",
        "    return X_train_fs, X_test_fs, fs\n",
        " \n",
        "\"\"\"# load the dataset\n",
        "X, y = load_dataset('pima-indians-diabetes.csv')\n",
        "# split into train and test sets\n",
        "X_train, X_test, y_train, y_test = train_test_split(X, y, test_size=0.33, random_state=1)\n",
        "\"\"\"\n",
        "# feature selection\n",
        "X_train_fs, X_test_fs, fs = select_features(X_train, y_train, X_test)\n",
        "# what are scores for the features\n",
        "for i in range(len(fs.scores_)):\n",
        "    print('Feature %d: %f' % (i, fs.scores_[i]))\n",
        "# plot the scores\n",
        "pyplot.bar([i for i in range(len(fs.scores_))], fs.scores_)\n",
        "pyplot.show()"
      ],
      "execution_count": null,
      "outputs": [
        {
          "output_type": "stream",
          "text": [
            "Feature 0: 0.286601\n",
            "Feature 1: 0.089414\n",
            "Feature 2: 36075.900252\n",
            "Feature 3: 41365.241769\n",
            "Feature 4: 29433.792617\n",
            "Feature 5: 0.397847\n",
            "Feature 6: 0.004857\n",
            "Feature 7: 0.823220\n",
            "Feature 8: 0.631747\n",
            "Feature 9: 0.409344\n",
            "Feature 10: 0.906795\n",
            "Feature 11: 0.953940\n"
          ],
          "name": "stdout"
        },
        {
          "output_type": "display_data",
          "data": {
            "image/png": "[encoded data removed]",
            "text/plain": [
              "<Figure size 432x288 with 1 Axes>"
            ]
          },
          "metadata": {
            "tags": [],
            "needs_background": "light"
          }
        }
      ]
    },
    {
      "cell_type": "code",
      "metadata": {
        "colab": {
          "base_uri": "https://localhost:8080/",
          "height": 485
        },
        "id": "MpIN4_netvoG",
        "outputId": "315f9797-ac4c-4ed1-9dfb-752a7ccadc3d"
      },
      "source": [
        "#feature selection \n",
        "\n",
        "def select_features(X_train, y_train, X_test):\n",
        "    # configure to select all features\n",
        "    fs = SelectKBest(score_func=f_classif, k='all')\n",
        "    # learn relationship from training data\n",
        "    fs.fit(X_train, y_train)\n",
        "    # transform train input data\n",
        "    X_train_fs = fs.transform(X_train)\n",
        "    # transform test input data\n",
        "    X_test_fs = fs.transform(X_test)\n",
        "    return X_train_fs, X_test_fs, fs\n",
        " \n",
        "\n",
        "X_train_fs, X_test_fs, fs = select_features(X_train, y_train, X_test)\n",
        "# what are scores for the features\n",
        "for i in range(len(fs.scores_)):\n",
        "    print('Feature %d: %f' % (i, fs.scores_[i]))\n",
        "# plot the scores\n",
        "pyplot.bar([i for i in range(len(fs.scores_))], fs.scores_)\n",
        "pyplot.show()"
      ],
      "execution_count": null,
      "outputs": [
        {
          "output_type": "stream",
          "text": [
            "Feature 0: 0.286601\n",
            "Feature 1: 0.089414\n",
            "Feature 2: 36075.900252\n",
            "Feature 3: 41365.241769\n",
            "Feature 4: 29433.792617\n",
            "Feature 5: 0.397847\n",
            "Feature 6: 0.004857\n",
            "Feature 7: 0.823220\n",
            "Feature 8: 0.631747\n",
            "Feature 9: 0.409344\n",
            "Feature 10: 0.906795\n",
            "Feature 11: 0.953940\n"
          ],
          "name": "stdout"
        },
        {
          "output_type": "display_data",
          "data": {
            "image/png": "[encoded data removed]",
            "text/plain": [
              "<Figure size 432x288 with 1 Axes>"
            ]
          },
          "metadata": {
            "tags": [],
            "needs_background": "light"
          }
        }
      ]
    },
    {
      "cell_type": "code",
      "metadata": {
        "colab": {
          "base_uri": "https://localhost:8080/"
        },
        "id": "o9cefrNttvoG",
        "outputId": "d2c8f5bf-34b6-4d31-d12b-b982b06465ac"
      },
      "source": [
        "#https://www.dezyre.com/recipes/select-features-using-best-anova-f-values-in-python\n",
        "\n",
        "def ProjectPro_Ex_56():\n",
        "    print()\n",
        "    print('**How we can select features using best ANOVA F-values in Python**')\n",
        "\n",
        "    # loading libraries\n",
        "    from sklearn.datasets import load_iris\n",
        "    from sklearn.feature_selection import SelectKBest\n",
        "    from sklearn.feature_selection import f_classif\n",
        "\n",
        "    # Selecting Features With Best ANOVA F-Values\n",
        "    # Creating an SelectKBest object to select features with two best ANOVA F-Values\n",
        "    fvalue_Best = SelectKBest(f_classif, k='all')\n",
        "    # Applying the SelectKBest object to the features and target\n",
        "    X_kbest = fvalue_Best.fit_transform(X, y)\n",
        "    print(X_kbest)\n",
        "\n",
        "    # Showing results\n",
        "    print('Original number of features:', X.shape)\n",
        "    print('Reduced number of features:', X_kbest.shape)\n",
        "    return X_kbest\n",
        "\n",
        "result = ProjectPro_Ex_56()"
      ],
      "execution_count": null,
      "outputs": [
        {
          "output_type": "stream",
          "text": [
            "\n",
            "**How we can select features using best ANOVA F-values in Python**\n",
            "[[0.         0.         0.34010152 ... 0.16454271 0.24559151 0.30353311]\n",
            " [0.         0.         0.34010152 ... 0.16454271 0.24559151 0.30353311]\n",
            " [0.         0.         0.34010152 ... 0.16454271 0.24559151 0.30353311]\n",
            " ...\n",
            " [1.         1.         0.70050761 ... 0.0880131  0.21338686 0.24436344]\n",
            " [1.         1.         0.70050761 ... 0.07109755 0.27698638 0.50245263]\n",
            " [1.         1.         0.70050761 ... 1.         1.         1.        ]]\n",
            "Original number of features: (35784, 12)\n",
            "Reduced number of features: (35784, 12)\n"
          ],
          "name": "stdout"
        }
      ]
    },
    {
      "cell_type": "code",
      "metadata": {
        "id": "ac3b5gxStvoH"
      },
      "source": [
        "#https://kgptalkie.com/feature-selection-based-on-univariate-anova-test-for-classification-machine-learning-kgp-talkie/\n",
        "\n",
        "import numpy as np\n",
        "import pandas as pd\n",
        "import matplotlib.pyplot as plt\n",
        "import seaborn as sns"
      ],
      "execution_count": null,
      "outputs": []
    },
    {
      "cell_type": "code",
      "metadata": {
        "id": "Om2hK4IntvoI"
      },
      "source": [
        "from sklearn.model_selection import train_test_split\n",
        "from sklearn.ensemble import RandomForestClassifier\n",
        "from sklearn.metrics import accuracy_score\n",
        "from sklearn.feature_selection import VarianceThreshold\n",
        "from sklearn.feature_selection import f_classif, f_regression\n",
        "from sklearn.feature_selection import SelectKBest, SelectPercentile"
      ],
      "execution_count": null,
      "outputs": []
    },
    {
      "cell_type": "code",
      "metadata": {
        "colab": {
          "base_uri": "https://localhost:8080/"
        },
        "id": "gJvj5a8KtvoI",
        "outputId": "dd1c023b-fac7-4369-cdee-ea17d1314f80"
      },
      "source": [
        "X.shape, y.shape"
      ],
      "execution_count": null,
      "outputs": [
        {
          "output_type": "execute_result",
          "data": {
            "text/plain": [
              "((35784, 12), (35784, 1))"
            ]
          },
          "metadata": {
            "tags": []
          },
          "execution_count": 22
        }
      ]
    },
    {
      "cell_type": "code",
      "metadata": {
        "id": "JXkgAHb8tvoJ"
      },
      "source": [
        "X_train, X_test, y_train, y_test = train_test_split(X, y, test_size = 0.5, random_state = 1, stratify = y)"
      ],
      "execution_count": null,
      "outputs": []
    },
    {
      "cell_type": "code",
      "metadata": {
        "id": "aUqeVXjCtvoJ"
      },
      "source": [
        "constant_filter = VarianceThreshold(threshold=0.01)\n",
        "constant_filter.fit(X_train)\n",
        "X_train_filter = constant_filter.transform(X_train)\n",
        "X_test_filter = constant_filter.transform(X_test)"
      ],
      "execution_count": null,
      "outputs": []
    },
    {
      "cell_type": "code",
      "metadata": {
        "colab": {
          "base_uri": "https://localhost:8080/"
        },
        "id": "j6UALVUvtvoJ",
        "outputId": "beca8930-2698-4910-9b03-a48c76054933"
      },
      "source": [
        "X_train_filter.shape, X_test_filter.shape"
      ],
      "execution_count": null,
      "outputs": [
        {
          "output_type": "execute_result",
          "data": {
            "text/plain": [
              "((17892, 12), (17892, 12))"
            ]
          },
          "metadata": {
            "tags": []
          },
          "execution_count": 25
        }
      ]
    },
    {
      "cell_type": "code",
      "metadata": {
        "id": "nFvvpN23tvoK"
      },
      "source": [
        "X_train_T = X_train_filter.T\n",
        "X_test_T = X_test_filter.T"
      ],
      "execution_count": null,
      "outputs": []
    },
    {
      "cell_type": "code",
      "metadata": {
        "id": "FyR9-kX0tvoL"
      },
      "source": [
        "X_train_T = pd.DataFrame(X_train_T)\n",
        "X_test_T = pd.DataFrame(X_test_T)"
      ],
      "execution_count": null,
      "outputs": []
    },
    {
      "cell_type": "code",
      "metadata": {
        "colab": {
          "base_uri": "https://localhost:8080/"
        },
        "id": "YEAhALCitvoN",
        "outputId": "a46372d2-f99b-440c-db5d-2e688f3915fd"
      },
      "source": [
        "X_train_T.duplicated().sum()"
      ],
      "execution_count": null,
      "outputs": [
        {
          "output_type": "execute_result",
          "data": {
            "text/plain": [
              "0"
            ]
          },
          "metadata": {
            "tags": []
          },
          "execution_count": 28
        }
      ]
    },
    {
      "cell_type": "code",
      "metadata": {
        "id": "mgRLU36CtvoO"
      },
      "source": [
        "duplicated_features = X_train_T.duplicated()"
      ],
      "execution_count": null,
      "outputs": []
    },
    {
      "cell_type": "code",
      "metadata": {
        "id": "0eA2WHVVtvoO"
      },
      "source": [
        "features_to_keep = [not index for index in duplicated_features]\n",
        "X_train_unique = X_train_T[features_to_keep].T\n",
        "X_test_unique = X_test_T[features_to_keep].T"
      ],
      "execution_count": null,
      "outputs": []
    },
    {
      "cell_type": "code",
      "metadata": {
        "colab": {
          "base_uri": "https://localhost:8080/"
        },
        "id": "VFQ63j6itvoO",
        "outputId": "70eb64d4-fedd-4625-9134-b5ee4a21c78e"
      },
      "source": [
        "X_train_unique.shape, X_train.shape"
      ],
      "execution_count": null,
      "outputs": [
        {
          "output_type": "execute_result",
          "data": {
            "text/plain": [
              "((17892, 12), (17892, 12))"
            ]
          },
          "metadata": {
            "tags": []
          },
          "execution_count": 31
        }
      ]
    },
    {
      "cell_type": "code",
      "metadata": {
        "colab": {
          "base_uri": "https://localhost:8080/"
        },
        "id": "zVIqGccKtvoP",
        "outputId": "1dc49b05-f591-40f1-e8bb-7861b2c33328"
      },
      "source": [
        "sel = f_classif(X_train_unique, y_train)\n",
        "sel"
      ],
      "execution_count": null,
      "outputs": [
        {
          "output_type": "execute_result",
          "data": {
            "text/plain": [
              "(array([1.56579620e-01, 3.57054103e-01, 3.62278773e+04, 4.16040035e+04,\n",
              "        2.95416375e+04, 9.41215062e-01, 5.21075844e-01, 3.27348209e-01,\n",
              "        2.37387347e-01, 4.75595467e-02, 1.95450533e-01, 2.57441409e-01]),\n",
              " array([0.85506461, 0.69973963, 0.        , 0.        , 0.        ,\n",
              "        0.39017281, 0.59389029, 0.72083702, 0.78868822, 0.95355381,\n",
              "        0.82246578, 0.77302978]))"
            ]
          },
          "metadata": {
            "tags": []
          },
          "execution_count": 32
        }
      ]
    },
    {
      "cell_type": "code",
      "metadata": {
        "id": "Mgkh7bO_tvoP"
      },
      "source": [
        "p_values = pd.Series(sel[1])\n",
        "p_values.index = X_train_unique.columns\n",
        "p_values.sort_values(ascending = True, inplace = True)"
      ],
      "execution_count": null,
      "outputs": []
    },
    {
      "cell_type": "code",
      "metadata": {
        "colab": {
          "base_uri": "https://localhost:8080/",
          "height": 502
        },
        "id": "2z9pazKLtvoQ",
        "outputId": "a1430cc9-2382-4245-d34c-1cc2088f8f8e"
      },
      "source": [
        "p_values.plot.bar(figsize = (8, 8))\n",
        "plt.title('pvalues with respect to features')\n",
        "plt.show()"
      ],
      "execution_count": null,
      "outputs": [
        {
          "output_type": "display_data",
          "data": {
            "image/png": "[encoded data removed]",
            "text/plain": [
              "<Figure size 576x576 with 1 Axes>"
            ]
          },
          "metadata": {
            "tags": [],
            "needs_background": "light"
          }
        }
      ]
    },
    {
      "cell_type": "code",
      "metadata": {
        "id": "opaP-OxWtvoS"
      },
      "source": [
        "p_values = p_values[p_values<0.05]"
      ],
      "execution_count": null,
      "outputs": []
    },
    {
      "cell_type": "code",
      "metadata": {
        "colab": {
          "base_uri": "https://localhost:8080/"
        },
        "id": "vwImSRY4tvoT",
        "outputId": "1f593efb-0a36-4e5a-f354-3a0b9efba6aa"
      },
      "source": [
        "p_values.index"
      ],
      "execution_count": null,
      "outputs": [
        {
          "output_type": "execute_result",
          "data": {
            "text/plain": [
              "Int64Index([2, 3, 4], dtype='int64')"
            ]
          },
          "metadata": {
            "tags": []
          },
          "execution_count": 36
        }
      ]
    },
    {
      "cell_type": "code",
      "metadata": {
        "id": "jeSQbyBOtvoT"
      },
      "source": [
        "X_train_p = X_train_unique[p_values.index]\n",
        "X_test_p = X_test_unique[p_values.index]"
      ],
      "execution_count": null,
      "outputs": []
    },
    {
      "cell_type": "code",
      "metadata": {
        "colab": {
          "base_uri": "https://localhost:8080/"
        },
        "id": "lp2iOt4AtvoU",
        "outputId": "72ca48a2-bdd6-4527-eaf0-2d564916e577"
      },
      "source": [
        "#https://chrisalbon.com/machine_learning/feature_selection/anova_f-value_for_feature_selection/\n",
        "\n",
        "# Create an SelectKBest object to select features with six best ANOVA F-Values\n",
        "fvalue_selector = SelectKBest(f_classif, k=6)\n",
        "\n",
        "# Apply the SelectKBest object to the features and target\n",
        "X_kbest = fvalue_selector.fit_transform(X, y)\n",
        "\n",
        "# Show results\n",
        "print('Original number of features:', X.shape[1])\n",
        "print('Reduced number of features:', X_kbest.shape[1])"
      ],
      "execution_count": null,
      "outputs": [
        {
          "output_type": "stream",
          "text": [
            "Original number of features: 12\n",
            "Reduced number of features: 6\n"
          ],
          "name": "stdout"
        }
      ]
    },
    {
      "cell_type": "markdown",
      "metadata": {
        "id": "px7tlRaPtvoU"
      },
      "source": [
        "# PCA Analysis Below"
      ]
    },
    {
      "cell_type": "code",
      "metadata": {
        "id": "Ij2BWHp6tvoV"
      },
      "source": [
        "from numpy import mean\n",
        "from numpy import std\n",
        "import pandas as pd\n",
        "from sklearn.datasets import make_classification\n",
        "from sklearn.model_selection import cross_val_score\n",
        "from sklearn.model_selection import RepeatedStratifiedKFold\n",
        "from sklearn.pipeline import Pipeline\n",
        "from sklearn.decomposition import PCA\n",
        "from sklearn.linear_model import LogisticRegression\n",
        "from matplotlib import pyplot"
      ],
      "execution_count": null,
      "outputs": []
    },
    {
      "cell_type": "code",
      "metadata": {
        "colab": {
          "base_uri": "https://localhost:8080/",
          "height": 1000
        },
        "id": "lSUDlopXtvoV",
        "outputId": "f5fe917a-c2aa-4ce5-b573-37135205dccf"
      },
      "source": [
        "ny = pd.read_csv('./new_york.csv')\n",
        "ny"
      ],
      "execution_count": null,
      "outputs": [
        {
          "output_type": "execute_result",
          "data": {
            "text/html": [
              "<div>\n",
              "<style scoped>\n",
              "    .dataframe tbody tr th:only-of-type {\n",
              "        vertical-align: middle;\n",
              "    }\n",
              "\n",
              "    .dataframe tbody tr th {\n",
              "        vertical-align: top;\n",
              "    }\n",
              "\n",
              "    .dataframe thead th {\n",
              "        text-align: right;\n",
              "    }\n",
              "</style>\n",
              "<table border=\"1\" class=\"dataframe\">\n",
              "  <thead>\n",
              "    <tr style=\"text-align: right;\">\n",
              "      <th></th>\n",
              "      <th>indicator</th>\n",
              "      <th>group</th>\n",
              "      <th>state</th>\n",
              "      <th>subgroup</th>\n",
              "      <th>phase</th>\n",
              "      <th>time_period</th>\n",
              "      <th>time_period_label</th>\n",
              "      <th>time_period_start_date</th>\n",
              "      <th>time_period_end_date</th>\n",
              "      <th>value</th>\n",
              "      <th>lowci</th>\n",
              "      <th>highci</th>\n",
              "      <th>confidence_interval</th>\n",
              "      <th>quartile_range</th>\n",
              "      <th>age</th>\n",
              "      <th>CASE_RATE</th>\n",
              "      <th>HOSPITALIZED_RATE</th>\n",
              "      <th>DEATH_RATE</th>\n",
              "      <th>date</th>\n",
              "      <th>CASE_COUNT</th>\n",
              "      <th>HOSPITALIZED_COUNT</th>\n",
              "      <th>DEATH_COUNT</th>\n",
              "      <th>counts</th>\n",
              "      <th>sentiment__negative</th>\n",
              "      <th>sentiment__positive</th>\n",
              "    </tr>\n",
              "  </thead>\n",
              "  <tbody>\n",
              "    <tr>\n",
              "      <th>0</th>\n",
              "      <td>Symptoms of Depressive Disorder</td>\n",
              "      <td>By State</td>\n",
              "      <td>New York</td>\n",
              "      <td>New York</td>\n",
              "      <td>1</td>\n",
              "      <td>1.0</td>\n",
              "      <td>Apr 23 - May 5</td>\n",
              "      <td>2020-04-23T00:00:00.000</td>\n",
              "      <td>2020-05-05T00:00:00.000</td>\n",
              "      <td>28.7</td>\n",
              "      <td>24.6</td>\n",
              "      <td>33.1</td>\n",
              "      <td>24.6 - 33.1</td>\n",
              "      <td>24.1 - 28.7</td>\n",
              "      <td>18 - 29 years</td>\n",
              "      <td>171.46</td>\n",
              "      <td>13.55</td>\n",
              "      <td>0.23</td>\n",
              "      <td>2020-04-23</td>\n",
              "      <td>90629.21686</td>\n",
              "      <td>19942.175032</td>\n",
              "      <td>6754.809134</td>\n",
              "      <td>295066.0</td>\n",
              "      <td>500.0</td>\n",
              "      <td>50.0</td>\n",
              "    </tr>\n",
              "    <tr>\n",
              "      <th>1</th>\n",
              "      <td>Symptoms of Depressive Disorder</td>\n",
              "      <td>By State</td>\n",
              "      <td>New York</td>\n",
              "      <td>New York</td>\n",
              "      <td>1</td>\n",
              "      <td>1.0</td>\n",
              "      <td>Apr 23 - May 5</td>\n",
              "      <td>2020-04-23T00:00:00.000</td>\n",
              "      <td>2020-05-05T00:00:00.000</td>\n",
              "      <td>28.7</td>\n",
              "      <td>24.6</td>\n",
              "      <td>33.1</td>\n",
              "      <td>24.6 - 33.1</td>\n",
              "      <td>24.1 - 28.7</td>\n",
              "      <td>18 - 29 years</td>\n",
              "      <td>1554.45</td>\n",
              "      <td>153.69</td>\n",
              "      <td>12.88</td>\n",
              "      <td>2020-04-23</td>\n",
              "      <td>90629.21686</td>\n",
              "      <td>19942.175032</td>\n",
              "      <td>6754.809134</td>\n",
              "      <td>295066.0</td>\n",
              "      <td>500.0</td>\n",
              "      <td>50.0</td>\n",
              "    </tr>\n",
              "    <tr>\n",
              "      <th>2</th>\n",
              "      <td>Symptoms of Depressive Disorder</td>\n",
              "      <td>By State</td>\n",
              "      <td>New York</td>\n",
              "      <td>New York</td>\n",
              "      <td>1</td>\n",
              "      <td>1.0</td>\n",
              "      <td>Apr 23 - May 5</td>\n",
              "      <td>2020-04-23T00:00:00.000</td>\n",
              "      <td>2020-05-05T00:00:00.000</td>\n",
              "      <td>28.7</td>\n",
              "      <td>24.6</td>\n",
              "      <td>33.1</td>\n",
              "      <td>24.6 - 33.1</td>\n",
              "      <td>24.1 - 28.7</td>\n",
              "      <td>18 - 29 years</td>\n",
              "      <td>2529.03</td>\n",
              "      <td>630.34</td>\n",
              "      <td>113.37</td>\n",
              "      <td>2020-04-23</td>\n",
              "      <td>90629.21686</td>\n",
              "      <td>19942.175032</td>\n",
              "      <td>6754.809134</td>\n",
              "      <td>295066.0</td>\n",
              "      <td>500.0</td>\n",
              "      <td>50.0</td>\n",
              "    </tr>\n",
              "    <tr>\n",
              "      <th>3</th>\n",
              "      <td>Symptoms of Depressive Disorder</td>\n",
              "      <td>By State</td>\n",
              "      <td>New York</td>\n",
              "      <td>New York</td>\n",
              "      <td>1</td>\n",
              "      <td>1.0</td>\n",
              "      <td>Apr 23 - May 5</td>\n",
              "      <td>2020-04-23T00:00:00.000</td>\n",
              "      <td>2020-05-05T00:00:00.000</td>\n",
              "      <td>28.7</td>\n",
              "      <td>24.6</td>\n",
              "      <td>33.1</td>\n",
              "      <td>24.6 - 33.1</td>\n",
              "      <td>24.1 - 28.7</td>\n",
              "      <td>18 - 29 years</td>\n",
              "      <td>2552.64</td>\n",
              "      <td>1192.50</td>\n",
              "      <td>364.17</td>\n",
              "      <td>2020-04-23</td>\n",
              "      <td>90629.21686</td>\n",
              "      <td>19942.175032</td>\n",
              "      <td>6754.809134</td>\n",
              "      <td>295066.0</td>\n",
              "      <td>500.0</td>\n",
              "      <td>50.0</td>\n",
              "    </tr>\n",
              "    <tr>\n",
              "      <th>4</th>\n",
              "      <td>Symptoms of Depressive Disorder</td>\n",
              "      <td>By State</td>\n",
              "      <td>New York</td>\n",
              "      <td>New York</td>\n",
              "      <td>1</td>\n",
              "      <td>1.0</td>\n",
              "      <td>Apr 23 - May 5</td>\n",
              "      <td>2020-04-23T00:00:00.000</td>\n",
              "      <td>2020-05-05T00:00:00.000</td>\n",
              "      <td>28.7</td>\n",
              "      <td>24.6</td>\n",
              "      <td>33.1</td>\n",
              "      <td>24.6 - 33.1</td>\n",
              "      <td>24.1 - 28.7</td>\n",
              "      <td>18 - 29 years</td>\n",
              "      <td>2976.74</td>\n",
              "      <td>1830.07</td>\n",
              "      <td>909.18</td>\n",
              "      <td>2020-04-23</td>\n",
              "      <td>90629.21686</td>\n",
              "      <td>19942.175032</td>\n",
              "      <td>6754.809134</td>\n",
              "      <td>295066.0</td>\n",
              "      <td>500.0</td>\n",
              "      <td>50.0</td>\n",
              "    </tr>\n",
              "    <tr>\n",
              "      <th>...</th>\n",
              "      <td>...</td>\n",
              "      <td>...</td>\n",
              "      <td>...</td>\n",
              "      <td>...</td>\n",
              "      <td>...</td>\n",
              "      <td>...</td>\n",
              "      <td>...</td>\n",
              "      <td>...</td>\n",
              "      <td>...</td>\n",
              "      <td>...</td>\n",
              "      <td>...</td>\n",
              "      <td>...</td>\n",
              "      <td>...</td>\n",
              "      <td>...</td>\n",
              "      <td>...</td>\n",
              "      <td>...</td>\n",
              "      <td>...</td>\n",
              "      <td>...</td>\n",
              "      <td>...</td>\n",
              "      <td>...</td>\n",
              "      <td>...</td>\n",
              "      <td>...</td>\n",
              "      <td>...</td>\n",
              "      <td>...</td>\n",
              "      <td>...</td>\n",
              "    </tr>\n",
              "    <tr>\n",
              "      <th>35779</th>\n",
              "      <td>Symptoms of Anxiety Disorder or Depressive Dis...</td>\n",
              "      <td>By State</td>\n",
              "      <td>New York</td>\n",
              "      <td>New York</td>\n",
              "      <td>3 (Jan 6 � Feb 1)</td>\n",
              "      <td>23.0</td>\n",
              "      <td>Jan 20 - Feb 1</td>\n",
              "      <td>2021-01-20T00:00:00.000</td>\n",
              "      <td>2021-02-01T00:00:00.000</td>\n",
              "      <td>35.8</td>\n",
              "      <td>32.0</td>\n",
              "      <td>39.7</td>\n",
              "      <td>32.0 - 39.7</td>\n",
              "      <td>28.8-37.6</td>\n",
              "      <td>80 years and above</td>\n",
              "      <td>20207.72</td>\n",
              "      <td>1160.60</td>\n",
              "      <td>67.68</td>\n",
              "      <td>2021-02-01</td>\n",
              "      <td>224684.00000</td>\n",
              "      <td>13326.000000</td>\n",
              "      <td>794.000000</td>\n",
              "      <td>419169.0</td>\n",
              "      <td>501.0</td>\n",
              "      <td>49.0</td>\n",
              "    </tr>\n",
              "    <tr>\n",
              "      <th>35780</th>\n",
              "      <td>Symptoms of Anxiety Disorder or Depressive Dis...</td>\n",
              "      <td>By State</td>\n",
              "      <td>New York</td>\n",
              "      <td>New York</td>\n",
              "      <td>3 (Jan 6 � Feb 1)</td>\n",
              "      <td>23.0</td>\n",
              "      <td>Jan 20 - Feb 1</td>\n",
              "      <td>2021-01-20T00:00:00.000</td>\n",
              "      <td>2021-02-01T00:00:00.000</td>\n",
              "      <td>35.8</td>\n",
              "      <td>32.0</td>\n",
              "      <td>39.7</td>\n",
              "      <td>32.0 - 39.7</td>\n",
              "      <td>28.8-37.6</td>\n",
              "      <td>80 years and above</td>\n",
              "      <td>15941.19</td>\n",
              "      <td>2540.10</td>\n",
              "      <td>476.51</td>\n",
              "      <td>2021-02-01</td>\n",
              "      <td>161559.00000</td>\n",
              "      <td>25652.000000</td>\n",
              "      <td>4800.000000</td>\n",
              "      <td>419169.0</td>\n",
              "      <td>501.0</td>\n",
              "      <td>49.0</td>\n",
              "    </tr>\n",
              "    <tr>\n",
              "      <th>35781</th>\n",
              "      <td>Symptoms of Anxiety Disorder or Depressive Dis...</td>\n",
              "      <td>By State</td>\n",
              "      <td>New York</td>\n",
              "      <td>New York</td>\n",
              "      <td>3 (Jan 6 � Feb 1)</td>\n",
              "      <td>23.0</td>\n",
              "      <td>Jan 20 - Feb 1</td>\n",
              "      <td>2021-01-20T00:00:00.000</td>\n",
              "      <td>2021-02-01T00:00:00.000</td>\n",
              "      <td>35.8</td>\n",
              "      <td>32.0</td>\n",
              "      <td>39.7</td>\n",
              "      <td>32.0 - 39.7</td>\n",
              "      <td>28.8-37.6</td>\n",
              "      <td>80 years and above</td>\n",
              "      <td>7067.11</td>\n",
              "      <td>2418.35</td>\n",
              "      <td>756.82</td>\n",
              "      <td>2021-02-01</td>\n",
              "      <td>50798.00000</td>\n",
              "      <td>17383.000000</td>\n",
              "      <td>5440.000000</td>\n",
              "      <td>419169.0</td>\n",
              "      <td>501.0</td>\n",
              "      <td>49.0</td>\n",
              "    </tr>\n",
              "    <tr>\n",
              "      <th>35782</th>\n",
              "      <td>Symptoms of Anxiety Disorder or Depressive Dis...</td>\n",
              "      <td>By State</td>\n",
              "      <td>New York</td>\n",
              "      <td>New York</td>\n",
              "      <td>3 (Jan 6 � Feb 1)</td>\n",
              "      <td>23.0</td>\n",
              "      <td>Jan 20 - Feb 1</td>\n",
              "      <td>2021-01-20T00:00:00.000</td>\n",
              "      <td>2021-02-01T00:00:00.000</td>\n",
              "      <td>35.8</td>\n",
              "      <td>32.0</td>\n",
              "      <td>39.7</td>\n",
              "      <td>32.0 - 39.7</td>\n",
              "      <td>28.8-37.6</td>\n",
              "      <td>80 years and above</td>\n",
              "      <td>7477.43</td>\n",
              "      <td>3995.12</td>\n",
              "      <td>1989.81</td>\n",
              "      <td>2021-02-01</td>\n",
              "      <td>41994.00000</td>\n",
              "      <td>22437.000000</td>\n",
              "      <td>11175.000000</td>\n",
              "      <td>419169.0</td>\n",
              "      <td>501.0</td>\n",
              "      <td>49.0</td>\n",
              "    </tr>\n",
              "    <tr>\n",
              "      <th>35783</th>\n",
              "      <td>Symptoms of Anxiety Disorder or Depressive Dis...</td>\n",
              "      <td>By State</td>\n",
              "      <td>New York</td>\n",
              "      <td>New York</td>\n",
              "      <td>3 (Jan 6 � Feb 1)</td>\n",
              "      <td>23.0</td>\n",
              "      <td>Jan 20 - Feb 1</td>\n",
              "      <td>2021-01-20T00:00:00.000</td>\n",
              "      <td>2021-02-01T00:00:00.000</td>\n",
              "      <td>35.8</td>\n",
              "      <td>32.0</td>\n",
              "      <td>39.7</td>\n",
              "      <td>32.0 - 39.7</td>\n",
              "      <td>28.8-37.6</td>\n",
              "      <td>80 years and above</td>\n",
              "      <td>6302.86</td>\n",
              "      <td>958.30</td>\n",
              "      <td>266.66</td>\n",
              "      <td>2021-02-01</td>\n",
              "      <td>525458.00000</td>\n",
              "      <td>79892.000000</td>\n",
              "      <td>22231.000000</td>\n",
              "      <td>419169.0</td>\n",
              "      <td>501.0</td>\n",
              "      <td>49.0</td>\n",
              "    </tr>\n",
              "  </tbody>\n",
              "</table>\n",
              "<p>35784 rows × 25 columns</p>\n",
              "</div>"
            ],
            "text/plain": [
              "                                               indicator  ... sentiment__positive\n",
              "0                        Symptoms of Depressive Disorder  ...                50.0\n",
              "1                        Symptoms of Depressive Disorder  ...                50.0\n",
              "2                        Symptoms of Depressive Disorder  ...                50.0\n",
              "3                        Symptoms of Depressive Disorder  ...                50.0\n",
              "4                        Symptoms of Depressive Disorder  ...                50.0\n",
              "...                                                  ...  ...                 ...\n",
              "35779  Symptoms of Anxiety Disorder or Depressive Dis...  ...                49.0\n",
              "35780  Symptoms of Anxiety Disorder or Depressive Dis...  ...                49.0\n",
              "35781  Symptoms of Anxiety Disorder or Depressive Dis...  ...                49.0\n",
              "35782  Symptoms of Anxiety Disorder or Depressive Dis...  ...                49.0\n",
              "35783  Symptoms of Anxiety Disorder or Depressive Dis...  ...                49.0\n",
              "\n",
              "[35784 rows x 25 columns]"
            ]
          },
          "metadata": {
            "tags": []
          },
          "execution_count": 2
        }
      ]
    },
    {
      "cell_type": "code",
      "metadata": {
        "colab": {
          "base_uri": "https://localhost:8080/"
        },
        "id": "DenM70wutvoW",
        "outputId": "dfbcd7b8-feb5-449b-ba6b-5203a15369c7"
      },
      "source": [
        "ny[\"indicator\"].replace({\"Symptoms of Anxiety Disorder\": \"0\", \"Symptoms of Depressive Disorder\": \"1\", \"Symptoms of Anxiety Disorder or Depressive Disorder\": \"2\"}, inplace=True)\n",
        "ny[\"age\"].replace({\"18 - 29 years\": \"29\", \"30 - 39 years\": \"39\", \"40 - 49 years\": \"49\", \"50 - 59 years\":\"59\",\"60 - 69 years\":\"69\",\"70 - 79 years\":\"79\",\"80 years and above\":\"80\"}, inplace=True)\n",
        "\n",
        "data_to_use = ny\n",
        "del data_to_use['group']\n",
        "del data_to_use['state']\n",
        "del data_to_use['subgroup']\n",
        "del data_to_use['time_period_label']\n",
        "del data_to_use['confidence_interval']\n",
        "del data_to_use['quartile_range']\n",
        "del data_to_use['counts']\n",
        "del data_to_use['sentiment__negative']\n",
        "del data_to_use['sentiment__positive']\n",
        "\n",
        "\n",
        "ny = data_to_use\n",
        "ny.info()"
      ],
      "execution_count": null,
      "outputs": [
        {
          "output_type": "stream",
          "text": [
            "<class 'pandas.core.frame.DataFrame'>\n",
            "RangeIndex: 35784 entries, 0 to 35783\n",
            "Data columns (total 16 columns):\n",
            " #   Column                  Non-Null Count  Dtype  \n",
            "---  ------                  --------------  -----  \n",
            " 0   indicator               35784 non-null  object \n",
            " 1   phase                   35784 non-null  object \n",
            " 2   time_period             35784 non-null  float64\n",
            " 3   time_period_start_date  35784 non-null  object \n",
            " 4   time_period_end_date    35784 non-null  object \n",
            " 5   value                   35784 non-null  float64\n",
            " 6   lowci                   35784 non-null  float64\n",
            " 7   highci                  35784 non-null  float64\n",
            " 8   age                     35784 non-null  object \n",
            " 9   CASE_RATE               35784 non-null  float64\n",
            " 10  HOSPITALIZED_RATE       35784 non-null  float64\n",
            " 11  DEATH_RATE              33957 non-null  float64\n",
            " 12  date                    35784 non-null  object \n",
            " 13  CASE_COUNT              35784 non-null  float64\n",
            " 14  HOSPITALIZED_COUNT      35784 non-null  float64\n",
            " 15  DEATH_COUNT             35784 non-null  float64\n",
            "dtypes: float64(10), object(6)\n",
            "memory usage: 4.4+ MB\n"
          ],
          "name": "stdout"
        }
      ]
    },
    {
      "cell_type": "code",
      "metadata": {
        "id": "QTYJcvlKtvoX"
      },
      "source": [
        "ny['DEATH_RATE'].fillna((ny['DEATH_RATE'].mean()), inplace=True)\n",
        "#Add this cell after API change\n",
        "ny.loc[ny['phase'] == ('Oct 28 � Dec 21'), 'phase'] = 3\n",
        "ny.loc[ny['phase'] == ('3 (Oct 28 � Dec 21)'), 'phase'] = 4\n",
        "ny.loc[ny['phase'] == ('3 (Jan 6 � Feb 1)'), 'phase'] = 5\n",
        "ny.rename(columns = {'counts':'twitter_count'}, inplace = True)\n",
        "\n",
        "from sklearn import preprocessing\n",
        "\n",
        "ny[\"age\"] = ny['age'].astype(float)\n",
        "ny[\"phase\"] = ny['phase'].astype(float)\n",
        "ny[\"indicator\"] = ny['indicator'].astype(float)\n",
        "ny[\"time_period\"] = ny['time_period'].astype(float)"
      ],
      "execution_count": null,
      "outputs": []
    },
    {
      "cell_type": "code",
      "metadata": {
        "colab": {
          "base_uri": "https://localhost:8080/",
          "height": 444
        },
        "id": "xWFTzb2_tvoX",
        "outputId": "7a6a7844-f63b-442c-ee02-10ba3d30bdc1"
      },
      "source": [
        "ny = ny[['phase', 'time_period', 'value', 'lowci', 'highci', 'age', 'CASE_RATE', 'HOSPITALIZED_RATE','DEATH_RATE','CASE_COUNT','HOSPITALIZED_COUNT','DEATH_COUNT','indicator']]\n",
        "ny"
      ],
      "execution_count": null,
      "outputs": [
        {
          "output_type": "execute_result",
          "data": {
            "text/html": [
              "<div>\n",
              "<style scoped>\n",
              "    .dataframe tbody tr th:only-of-type {\n",
              "        vertical-align: middle;\n",
              "    }\n",
              "\n",
              "    .dataframe tbody tr th {\n",
              "        vertical-align: top;\n",
              "    }\n",
              "\n",
              "    .dataframe thead th {\n",
              "        text-align: right;\n",
              "    }\n",
              "</style>\n",
              "<table border=\"1\" class=\"dataframe\">\n",
              "  <thead>\n",
              "    <tr style=\"text-align: right;\">\n",
              "      <th></th>\n",
              "      <th>phase</th>\n",
              "      <th>time_period</th>\n",
              "      <th>value</th>\n",
              "      <th>lowci</th>\n",
              "      <th>highci</th>\n",
              "      <th>age</th>\n",
              "      <th>CASE_RATE</th>\n",
              "      <th>HOSPITALIZED_RATE</th>\n",
              "      <th>DEATH_RATE</th>\n",
              "      <th>CASE_COUNT</th>\n",
              "      <th>HOSPITALIZED_COUNT</th>\n",
              "      <th>DEATH_COUNT</th>\n",
              "      <th>indicator</th>\n",
              "    </tr>\n",
              "  </thead>\n",
              "  <tbody>\n",
              "    <tr>\n",
              "      <th>0</th>\n",
              "      <td>1.0</td>\n",
              "      <td>1.0</td>\n",
              "      <td>28.7</td>\n",
              "      <td>24.6</td>\n",
              "      <td>33.1</td>\n",
              "      <td>29.0</td>\n",
              "      <td>171.46</td>\n",
              "      <td>13.55</td>\n",
              "      <td>0.23</td>\n",
              "      <td>90629.21686</td>\n",
              "      <td>19942.175032</td>\n",
              "      <td>6754.809134</td>\n",
              "      <td>1.0</td>\n",
              "    </tr>\n",
              "    <tr>\n",
              "      <th>1</th>\n",
              "      <td>1.0</td>\n",
              "      <td>1.0</td>\n",
              "      <td>28.7</td>\n",
              "      <td>24.6</td>\n",
              "      <td>33.1</td>\n",
              "      <td>29.0</td>\n",
              "      <td>1554.45</td>\n",
              "      <td>153.69</td>\n",
              "      <td>12.88</td>\n",
              "      <td>90629.21686</td>\n",
              "      <td>19942.175032</td>\n",
              "      <td>6754.809134</td>\n",
              "      <td>1.0</td>\n",
              "    </tr>\n",
              "    <tr>\n",
              "      <th>2</th>\n",
              "      <td>1.0</td>\n",
              "      <td>1.0</td>\n",
              "      <td>28.7</td>\n",
              "      <td>24.6</td>\n",
              "      <td>33.1</td>\n",
              "      <td>29.0</td>\n",
              "      <td>2529.03</td>\n",
              "      <td>630.34</td>\n",
              "      <td>113.37</td>\n",
              "      <td>90629.21686</td>\n",
              "      <td>19942.175032</td>\n",
              "      <td>6754.809134</td>\n",
              "      <td>1.0</td>\n",
              "    </tr>\n",
              "    <tr>\n",
              "      <th>3</th>\n",
              "      <td>1.0</td>\n",
              "      <td>1.0</td>\n",
              "      <td>28.7</td>\n",
              "      <td>24.6</td>\n",
              "      <td>33.1</td>\n",
              "      <td>29.0</td>\n",
              "      <td>2552.64</td>\n",
              "      <td>1192.50</td>\n",
              "      <td>364.17</td>\n",
              "      <td>90629.21686</td>\n",
              "      <td>19942.175032</td>\n",
              "      <td>6754.809134</td>\n",
              "      <td>1.0</td>\n",
              "    </tr>\n",
              "    <tr>\n",
              "      <th>4</th>\n",
              "      <td>1.0</td>\n",
              "      <td>1.0</td>\n",
              "      <td>28.7</td>\n",
              "      <td>24.6</td>\n",
              "      <td>33.1</td>\n",
              "      <td>29.0</td>\n",
              "      <td>2976.74</td>\n",
              "      <td>1830.07</td>\n",
              "      <td>909.18</td>\n",
              "      <td>90629.21686</td>\n",
              "      <td>19942.175032</td>\n",
              "      <td>6754.809134</td>\n",
              "      <td>1.0</td>\n",
              "    </tr>\n",
              "    <tr>\n",
              "      <th>...</th>\n",
              "      <td>...</td>\n",
              "      <td>...</td>\n",
              "      <td>...</td>\n",
              "      <td>...</td>\n",
              "      <td>...</td>\n",
              "      <td>...</td>\n",
              "      <td>...</td>\n",
              "      <td>...</td>\n",
              "      <td>...</td>\n",
              "      <td>...</td>\n",
              "      <td>...</td>\n",
              "      <td>...</td>\n",
              "      <td>...</td>\n",
              "    </tr>\n",
              "    <tr>\n",
              "      <th>35779</th>\n",
              "      <td>5.0</td>\n",
              "      <td>23.0</td>\n",
              "      <td>35.8</td>\n",
              "      <td>32.0</td>\n",
              "      <td>39.7</td>\n",
              "      <td>80.0</td>\n",
              "      <td>20207.72</td>\n",
              "      <td>1160.60</td>\n",
              "      <td>67.68</td>\n",
              "      <td>224684.00000</td>\n",
              "      <td>13326.000000</td>\n",
              "      <td>794.000000</td>\n",
              "      <td>2.0</td>\n",
              "    </tr>\n",
              "    <tr>\n",
              "      <th>35780</th>\n",
              "      <td>5.0</td>\n",
              "      <td>23.0</td>\n",
              "      <td>35.8</td>\n",
              "      <td>32.0</td>\n",
              "      <td>39.7</td>\n",
              "      <td>80.0</td>\n",
              "      <td>15941.19</td>\n",
              "      <td>2540.10</td>\n",
              "      <td>476.51</td>\n",
              "      <td>161559.00000</td>\n",
              "      <td>25652.000000</td>\n",
              "      <td>4800.000000</td>\n",
              "      <td>2.0</td>\n",
              "    </tr>\n",
              "    <tr>\n",
              "      <th>35781</th>\n",
              "      <td>5.0</td>\n",
              "      <td>23.0</td>\n",
              "      <td>35.8</td>\n",
              "      <td>32.0</td>\n",
              "      <td>39.7</td>\n",
              "      <td>80.0</td>\n",
              "      <td>7067.11</td>\n",
              "      <td>2418.35</td>\n",
              "      <td>756.82</td>\n",
              "      <td>50798.00000</td>\n",
              "      <td>17383.000000</td>\n",
              "      <td>5440.000000</td>\n",
              "      <td>2.0</td>\n",
              "    </tr>\n",
              "    <tr>\n",
              "      <th>35782</th>\n",
              "      <td>5.0</td>\n",
              "      <td>23.0</td>\n",
              "      <td>35.8</td>\n",
              "      <td>32.0</td>\n",
              "      <td>39.7</td>\n",
              "      <td>80.0</td>\n",
              "      <td>7477.43</td>\n",
              "      <td>3995.12</td>\n",
              "      <td>1989.81</td>\n",
              "      <td>41994.00000</td>\n",
              "      <td>22437.000000</td>\n",
              "      <td>11175.000000</td>\n",
              "      <td>2.0</td>\n",
              "    </tr>\n",
              "    <tr>\n",
              "      <th>35783</th>\n",
              "      <td>5.0</td>\n",
              "      <td>23.0</td>\n",
              "      <td>35.8</td>\n",
              "      <td>32.0</td>\n",
              "      <td>39.7</td>\n",
              "      <td>80.0</td>\n",
              "      <td>6302.86</td>\n",
              "      <td>958.30</td>\n",
              "      <td>266.66</td>\n",
              "      <td>525458.00000</td>\n",
              "      <td>79892.000000</td>\n",
              "      <td>22231.000000</td>\n",
              "      <td>2.0</td>\n",
              "    </tr>\n",
              "  </tbody>\n",
              "</table>\n",
              "<p>35784 rows × 13 columns</p>\n",
              "</div>"
            ],
            "text/plain": [
              "       phase  time_period  value  ...  HOSPITALIZED_COUNT   DEATH_COUNT  indicator\n",
              "0        1.0          1.0   28.7  ...        19942.175032   6754.809134        1.0\n",
              "1        1.0          1.0   28.7  ...        19942.175032   6754.809134        1.0\n",
              "2        1.0          1.0   28.7  ...        19942.175032   6754.809134        1.0\n",
              "3        1.0          1.0   28.7  ...        19942.175032   6754.809134        1.0\n",
              "4        1.0          1.0   28.7  ...        19942.175032   6754.809134        1.0\n",
              "...      ...          ...    ...  ...                 ...           ...        ...\n",
              "35779    5.0         23.0   35.8  ...        13326.000000    794.000000        2.0\n",
              "35780    5.0         23.0   35.8  ...        25652.000000   4800.000000        2.0\n",
              "35781    5.0         23.0   35.8  ...        17383.000000   5440.000000        2.0\n",
              "35782    5.0         23.0   35.8  ...        22437.000000  11175.000000        2.0\n",
              "35783    5.0         23.0   35.8  ...        79892.000000  22231.000000        2.0\n",
              "\n",
              "[35784 rows x 13 columns]"
            ]
          },
          "metadata": {
            "tags": []
          },
          "execution_count": 5
        }
      ]
    },
    {
      "cell_type": "code",
      "metadata": {
        "id": "vrN2RUzotvoY"
      },
      "source": [
        "values = ny.values\n",
        " \n",
        "Y = values[:,12]\n",
        "X = values[:,0:11]\n",
        "\n",
        "import pandas as pd\n",
        "from sklearn import preprocessing\n",
        "from sklearn.preprocessing import StandardScaler\n",
        "\n",
        "min_max_scaler = preprocessing.MinMaxScaler()\n",
        "#x = StandardScaler().fit_transform(x)\n",
        "x_scaled = StandardScaler().fit_transform(X)\n",
        "X = pd.DataFrame(x_scaled)"
      ],
      "execution_count": null,
      "outputs": []
    },
    {
      "cell_type": "code",
      "metadata": {
        "colab": {
          "base_uri": "https://localhost:8080/",
          "height": 424
        },
        "id": "fxfF8C1StvoY",
        "outputId": "016f1212-0f4e-4bbe-f02d-3e4a5e90f476"
      },
      "source": [
        "X"
      ],
      "execution_count": null,
      "outputs": [
        {
          "output_type": "execute_result",
          "data": {
            "text/html": [
              "<div>\n",
              "<style scoped>\n",
              "    .dataframe tbody tr th:only-of-type {\n",
              "        vertical-align: middle;\n",
              "    }\n",
              "\n",
              "    .dataframe tbody tr th {\n",
              "        vertical-align: top;\n",
              "    }\n",
              "\n",
              "    .dataframe thead th {\n",
              "        text-align: right;\n",
              "    }\n",
              "</style>\n",
              "<table border=\"1\" class=\"dataframe\">\n",
              "  <thead>\n",
              "    <tr style=\"text-align: right;\">\n",
              "      <th></th>\n",
              "      <th>0</th>\n",
              "      <th>1</th>\n",
              "      <th>2</th>\n",
              "      <th>3</th>\n",
              "      <th>4</th>\n",
              "      <th>5</th>\n",
              "      <th>6</th>\n",
              "      <th>7</th>\n",
              "      <th>8</th>\n",
              "      <th>9</th>\n",
              "      <th>10</th>\n",
              "    </tr>\n",
              "  </thead>\n",
              "  <tbody>\n",
              "    <tr>\n",
              "      <th>0</th>\n",
              "      <td>-1.046623</td>\n",
              "      <td>-2.028335</td>\n",
              "      <td>-0.519765</td>\n",
              "      <td>-0.617653</td>\n",
              "      <td>-0.412523</td>\n",
              "      <td>-1.574064</td>\n",
              "      <td>-1.255775</td>\n",
              "      <td>-1.196508</td>\n",
              "      <td>-0.878629</td>\n",
              "      <td>-3.168163e-16</td>\n",
              "      <td>4.000775e-16</td>\n",
              "    </tr>\n",
              "    <tr>\n",
              "      <th>1</th>\n",
              "      <td>-1.046623</td>\n",
              "      <td>-2.028335</td>\n",
              "      <td>-0.519765</td>\n",
              "      <td>-0.617653</td>\n",
              "      <td>-0.412523</td>\n",
              "      <td>-1.574064</td>\n",
              "      <td>-0.837174</td>\n",
              "      <td>-1.056190</td>\n",
              "      <td>-0.856327</td>\n",
              "      <td>-3.168163e-16</td>\n",
              "      <td>4.000775e-16</td>\n",
              "    </tr>\n",
              "    <tr>\n",
              "      <th>2</th>\n",
              "      <td>-1.046623</td>\n",
              "      <td>-2.028335</td>\n",
              "      <td>-0.519765</td>\n",
              "      <td>-0.617653</td>\n",
              "      <td>-0.412523</td>\n",
              "      <td>-1.574064</td>\n",
              "      <td>-0.542190</td>\n",
              "      <td>-0.578936</td>\n",
              "      <td>-0.679167</td>\n",
              "      <td>-3.168163e-16</td>\n",
              "      <td>4.000775e-16</td>\n",
              "    </tr>\n",
              "    <tr>\n",
              "      <th>3</th>\n",
              "      <td>-1.046623</td>\n",
              "      <td>-2.028335</td>\n",
              "      <td>-0.519765</td>\n",
              "      <td>-0.617653</td>\n",
              "      <td>-0.412523</td>\n",
              "      <td>-1.574064</td>\n",
              "      <td>-0.535043</td>\n",
              "      <td>-0.016063</td>\n",
              "      <td>-0.237016</td>\n",
              "      <td>-3.168163e-16</td>\n",
              "      <td>4.000775e-16</td>\n",
              "    </tr>\n",
              "    <tr>\n",
              "      <th>4</th>\n",
              "      <td>-1.046623</td>\n",
              "      <td>-2.028335</td>\n",
              "      <td>-0.519765</td>\n",
              "      <td>-0.617653</td>\n",
              "      <td>-0.412523</td>\n",
              "      <td>-1.574064</td>\n",
              "      <td>-0.406678</td>\n",
              "      <td>0.622315</td>\n",
              "      <td>0.723818</td>\n",
              "      <td>-3.168163e-16</td>\n",
              "      <td>4.000775e-16</td>\n",
              "    </tr>\n",
              "    <tr>\n",
              "      <th>...</th>\n",
              "      <td>...</td>\n",
              "      <td>...</td>\n",
              "      <td>...</td>\n",
              "      <td>...</td>\n",
              "      <td>...</td>\n",
              "      <td>...</td>\n",
              "      <td>...</td>\n",
              "      <td>...</td>\n",
              "      <td>...</td>\n",
              "      <td>...</td>\n",
              "      <td>...</td>\n",
              "    </tr>\n",
              "    <tr>\n",
              "      <th>35779</th>\n",
              "      <td>1.655567</td>\n",
              "      <td>1.392188</td>\n",
              "      <td>0.725645</td>\n",
              "      <td>0.752476</td>\n",
              "      <td>0.685975</td>\n",
              "      <td>1.221661</td>\n",
              "      <td>4.808764</td>\n",
              "      <td>-0.048004</td>\n",
              "      <td>-0.759717</td>\n",
              "      <td>1.459284e+00</td>\n",
              "      <td>-3.637985e-01</td>\n",
              "    </tr>\n",
              "    <tr>\n",
              "      <th>35780</th>\n",
              "      <td>1.655567</td>\n",
              "      <td>1.392188</td>\n",
              "      <td>0.725645</td>\n",
              "      <td>0.752476</td>\n",
              "      <td>0.685975</td>\n",
              "      <td>1.221661</td>\n",
              "      <td>3.517378</td>\n",
              "      <td>1.333245</td>\n",
              "      <td>-0.038964</td>\n",
              "      <td>7.721221e-01</td>\n",
              "      <td>3.139617e-01</td>\n",
              "    </tr>\n",
              "    <tr>\n",
              "      <th>35781</th>\n",
              "      <td>1.655567</td>\n",
              "      <td>1.392188</td>\n",
              "      <td>0.725645</td>\n",
              "      <td>0.752476</td>\n",
              "      <td>0.685975</td>\n",
              "      <td>1.221661</td>\n",
              "      <td>0.831388</td>\n",
              "      <td>1.211341</td>\n",
              "      <td>0.455212</td>\n",
              "      <td>-4.335917e-01</td>\n",
              "      <td>-1.407194e-01</td>\n",
              "    </tr>\n",
              "    <tr>\n",
              "      <th>35782</th>\n",
              "      <td>1.655567</td>\n",
              "      <td>1.392188</td>\n",
              "      <td>0.725645</td>\n",
              "      <td>0.752476</td>\n",
              "      <td>0.685975</td>\n",
              "      <td>1.221661</td>\n",
              "      <td>0.955583</td>\n",
              "      <td>2.790110</td>\n",
              "      <td>2.628930</td>\n",
              "      <td>-5.294296e-01</td>\n",
              "      <td>1.371810e-01</td>\n",
              "    </tr>\n",
              "    <tr>\n",
              "      <th>35783</th>\n",
              "      <td>1.655567</td>\n",
              "      <td>1.392188</td>\n",
              "      <td>0.725645</td>\n",
              "      <td>0.752476</td>\n",
              "      <td>0.685975</td>\n",
              "      <td>1.221661</td>\n",
              "      <td>0.600066</td>\n",
              "      <td>-0.250560</td>\n",
              "      <td>-0.408922</td>\n",
              "      <td>4.733427e+00</td>\n",
              "      <td>3.296415e+00</td>\n",
              "    </tr>\n",
              "  </tbody>\n",
              "</table>\n",
              "<p>35784 rows × 11 columns</p>\n",
              "</div>"
            ],
            "text/plain": [
              "             0         1         2   ...        8             9             10\n",
              "0     -1.046623 -2.028335 -0.519765  ... -0.878629 -3.168163e-16  4.000775e-16\n",
              "1     -1.046623 -2.028335 -0.519765  ... -0.856327 -3.168163e-16  4.000775e-16\n",
              "2     -1.046623 -2.028335 -0.519765  ... -0.679167 -3.168163e-16  4.000775e-16\n",
              "3     -1.046623 -2.028335 -0.519765  ... -0.237016 -3.168163e-16  4.000775e-16\n",
              "4     -1.046623 -2.028335 -0.519765  ...  0.723818 -3.168163e-16  4.000775e-16\n",
              "...         ...       ...       ...  ...       ...           ...           ...\n",
              "35779  1.655567  1.392188  0.725645  ... -0.759717  1.459284e+00 -3.637985e-01\n",
              "35780  1.655567  1.392188  0.725645  ... -0.038964  7.721221e-01  3.139617e-01\n",
              "35781  1.655567  1.392188  0.725645  ...  0.455212 -4.335917e-01 -1.407194e-01\n",
              "35782  1.655567  1.392188  0.725645  ...  2.628930 -5.294296e-01  1.371810e-01\n",
              "35783  1.655567  1.392188  0.725645  ... -0.408922  4.733427e+00  3.296415e+00\n",
              "\n",
              "[35784 rows x 11 columns]"
            ]
          },
          "metadata": {
            "tags": []
          },
          "execution_count": 7
        }
      ]
    },
    {
      "cell_type": "code",
      "metadata": {
        "id": "U70oban6l1VX"
      },
      "source": [
        "cluster_df = X"
      ],
      "execution_count": null,
      "outputs": []
    },
    {
      "cell_type": "code",
      "metadata": {
        "id": "WnHNYX8etvoZ"
      },
      "source": [
        "from sklearn.decomposition import PCA\n",
        "\n",
        "pca = PCA(n_components=2)\n",
        "principalComponents = pca.fit_transform(X)\n",
        "\n",
        "principalDf = pd.DataFrame(data = principalComponents\n",
        "             , columns = ['PC1', 'PC2'])"
      ],
      "execution_count": null,
      "outputs": []
    },
    {
      "cell_type": "code",
      "metadata": {
        "id": "VAZNjj7AtvoZ"
      },
      "source": [
        "finalDf = pd.concat([principalDf, ny[['indicator']]], axis = 1)"
      ],
      "execution_count": null,
      "outputs": []
    },
    {
      "cell_type": "code",
      "metadata": {
        "colab": {
          "base_uri": "https://localhost:8080/",
          "height": 424
        },
        "id": "3pr7Ghpetvoa",
        "outputId": "022ea412-cdd3-49b4-8516-142090205791"
      },
      "source": [
        "finalDf"
      ],
      "execution_count": null,
      "outputs": [
        {
          "output_type": "execute_result",
          "data": {
            "text/html": [
              "<div>\n",
              "<style scoped>\n",
              "    .dataframe tbody tr th:only-of-type {\n",
              "        vertical-align: middle;\n",
              "    }\n",
              "\n",
              "    .dataframe tbody tr th {\n",
              "        vertical-align: top;\n",
              "    }\n",
              "\n",
              "    .dataframe thead th {\n",
              "        text-align: right;\n",
              "    }\n",
              "</style>\n",
              "<table border=\"1\" class=\"dataframe\">\n",
              "  <thead>\n",
              "    <tr style=\"text-align: right;\">\n",
              "      <th></th>\n",
              "      <th>PC1</th>\n",
              "      <th>PC2</th>\n",
              "      <th>indicator</th>\n",
              "    </tr>\n",
              "  </thead>\n",
              "  <tbody>\n",
              "    <tr>\n",
              "      <th>0</th>\n",
              "      <td>-2.280133</td>\n",
              "      <td>-1.959285</td>\n",
              "      <td>1.0</td>\n",
              "    </tr>\n",
              "    <tr>\n",
              "      <th>1</th>\n",
              "      <td>-2.141880</td>\n",
              "      <td>-1.739945</td>\n",
              "      <td>1.0</td>\n",
              "    </tr>\n",
              "    <tr>\n",
              "      <th>2</th>\n",
              "      <td>-1.956870</td>\n",
              "      <td>-1.399967</td>\n",
              "      <td>1.0</td>\n",
              "    </tr>\n",
              "    <tr>\n",
              "      <th>3</th>\n",
              "      <td>-1.798810</td>\n",
              "      <td>-1.061538</td>\n",
              "      <td>1.0</td>\n",
              "    </tr>\n",
              "    <tr>\n",
              "      <th>4</th>\n",
              "      <td>-1.528919</td>\n",
              "      <td>-0.495138</td>\n",
              "      <td>1.0</td>\n",
              "    </tr>\n",
              "    <tr>\n",
              "      <th>...</th>\n",
              "      <td>...</td>\n",
              "      <td>...</td>\n",
              "      <td>...</td>\n",
              "    </tr>\n",
              "    <tr>\n",
              "      <th>35779</th>\n",
              "      <td>3.202578</td>\n",
              "      <td>2.257716</td>\n",
              "      <td>2.0</td>\n",
              "    </tr>\n",
              "    <tr>\n",
              "      <th>35780</th>\n",
              "      <td>3.181432</td>\n",
              "      <td>2.476547</td>\n",
              "      <td>2.0</td>\n",
              "    </tr>\n",
              "    <tr>\n",
              "      <th>35781</th>\n",
              "      <td>2.369157</td>\n",
              "      <td>1.441021</td>\n",
              "      <td>2.0</td>\n",
              "    </tr>\n",
              "    <tr>\n",
              "      <th>35782</th>\n",
              "      <td>2.970185</td>\n",
              "      <td>2.718918</td>\n",
              "      <td>2.0</td>\n",
              "    </tr>\n",
              "    <tr>\n",
              "      <th>35783</th>\n",
              "      <td>2.662399</td>\n",
              "      <td>1.086144</td>\n",
              "      <td>2.0</td>\n",
              "    </tr>\n",
              "  </tbody>\n",
              "</table>\n",
              "<p>35784 rows × 3 columns</p>\n",
              "</div>"
            ],
            "text/plain": [
              "            PC1       PC2  indicator\n",
              "0     -2.280133 -1.959285        1.0\n",
              "1     -2.141880 -1.739945        1.0\n",
              "2     -1.956870 -1.399967        1.0\n",
              "3     -1.798810 -1.061538        1.0\n",
              "4     -1.528919 -0.495138        1.0\n",
              "...         ...       ...        ...\n",
              "35779  3.202578  2.257716        2.0\n",
              "35780  3.181432  2.476547        2.0\n",
              "35781  2.369157  1.441021        2.0\n",
              "35782  2.970185  2.718918        2.0\n",
              "35783  2.662399  1.086144        2.0\n",
              "\n",
              "[35784 rows x 3 columns]"
            ]
          },
          "metadata": {
            "tags": []
          },
          "execution_count": 11
        }
      ]
    },
    {
      "cell_type": "code",
      "metadata": {
        "colab": {
          "base_uri": "https://localhost:8080/",
          "height": 246
        },
        "id": "Cyceu0Mktvoa",
        "outputId": "7a9112d4-6c93-4d22-942d-a0d0c9021878"
      },
      "source": [
        "plt.figure(figsize=(8,6))\n",
        "targets = ['Anxiety', 'Depression', 'Anxiety or Depression']\n",
        "plt.scatter(finalDf.iloc[:,0],finalDf.iloc[:,1],\n",
        "            c=finalDf['indicator'],\n",
        "            cmap='rainbow'\n",
        "           )\n",
        "plt.xlabel('First principal component')\n",
        "plt.ylabel('Second Principal Component')\n",
        "pass;"
      ],
      "execution_count": null,
      "outputs": [
        {
          "output_type": "error",
          "ename": "NameError",
          "evalue": "ignored",
          "traceback": [
            "\u001b[0;31m---------------------------------------------------------------------------\u001b[0m",
            "\u001b[0;31mNameError\u001b[0m                                 Traceback (most recent call last)",
            "\u001b[0;32m<ipython-input-12-345d69eb148d>\u001b[0m in \u001b[0;36m<module>\u001b[0;34m()\u001b[0m\n\u001b[0;32m----> 1\u001b[0;31m \u001b[0mplt\u001b[0m\u001b[0;34m.\u001b[0m\u001b[0mfigure\u001b[0m\u001b[0;34m(\u001b[0m\u001b[0mfigsize\u001b[0m\u001b[0;34m=\u001b[0m\u001b[0;34m(\u001b[0m\u001b[0;36m8\u001b[0m\u001b[0;34m,\u001b[0m\u001b[0;36m6\u001b[0m\u001b[0;34m)\u001b[0m\u001b[0;34m)\u001b[0m\u001b[0;34m\u001b[0m\u001b[0;34m\u001b[0m\u001b[0m\n\u001b[0m\u001b[1;32m      2\u001b[0m \u001b[0mtargets\u001b[0m \u001b[0;34m=\u001b[0m \u001b[0;34m[\u001b[0m\u001b[0;34m'Anxiety'\u001b[0m\u001b[0;34m,\u001b[0m \u001b[0;34m'Depression'\u001b[0m\u001b[0;34m,\u001b[0m \u001b[0;34m'Anxiety or Depression'\u001b[0m\u001b[0;34m]\u001b[0m\u001b[0;34m\u001b[0m\u001b[0;34m\u001b[0m\u001b[0m\n\u001b[1;32m      3\u001b[0m plt.scatter(finalDf.iloc[:,0],finalDf.iloc[:,1],\n\u001b[1;32m      4\u001b[0m             \u001b[0mc\u001b[0m\u001b[0;34m=\u001b[0m\u001b[0mfinalDf\u001b[0m\u001b[0;34m[\u001b[0m\u001b[0;34m'indicator'\u001b[0m\u001b[0;34m]\u001b[0m\u001b[0;34m,\u001b[0m\u001b[0;34m\u001b[0m\u001b[0;34m\u001b[0m\u001b[0m\n\u001b[1;32m      5\u001b[0m             \u001b[0mcmap\u001b[0m\u001b[0;34m=\u001b[0m\u001b[0;34m'rainbow'\u001b[0m\u001b[0;34m\u001b[0m\u001b[0;34m\u001b[0m\u001b[0m\n",
            "\u001b[0;31mNameError\u001b[0m: name 'plt' is not defined"
          ]
        }
      ]
    },
    {
      "cell_type": "code",
      "metadata": {
        "colab": {
          "base_uri": "https://localhost:8080/",
          "height": 246
        },
        "id": "TxWWzcDWtvoc",
        "outputId": "65d2da94-2700-462f-edff-e379a91d162d"
      },
      "source": [
        "import seaborn as sns\n",
        "plt.figure(figsize=(8,6))\n",
        "sns.scatterplot(\n",
        "    x=\"PC1\", y=\"PC2\",\n",
        "    hue=\"indicator\",\n",
        "    palette=sns.color_palette(\"hls\", 3),\n",
        "    data=finalDf,\n",
        "    legend=\"full\",\n",
        "    alpha=0.3\n",
        ")"
      ],
      "execution_count": null,
      "outputs": [
        {
          "output_type": "error",
          "ename": "NameError",
          "evalue": "ignored",
          "traceback": [
            "\u001b[0;31m---------------------------------------------------------------------------\u001b[0m",
            "\u001b[0;31mNameError\u001b[0m                                 Traceback (most recent call last)",
            "\u001b[0;32m<ipython-input-13-1f9fd2d93c95>\u001b[0m in \u001b[0;36m<module>\u001b[0;34m()\u001b[0m\n\u001b[1;32m      1\u001b[0m \u001b[0;32mimport\u001b[0m \u001b[0mseaborn\u001b[0m \u001b[0;32mas\u001b[0m \u001b[0msns\u001b[0m\u001b[0;34m\u001b[0m\u001b[0;34m\u001b[0m\u001b[0m\n\u001b[0;32m----> 2\u001b[0;31m \u001b[0mplt\u001b[0m\u001b[0;34m.\u001b[0m\u001b[0mfigure\u001b[0m\u001b[0;34m(\u001b[0m\u001b[0mfigsize\u001b[0m\u001b[0;34m=\u001b[0m\u001b[0;34m(\u001b[0m\u001b[0;36m8\u001b[0m\u001b[0;34m,\u001b[0m\u001b[0;36m6\u001b[0m\u001b[0;34m)\u001b[0m\u001b[0;34m)\u001b[0m\u001b[0;34m\u001b[0m\u001b[0;34m\u001b[0m\u001b[0m\n\u001b[0m\u001b[1;32m      3\u001b[0m sns.scatterplot(\n\u001b[1;32m      4\u001b[0m     \u001b[0mx\u001b[0m\u001b[0;34m=\u001b[0m\u001b[0;34m\"PC1\"\u001b[0m\u001b[0;34m,\u001b[0m \u001b[0my\u001b[0m\u001b[0;34m=\u001b[0m\u001b[0;34m\"PC2\"\u001b[0m\u001b[0;34m,\u001b[0m\u001b[0;34m\u001b[0m\u001b[0;34m\u001b[0m\u001b[0m\n\u001b[1;32m      5\u001b[0m     \u001b[0mhue\u001b[0m\u001b[0;34m=\u001b[0m\u001b[0;34m\"indicator\"\u001b[0m\u001b[0;34m,\u001b[0m\u001b[0;34m\u001b[0m\u001b[0;34m\u001b[0m\u001b[0m\n",
            "\u001b[0;31mNameError\u001b[0m: name 'plt' is not defined"
          ]
        }
      ]
    },
    {
      "cell_type": "code",
      "metadata": {
        "id": "LYTAWb_otvod"
      },
      "source": [
        "pca.explained_variance_ratio_"
      ],
      "execution_count": null,
      "outputs": []
    },
    {
      "cell_type": "code",
      "metadata": {
        "colab": {
          "base_uri": "https://localhost:8080/",
          "height": 246
        },
        "id": "ymUCklCRtvoe",
        "outputId": "e5a2fd15-d4f9-4001-a3bc-8c66b3134235"
      },
      "source": [
        "import plotly.express as px\n",
        "from sklearn.decomposition import PCA\n",
        "\n",
        "\n",
        "pca = PCA()\n",
        "components = pca.fit_transform(ny[feature_names])\n",
        "labels = {\n",
        "    str(i): f\"PC {i+1} ({var:.1f}%)\"\n",
        "    for i, var in enumerate(pca.explained_variance_ratio_ * 100)\n",
        "}\n",
        "\n",
        "fig = px.scatter_matrix(\n",
        "    components,\n",
        "    labels=labels,\n",
        "    dimensions=range(2),\n",
        "    color=ny[\"indicator\"]\n",
        ")\n",
        "fig.update_traces(diagonal_visible=False)\n",
        "fig.show()"
      ],
      "execution_count": null,
      "outputs": [
        {
          "output_type": "error",
          "ename": "NameError",
          "evalue": "ignored",
          "traceback": [
            "\u001b[0;31m---------------------------------------------------------------------------\u001b[0m",
            "\u001b[0;31mNameError\u001b[0m                                 Traceback (most recent call last)",
            "\u001b[0;32m<ipython-input-14-58f3a3838a7b>\u001b[0m in \u001b[0;36m<module>\u001b[0;34m()\u001b[0m\n\u001b[1;32m      4\u001b[0m \u001b[0;34m\u001b[0m\u001b[0m\n\u001b[1;32m      5\u001b[0m \u001b[0mpca\u001b[0m \u001b[0;34m=\u001b[0m \u001b[0mPCA\u001b[0m\u001b[0;34m(\u001b[0m\u001b[0;34m)\u001b[0m\u001b[0;34m\u001b[0m\u001b[0;34m\u001b[0m\u001b[0m\n\u001b[0;32m----> 6\u001b[0;31m \u001b[0mcomponents\u001b[0m \u001b[0;34m=\u001b[0m \u001b[0mpca\u001b[0m\u001b[0;34m.\u001b[0m\u001b[0mfit_transform\u001b[0m\u001b[0;34m(\u001b[0m\u001b[0mny\u001b[0m\u001b[0;34m[\u001b[0m\u001b[0mfeature_names\u001b[0m\u001b[0;34m]\u001b[0m\u001b[0;34m)\u001b[0m\u001b[0;34m\u001b[0m\u001b[0;34m\u001b[0m\u001b[0m\n\u001b[0m\u001b[1;32m      7\u001b[0m labels = {\n\u001b[1;32m      8\u001b[0m     \u001b[0mstr\u001b[0m\u001b[0;34m(\u001b[0m\u001b[0mi\u001b[0m\u001b[0;34m)\u001b[0m\u001b[0;34m:\u001b[0m \u001b[0;34mf\"PC {i+1} ({var:.1f}%)\"\u001b[0m\u001b[0;34m\u001b[0m\u001b[0;34m\u001b[0m\u001b[0m\n",
            "\u001b[0;31mNameError\u001b[0m: name 'feature_names' is not defined"
          ]
        }
      ]
    },
    {
      "cell_type": "code",
      "metadata": {
        "colab": {
          "base_uri": "https://localhost:8080/"
        },
        "id": "a3bbeFGdtvog",
        "outputId": "0718ff55-734d-4cfc-9a0a-ba9693e43035"
      },
      "source": [
        "\n",
        "values = finalDf.values\n",
        " \n",
        "Y = values[:,-1]\n",
        "X = values[:,0:2]\n",
        "Y"
      ],
      "execution_count": null,
      "outputs": [
        {
          "output_type": "execute_result",
          "data": {
            "text/plain": [
              "array([1., 1., 1., ..., 2., 2., 2.])"
            ]
          },
          "metadata": {
            "tags": []
          },
          "execution_count": 15
        }
      ]
    },
    {
      "cell_type": "code",
      "metadata": {
        "colab": {
          "base_uri": "https://localhost:8080/"
        },
        "id": "jRdWvDOOl1M1",
        "outputId": "cbd27a35-b6d8-4b40-91d9-d0476bf20915"
      },
      "source": [
        "X"
      ],
      "execution_count": null,
      "outputs": [
        {
          "output_type": "execute_result",
          "data": {
            "text/plain": [
              "array([[-2.28013281, -1.95928524],\n",
              "       [-2.14187953, -1.73994476],\n",
              "       [-1.95686961, -1.39996711],\n",
              "       ...,\n",
              "       [ 2.36915657,  1.44102143],\n",
              "       [ 2.97018547,  2.71891842],\n",
              "       [ 2.66239893,  1.08614425]])"
            ]
          },
          "metadata": {
            "tags": []
          },
          "execution_count": 16
        }
      ]
    },
    {
      "cell_type": "code",
      "metadata": {
        "id": "t8XFT8w-tvoh"
      },
      "source": [
        "import pandas as pd\n",
        "from sklearn import metrics\n",
        "from sklearn.cluster import KMeans\n",
        "import matplotlib.pyplot as plt"
      ],
      "execution_count": null,
      "outputs": []
    },
    {
      "cell_type": "code",
      "metadata": {
        "id": "nZIaq-5Qtvoh"
      },
      "source": [
        "finalDf2 = finalDf\n",
        "finalDf3 = finalDf "
      ],
      "execution_count": null,
      "outputs": []
    },
    {
      "cell_type": "code",
      "metadata": {
        "id": "AvLSOfzqtvoi"
      },
      "source": [
        "from sklearn.cluster import KMeans\n",
        "kmeans = KMeans(n_clusters=3)\n",
        "kmeans.fit(X,Y)\n",
        "y_kmeans = kmeans.predict(X)"
      ],
      "execution_count": null,
      "outputs": []
    },
    {
      "cell_type": "code",
      "metadata": {
        "colab": {
          "base_uri": "https://localhost:8080/",
          "height": 265
        },
        "id": "jI0D2Lpqtvoi",
        "outputId": "edd8d13a-c85a-4897-9624-374398490f0c"
      },
      "source": [
        "plt.scatter(finalDf.iloc[:,0], finalDf.iloc[:,1], c=y_kmeans, s=50, cmap='gist_rainbow')\n",
        "\n",
        "centers = kmeans.cluster_centers_\n",
        "plt.scatter(centers[:, 0], centers[:, -1], c='blue', s=200, alpha=0.5);"
      ],
      "execution_count": null,
      "outputs": [
        {
          "output_type": "display_data",
          "data": {
            "image/png": "[encoded data removed]",
            "text/plain": [
              "<Figure size 432x288 with 1 Axes>"
            ]
          },
          "metadata": {
            "tags": [],
            "needs_background": "light"
          }
        }
      ]
    },
    {
      "cell_type": "code",
      "metadata": {
        "colab": {
          "base_uri": "https://localhost:8080/"
        },
        "id": "s00qpsfHmWf8",
        "outputId": "725b7a4d-0d3f-40b9-fa50-993b6e0605be"
      },
      "source": [
        "from sklearn.metrics import accuracy_score\n",
        "from sklearn.metrics import classification_report\n",
        "from sklearn.metrics import confusion_matrix\n",
        "\n",
        "acc = accuracy_score(finalDf.iloc[:,2] , y_kmeans)\n",
        "print(\"Accuracy:\",accuracy_score(finalDf.iloc[:,2] , y_kmeans))\n",
        "print(classification_report(finalDf.iloc[:,2] , y_kmeans))\n",
        "print(confusion_matrix(finalDf.iloc[:,2] , y_kmeans))"
      ],
      "execution_count": null,
      "outputs": [
        {
          "output_type": "stream",
          "text": [
            "Accuracy: 0.18916275430359938\n",
            "              precision    recall  f1-score   support\n",
            "\n",
            "         0.0       0.43      0.53      0.47     11928\n",
            "         1.0       0.05      0.04      0.05     11928\n",
            "         2.0       0.00      0.00      0.00     11928\n",
            "\n",
            "    accuracy                           0.19     35784\n",
            "   macro avg       0.16      0.19      0.17     35784\n",
            "weighted avg       0.16      0.19      0.17     35784\n",
            "\n",
            "[[ 6279  4200  1449]\n",
            " [ 1288   490 10150]\n",
            " [ 6993  4935     0]]\n"
          ],
          "name": "stdout"
        }
      ]
    },
    {
      "cell_type": "code",
      "metadata": {
        "id": "26ylgXqYlrD1",
        "colab": {
          "base_uri": "https://localhost:8080/"
        },
        "outputId": "2e9d4f7f-b2d4-4c82-bdc3-d8c80e0c2a54"
      },
      "source": [
        "# K meansfrom sklearn.cluster import KMeans\n",
        "from sklearn.metrics import silhouette_score \n",
        "from sklearn.metrics import calinski_harabasz_score\n",
        "from sklearn.metrics import davies_bouldin_score\n",
        "# Fit K-Means\n",
        "kmeans_1 = KMeans(n_clusters=3,random_state= 42)\n",
        "# Use fit_predict to cluster the dataset\n",
        "predictions = kmeans_1.fit_predict(cluster_df)\n",
        "# Calculate cluster validation metrics\n",
        "score_kemans_s = silhouette_score(cluster_df, kmeans_1.labels_, metric='euclidean')\n",
        "score_kemans_c = calinski_harabasz_score(cluster_df, kmeans_1.labels_)\n",
        "score_kemans_d = davies_bouldin_score(cluster_df, predictions)\n",
        "print('Silhouette Score: %.4f' % score_kemans_s)\n",
        "print('Calinski Harabasz Score: %.4f' % score_kemans_c)\n",
        "print('Davies Bouldin Score: %.4f' % score_kemans_d)"
      ],
      "execution_count": null,
      "outputs": [
        {
          "output_type": "stream",
          "text": [
            "Silhouette Score: 0.2023\n",
            "Calinski Harabasz Score: 8916.7504\n",
            "Davies Bouldin Score: 1.6260\n"
          ],
          "name": "stdout"
        }
      ]
    },
    {
      "cell_type": "code",
      "metadata": {
        "id": "EPggK_-A0oHB"
      },
      "source": [
        "finalDf['cluster'] = y_kmeans\n",
        "finalDf['indicator'] = finalDf['indicator'] + 1\n",
        "finalDf['cluster'] = finalDf['cluster'] + 1"
      ],
      "execution_count": null,
      "outputs": []
    },
    {
      "cell_type": "code",
      "metadata": {
        "colab": {
          "base_uri": "https://localhost:8080/"
        },
        "id": "t6IbK9ym0vJ0",
        "outputId": "5a81d2d8-ed8c-4299-c221-5caeca673fe3"
      },
      "source": [
        "import math\n",
        "def get_entropys(df_clustered, label_col_name='indicator', cluster_col_name='cluster', cluster_values=range(1,3,1)):\n",
        "    p = [[round(df_clustered[(df_clustered[label_col_name]==label) & (df_clustered[cluster_col_name]==cluster)].shape[0]/\n",
        "                df_clustered[df_clustered[cluster_col_name]==cluster].shape[0],3) for label in cluster_values] for cluster in cluster_values]\n",
        "    p_log_p = [[p_i*math.log(p_i) for p_i in p_i_s if p_i!=0] for p_i_s in p]\n",
        "    e = [-round(sum(p_log_p_i),3) for p_log_p_i in p_log_p]\n",
        "    return e\n",
        "  \n",
        "entropys_5 = get_entropys(finalDf, label_col_name='indicator', cluster_col_name='cluster', cluster_values=range(1,3,1))\n",
        "print(\"Clusters' Entropy\")\n",
        "print(\"Entropy: {0:.3f}\".format(min(entropys_5)))"
      ],
      "execution_count": null,
      "outputs": [
        {
          "output_type": "stream",
          "text": [
            "Clusters' Entropy\n",
            "Entropy: 0.377\n"
          ],
          "name": "stdout"
        }
      ]
    },
    {
      "cell_type": "code",
      "metadata": {
        "colab": {
          "base_uri": "https://localhost:8080/"
        },
        "id": "kLeIkAKqDPSo",
        "outputId": "c6dffb1f-5807-49ca-f6dd-0eee90c73c36"
      },
      "source": [
        "import numpy as np\n",
        "from sklearn import metrics\n",
        "\n",
        "def purity_score(y_true, y_pred):\n",
        "    # compute contingency matrix (also called confusion matrix)\n",
        "    contingency_matrix = metrics.cluster.contingency_matrix(y_true, y_pred)\n",
        "    # return purity\n",
        "    return np.sum(np.amax(contingency_matrix, axis=0)) / np.sum(contingency_matrix) \n",
        "\n",
        "purity = purity_score(finalDf['indicator'], finalDf['cluster'])\n",
        "print(\"The purity is:\",purity)"
      ],
      "execution_count": null,
      "outputs": [
        {
          "output_type": "stream",
          "text": [
            "The purity is: 0.61697965571205\n"
          ],
          "name": "stdout"
        }
      ]
    },
    {
      "cell_type": "code",
      "metadata": {
        "colab": {
          "base_uri": "https://localhost:8080/"
        },
        "id": "ovYHN6hLDUx7",
        "outputId": "332a603e-0c17-4772-dc53-d228182f30fd"
      },
      "source": [
        "from sklearn.metrics.cluster import v_measure_score\n",
        "v_measure = v_measure_score(finalDf['indicator'], finalDf['cluster'])\n",
        "print(\"The v_measure is:\",v_measure)"
      ],
      "execution_count": null,
      "outputs": [
        {
          "output_type": "stream",
          "text": [
            "The v_measure is: 0.33727263075389413\n"
          ],
          "name": "stdout"
        }
      ]
    },
    {
      "cell_type": "code",
      "metadata": {
        "colab": {
          "base_uri": "https://localhost:8080/"
        },
        "id": "pL2vZHVWDX_d",
        "outputId": "71ec5cf3-ac76-4d8b-a8d5-f75017d4961a"
      },
      "source": [
        "from sklearn.metrics.cluster import adjusted_rand_score\n",
        "randScore = adjusted_rand_score(finalDf['indicator'], finalDf['cluster'])\n",
        "print(\"The rand_score is:\",randScore)"
      ],
      "execution_count": null,
      "outputs": [
        {
          "output_type": "stream",
          "text": [
            "The rand_score is: 0.31730196619316403\n"
          ],
          "name": "stdout"
        }
      ]
    },
    {
      "cell_type": "code",
      "metadata": {
        "id": "epe_NuKRtvol"
      },
      "source": [
        "from sklearn.datasets import load_iris\n",
        "from sklearn.cluster import AgglomerativeClustering\n",
        "import numpy as np\n",
        "import matplotlib.pyplot as plt"
      ],
      "execution_count": null,
      "outputs": []
    },
    {
      "cell_type": "code",
      "metadata": {
        "id": "OEa1iB_Ntvom"
      },
      "source": [
        "df = finalDf\n",
        "labels_final = df['indicator'].values\n",
        "#df = df[:,0:1]\n",
        "#del df['indicator']\n",
        "df = df.drop(['indicator'], axis=1)"
      ],
      "execution_count": null,
      "outputs": []
    },
    {
      "cell_type": "code",
      "metadata": {
        "colab": {
          "base_uri": "https://localhost:8080/",
          "height": 424
        },
        "id": "jKNShkDjtvom",
        "outputId": "f1c36045-d997-4385-ead0-dc6dd17d8d04"
      },
      "source": [
        "df"
      ],
      "execution_count": null,
      "outputs": [
        {
          "output_type": "execute_result",
          "data": {
            "text/html": [
              "<div>\n",
              "<style scoped>\n",
              "    .dataframe tbody tr th:only-of-type {\n",
              "        vertical-align: middle;\n",
              "    }\n",
              "\n",
              "    .dataframe tbody tr th {\n",
              "        vertical-align: top;\n",
              "    }\n",
              "\n",
              "    .dataframe thead th {\n",
              "        text-align: right;\n",
              "    }\n",
              "</style>\n",
              "<table border=\"1\" class=\"dataframe\">\n",
              "  <thead>\n",
              "    <tr style=\"text-align: right;\">\n",
              "      <th></th>\n",
              "      <th>PC1</th>\n",
              "      <th>PC2</th>\n",
              "      <th>cluster</th>\n",
              "    </tr>\n",
              "  </thead>\n",
              "  <tbody>\n",
              "    <tr>\n",
              "      <th>0</th>\n",
              "      <td>-2.280133</td>\n",
              "      <td>-1.959285</td>\n",
              "      <td>3</td>\n",
              "    </tr>\n",
              "    <tr>\n",
              "      <th>1</th>\n",
              "      <td>-2.141880</td>\n",
              "      <td>-1.739945</td>\n",
              "      <td>3</td>\n",
              "    </tr>\n",
              "    <tr>\n",
              "      <th>2</th>\n",
              "      <td>-1.956870</td>\n",
              "      <td>-1.399967</td>\n",
              "      <td>3</td>\n",
              "    </tr>\n",
              "    <tr>\n",
              "      <th>3</th>\n",
              "      <td>-1.798810</td>\n",
              "      <td>-1.061538</td>\n",
              "      <td>3</td>\n",
              "    </tr>\n",
              "    <tr>\n",
              "      <th>4</th>\n",
              "      <td>-1.528919</td>\n",
              "      <td>-0.495138</td>\n",
              "      <td>2</td>\n",
              "    </tr>\n",
              "    <tr>\n",
              "      <th>...</th>\n",
              "      <td>...</td>\n",
              "      <td>...</td>\n",
              "      <td>...</td>\n",
              "    </tr>\n",
              "    <tr>\n",
              "      <th>35779</th>\n",
              "      <td>3.202578</td>\n",
              "      <td>2.257716</td>\n",
              "      <td>1</td>\n",
              "    </tr>\n",
              "    <tr>\n",
              "      <th>35780</th>\n",
              "      <td>3.181432</td>\n",
              "      <td>2.476547</td>\n",
              "      <td>1</td>\n",
              "    </tr>\n",
              "    <tr>\n",
              "      <th>35781</th>\n",
              "      <td>2.369157</td>\n",
              "      <td>1.441021</td>\n",
              "      <td>1</td>\n",
              "    </tr>\n",
              "    <tr>\n",
              "      <th>35782</th>\n",
              "      <td>2.970185</td>\n",
              "      <td>2.718918</td>\n",
              "      <td>1</td>\n",
              "    </tr>\n",
              "    <tr>\n",
              "      <th>35783</th>\n",
              "      <td>2.662399</td>\n",
              "      <td>1.086144</td>\n",
              "      <td>1</td>\n",
              "    </tr>\n",
              "  </tbody>\n",
              "</table>\n",
              "<p>35784 rows × 3 columns</p>\n",
              "</div>"
            ],
            "text/plain": [
              "            PC1       PC2  cluster\n",
              "0     -2.280133 -1.959285        3\n",
              "1     -2.141880 -1.739945        3\n",
              "2     -1.956870 -1.399967        3\n",
              "3     -1.798810 -1.061538        3\n",
              "4     -1.528919 -0.495138        2\n",
              "...         ...       ...      ...\n",
              "35779  3.202578  2.257716        1\n",
              "35780  3.181432  2.476547        1\n",
              "35781  2.369157  1.441021        1\n",
              "35782  2.970185  2.718918        1\n",
              "35783  2.662399  1.086144        1\n",
              "\n",
              "[35784 rows x 3 columns]"
            ]
          },
          "metadata": {
            "tags": []
          },
          "execution_count": 69
        }
      ]
    },
    {
      "cell_type": "code",
      "metadata": {
        "id": "j6f8KVBGtvom"
      },
      "source": [
        "#Creating the model\n",
        " \n",
        "agg_clustering = AgglomerativeClustering(n_clusters = 3, affinity = 'euclidean', linkage = 'complete')\n",
        " \n",
        "#predicting the labels\n",
        " \n",
        "labels = agg_clustering.fit_predict(X, Y)"
      ],
      "execution_count": null,
      "outputs": []
    },
    {
      "cell_type": "code",
      "metadata": {
        "colab": {
          "base_uri": "https://localhost:8080/"
        },
        "id": "qye8SSTvtvom",
        "outputId": "0a12351f-17e1-42dd-bee1-892c48aa3d0f"
      },
      "source": [
        "labels"
      ],
      "execution_count": null,
      "outputs": [
        {
          "output_type": "execute_result",
          "data": {
            "text/plain": [
              "array([0, 0, 0, ..., 1, 1, 1])"
            ]
          },
          "metadata": {
            "tags": []
          },
          "execution_count": 25
        }
      ]
    },
    {
      "cell_type": "code",
      "metadata": {
        "colab": {
          "base_uri": "https://localhost:8080/"
        },
        "id": "XuDskvc8ZdeC",
        "outputId": "38e72666-a7ce-4ae7-a408-ba700a3ec7b9"
      },
      "source": [
        "def countX(lst, x):\n",
        "    count = 0\n",
        "    for ele in lst:\n",
        "        if (ele == x):\n",
        "            count = count + 1\n",
        "    return count\n",
        "\n",
        "print('{} has occurred {} times'.format(0, countX(labels, 0)))\n",
        "print('{} has occurred {} times'.format(1, countX(labels, 1)))\n",
        "print('{} has occurred {} times'.format(2, countX(labels, 2)))"
      ],
      "execution_count": null,
      "outputs": [
        {
          "output_type": "stream",
          "text": [
            "0 has occurred 18984 times\n",
            "1 has occurred 10402 times\n",
            "2 has occurred 6398 times\n"
          ],
          "name": "stdout"
        }
      ]
    },
    {
      "cell_type": "code",
      "metadata": {
        "colab": {
          "base_uri": "https://localhost:8080/"
        },
        "id": "y-m5VRZVnV9-",
        "outputId": "58b6e4f3-a1de-4389-8807-766e04715d6d"
      },
      "source": [
        "print(\"Accuracy:\",accuracy_score(finalDf.iloc[:,2] , labels))\n",
        "print(classification_report(finalDf.iloc[:,2] , labels))\n",
        "print(confusion_matrix(finalDf.iloc[:,2] , labels))"
      ],
      "execution_count": null,
      "outputs": [
        {
          "output_type": "stream",
          "text": [
            "Accuracy: 0.2104851330203443\n",
            "              precision    recall  f1-score   support\n",
            "\n",
            "         0.0       0.37      0.59      0.46     11928\n",
            "         1.0       0.05      0.04      0.04     11928\n",
            "         2.0       0.00      0.00      0.00     11928\n",
            "\n",
            "    accuracy                           0.21     35784\n",
            "   macro avg       0.14      0.21      0.17     35784\n",
            "weighted avg       0.14      0.21      0.17     35784\n",
            "\n",
            "[[7042 4837   49]\n",
            " [5089  490 6349]\n",
            " [6853 5075    0]]\n"
          ],
          "name": "stdout"
        }
      ]
    },
    {
      "cell_type": "code",
      "metadata": {
        "id": "Uu6UVKsJ06JW"
      },
      "source": [
        "finalDf.drop(['cluster'], axis=1, inplace=True)\n",
        "finalDf['cluster'] = labels\n",
        "finalDf['cluster'] = finalDf['cluster'] + 1"
      ],
      "execution_count": null,
      "outputs": []
    },
    {
      "cell_type": "code",
      "metadata": {
        "colab": {
          "base_uri": "https://localhost:8080/"
        },
        "id": "RYtPEHlc1OG4",
        "outputId": "590d6f6e-c359-41d9-c0ed-2f46ad9c1f1b"
      },
      "source": [
        "import math\n",
        "def get_entropys(df_clustered, label_col_name='indicator', cluster_col_name='cluster', cluster_values=range(1,3,1)):\n",
        "    p = [[round(df_clustered[(df_clustered[label_col_name]==label) & (df_clustered[cluster_col_name]==cluster)].shape[0]/\n",
        "                df_clustered[df_clustered[cluster_col_name]==cluster].shape[0],3) for label in cluster_values] for cluster in cluster_values]\n",
        "    p_log_p = [[p_i*math.log(p_i) for p_i in p_i_s if p_i!=0] for p_i_s in p]\n",
        "    e = [-round(sum(p_log_p_i),3) for p_log_p_i in p_log_p]\n",
        "    return e\n",
        "  \n",
        "entropys_5 = get_entropys(finalDf, label_col_name='indicator', cluster_col_name='cluster', cluster_values=range(1,3,1))\n",
        "print(\"Clusters' Entropy\")\n",
        "print(\"Entropy: {0:.3f}\".format(min(entropys_5)))"
      ],
      "execution_count": null,
      "outputs": [
        {
          "output_type": "stream",
          "text": [
            "Clusters' Entropy\n",
            "Entropy: 0.494\n"
          ],
          "name": "stdout"
        }
      ]
    },
    {
      "cell_type": "code",
      "metadata": {
        "colab": {
          "base_uri": "https://localhost:8080/"
        },
        "id": "e8JwSc34FL7k",
        "outputId": "59a04062-a9cf-4f9d-f0dd-c2a9a45df176"
      },
      "source": [
        "import numpy as np\n",
        "from sklearn import metrics\n",
        "\n",
        "def purity_score(y_true, y_pred):\n",
        "    # compute contingency matrix (also called confusion matrix)\n",
        "    contingency_matrix = metrics.cluster.contingency_matrix(y_true, y_pred)\n",
        "    # return purity\n",
        "    return np.sum(np.amax(contingency_matrix, axis=0)) / np.sum(contingency_matrix) \n",
        "\n",
        "purity = purity_score(finalDf['indicator'], finalDf['cluster'])\n",
        "print(\"The purity is:\",purity)\n",
        "\n",
        "from sklearn.metrics.cluster import v_measure_score\n",
        "v_measure = v_measure_score(finalDf['indicator'], finalDf['cluster'])\n",
        "print(\"The v_measure is:\",v_measure)\n",
        "\n",
        "from sklearn.metrics.cluster import adjusted_rand_score\n",
        "randScore = adjusted_rand_score(finalDf['indicator'], finalDf['cluster'])\n",
        "print(\"The rand_score is:\",randScore)"
      ],
      "execution_count": null,
      "outputs": [
        {
          "output_type": "stream",
          "text": [
            "The purity is: 0.5160406885758998\n",
            "The v_measure is: 0.2530496216487975\n",
            "The rand_score is: 0.14178826784813234\n"
          ],
          "name": "stdout"
        }
      ]
    },
    {
      "cell_type": "code",
      "metadata": {
        "colab": {
          "base_uri": "https://localhost:8080/"
        },
        "id": "mDBYTPqqvxK6",
        "outputId": "eb9b6dc5-05f4-4c33-8b4a-f722123e027b"
      },
      "source": [
        "# Agglomerative clustering\n",
        "from numpy import unique\n",
        "from numpy import where\n",
        "from sklearn.cluster import AgglomerativeClustering\n",
        "from matplotlib import pyplot# define the model\n",
        "model = AgglomerativeClustering(n_clusters=3)\n",
        "# fit model and predict clusters\n",
        "yhat = model.fit(cluster_df)\n",
        "yhat_2 = model.fit_predict(cluster_df)\n",
        "# retrieve unique clusters\n",
        "clusters = unique(yhat)\n",
        "# Calculate cluster validation metrics\n",
        "score_AGclustering_s = silhouette_score(cluster_df, yhat.labels_, metric='euclidean')\n",
        "score_AGclustering_c = calinski_harabasz_score(cluster_df, yhat.labels_)\n",
        "score_AGclustering_d = davies_bouldin_score(cluster_df, yhat_2)\n",
        "print('Silhouette Score: %.4f' % score_AGclustering_s)\n",
        "print('Calinski Harabasz Score: %.4f' % score_AGclustering_c)\n",
        "print('Davies Bouldin Score: %.4f' % score_AGclustering_d)"
      ],
      "execution_count": null,
      "outputs": [
        {
          "output_type": "stream",
          "text": [
            "Silhouette Score: 0.2307\n",
            "Calinski Harabasz Score: 8757.3304\n",
            "Davies Bouldin Score: 1.5863\n"
          ],
          "name": "stdout"
        }
      ]
    },
    {
      "cell_type": "code",
      "metadata": {
        "colab": {
          "base_uri": "https://localhost:8080/",
          "height": 281
        },
        "id": "35Y1d9QBtvon",
        "outputId": "4f28c53d-0299-49e0-c438-c91aca81f3f7"
      },
      "source": [
        "#filter rows of original data\n",
        "filtered_label0 = df[labels == 0]\n",
        "filtered_label1 = df[labels == 1]\n",
        "filtered_label2 = df[labels == 2]\n",
        " \n",
        "#Plotting the results\n",
        "plt.scatter(filtered_label0.iloc[:,0] , filtered_label0.iloc[:,1] , color = 'red')\n",
        "plt.scatter(filtered_label1.iloc[:,0] , filtered_label1.iloc[:,1] , color = 'black')\n",
        "plt.scatter(filtered_label2.iloc[:,0] , filtered_label2.iloc[:,1] , color = 'green')\n",
        "plt.title(\"Hierarchical clustering - Agglomerative clustering\")\n",
        "plt.show()"
      ],
      "execution_count": null,
      "outputs": [
        {
          "output_type": "display_data",
          "data": {
            "image/png": "[encoded data removed]",
            "text/plain": [
              "<Figure size 432x288 with 1 Axes>"
            ]
          },
          "metadata": {
            "tags": [],
            "needs_background": "light"
          }
        }
      ]
    },
    {
      "cell_type": "code",
      "metadata": {
        "id": "Zg3EDjGuD9y0"
      },
      "source": [
        "\"\"\"import math\n",
        "def get_entropys(df_clustered, label_col_name='indicator', cluster_col_name='cluster', cluster_values=range(1,3,1)):\n",
        "    p = [[round(df_clustered[(df_clustered[label_col_name]==label) & (df_clustered[cluster_col_name]==cluster)].shape[0]/\n",
        "                df_clustered[df_clustered[cluster_col_name]==cluster].shape[0],3) for label in cluster_values] for cluster in cluster_values]\n",
        "    p_log_p = [[p_i*math.log(p_i) for p_i in p_i_s if p_i!=0] for p_i_s in p]\n",
        "    e = [-round(sum(p_log_p_i),3) for p_log_p_i in p_log_p]\n",
        "    return e\n",
        "  \n",
        "entropys_5 = get_entropys(cluster_df, label_col_name=finalDf['indicator'], cluster_col_name=yhat.labels_, cluster_values=range(1,3,1))\n",
        "print(\"Clusters' Entropy\")\n",
        "print(\"Entropy: {0:.3f}\".format(min(entropys_5)))\"\"\""
      ],
      "execution_count": null,
      "outputs": []
    },
    {
      "cell_type": "code",
      "metadata": {
        "id": "NNEpLyCptvon"
      },
      "source": [
        "from sklearn.datasets import load_iris\n",
        "from sklearn.cluster import AgglomerativeClustering\n",
        "import numpy as np\n",
        "import matplotlib.pyplot as plt\n",
        "from scipy.cluster.hierarchy import dendrogram , linkage"
      ],
      "execution_count": null,
      "outputs": []
    },
    {
      "cell_type": "code",
      "metadata": {
        "id": "AdxtWiBctvoo"
      },
      "source": [
        "def plot_dendrogram(model, **kwargs):\n",
        "    # Create linkage matrix and then plot the dendrogram\n",
        "\n",
        "    # create the counts of samples under each node\n",
        "    counts = np.zeros(model.children_.shape[0])\n",
        "    n_samples = len(model.labels_)\n",
        "    for i, merge in enumerate(model.children_):\n",
        "        current_count = 0\n",
        "        for child_idx in merge:\n",
        "            if child_idx < n_samples:\n",
        "                current_count += 1  # leaf node\n",
        "            else:\n",
        "                current_count += counts[child_idx - n_samples]\n",
        "        counts[i] = current_count\n",
        "\n",
        "    linkage_matrix = np.column_stack([model.children_, model.distances_,\n",
        "                                      counts]).astype(float)\n",
        "\n",
        "    # Plot the corresponding dendrogram\n",
        "    dendrogram(linkage_matrix, **kwargs)"
      ],
      "execution_count": null,
      "outputs": []
    },
    {
      "cell_type": "code",
      "metadata": {
        "colab": {
          "base_uri": "https://localhost:8080/",
          "height": 246
        },
        "id": "VlkjmFQNtvop",
        "outputId": "1628aaa6-10a6-457c-a683-045091e87d85"
      },
      "source": [
        "Z = linkage(df, method = 'ward')\n",
        " \n",
        "\"\"\"#plotting dendrogram\n",
        "dendro = dendrogram(Z)\n",
        "plt.title('Dendrogram')\n",
        "plt.ylabel('Euclidean distance')\n",
        "plt.show()\"\"\""
      ],
      "execution_count": null,
      "outputs": [
        {
          "output_type": "error",
          "ename": "NameError",
          "evalue": "ignored",
          "traceback": [
            "\u001b[0;31m---------------------------------------------------------------------------\u001b[0m",
            "\u001b[0;31mNameError\u001b[0m                                 Traceback (most recent call last)",
            "\u001b[0;32m<ipython-input-35-9dabf2923506>\u001b[0m in \u001b[0;36m<module>\u001b[0;34m()\u001b[0m\n\u001b[0;32m----> 1\u001b[0;31m \u001b[0mZ\u001b[0m \u001b[0;34m=\u001b[0m \u001b[0mlinkage\u001b[0m\u001b[0;34m(\u001b[0m\u001b[0mdf\u001b[0m\u001b[0;34m,\u001b[0m \u001b[0mmethod\u001b[0m \u001b[0;34m=\u001b[0m \u001b[0;34m'ward'\u001b[0m\u001b[0;34m)\u001b[0m\u001b[0;34m\u001b[0m\u001b[0;34m\u001b[0m\u001b[0m\n\u001b[0m\u001b[1;32m      2\u001b[0m \u001b[0;34m\u001b[0m\u001b[0m\n\u001b[1;32m      3\u001b[0m \"\"\"#plotting dendrogram\n\u001b[1;32m      4\u001b[0m \u001b[0mdendro\u001b[0m \u001b[0;34m=\u001b[0m \u001b[0mdendrogram\u001b[0m\u001b[0;34m(\u001b[0m\u001b[0mZ\u001b[0m\u001b[0;34m)\u001b[0m\u001b[0;34m\u001b[0m\u001b[0;34m\u001b[0m\u001b[0m\n\u001b[1;32m      5\u001b[0m \u001b[0mplt\u001b[0m\u001b[0;34m.\u001b[0m\u001b[0mtitle\u001b[0m\u001b[0;34m(\u001b[0m\u001b[0;34m'Dendrogram'\u001b[0m\u001b[0;34m)\u001b[0m\u001b[0;34m\u001b[0m\u001b[0;34m\u001b[0m\u001b[0m\n",
            "\u001b[0;31mNameError\u001b[0m: name 'df' is not defined"
          ]
        }
      ]
    },
    {
      "cell_type": "code",
      "metadata": {
        "colab": {
          "base_uri": "https://localhost:8080/",
          "height": 54
        },
        "id": "Mt9Te75u1YF8",
        "outputId": "838bcf98-535a-4b68-c94b-785fe6058d6e"
      },
      "source": [
        "from matplotlib.pyplot import figure\n",
        "figure(figsize=(20, 20))"
      ],
      "execution_count": null,
      "outputs": [
        {
          "output_type": "execute_result",
          "data": {
            "text/plain": [
              "<Figure size 1440x1440 with 0 Axes>"
            ]
          },
          "metadata": {
            "tags": []
          },
          "execution_count": 36
        },
        {
          "output_type": "display_data",
          "data": {
            "text/plain": [
              "<Figure size 1440x1440 with 0 Axes>"
            ]
          },
          "metadata": {
            "tags": []
          }
        }
      ]
    },
    {
      "cell_type": "markdown",
      "metadata": {
        "id": "oUNlqDy4mEBl"
      },
      "source": [
        "**TRY FCLUSTER() TO EXTRACT LABELS**\n",
        "\n",
        "**Also try method='complete',and method='single' for linkage**\n",
        "\n",
        "\n",
        "```\n",
        "from scipy.cluster.hierarchy import fcluster\n",
        "\n",
        "# Use fcluster to extract labels: labels\n",
        "labels = fcluster(mergings, 6, criterion='distance')\n",
        "```\n",
        "\n"
      ]
    },
    {
      "cell_type": "markdown",
      "metadata": {
        "id": "FXR58SX3p-03"
      },
      "source": [
        "**t-SNE Clustering**\n",
        "\n",
        "\n",
        "\n",
        "```\n",
        "# Import TSNE\n",
        "from sklearn.manifold import TSNE\n",
        "\n",
        "# Create a TSNE instance: model\n",
        "model = TSNE(learning_rate=200)\n",
        "\n",
        "# Apply fit_transform to samples: tsne_features\n",
        "tsne_features = model.fit_transform(samples)\n",
        "\n",
        "# Select the 0th feature: xs\n",
        "xs = tsne_features[:,0]\n",
        "\n",
        "# Select the 1st feature: ys\n",
        "ys = tsne_features[:,1]\n",
        "\n",
        "# Scatter plot, coloring by variety_numbers\n",
        "plt.scatter(xs, ys, c=variety_numbers)\n",
        "plt.show()\n",
        "\n",
        "```\n",
        "\n"
      ]
    },
    {
      "cell_type": "code",
      "metadata": {
        "colab": {
          "base_uri": "https://localhost:8080/",
          "height": 507
        },
        "id": "15Mwq5c21pdP",
        "outputId": "69250530-92c9-4b91-8778-b3023d6518a1"
      },
      "source": [
        "plt.title('Hierarchical Clustering Dendrogram')\n",
        "plt.rcParams[\"figure.figsize\"] = (30,20)\n",
        "# Plot axis labels\n",
        "plt.xlabel('data index')\n",
        "plt.xticks([])\n",
        "plt.ylabel('distance (Ward)')\n",
        "\n",
        "# Make the dendrogram\n",
        "dendrogram(Z, leaf_rotation=90)\n",
        "plt.xticks([])\n",
        "# Show the graph\n",
        "plt.show()"
      ],
      "execution_count": null,
      "outputs": [
        {
          "output_type": "error",
          "ename": "NameError",
          "evalue": "ignored",
          "traceback": [
            "\u001b[0;31m---------------------------------------------------------------------------\u001b[0m",
            "\u001b[0;31mNameError\u001b[0m                                 Traceback (most recent call last)",
            "\u001b[0;32m<ipython-input-37-9159dac07ec2>\u001b[0m in \u001b[0;36m<module>\u001b[0;34m()\u001b[0m\n\u001b[1;32m      7\u001b[0m \u001b[0;34m\u001b[0m\u001b[0m\n\u001b[1;32m      8\u001b[0m \u001b[0;31m# Make the dendrogram\u001b[0m\u001b[0;34m\u001b[0m\u001b[0;34m\u001b[0m\u001b[0;34m\u001b[0m\u001b[0m\n\u001b[0;32m----> 9\u001b[0;31m \u001b[0mdendrogram\u001b[0m\u001b[0;34m(\u001b[0m\u001b[0mZ\u001b[0m\u001b[0;34m,\u001b[0m \u001b[0mleaf_rotation\u001b[0m\u001b[0;34m=\u001b[0m\u001b[0;36m90\u001b[0m\u001b[0;34m)\u001b[0m\u001b[0;34m\u001b[0m\u001b[0;34m\u001b[0m\u001b[0m\n\u001b[0m\u001b[1;32m     10\u001b[0m \u001b[0mplt\u001b[0m\u001b[0;34m.\u001b[0m\u001b[0mxticks\u001b[0m\u001b[0;34m(\u001b[0m\u001b[0;34m[\u001b[0m\u001b[0;34m]\u001b[0m\u001b[0;34m)\u001b[0m\u001b[0;34m\u001b[0m\u001b[0;34m\u001b[0m\u001b[0m\n\u001b[1;32m     11\u001b[0m \u001b[0;31m# Show the graph\u001b[0m\u001b[0;34m\u001b[0m\u001b[0;34m\u001b[0m\u001b[0;34m\u001b[0m\u001b[0m\n",
            "\u001b[0;31mNameError\u001b[0m: name 'Z' is not defined"
          ]
        },
        {
          "output_type": "display_data",
          "data": {
            "image/png": "[encoded data removed]",
            "text/plain": [
              "<Figure size 432x288 with 1 Axes>"
            ]
          },
          "metadata": {
            "tags": [],
            "needs_background": "light"
          }
        }
      ]
    },
    {
      "cell_type": "code",
      "metadata": {
        "colab": {
          "base_uri": "https://localhost:8080/",
          "height": 441
        },
        "id": "Rs7H7gwmv6nS",
        "outputId": "824732a3-af0d-483d-db80-509c5097ee96"
      },
      "source": [
        "from sklearn.neighbors import NearestNeighbors\n",
        "nearest_neighbors = NearestNeighbors(n_neighbors=11)\n",
        "neighbors = nearest_neighbors.fit(cluster_df)\n",
        "distances, indices = neighbors.kneighbors(cluster_df)\n",
        "distances = np.sort(distances[:,10], axis=0)\n",
        "!pip install -q kneed\n",
        "from kneed import KneeLocator\n",
        "i = np.arange(len(distances))\n",
        "knee = KneeLocator(i, distances, S=1, curve='convex', direction='increasing', interp_method='polynomial')\n",
        "fig = plt.figure(figsize=(5, 5))\n",
        "knee.plot_knee()\n",
        "plt.xlabel(\"Points\")\n",
        "plt.ylabel(\"Distance\")\n",
        "print(distances[knee.knee])"
      ],
      "execution_count": null,
      "outputs": [
        {
          "output_type": "stream",
          "text": [
            "0.1342385303409489\n"
          ],
          "name": "stdout"
        },
        {
          "output_type": "display_data",
          "data": {
            "text/plain": [
              "<Figure size 360x360 with 0 Axes>"
            ]
          },
          "metadata": {
            "tags": []
          }
        },
        {
          "output_type": "display_data",
          "data": {
            "image/png": "[encoded data removed]",
            "text/plain": [
              "<Figure size 432x432 with 1 Axes>"
            ]
          },
          "metadata": {
            "tags": [],
            "needs_background": "light"
          }
        }
      ]
    },
    {
      "cell_type": "code",
      "metadata": {
        "colab": {
          "base_uri": "https://localhost:8080/",
          "height": 858
        },
        "id": "8Ve4TDG8v98L",
        "outputId": "a122fdf8-1d77-4e45-8049-f905d1bbe6d9"
      },
      "source": [
        "from sklearn.metrics import silhouette_score \n",
        "from sklearn.cluster import DBSCAN\n",
        "\n",
        "def get_dbscan_score(data, center):\n",
        "    '''\n",
        "    \n",
        "    INPUT:\n",
        "        data - the dataset you want to fit kmeans to\n",
        "        center - the number of centers you want (the k value)\n",
        "    OUTPUT:\n",
        "        score - the Silhouette Score for DBSCAN\n",
        "    '''\n",
        "    #instantiate kmeans\n",
        "    dbscan = DBSCAN(eps= 0.1342385303409489, min_samples=center)\n",
        "\n",
        "    # Then fit the model to your data using the fit method\n",
        "    model = dbscan.fit(cluster_df)\n",
        "    \n",
        "    # Calculate Silhoutte Score\n",
        "\n",
        "    score = silhouette_score(cluster_df, model.labels_, metric='euclidean')\n",
        "    \n",
        "    return score\n",
        "\n",
        "scores = []\n",
        "centers = list(range(2,30))\n",
        "\n",
        "for center in centers:\n",
        "    scores.append(get_dbscan_score(cluster_df, center))\n",
        "    \n",
        "plt.plot(centers, scores, linestyle='--', marker='o', color='b');\n",
        "plt.xlabel('min_samples');\n",
        "plt.ylabel('Silhouette Score');\n",
        "plt.title('Silhouette Score vs. min_samples');\n",
        "\n",
        "df3 = pd.DataFrame(centers,columns=['min_samples'])\n",
        "df3['scores'] = scores\n",
        "df4 = df3[df3.scores == df3.scores.max()]\n",
        "print('Optimal number of min_samples based on silhouette score:', df4['min_samples'].tolist())"
      ],
      "execution_count": null,
      "outputs": [
        {
          "output_type": "stream",
          "text": [
            "Optimal number of min_samples based on silhouette score: [2]\n"
          ],
          "name": "stdout"
        },
        {
          "output_type": "display_data",
          "data": {
            "image/png": "[encoded data removed]",
            "text/plain": [
              "<Figure size 2160x1440 with 1 Axes>"
            ]
          },
          "metadata": {
            "tags": [],
            "needs_background": "light"
          }
        }
      ]
    },
    {
      "cell_type": "code",
      "metadata": {
        "colab": {
          "base_uri": "https://localhost:8080/"
        },
        "id": "F44MdolYwwOx",
        "outputId": "af7f5f1b-65b9-4f73-dc97-29b1d290ebaf"
      },
      "source": [
        "from numpy import unique\n",
        "from numpy import where\n",
        "from sklearn.cluster import DBSCAN\n",
        "from sklearn.metrics import silhouette_score \n",
        "from sklearn.metrics import calinski_harabasz_score\n",
        "from sklearn.metrics import davies_bouldin_score\n",
        "from matplotlib import pyplot\n",
        "# define dataset\n",
        "# define the model\n",
        "model = DBSCAN(eps=0.1342385303409489, min_samples= 7)\n",
        "# rule of thumb for min_samples: 2*len(cluster_df.columns)\n",
        "# fit model and predict clusters\n",
        "yhat = model.fit_predict(cluster_df)\n",
        "# retrieve unique clusters\n",
        "clusters = unique(yhat)\n",
        "# Calculate cluster validation metrics\n",
        "score_dbsacn_s = silhouette_score(cluster_df, yhat, metric='euclidean')\n",
        "score_dbsacn_c = calinski_harabasz_score(cluster_df, yhat)\n",
        "score_dbsacn_d = davies_bouldin_score(cluster_df, yhat)\n",
        "print('Silhouette Score: %.4f' % score_dbsacn_s)\n",
        "print('Calinski Harabasz Score: %.4f' % score_dbsacn_c)\n",
        "print('Davies Bouldin Score: %.4f' % score_dbsacn_d)"
      ],
      "execution_count": null,
      "outputs": [
        {
          "output_type": "stream",
          "text": [
            "Silhouette Score: 0.8212\n",
            "Calinski Harabasz Score: 546.0145\n",
            "Davies Bouldin Score: 0.7945\n"
          ],
          "name": "stdout"
        }
      ]
    },
    {
      "cell_type": "code",
      "metadata": {
        "id": "S5MaKvqu1bB-"
      },
      "source": [
        "cluster_df['cluster'] = yhat\n",
        "#cluster_df['cluster'] = cluster_df['cluster'] + 1"
      ],
      "execution_count": null,
      "outputs": []
    },
    {
      "cell_type": "code",
      "metadata": {
        "colab": {
          "base_uri": "https://localhost:8080/"
        },
        "id": "AmuD1wW21jYA",
        "outputId": "0a6f1b64-3651-4d51-d54a-4acfb12a92bd"
      },
      "source": [
        "import math\n",
        "def get_entropys(df_clustered, label_col_name='indicator', cluster_col_name='cluster', cluster_values=range(1,3,1)):\n",
        "    p = [[round(df_clustered[(df_clustered[label_col_name]==label) & (df_clustered[cluster_col_name]==cluster)].shape[0]/\n",
        "                df_clustered[df_clustered[cluster_col_name]==cluster].shape[0],3) for label in cluster_values] for cluster in cluster_values]\n",
        "    p_log_p = [[p_i*math.log(p_i) for p_i in p_i_s if p_i!=0] for p_i_s in p]\n",
        "    e = [-round(sum(p_log_p_i),3) for p_log_p_i in p_log_p]\n",
        "    return e\n",
        "  \n",
        "entropys_5 = get_entropys(finalDf, label_col_name='indicator', cluster_col_name='cluster', cluster_values=range(1,3,1))\n",
        "print(\"Clusters' Entropy\")\n",
        "print(entropys_5)\n",
        "print(\"Entropy: {0:.3f}\".format(min(entropys_5)))"
      ],
      "execution_count": null,
      "outputs": [
        {
          "output_type": "stream",
          "text": [
            "Clusters' Entropy\n",
            "[0.721, 0.494]\n",
            "Entropy: 0.494\n"
          ],
          "name": "stdout"
        }
      ]
    },
    {
      "cell_type": "code",
      "metadata": {
        "colab": {
          "base_uri": "https://localhost:8080/"
        },
        "id": "zTt9fztvF0Ba",
        "outputId": "969f605f-e89c-43da-d397-1a8aa28a36df"
      },
      "source": [
        "import numpy as np\n",
        "from sklearn import metrics\n",
        "\n",
        "def purity_score(y_true, y_pred):\n",
        "    # compute contingency matrix (also called confusion matrix)\n",
        "    contingency_matrix = metrics.cluster.contingency_matrix(y_true, y_pred)\n",
        "    # return purity\n",
        "    return np.sum(np.amax(contingency_matrix, axis=0)) / np.sum(contingency_matrix) \n",
        "\n",
        "purity = purity_score(finalDf['indicator'], finalDf['cluster'])\n",
        "print(\"The purity is:\",purity)\n",
        "\n",
        "from sklearn.metrics.cluster import v_measure_score\n",
        "v_measure = v_measure_score(finalDf['indicator'], finalDf['cluster'])\n",
        "print(\"The v_measure is:\",v_measure)\n",
        "\n",
        "from sklearn.metrics.cluster import adjusted_rand_score\n",
        "randScore = adjusted_rand_score(finalDf['indicator'], finalDf['cluster'])\n",
        "print(\"The rand_score is:\",randScore)"
      ],
      "execution_count": null,
      "outputs": [
        {
          "output_type": "stream",
          "text": [
            "The purity is: 0.5160406885758998\n",
            "The v_measure is: 0.2530496216487975\n",
            "The rand_score is: 0.14178826784813234\n"
          ],
          "name": "stdout"
        }
      ]
    },
    {
      "cell_type": "code",
      "metadata": {
        "colab": {
          "base_uri": "https://localhost:8080/",
          "height": 81
        },
        "id": "XVR_V0RwzA8N",
        "outputId": "2264b1ff-4498-4a95-d406-42a66e708e08"
      },
      "source": [
        "from sklearn.mixture import GaussianMixture\n",
        "n_components = range(1, 30)\n",
        "covariance_type = ['spherical', 'tied', 'diag', 'full']\n",
        "score=[]\n",
        "for cov in covariance_type:\n",
        "    for n_comp in n_components:\n",
        "        gmm=GaussianMixture(n_components=n_comp,covariance_type=cov, random_state = 10)\n",
        "        gmm.fit(cluster_df)\n",
        "        score.append((cov,n_comp,gmm.bic(cluster_df)))\n",
        "score_1 = pd.DataFrame(score)\n",
        "score_1.columns = ['Covariance_Type', 'N_Components','BIC_Score']\n",
        "score_2 = score_1[score_1.BIC_Score == score_1.BIC_Score.min()]\n",
        "\n",
        "score_2.head(n=2)"
      ],
      "execution_count": null,
      "outputs": [
        {
          "output_type": "execute_result",
          "data": {
            "text/html": [
              "<div>\n",
              "<style scoped>\n",
              "    .dataframe tbody tr th:only-of-type {\n",
              "        vertical-align: middle;\n",
              "    }\n",
              "\n",
              "    .dataframe tbody tr th {\n",
              "        vertical-align: top;\n",
              "    }\n",
              "\n",
              "    .dataframe thead th {\n",
              "        text-align: right;\n",
              "    }\n",
              "</style>\n",
              "<table border=\"1\" class=\"dataframe\">\n",
              "  <thead>\n",
              "    <tr style=\"text-align: right;\">\n",
              "      <th></th>\n",
              "      <th>Covariance_Type</th>\n",
              "      <th>N_Components</th>\n",
              "      <th>BIC_Score</th>\n",
              "    </tr>\n",
              "  </thead>\n",
              "  <tbody>\n",
              "    <tr>\n",
              "      <th>115</th>\n",
              "      <td>full</td>\n",
              "      <td>29</td>\n",
              "      <td>-1.490699e+06</td>\n",
              "    </tr>\n",
              "  </tbody>\n",
              "</table>\n",
              "</div>"
            ],
            "text/plain": [
              "    Covariance_Type  N_Components     BIC_Score\n",
              "115            full            29 -1.490699e+06"
            ]
          },
          "metadata": {
            "tags": []
          },
          "execution_count": 79
        }
      ]
    },
    {
      "cell_type": "code",
      "metadata": {
        "colab": {
          "base_uri": "https://localhost:8080/",
          "height": 81
        },
        "id": "f7En9TFgzDwV",
        "outputId": "528867ac-86a8-41c8-fdd0-5641214c04db"
      },
      "source": [
        "# Silhouette Score for GMM\n",
        "\n",
        "\n",
        "n_components = range(2, 30)\n",
        "covariance_type = ['spherical', 'tied', 'diag', 'full']\n",
        "score=[]\n",
        "for cov in covariance_type:\n",
        "    for n_comp in n_components:\n",
        "        gmm=GaussianMixture(n_components=n_comp,covariance_type=cov,random_state = 10)\n",
        "        model = gmm.fit(cluster_df)\n",
        "        model_2 = model.predict(cluster_df)\n",
        "        score_s = silhouette_score(cluster_df, model_2, metric='euclidean')\n",
        "        score.append((cov,n_comp,score_s))\n",
        "score_1 = pd.DataFrame(score)\n",
        "score_1.columns = ['Covariance_Type', 'N_Components','Silhouette_Score']\n",
        "score_2 = score_1[score_1.Silhouette_Score == score_1.Silhouette_Score.max()]\n",
        "score_2.head(n=2)"
      ],
      "execution_count": null,
      "outputs": [
        {
          "output_type": "execute_result",
          "data": {
            "text/html": [
              "<div>\n",
              "<style scoped>\n",
              "    .dataframe tbody tr th:only-of-type {\n",
              "        vertical-align: middle;\n",
              "    }\n",
              "\n",
              "    .dataframe tbody tr th {\n",
              "        vertical-align: top;\n",
              "    }\n",
              "\n",
              "    .dataframe thead th {\n",
              "        text-align: right;\n",
              "    }\n",
              "</style>\n",
              "<table border=\"1\" class=\"dataframe\">\n",
              "  <thead>\n",
              "    <tr style=\"text-align: right;\">\n",
              "      <th></th>\n",
              "      <th>Covariance_Type</th>\n",
              "      <th>N_Components</th>\n",
              "      <th>Silhouette_Score</th>\n",
              "    </tr>\n",
              "  </thead>\n",
              "  <tbody>\n",
              "    <tr>\n",
              "      <th>5</th>\n",
              "      <td>spherical</td>\n",
              "      <td>7</td>\n",
              "      <td>0.246607</td>\n",
              "    </tr>\n",
              "  </tbody>\n",
              "</table>\n",
              "</div>"
            ],
            "text/plain": [
              "  Covariance_Type  N_Components  Silhouette_Score\n",
              "5       spherical             7          0.246607"
            ]
          },
          "metadata": {
            "tags": []
          },
          "execution_count": 80
        }
      ]
    },
    {
      "cell_type": "code",
      "metadata": {
        "colab": {
          "base_uri": "https://localhost:8080/",
          "height": 81
        },
        "id": "iMyMbtLqzGsM",
        "outputId": "8f715a9e-a8fe-4874-ef1a-047614fdd503"
      },
      "source": [
        "# Calinski Harabasz Score for GMM\n",
        "\n",
        "\n",
        "n_components = range(2, 30)\n",
        "covariance_type = ['spherical', 'tied', 'diag', 'full']\n",
        "score=[]\n",
        "for cov in covariance_type:\n",
        "    for n_comp in n_components:\n",
        "        gmm=GaussianMixture(n_components=n_comp,covariance_type=cov, random_state = 10)\n",
        "        model = gmm.fit(cluster_df)\n",
        "        model_2 = model.predict(cluster_df)\n",
        "        score_c = calinski_harabasz_score(cluster_df, model_2)\n",
        "        score.append((cov,n_comp,score_c))\n",
        "score_1 = pd.DataFrame(score)\n",
        "score_1.columns = ['Covariance_Type', 'N_Components','Calinski_Harabasz_Score']\n",
        "score_2 = score_1[score_1.Calinski_Harabasz_Score == score_1.Calinski_Harabasz_Score.max()]\n",
        "score_2.head(n=5)"
      ],
      "execution_count": null,
      "outputs": [
        {
          "output_type": "execute_result",
          "data": {
            "text/html": [
              "<div>\n",
              "<style scoped>\n",
              "    .dataframe tbody tr th:only-of-type {\n",
              "        vertical-align: middle;\n",
              "    }\n",
              "\n",
              "    .dataframe tbody tr th {\n",
              "        vertical-align: top;\n",
              "    }\n",
              "\n",
              "    .dataframe thead th {\n",
              "        text-align: right;\n",
              "    }\n",
              "</style>\n",
              "<table border=\"1\" class=\"dataframe\">\n",
              "  <thead>\n",
              "    <tr style=\"text-align: right;\">\n",
              "      <th></th>\n",
              "      <th>Covariance_Type</th>\n",
              "      <th>N_Components</th>\n",
              "      <th>Calinski_Harabasz_Score</th>\n",
              "    </tr>\n",
              "  </thead>\n",
              "  <tbody>\n",
              "    <tr>\n",
              "      <th>56</th>\n",
              "      <td>diag</td>\n",
              "      <td>2</td>\n",
              "      <td>9451.982699</td>\n",
              "    </tr>\n",
              "  </tbody>\n",
              "</table>\n",
              "</div>"
            ],
            "text/plain": [
              "   Covariance_Type  N_Components  Calinski_Harabasz_Score\n",
              "56            diag             2              9451.982699"
            ]
          },
          "metadata": {
            "tags": []
          },
          "execution_count": 81
        }
      ]
    },
    {
      "cell_type": "code",
      "metadata": {
        "colab": {
          "base_uri": "https://localhost:8080/",
          "height": 81
        },
        "id": "14xwV00nzJjH",
        "outputId": "740c8b4c-e2f1-44e0-c83d-8d9ee123a364"
      },
      "source": [
        "# Davies Bouldin Score for GMM\n",
        "\n",
        "\n",
        "n_components = range(2, 30)\n",
        "covariance_type = ['spherical', 'tied', 'diag', 'full']\n",
        "score=[]\n",
        "for cov in covariance_type:\n",
        "    for n_comp in n_components:\n",
        "        gmm=GaussianMixture(n_components=n_comp,covariance_type=cov, random_state = 10)\n",
        "        model = gmm.fit(cluster_df)\n",
        "        model_2 = model.predict(cluster_df)\n",
        "        score_d = davies_bouldin_score(cluster_df, model_2)\n",
        "        score.append((cov,n_comp,score_d))\n",
        "score_1 = pd.DataFrame(score)\n",
        "score_1.columns = ['Covariance_Type', 'N_Components','Davies_Bouldin_Score']\n",
        "score_2 = score_1[score_1.Davies_Bouldin_Score == score_1.Davies_Bouldin_Score.max()]\n",
        "score_2.head(n=2)"
      ],
      "execution_count": null,
      "outputs": [
        {
          "output_type": "execute_result",
          "data": {
            "text/html": [
              "<div>\n",
              "<style scoped>\n",
              "    .dataframe tbody tr th:only-of-type {\n",
              "        vertical-align: middle;\n",
              "    }\n",
              "\n",
              "    .dataframe tbody tr th {\n",
              "        vertical-align: top;\n",
              "    }\n",
              "\n",
              "    .dataframe thead th {\n",
              "        text-align: right;\n",
              "    }\n",
              "</style>\n",
              "<table border=\"1\" class=\"dataframe\">\n",
              "  <thead>\n",
              "    <tr style=\"text-align: right;\">\n",
              "      <th></th>\n",
              "      <th>Covariance_Type</th>\n",
              "      <th>N_Components</th>\n",
              "      <th>Davies_Bouldin_Score</th>\n",
              "    </tr>\n",
              "  </thead>\n",
              "  <tbody>\n",
              "    <tr>\n",
              "      <th>32</th>\n",
              "      <td>tied</td>\n",
              "      <td>6</td>\n",
              "      <td>3.306541</td>\n",
              "    </tr>\n",
              "  </tbody>\n",
              "</table>\n",
              "</div>"
            ],
            "text/plain": [
              "   Covariance_Type  N_Components  Davies_Bouldin_Score\n",
              "32            tied             6              3.306541"
            ]
          },
          "metadata": {
            "tags": []
          },
          "execution_count": 82
        }
      ]
    },
    {
      "cell_type": "code",
      "metadata": {
        "colab": {
          "base_uri": "https://localhost:8080/"
        },
        "id": "-gRBYtAPzMSt",
        "outputId": "904c8b86-bf9d-4c69-8f2f-b1c53861b9fa"
      },
      "source": [
        "from numpy import unique\n",
        "from numpy import where\n",
        "from sklearn.datasets import make_classification\n",
        "from sklearn.mixture import GaussianMixture\n",
        "from matplotlib import pyplot\n",
        "# define the model\n",
        "model = GaussianMixture(n_components= 2,covariance_type= \"diag\", random_state = 10)\n",
        "# fit the model\n",
        "model.fit(cluster_df)\n",
        "# assign a cluster to each example\n",
        "yhat = model.predict(cluster_df)\n",
        "# retrieve unique clusters\n",
        "clusters = unique(yhat)\n",
        "\n",
        "\n",
        "\n",
        "# Calculate cluster validation score\n",
        "\n",
        "score_dbsacn_s = silhouette_score(cluster_df, yhat, metric='euclidean')\n",
        "\n",
        "score_dbsacn_c = calinski_harabasz_score(cluster_df, yhat)\n",
        "\n",
        "score_dbsacn_d = davies_bouldin_score(cluster_df, yhat)\n",
        "\n",
        "\n",
        "\n",
        "print('Silhouette Score: %.4f' % score_dbsacn_s)\n",
        "print('Calinski Harabasz Score: %.4f' % score_dbsacn_c)\n",
        "print('Davies Bouldin Score: %.4f' % score_dbsacn_d)"
      ],
      "execution_count": null,
      "outputs": [
        {
          "output_type": "stream",
          "text": [
            "Silhouette Score: 0.4443\n",
            "Calinski Harabasz Score: 21754.9420\n",
            "Davies Bouldin Score: 0.9142\n"
          ],
          "name": "stdout"
        }
      ]
    },
    {
      "cell_type": "code",
      "metadata": {
        "id": "wr3ozwUe1vGd"
      },
      "source": [
        "cluster_df['cluster'] = yhat\n",
        "cluster_df['cluster'] = cluster_df['cluster'] + 1"
      ],
      "execution_count": null,
      "outputs": []
    },
    {
      "cell_type": "code",
      "metadata": {
        "colab": {
          "base_uri": "https://localhost:8080/"
        },
        "id": "IGB-FiRP1xv7",
        "outputId": "aecc6ad3-a7bd-4d13-af87-c77cbadadd21"
      },
      "source": [
        "import math\n",
        "def get_entropys(df_clustered, label_col_name='indicator', cluster_col_name='cluster', cluster_values=range(1,3,1)):\n",
        "    p = [[round(df_clustered[(df_clustered[label_col_name]==label) & (df_clustered[cluster_col_name]==cluster)].shape[0]/\n",
        "                df_clustered[df_clustered[cluster_col_name]==cluster].shape[0],3) for label in cluster_values] for cluster in cluster_values]\n",
        "    p_log_p = [[p_i*math.log(p_i) for p_i in p_i_s if p_i!=0] for p_i_s in p]\n",
        "    e = [-round(sum(p_log_p_i),3) for p_log_p_i in p_log_p]\n",
        "    return e\n",
        "  \n",
        "entropys_5 = get_entropys(finalDf, label_col_name='indicator', cluster_col_name='cluster', cluster_values=range(1,3, 1))\n",
        "print(\"Clusters' Entropy\")\n",
        "print(\"Entropy: {0:.3f}\".format(min(entropys_5)))"
      ],
      "execution_count": null,
      "outputs": [
        {
          "output_type": "stream",
          "text": [
            "Clusters' Entropy\n",
            "Entropy: 0.494\n"
          ],
          "name": "stdout"
        }
      ]
    },
    {
      "cell_type": "code",
      "metadata": {
        "id": "kEEXxjNk10wD",
        "colab": {
          "base_uri": "https://localhost:8080/"
        },
        "outputId": "b25ef002-82c0-45d6-bcb8-01603754f4e8"
      },
      "source": [
        "import numpy as np\n",
        "from sklearn import metrics\n",
        "\n",
        "def purity_score(y_true, y_pred):\n",
        "    # compute contingency matrix (also called confusion matrix)\n",
        "    contingency_matrix = metrics.cluster.contingency_matrix(y_true, y_pred)\n",
        "    # return purity\n",
        "    return np.sum(np.amax(contingency_matrix, axis=0)) / np.sum(contingency_matrix) \n",
        "\n",
        "purity = purity_score(finalDf['indicator'], finalDf['cluster'])\n",
        "print(\"The purity is:\",purity)\n",
        "\n",
        "from sklearn.metrics.cluster import v_measure_score\n",
        "v_measure = v_measure_score(finalDf['indicator'], finalDf['cluster'])\n",
        "print(\"The v_measure is:\",v_measure)\n",
        "\n",
        "from sklearn.metrics.cluster import adjusted_rand_score\n",
        "randScore = adjusted_rand_score(finalDf['indicator'], finalDf['cluster'])\n",
        "print(\"The rand_score is:\",randScore)"
      ],
      "execution_count": null,
      "outputs": [
        {
          "output_type": "stream",
          "text": [
            "The purity is: 0.5160406885758998\n",
            "The v_measure is: 0.2530496216487975\n",
            "The rand_score is: 0.14178826784813234\n"
          ],
          "name": "stdout"
        }
      ]
    }
  ]
}