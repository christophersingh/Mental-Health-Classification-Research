{
  "nbformat": 4,
  "nbformat_minor": 0,
  "metadata": {
    "accelerator": "GPU",
    "colab": {
      "name": "Copy of Clustering With Twitter.ipynb",
      "provenance": [],
      "collapsed_sections": [],
      "include_colab_link": true
    },
    "kernelspec": {
      "display_name": "Python 3",
      "language": "python",
      "name": "python3"
    },
    "language_info": {
      "codemirror_mode": {
        "name": "ipython",
        "version": 3
      },
      "file_extension": ".py",
      "mimetype": "text/x-python",
      "name": "python",
      "nbconvert_exporter": "python",
      "pygments_lexer": "ipython3",
      "version": "3.8.3"
    }
  },
  "cells": [
    {
      "cell_type": "markdown",
      "metadata": {
        "id": "view-in-github",
        "colab_type": "text"
      },
      "source": [
        "<a href=\"https://colab.research.google.com/github/christophersingh/Mental-Health-Classification-Research-/blob/main/Copy_of_Clustering_With_Twitter.ipynb\" target=\"_parent\"><img src=\"https://colab.research.google.com/assets/colab-badge.svg\" alt=\"Open In Colab\"/></a>"
      ]
    },
    {
      "cell_type": "code",
      "metadata": {
        "id": "KrhJmSD9tvnk"
      },
      "source": [
        "import pandas as pd\n",
        "import matplotlib.pyplot as plt\n",
        "plt.rcParams[\"figure.figsize\"] = (20,10)\n",
        "from sklearn import model_selection\n",
        "from sklearn.svm import SVC\n",
        "from sklearn.neighbors import KNeighborsClassifier\n",
        "from sklearn.tree import DecisionTreeClassifier\n",
        "from sklearn.naive_bayes import GaussianNB\n",
        "from sklearn.discriminant_analysis import LinearDiscriminantAnalysis\n",
        "from sklearn.linear_model import LogisticRegression\n",
        "import warnings\n",
        "warnings.filterwarnings(\"ignore\")"
      ],
      "execution_count": null,
      "outputs": []
    },
    {
      "cell_type": "code",
      "metadata": {
        "colab": {
          "base_uri": "https://localhost:8080/",
          "height": 1000
        },
        "id": "6ixI6sgLtvny",
        "outputId": "00dc2e9e-dbc6-46ee-8341-5131f43158c6"
      },
      "source": [
        "#read in the data\n",
        "ny = pd.read_csv('./new_york.csv')\n",
        "ny"
      ],
      "execution_count": null,
      "outputs": [
        {
          "output_type": "execute_result",
          "data": {
            "text/html": [
              "<div>\n",
              "<style scoped>\n",
              "    .dataframe tbody tr th:only-of-type {\n",
              "        vertical-align: middle;\n",
              "    }\n",
              "\n",
              "    .dataframe tbody tr th {\n",
              "        vertical-align: top;\n",
              "    }\n",
              "\n",
              "    .dataframe thead th {\n",
              "        text-align: right;\n",
              "    }\n",
              "</style>\n",
              "<table border=\"1\" class=\"dataframe\">\n",
              "  <thead>\n",
              "    <tr style=\"text-align: right;\">\n",
              "      <th></th>\n",
              "      <th>indicator</th>\n",
              "      <th>group</th>\n",
              "      <th>state</th>\n",
              "      <th>subgroup</th>\n",
              "      <th>phase</th>\n",
              "      <th>time_period</th>\n",
              "      <th>time_period_label</th>\n",
              "      <th>time_period_start_date</th>\n",
              "      <th>time_period_end_date</th>\n",
              "      <th>value</th>\n",
              "      <th>lowci</th>\n",
              "      <th>highci</th>\n",
              "      <th>confidence_interval</th>\n",
              "      <th>quartile_range</th>\n",
              "      <th>age</th>\n",
              "      <th>CASE_RATE</th>\n",
              "      <th>HOSPITALIZED_RATE</th>\n",
              "      <th>DEATH_RATE</th>\n",
              "      <th>date</th>\n",
              "      <th>CASE_COUNT</th>\n",
              "      <th>HOSPITALIZED_COUNT</th>\n",
              "      <th>DEATH_COUNT</th>\n",
              "      <th>counts</th>\n",
              "      <th>sentiment__negative</th>\n",
              "      <th>sentiment__positive</th>\n",
              "    </tr>\n",
              "  </thead>\n",
              "  <tbody>\n",
              "    <tr>\n",
              "      <th>0</th>\n",
              "      <td>Symptoms of Depressive Disorder</td>\n",
              "      <td>By State</td>\n",
              "      <td>New York</td>\n",
              "      <td>New York</td>\n",
              "      <td>1</td>\n",
              "      <td>1.0</td>\n",
              "      <td>Apr 23 - May 5</td>\n",
              "      <td>2020-04-23T00:00:00.000</td>\n",
              "      <td>2020-05-05T00:00:00.000</td>\n",
              "      <td>28.7</td>\n",
              "      <td>24.6</td>\n",
              "      <td>33.1</td>\n",
              "      <td>24.6 - 33.1</td>\n",
              "      <td>24.1 - 28.7</td>\n",
              "      <td>18 - 29 years</td>\n",
              "      <td>171.46</td>\n",
              "      <td>13.55</td>\n",
              "      <td>0.23</td>\n",
              "      <td>2020-04-23</td>\n",
              "      <td>90629.21686</td>\n",
              "      <td>19942.175032</td>\n",
              "      <td>6754.809134</td>\n",
              "      <td>295066.0</td>\n",
              "      <td>500.0</td>\n",
              "      <td>50.0</td>\n",
              "    </tr>\n",
              "    <tr>\n",
              "      <th>1</th>\n",
              "      <td>Symptoms of Depressive Disorder</td>\n",
              "      <td>By State</td>\n",
              "      <td>New York</td>\n",
              "      <td>New York</td>\n",
              "      <td>1</td>\n",
              "      <td>1.0</td>\n",
              "      <td>Apr 23 - May 5</td>\n",
              "      <td>2020-04-23T00:00:00.000</td>\n",
              "      <td>2020-05-05T00:00:00.000</td>\n",
              "      <td>28.7</td>\n",
              "      <td>24.6</td>\n",
              "      <td>33.1</td>\n",
              "      <td>24.6 - 33.1</td>\n",
              "      <td>24.1 - 28.7</td>\n",
              "      <td>18 - 29 years</td>\n",
              "      <td>1554.45</td>\n",
              "      <td>153.69</td>\n",
              "      <td>12.88</td>\n",
              "      <td>2020-04-23</td>\n",
              "      <td>90629.21686</td>\n",
              "      <td>19942.175032</td>\n",
              "      <td>6754.809134</td>\n",
              "      <td>295066.0</td>\n",
              "      <td>500.0</td>\n",
              "      <td>50.0</td>\n",
              "    </tr>\n",
              "    <tr>\n",
              "      <th>2</th>\n",
              "      <td>Symptoms of Depressive Disorder</td>\n",
              "      <td>By State</td>\n",
              "      <td>New York</td>\n",
              "      <td>New York</td>\n",
              "      <td>1</td>\n",
              "      <td>1.0</td>\n",
              "      <td>Apr 23 - May 5</td>\n",
              "      <td>2020-04-23T00:00:00.000</td>\n",
              "      <td>2020-05-05T00:00:00.000</td>\n",
              "      <td>28.7</td>\n",
              "      <td>24.6</td>\n",
              "      <td>33.1</td>\n",
              "      <td>24.6 - 33.1</td>\n",
              "      <td>24.1 - 28.7</td>\n",
              "      <td>18 - 29 years</td>\n",
              "      <td>2529.03</td>\n",
              "      <td>630.34</td>\n",
              "      <td>113.37</td>\n",
              "      <td>2020-04-23</td>\n",
              "      <td>90629.21686</td>\n",
              "      <td>19942.175032</td>\n",
              "      <td>6754.809134</td>\n",
              "      <td>295066.0</td>\n",
              "      <td>500.0</td>\n",
              "      <td>50.0</td>\n",
              "    </tr>\n",
              "    <tr>\n",
              "      <th>3</th>\n",
              "      <td>Symptoms of Depressive Disorder</td>\n",
              "      <td>By State</td>\n",
              "      <td>New York</td>\n",
              "      <td>New York</td>\n",
              "      <td>1</td>\n",
              "      <td>1.0</td>\n",
              "      <td>Apr 23 - May 5</td>\n",
              "      <td>2020-04-23T00:00:00.000</td>\n",
              "      <td>2020-05-05T00:00:00.000</td>\n",
              "      <td>28.7</td>\n",
              "      <td>24.6</td>\n",
              "      <td>33.1</td>\n",
              "      <td>24.6 - 33.1</td>\n",
              "      <td>24.1 - 28.7</td>\n",
              "      <td>18 - 29 years</td>\n",
              "      <td>2552.64</td>\n",
              "      <td>1192.50</td>\n",
              "      <td>364.17</td>\n",
              "      <td>2020-04-23</td>\n",
              "      <td>90629.21686</td>\n",
              "      <td>19942.175032</td>\n",
              "      <td>6754.809134</td>\n",
              "      <td>295066.0</td>\n",
              "      <td>500.0</td>\n",
              "      <td>50.0</td>\n",
              "    </tr>\n",
              "    <tr>\n",
              "      <th>4</th>\n",
              "      <td>Symptoms of Depressive Disorder</td>\n",
              "      <td>By State</td>\n",
              "      <td>New York</td>\n",
              "      <td>New York</td>\n",
              "      <td>1</td>\n",
              "      <td>1.0</td>\n",
              "      <td>Apr 23 - May 5</td>\n",
              "      <td>2020-04-23T00:00:00.000</td>\n",
              "      <td>2020-05-05T00:00:00.000</td>\n",
              "      <td>28.7</td>\n",
              "      <td>24.6</td>\n",
              "      <td>33.1</td>\n",
              "      <td>24.6 - 33.1</td>\n",
              "      <td>24.1 - 28.7</td>\n",
              "      <td>18 - 29 years</td>\n",
              "      <td>2976.74</td>\n",
              "      <td>1830.07</td>\n",
              "      <td>909.18</td>\n",
              "      <td>2020-04-23</td>\n",
              "      <td>90629.21686</td>\n",
              "      <td>19942.175032</td>\n",
              "      <td>6754.809134</td>\n",
              "      <td>295066.0</td>\n",
              "      <td>500.0</td>\n",
              "      <td>50.0</td>\n",
              "    </tr>\n",
              "    <tr>\n",
              "      <th>...</th>\n",
              "      <td>...</td>\n",
              "      <td>...</td>\n",
              "      <td>...</td>\n",
              "      <td>...</td>\n",
              "      <td>...</td>\n",
              "      <td>...</td>\n",
              "      <td>...</td>\n",
              "      <td>...</td>\n",
              "      <td>...</td>\n",
              "      <td>...</td>\n",
              "      <td>...</td>\n",
              "      <td>...</td>\n",
              "      <td>...</td>\n",
              "      <td>...</td>\n",
              "      <td>...</td>\n",
              "      <td>...</td>\n",
              "      <td>...</td>\n",
              "      <td>...</td>\n",
              "      <td>...</td>\n",
              "      <td>...</td>\n",
              "      <td>...</td>\n",
              "      <td>...</td>\n",
              "      <td>...</td>\n",
              "      <td>...</td>\n",
              "      <td>...</td>\n",
              "    </tr>\n",
              "    <tr>\n",
              "      <th>35779</th>\n",
              "      <td>Symptoms of Anxiety Disorder or Depressive Dis...</td>\n",
              "      <td>By State</td>\n",
              "      <td>New York</td>\n",
              "      <td>New York</td>\n",
              "      <td>3 (Jan 6 � Feb 1)</td>\n",
              "      <td>23.0</td>\n",
              "      <td>Jan 20 - Feb 1</td>\n",
              "      <td>2021-01-20T00:00:00.000</td>\n",
              "      <td>2021-02-01T00:00:00.000</td>\n",
              "      <td>35.8</td>\n",
              "      <td>32.0</td>\n",
              "      <td>39.7</td>\n",
              "      <td>32.0 - 39.7</td>\n",
              "      <td>28.8-37.6</td>\n",
              "      <td>80 years and above</td>\n",
              "      <td>20207.72</td>\n",
              "      <td>1160.60</td>\n",
              "      <td>67.68</td>\n",
              "      <td>2021-02-01</td>\n",
              "      <td>224684.00000</td>\n",
              "      <td>13326.000000</td>\n",
              "      <td>794.000000</td>\n",
              "      <td>419169.0</td>\n",
              "      <td>501.0</td>\n",
              "      <td>49.0</td>\n",
              "    </tr>\n",
              "    <tr>\n",
              "      <th>35780</th>\n",
              "      <td>Symptoms of Anxiety Disorder or Depressive Dis...</td>\n",
              "      <td>By State</td>\n",
              "      <td>New York</td>\n",
              "      <td>New York</td>\n",
              "      <td>3 (Jan 6 � Feb 1)</td>\n",
              "      <td>23.0</td>\n",
              "      <td>Jan 20 - Feb 1</td>\n",
              "      <td>2021-01-20T00:00:00.000</td>\n",
              "      <td>2021-02-01T00:00:00.000</td>\n",
              "      <td>35.8</td>\n",
              "      <td>32.0</td>\n",
              "      <td>39.7</td>\n",
              "      <td>32.0 - 39.7</td>\n",
              "      <td>28.8-37.6</td>\n",
              "      <td>80 years and above</td>\n",
              "      <td>15941.19</td>\n",
              "      <td>2540.10</td>\n",
              "      <td>476.51</td>\n",
              "      <td>2021-02-01</td>\n",
              "      <td>161559.00000</td>\n",
              "      <td>25652.000000</td>\n",
              "      <td>4800.000000</td>\n",
              "      <td>419169.0</td>\n",
              "      <td>501.0</td>\n",
              "      <td>49.0</td>\n",
              "    </tr>\n",
              "    <tr>\n",
              "      <th>35781</th>\n",
              "      <td>Symptoms of Anxiety Disorder or Depressive Dis...</td>\n",
              "      <td>By State</td>\n",
              "      <td>New York</td>\n",
              "      <td>New York</td>\n",
              "      <td>3 (Jan 6 � Feb 1)</td>\n",
              "      <td>23.0</td>\n",
              "      <td>Jan 20 - Feb 1</td>\n",
              "      <td>2021-01-20T00:00:00.000</td>\n",
              "      <td>2021-02-01T00:00:00.000</td>\n",
              "      <td>35.8</td>\n",
              "      <td>32.0</td>\n",
              "      <td>39.7</td>\n",
              "      <td>32.0 - 39.7</td>\n",
              "      <td>28.8-37.6</td>\n",
              "      <td>80 years and above</td>\n",
              "      <td>7067.11</td>\n",
              "      <td>2418.35</td>\n",
              "      <td>756.82</td>\n",
              "      <td>2021-02-01</td>\n",
              "      <td>50798.00000</td>\n",
              "      <td>17383.000000</td>\n",
              "      <td>5440.000000</td>\n",
              "      <td>419169.0</td>\n",
              "      <td>501.0</td>\n",
              "      <td>49.0</td>\n",
              "    </tr>\n",
              "    <tr>\n",
              "      <th>35782</th>\n",
              "      <td>Symptoms of Anxiety Disorder or Depressive Dis...</td>\n",
              "      <td>By State</td>\n",
              "      <td>New York</td>\n",
              "      <td>New York</td>\n",
              "      <td>3 (Jan 6 � Feb 1)</td>\n",
              "      <td>23.0</td>\n",
              "      <td>Jan 20 - Feb 1</td>\n",
              "      <td>2021-01-20T00:00:00.000</td>\n",
              "      <td>2021-02-01T00:00:00.000</td>\n",
              "      <td>35.8</td>\n",
              "      <td>32.0</td>\n",
              "      <td>39.7</td>\n",
              "      <td>32.0 - 39.7</td>\n",
              "      <td>28.8-37.6</td>\n",
              "      <td>80 years and above</td>\n",
              "      <td>7477.43</td>\n",
              "      <td>3995.12</td>\n",
              "      <td>1989.81</td>\n",
              "      <td>2021-02-01</td>\n",
              "      <td>41994.00000</td>\n",
              "      <td>22437.000000</td>\n",
              "      <td>11175.000000</td>\n",
              "      <td>419169.0</td>\n",
              "      <td>501.0</td>\n",
              "      <td>49.0</td>\n",
              "    </tr>\n",
              "    <tr>\n",
              "      <th>35783</th>\n",
              "      <td>Symptoms of Anxiety Disorder or Depressive Dis...</td>\n",
              "      <td>By State</td>\n",
              "      <td>New York</td>\n",
              "      <td>New York</td>\n",
              "      <td>3 (Jan 6 � Feb 1)</td>\n",
              "      <td>23.0</td>\n",
              "      <td>Jan 20 - Feb 1</td>\n",
              "      <td>2021-01-20T00:00:00.000</td>\n",
              "      <td>2021-02-01T00:00:00.000</td>\n",
              "      <td>35.8</td>\n",
              "      <td>32.0</td>\n",
              "      <td>39.7</td>\n",
              "      <td>32.0 - 39.7</td>\n",
              "      <td>28.8-37.6</td>\n",
              "      <td>80 years and above</td>\n",
              "      <td>6302.86</td>\n",
              "      <td>958.30</td>\n",
              "      <td>266.66</td>\n",
              "      <td>2021-02-01</td>\n",
              "      <td>525458.00000</td>\n",
              "      <td>79892.000000</td>\n",
              "      <td>22231.000000</td>\n",
              "      <td>419169.0</td>\n",
              "      <td>501.0</td>\n",
              "      <td>49.0</td>\n",
              "    </tr>\n",
              "  </tbody>\n",
              "</table>\n",
              "<p>35784 rows × 25 columns</p>\n",
              "</div>"
            ],
            "text/plain": [
              "                                               indicator  ... sentiment__positive\n",
              "0                        Symptoms of Depressive Disorder  ...                50.0\n",
              "1                        Symptoms of Depressive Disorder  ...                50.0\n",
              "2                        Symptoms of Depressive Disorder  ...                50.0\n",
              "3                        Symptoms of Depressive Disorder  ...                50.0\n",
              "4                        Symptoms of Depressive Disorder  ...                50.0\n",
              "...                                                  ...  ...                 ...\n",
              "35779  Symptoms of Anxiety Disorder or Depressive Dis...  ...                49.0\n",
              "35780  Symptoms of Anxiety Disorder or Depressive Dis...  ...                49.0\n",
              "35781  Symptoms of Anxiety Disorder or Depressive Dis...  ...                49.0\n",
              "35782  Symptoms of Anxiety Disorder or Depressive Dis...  ...                49.0\n",
              "35783  Symptoms of Anxiety Disorder or Depressive Dis...  ...                49.0\n",
              "\n",
              "[35784 rows x 25 columns]"
            ]
          },
          "metadata": {
            "tags": []
          },
          "execution_count": 2
        }
      ]
    },
    {
      "cell_type": "code",
      "metadata": {
        "colab": {
          "base_uri": "https://localhost:8080/"
        },
        "id": "FGbwgPNWtvn0",
        "outputId": "0dbbc527-ed65-4755-d050-7b1abb57ff91"
      },
      "source": [
        "ny[\"indicator\"].replace({\"Symptoms of Anxiety Disorder\": \"0\", \"Symptoms of Depressive Disorder\": \"1\", \"Symptoms of Anxiety Disorder or Depressive Disorder\": \"2\"}, inplace=True)\n",
        "ny[\"age\"].replace({\"18 - 29 years\": \"29\", \"30 - 39 years\": \"39\", \"40 - 49 years\": \"49\", \"50 - 59 years\":\"59\",\"60 - 69 years\":\"69\",\"70 - 79 years\":\"79\",\"80 years and above\":\"80\"}, inplace=True)\n",
        "\n",
        "data_to_use = ny\n",
        "del data_to_use['group']\n",
        "del data_to_use['state']\n",
        "del data_to_use['subgroup']\n",
        "del data_to_use['time_period_label']\n",
        "del data_to_use['confidence_interval']\n",
        "del data_to_use['quartile_range']\n",
        "del data_to_use['counts']\n",
        "\n",
        "ny = data_to_use\n",
        "ny.info()"
      ],
      "execution_count": null,
      "outputs": [
        {
          "output_type": "stream",
          "text": [
            "<class 'pandas.core.frame.DataFrame'>\n",
            "RangeIndex: 35784 entries, 0 to 35783\n",
            "Data columns (total 18 columns):\n",
            " #   Column                  Non-Null Count  Dtype  \n",
            "---  ------                  --------------  -----  \n",
            " 0   indicator               35784 non-null  object \n",
            " 1   phase                   35784 non-null  object \n",
            " 2   time_period             35784 non-null  float64\n",
            " 3   time_period_start_date  35784 non-null  object \n",
            " 4   time_period_end_date    35784 non-null  object \n",
            " 5   value                   35784 non-null  float64\n",
            " 6   lowci                   35784 non-null  float64\n",
            " 7   highci                  35784 non-null  float64\n",
            " 8   age                     35784 non-null  object \n",
            " 9   CASE_RATE               35784 non-null  float64\n",
            " 10  HOSPITALIZED_RATE       35784 non-null  float64\n",
            " 11  DEATH_RATE              33957 non-null  float64\n",
            " 12  date                    35784 non-null  object \n",
            " 13  CASE_COUNT              35784 non-null  float64\n",
            " 14  HOSPITALIZED_COUNT      35784 non-null  float64\n",
            " 15  DEATH_COUNT             35784 non-null  float64\n",
            " 16  sentiment__negative     35784 non-null  float64\n",
            " 17  sentiment__positive     35784 non-null  float64\n",
            "dtypes: float64(12), object(6)\n",
            "memory usage: 4.9+ MB\n"
          ],
          "name": "stdout"
        }
      ]
    },
    {
      "cell_type": "code",
      "metadata": {
        "colab": {
          "base_uri": "https://localhost:8080/"
        },
        "id": "5EFoAULztvn2",
        "outputId": "f6c9d5fa-8218-4872-83ab-908443ffb8bc"
      },
      "source": [
        "ny['DEATH_RATE'].fillna((ny['DEATH_RATE'].mean()), inplace=True)\n",
        "ny.isna().sum()"
      ],
      "execution_count": null,
      "outputs": [
        {
          "output_type": "execute_result",
          "data": {
            "text/plain": [
              "indicator                 0\n",
              "phase                     0\n",
              "time_period               0\n",
              "time_period_start_date    0\n",
              "time_period_end_date      0\n",
              "value                     0\n",
              "lowci                     0\n",
              "highci                    0\n",
              "age                       0\n",
              "CASE_RATE                 0\n",
              "HOSPITALIZED_RATE         0\n",
              "DEATH_RATE                0\n",
              "date                      0\n",
              "CASE_COUNT                0\n",
              "HOSPITALIZED_COUNT        0\n",
              "DEATH_COUNT               0\n",
              "sentiment__negative       0\n",
              "sentiment__positive       0\n",
              "dtype: int64"
            ]
          },
          "metadata": {
            "tags": []
          },
          "execution_count": 4
        }
      ]
    },
    {
      "cell_type": "code",
      "metadata": {
        "id": "bRzqS3xDtvn3"
      },
      "source": [
        "#Add this cell after API change\n",
        "ny.loc[ny['phase'] == ('Oct 28 � Dec 21'), 'phase'] = 3\n",
        "ny.loc[ny['phase'] == ('3 (Oct 28 � Dec 21)'), 'phase'] = 4\n",
        "ny.loc[ny['phase'] == ('3 (Jan 6 � Feb 1)'), 'phase'] = 5\n",
        "ny.rename(columns = {'counts':'twitter_count'}, inplace = True)"
      ],
      "execution_count": null,
      "outputs": []
    },
    {
      "cell_type": "code",
      "metadata": {
        "colab": {
          "base_uri": "https://localhost:8080/",
          "height": 444
        },
        "id": "6ZFTU8tRtvn4",
        "outputId": "bcc47fcf-ad81-4f8c-8a28-8f124d0c7dd2"
      },
      "source": [
        "from sklearn import preprocessing\n",
        "\n",
        "ny[\"age\"] = ny['age'].astype(float)\n",
        "ny[\"phase\"] = ny['phase'].astype(float)\n",
        "ny[\"indicator\"] = ny['indicator'].astype(float)\n",
        "ny[\"time_period\"] = ny['time_period'].astype(float)\n",
        "\n",
        "\"\"\"def min_max_normalization(df):\n",
        "    # copy the dataframe\n",
        "    df_norm = df.copy()\n",
        "    # apply min-max scaling\n",
        "    for column in df_norm.columns:\n",
        "        df_norm[column] = (df_norm[column] - df_norm[column].min()) / (df_norm[column].max() - df_norm[column].min())\n",
        "        \n",
        "    return df_norm\n",
        "\n",
        "ny = min_max_normalization(data_to_use)\"\"\"\n",
        "ny"
      ],
      "execution_count": null,
      "outputs": [
        {
          "output_type": "execute_result",
          "data": {
            "text/html": [
              "<div>\n",
              "<style scoped>\n",
              "    .dataframe tbody tr th:only-of-type {\n",
              "        vertical-align: middle;\n",
              "    }\n",
              "\n",
              "    .dataframe tbody tr th {\n",
              "        vertical-align: top;\n",
              "    }\n",
              "\n",
              "    .dataframe thead th {\n",
              "        text-align: right;\n",
              "    }\n",
              "</style>\n",
              "<table border=\"1\" class=\"dataframe\">\n",
              "  <thead>\n",
              "    <tr style=\"text-align: right;\">\n",
              "      <th></th>\n",
              "      <th>indicator</th>\n",
              "      <th>phase</th>\n",
              "      <th>time_period</th>\n",
              "      <th>time_period_start_date</th>\n",
              "      <th>time_period_end_date</th>\n",
              "      <th>value</th>\n",
              "      <th>lowci</th>\n",
              "      <th>highci</th>\n",
              "      <th>age</th>\n",
              "      <th>CASE_RATE</th>\n",
              "      <th>HOSPITALIZED_RATE</th>\n",
              "      <th>DEATH_RATE</th>\n",
              "      <th>date</th>\n",
              "      <th>CASE_COUNT</th>\n",
              "      <th>HOSPITALIZED_COUNT</th>\n",
              "      <th>DEATH_COUNT</th>\n",
              "      <th>sentiment__negative</th>\n",
              "      <th>sentiment__positive</th>\n",
              "    </tr>\n",
              "  </thead>\n",
              "  <tbody>\n",
              "    <tr>\n",
              "      <th>0</th>\n",
              "      <td>1.0</td>\n",
              "      <td>1.0</td>\n",
              "      <td>1.0</td>\n",
              "      <td>2020-04-23T00:00:00.000</td>\n",
              "      <td>2020-05-05T00:00:00.000</td>\n",
              "      <td>28.7</td>\n",
              "      <td>24.6</td>\n",
              "      <td>33.1</td>\n",
              "      <td>29.0</td>\n",
              "      <td>171.46</td>\n",
              "      <td>13.55</td>\n",
              "      <td>0.23</td>\n",
              "      <td>2020-04-23</td>\n",
              "      <td>90629.21686</td>\n",
              "      <td>19942.175032</td>\n",
              "      <td>6754.809134</td>\n",
              "      <td>500.0</td>\n",
              "      <td>50.0</td>\n",
              "    </tr>\n",
              "    <tr>\n",
              "      <th>1</th>\n",
              "      <td>1.0</td>\n",
              "      <td>1.0</td>\n",
              "      <td>1.0</td>\n",
              "      <td>2020-04-23T00:00:00.000</td>\n",
              "      <td>2020-05-05T00:00:00.000</td>\n",
              "      <td>28.7</td>\n",
              "      <td>24.6</td>\n",
              "      <td>33.1</td>\n",
              "      <td>29.0</td>\n",
              "      <td>1554.45</td>\n",
              "      <td>153.69</td>\n",
              "      <td>12.88</td>\n",
              "      <td>2020-04-23</td>\n",
              "      <td>90629.21686</td>\n",
              "      <td>19942.175032</td>\n",
              "      <td>6754.809134</td>\n",
              "      <td>500.0</td>\n",
              "      <td>50.0</td>\n",
              "    </tr>\n",
              "    <tr>\n",
              "      <th>2</th>\n",
              "      <td>1.0</td>\n",
              "      <td>1.0</td>\n",
              "      <td>1.0</td>\n",
              "      <td>2020-04-23T00:00:00.000</td>\n",
              "      <td>2020-05-05T00:00:00.000</td>\n",
              "      <td>28.7</td>\n",
              "      <td>24.6</td>\n",
              "      <td>33.1</td>\n",
              "      <td>29.0</td>\n",
              "      <td>2529.03</td>\n",
              "      <td>630.34</td>\n",
              "      <td>113.37</td>\n",
              "      <td>2020-04-23</td>\n",
              "      <td>90629.21686</td>\n",
              "      <td>19942.175032</td>\n",
              "      <td>6754.809134</td>\n",
              "      <td>500.0</td>\n",
              "      <td>50.0</td>\n",
              "    </tr>\n",
              "    <tr>\n",
              "      <th>3</th>\n",
              "      <td>1.0</td>\n",
              "      <td>1.0</td>\n",
              "      <td>1.0</td>\n",
              "      <td>2020-04-23T00:00:00.000</td>\n",
              "      <td>2020-05-05T00:00:00.000</td>\n",
              "      <td>28.7</td>\n",
              "      <td>24.6</td>\n",
              "      <td>33.1</td>\n",
              "      <td>29.0</td>\n",
              "      <td>2552.64</td>\n",
              "      <td>1192.50</td>\n",
              "      <td>364.17</td>\n",
              "      <td>2020-04-23</td>\n",
              "      <td>90629.21686</td>\n",
              "      <td>19942.175032</td>\n",
              "      <td>6754.809134</td>\n",
              "      <td>500.0</td>\n",
              "      <td>50.0</td>\n",
              "    </tr>\n",
              "    <tr>\n",
              "      <th>4</th>\n",
              "      <td>1.0</td>\n",
              "      <td>1.0</td>\n",
              "      <td>1.0</td>\n",
              "      <td>2020-04-23T00:00:00.000</td>\n",
              "      <td>2020-05-05T00:00:00.000</td>\n",
              "      <td>28.7</td>\n",
              "      <td>24.6</td>\n",
              "      <td>33.1</td>\n",
              "      <td>29.0</td>\n",
              "      <td>2976.74</td>\n",
              "      <td>1830.07</td>\n",
              "      <td>909.18</td>\n",
              "      <td>2020-04-23</td>\n",
              "      <td>90629.21686</td>\n",
              "      <td>19942.175032</td>\n",
              "      <td>6754.809134</td>\n",
              "      <td>500.0</td>\n",
              "      <td>50.0</td>\n",
              "    </tr>\n",
              "    <tr>\n",
              "      <th>...</th>\n",
              "      <td>...</td>\n",
              "      <td>...</td>\n",
              "      <td>...</td>\n",
              "      <td>...</td>\n",
              "      <td>...</td>\n",
              "      <td>...</td>\n",
              "      <td>...</td>\n",
              "      <td>...</td>\n",
              "      <td>...</td>\n",
              "      <td>...</td>\n",
              "      <td>...</td>\n",
              "      <td>...</td>\n",
              "      <td>...</td>\n",
              "      <td>...</td>\n",
              "      <td>...</td>\n",
              "      <td>...</td>\n",
              "      <td>...</td>\n",
              "      <td>...</td>\n",
              "    </tr>\n",
              "    <tr>\n",
              "      <th>35779</th>\n",
              "      <td>2.0</td>\n",
              "      <td>5.0</td>\n",
              "      <td>23.0</td>\n",
              "      <td>2021-01-20T00:00:00.000</td>\n",
              "      <td>2021-02-01T00:00:00.000</td>\n",
              "      <td>35.8</td>\n",
              "      <td>32.0</td>\n",
              "      <td>39.7</td>\n",
              "      <td>80.0</td>\n",
              "      <td>20207.72</td>\n",
              "      <td>1160.60</td>\n",
              "      <td>67.68</td>\n",
              "      <td>2021-02-01</td>\n",
              "      <td>224684.00000</td>\n",
              "      <td>13326.000000</td>\n",
              "      <td>794.000000</td>\n",
              "      <td>501.0</td>\n",
              "      <td>49.0</td>\n",
              "    </tr>\n",
              "    <tr>\n",
              "      <th>35780</th>\n",
              "      <td>2.0</td>\n",
              "      <td>5.0</td>\n",
              "      <td>23.0</td>\n",
              "      <td>2021-01-20T00:00:00.000</td>\n",
              "      <td>2021-02-01T00:00:00.000</td>\n",
              "      <td>35.8</td>\n",
              "      <td>32.0</td>\n",
              "      <td>39.7</td>\n",
              "      <td>80.0</td>\n",
              "      <td>15941.19</td>\n",
              "      <td>2540.10</td>\n",
              "      <td>476.51</td>\n",
              "      <td>2021-02-01</td>\n",
              "      <td>161559.00000</td>\n",
              "      <td>25652.000000</td>\n",
              "      <td>4800.000000</td>\n",
              "      <td>501.0</td>\n",
              "      <td>49.0</td>\n",
              "    </tr>\n",
              "    <tr>\n",
              "      <th>35781</th>\n",
              "      <td>2.0</td>\n",
              "      <td>5.0</td>\n",
              "      <td>23.0</td>\n",
              "      <td>2021-01-20T00:00:00.000</td>\n",
              "      <td>2021-02-01T00:00:00.000</td>\n",
              "      <td>35.8</td>\n",
              "      <td>32.0</td>\n",
              "      <td>39.7</td>\n",
              "      <td>80.0</td>\n",
              "      <td>7067.11</td>\n",
              "      <td>2418.35</td>\n",
              "      <td>756.82</td>\n",
              "      <td>2021-02-01</td>\n",
              "      <td>50798.00000</td>\n",
              "      <td>17383.000000</td>\n",
              "      <td>5440.000000</td>\n",
              "      <td>501.0</td>\n",
              "      <td>49.0</td>\n",
              "    </tr>\n",
              "    <tr>\n",
              "      <th>35782</th>\n",
              "      <td>2.0</td>\n",
              "      <td>5.0</td>\n",
              "      <td>23.0</td>\n",
              "      <td>2021-01-20T00:00:00.000</td>\n",
              "      <td>2021-02-01T00:00:00.000</td>\n",
              "      <td>35.8</td>\n",
              "      <td>32.0</td>\n",
              "      <td>39.7</td>\n",
              "      <td>80.0</td>\n",
              "      <td>7477.43</td>\n",
              "      <td>3995.12</td>\n",
              "      <td>1989.81</td>\n",
              "      <td>2021-02-01</td>\n",
              "      <td>41994.00000</td>\n",
              "      <td>22437.000000</td>\n",
              "      <td>11175.000000</td>\n",
              "      <td>501.0</td>\n",
              "      <td>49.0</td>\n",
              "    </tr>\n",
              "    <tr>\n",
              "      <th>35783</th>\n",
              "      <td>2.0</td>\n",
              "      <td>5.0</td>\n",
              "      <td>23.0</td>\n",
              "      <td>2021-01-20T00:00:00.000</td>\n",
              "      <td>2021-02-01T00:00:00.000</td>\n",
              "      <td>35.8</td>\n",
              "      <td>32.0</td>\n",
              "      <td>39.7</td>\n",
              "      <td>80.0</td>\n",
              "      <td>6302.86</td>\n",
              "      <td>958.30</td>\n",
              "      <td>266.66</td>\n",
              "      <td>2021-02-01</td>\n",
              "      <td>525458.00000</td>\n",
              "      <td>79892.000000</td>\n",
              "      <td>22231.000000</td>\n",
              "      <td>501.0</td>\n",
              "      <td>49.0</td>\n",
              "    </tr>\n",
              "  </tbody>\n",
              "</table>\n",
              "<p>35784 rows × 18 columns</p>\n",
              "</div>"
            ],
            "text/plain": [
              "       indicator  phase  ...  sentiment__negative sentiment__positive\n",
              "0            1.0    1.0  ...                500.0                50.0\n",
              "1            1.0    1.0  ...                500.0                50.0\n",
              "2            1.0    1.0  ...                500.0                50.0\n",
              "3            1.0    1.0  ...                500.0                50.0\n",
              "4            1.0    1.0  ...                500.0                50.0\n",
              "...          ...    ...  ...                  ...                 ...\n",
              "35779        2.0    5.0  ...                501.0                49.0\n",
              "35780        2.0    5.0  ...                501.0                49.0\n",
              "35781        2.0    5.0  ...                501.0                49.0\n",
              "35782        2.0    5.0  ...                501.0                49.0\n",
              "35783        2.0    5.0  ...                501.0                49.0\n",
              "\n",
              "[35784 rows x 18 columns]"
            ]
          },
          "metadata": {
            "tags": []
          },
          "execution_count": 6
        }
      ]
    },
    {
      "cell_type": "code",
      "metadata": {
        "colab": {
          "base_uri": "https://localhost:8080/",
          "height": 424
        },
        "id": "uhBHB_wBtvn6",
        "outputId": "644dc008-717d-419f-f6d7-fa0d8449835e"
      },
      "source": [
        "ny = ny[['phase', 'time_period', 'value', 'lowci', 'highci', 'age', 'CASE_RATE', 'HOSPITALIZED_RATE','DEATH_RATE','sentiment__negative','sentiment__positive','indicator']]\n",
        "ny"
      ],
      "execution_count": null,
      "outputs": [
        {
          "output_type": "execute_result",
          "data": {
            "text/html": [
              "<div>\n",
              "<style scoped>\n",
              "    .dataframe tbody tr th:only-of-type {\n",
              "        vertical-align: middle;\n",
              "    }\n",
              "\n",
              "    .dataframe tbody tr th {\n",
              "        vertical-align: top;\n",
              "    }\n",
              "\n",
              "    .dataframe thead th {\n",
              "        text-align: right;\n",
              "    }\n",
              "</style>\n",
              "<table border=\"1\" class=\"dataframe\">\n",
              "  <thead>\n",
              "    <tr style=\"text-align: right;\">\n",
              "      <th></th>\n",
              "      <th>phase</th>\n",
              "      <th>time_period</th>\n",
              "      <th>value</th>\n",
              "      <th>lowci</th>\n",
              "      <th>highci</th>\n",
              "      <th>age</th>\n",
              "      <th>CASE_RATE</th>\n",
              "      <th>HOSPITALIZED_RATE</th>\n",
              "      <th>DEATH_RATE</th>\n",
              "      <th>sentiment__negative</th>\n",
              "      <th>sentiment__positive</th>\n",
              "      <th>indicator</th>\n",
              "    </tr>\n",
              "  </thead>\n",
              "  <tbody>\n",
              "    <tr>\n",
              "      <th>0</th>\n",
              "      <td>1.0</td>\n",
              "      <td>1.0</td>\n",
              "      <td>28.7</td>\n",
              "      <td>24.6</td>\n",
              "      <td>33.1</td>\n",
              "      <td>29.0</td>\n",
              "      <td>171.46</td>\n",
              "      <td>13.55</td>\n",
              "      <td>0.23</td>\n",
              "      <td>500.0</td>\n",
              "      <td>50.0</td>\n",
              "      <td>1.0</td>\n",
              "    </tr>\n",
              "    <tr>\n",
              "      <th>1</th>\n",
              "      <td>1.0</td>\n",
              "      <td>1.0</td>\n",
              "      <td>28.7</td>\n",
              "      <td>24.6</td>\n",
              "      <td>33.1</td>\n",
              "      <td>29.0</td>\n",
              "      <td>1554.45</td>\n",
              "      <td>153.69</td>\n",
              "      <td>12.88</td>\n",
              "      <td>500.0</td>\n",
              "      <td>50.0</td>\n",
              "      <td>1.0</td>\n",
              "    </tr>\n",
              "    <tr>\n",
              "      <th>2</th>\n",
              "      <td>1.0</td>\n",
              "      <td>1.0</td>\n",
              "      <td>28.7</td>\n",
              "      <td>24.6</td>\n",
              "      <td>33.1</td>\n",
              "      <td>29.0</td>\n",
              "      <td>2529.03</td>\n",
              "      <td>630.34</td>\n",
              "      <td>113.37</td>\n",
              "      <td>500.0</td>\n",
              "      <td>50.0</td>\n",
              "      <td>1.0</td>\n",
              "    </tr>\n",
              "    <tr>\n",
              "      <th>3</th>\n",
              "      <td>1.0</td>\n",
              "      <td>1.0</td>\n",
              "      <td>28.7</td>\n",
              "      <td>24.6</td>\n",
              "      <td>33.1</td>\n",
              "      <td>29.0</td>\n",
              "      <td>2552.64</td>\n",
              "      <td>1192.50</td>\n",
              "      <td>364.17</td>\n",
              "      <td>500.0</td>\n",
              "      <td>50.0</td>\n",
              "      <td>1.0</td>\n",
              "    </tr>\n",
              "    <tr>\n",
              "      <th>4</th>\n",
              "      <td>1.0</td>\n",
              "      <td>1.0</td>\n",
              "      <td>28.7</td>\n",
              "      <td>24.6</td>\n",
              "      <td>33.1</td>\n",
              "      <td>29.0</td>\n",
              "      <td>2976.74</td>\n",
              "      <td>1830.07</td>\n",
              "      <td>909.18</td>\n",
              "      <td>500.0</td>\n",
              "      <td>50.0</td>\n",
              "      <td>1.0</td>\n",
              "    </tr>\n",
              "    <tr>\n",
              "      <th>...</th>\n",
              "      <td>...</td>\n",
              "      <td>...</td>\n",
              "      <td>...</td>\n",
              "      <td>...</td>\n",
              "      <td>...</td>\n",
              "      <td>...</td>\n",
              "      <td>...</td>\n",
              "      <td>...</td>\n",
              "      <td>...</td>\n",
              "      <td>...</td>\n",
              "      <td>...</td>\n",
              "      <td>...</td>\n",
              "    </tr>\n",
              "    <tr>\n",
              "      <th>35779</th>\n",
              "      <td>5.0</td>\n",
              "      <td>23.0</td>\n",
              "      <td>35.8</td>\n",
              "      <td>32.0</td>\n",
              "      <td>39.7</td>\n",
              "      <td>80.0</td>\n",
              "      <td>20207.72</td>\n",
              "      <td>1160.60</td>\n",
              "      <td>67.68</td>\n",
              "      <td>501.0</td>\n",
              "      <td>49.0</td>\n",
              "      <td>2.0</td>\n",
              "    </tr>\n",
              "    <tr>\n",
              "      <th>35780</th>\n",
              "      <td>5.0</td>\n",
              "      <td>23.0</td>\n",
              "      <td>35.8</td>\n",
              "      <td>32.0</td>\n",
              "      <td>39.7</td>\n",
              "      <td>80.0</td>\n",
              "      <td>15941.19</td>\n",
              "      <td>2540.10</td>\n",
              "      <td>476.51</td>\n",
              "      <td>501.0</td>\n",
              "      <td>49.0</td>\n",
              "      <td>2.0</td>\n",
              "    </tr>\n",
              "    <tr>\n",
              "      <th>35781</th>\n",
              "      <td>5.0</td>\n",
              "      <td>23.0</td>\n",
              "      <td>35.8</td>\n",
              "      <td>32.0</td>\n",
              "      <td>39.7</td>\n",
              "      <td>80.0</td>\n",
              "      <td>7067.11</td>\n",
              "      <td>2418.35</td>\n",
              "      <td>756.82</td>\n",
              "      <td>501.0</td>\n",
              "      <td>49.0</td>\n",
              "      <td>2.0</td>\n",
              "    </tr>\n",
              "    <tr>\n",
              "      <th>35782</th>\n",
              "      <td>5.0</td>\n",
              "      <td>23.0</td>\n",
              "      <td>35.8</td>\n",
              "      <td>32.0</td>\n",
              "      <td>39.7</td>\n",
              "      <td>80.0</td>\n",
              "      <td>7477.43</td>\n",
              "      <td>3995.12</td>\n",
              "      <td>1989.81</td>\n",
              "      <td>501.0</td>\n",
              "      <td>49.0</td>\n",
              "      <td>2.0</td>\n",
              "    </tr>\n",
              "    <tr>\n",
              "      <th>35783</th>\n",
              "      <td>5.0</td>\n",
              "      <td>23.0</td>\n",
              "      <td>35.8</td>\n",
              "      <td>32.0</td>\n",
              "      <td>39.7</td>\n",
              "      <td>80.0</td>\n",
              "      <td>6302.86</td>\n",
              "      <td>958.30</td>\n",
              "      <td>266.66</td>\n",
              "      <td>501.0</td>\n",
              "      <td>49.0</td>\n",
              "      <td>2.0</td>\n",
              "    </tr>\n",
              "  </tbody>\n",
              "</table>\n",
              "<p>35784 rows × 12 columns</p>\n",
              "</div>"
            ],
            "text/plain": [
              "       phase  time_period  ...  sentiment__positive  indicator\n",
              "0        1.0          1.0  ...                 50.0        1.0\n",
              "1        1.0          1.0  ...                 50.0        1.0\n",
              "2        1.0          1.0  ...                 50.0        1.0\n",
              "3        1.0          1.0  ...                 50.0        1.0\n",
              "4        1.0          1.0  ...                 50.0        1.0\n",
              "...      ...          ...  ...                  ...        ...\n",
              "35779    5.0         23.0  ...                 49.0        2.0\n",
              "35780    5.0         23.0  ...                 49.0        2.0\n",
              "35781    5.0         23.0  ...                 49.0        2.0\n",
              "35782    5.0         23.0  ...                 49.0        2.0\n",
              "35783    5.0         23.0  ...                 49.0        2.0\n",
              "\n",
              "[35784 rows x 12 columns]"
            ]
          },
          "metadata": {
            "tags": []
          },
          "execution_count": 7
        }
      ]
    },
    {
      "cell_type": "code",
      "metadata": {
        "id": "xkZ7ifpXtvn-",
        "colab": {
          "base_uri": "https://localhost:8080/"
        },
        "outputId": "71e3e27d-954f-4a62-97ae-af3fdc4b1392"
      },
      "source": [
        "dataset = ny.values\n",
        "dataset"
      ],
      "execution_count": null,
      "outputs": [
        {
          "output_type": "execute_result",
          "data": {
            "text/plain": [
              "array([[  1. ,   1. ,  28.7, ..., 500. ,  50. ,   1. ],\n",
              "       [  1. ,   1. ,  28.7, ..., 500. ,  50. ,   1. ],\n",
              "       [  1. ,   1. ,  28.7, ..., 500. ,  50. ,   1. ],\n",
              "       ...,\n",
              "       [  5. ,  23. ,  35.8, ..., 501. ,  49. ,   2. ],\n",
              "       [  5. ,  23. ,  35.8, ..., 501. ,  49. ,   2. ],\n",
              "       [  5. ,  23. ,  35.8, ..., 501. ,  49. ,   2. ]])"
            ]
          },
          "metadata": {
            "tags": []
          },
          "execution_count": 8
        }
      ]
    },
    {
      "cell_type": "code",
      "metadata": {
        "id": "17n-xrZctvn_"
      },
      "source": [
        "X = dataset[:, :-1]\n",
        "y = dataset[:,-1]"
      ],
      "execution_count": null,
      "outputs": []
    },
    {
      "cell_type": "code",
      "metadata": {
        "id": "ljPcv-WAtvoA"
      },
      "source": [
        "import pandas as pd\n",
        "from sklearn import preprocessing\n",
        "from sklearn.preprocessing import StandardScaler\n",
        "\n",
        "min_max_scaler = preprocessing.MinMaxScaler()\n",
        "x_scaled = min_max_scaler.fit_transform(X)\n",
        "y_scaled = min_max_scaler.fit_transform(y.reshape(-1, 1))\n",
        "X = pd.DataFrame(x_scaled)\n",
        "y = pd.DataFrame(y_scaled)"
      ],
      "execution_count": null,
      "outputs": []
    },
    {
      "cell_type": "code",
      "metadata": {
        "id": "3tEVcn7JtvoD",
        "colab": {
          "base_uri": "https://localhost:8080/",
          "height": 424
        },
        "outputId": "48fe59fb-bd00-4b50-c0b3-bb7625af6efd"
      },
      "source": [
        "X"
      ],
      "execution_count": null,
      "outputs": [
        {
          "output_type": "execute_result",
          "data": {
            "text/html": [
              "<div>\n",
              "<style scoped>\n",
              "    .dataframe tbody tr th:only-of-type {\n",
              "        vertical-align: middle;\n",
              "    }\n",
              "\n",
              "    .dataframe tbody tr th {\n",
              "        vertical-align: top;\n",
              "    }\n",
              "\n",
              "    .dataframe thead th {\n",
              "        text-align: right;\n",
              "    }\n",
              "</style>\n",
              "<table border=\"1\" class=\"dataframe\">\n",
              "  <thead>\n",
              "    <tr style=\"text-align: right;\">\n",
              "      <th></th>\n",
              "      <th>0</th>\n",
              "      <th>1</th>\n",
              "      <th>2</th>\n",
              "      <th>3</th>\n",
              "      <th>4</th>\n",
              "      <th>5</th>\n",
              "      <th>6</th>\n",
              "      <th>7</th>\n",
              "      <th>8</th>\n",
              "      <th>9</th>\n",
              "      <th>10</th>\n",
              "    </tr>\n",
              "  </thead>\n",
              "  <tbody>\n",
              "    <tr>\n",
              "      <th>0</th>\n",
              "      <td>0.0</td>\n",
              "      <td>0.0</td>\n",
              "      <td>0.340102</td>\n",
              "      <td>0.294737</td>\n",
              "      <td>0.372642</td>\n",
              "      <td>0.0</td>\n",
              "      <td>0.000000</td>\n",
              "      <td>0.000000</td>\n",
              "      <td>0.000000</td>\n",
              "      <td>0.607843</td>\n",
              "      <td>0.392157</td>\n",
              "    </tr>\n",
              "    <tr>\n",
              "      <th>1</th>\n",
              "      <td>0.0</td>\n",
              "      <td>0.0</td>\n",
              "      <td>0.340102</td>\n",
              "      <td>0.294737</td>\n",
              "      <td>0.372642</td>\n",
              "      <td>0.0</td>\n",
              "      <td>0.069024</td>\n",
              "      <td>0.035197</td>\n",
              "      <td>0.006358</td>\n",
              "      <td>0.607843</td>\n",
              "      <td>0.392157</td>\n",
              "    </tr>\n",
              "    <tr>\n",
              "      <th>2</th>\n",
              "      <td>0.0</td>\n",
              "      <td>0.0</td>\n",
              "      <td>0.340102</td>\n",
              "      <td>0.294737</td>\n",
              "      <td>0.372642</td>\n",
              "      <td>0.0</td>\n",
              "      <td>0.117665</td>\n",
              "      <td>0.154911</td>\n",
              "      <td>0.056866</td>\n",
              "      <td>0.607843</td>\n",
              "      <td>0.392157</td>\n",
              "    </tr>\n",
              "    <tr>\n",
              "      <th>3</th>\n",
              "      <td>0.0</td>\n",
              "      <td>0.0</td>\n",
              "      <td>0.340102</td>\n",
              "      <td>0.294737</td>\n",
              "      <td>0.372642</td>\n",
              "      <td>0.0</td>\n",
              "      <td>0.118844</td>\n",
              "      <td>0.296102</td>\n",
              "      <td>0.182923</td>\n",
              "      <td>0.607843</td>\n",
              "      <td>0.392157</td>\n",
              "    </tr>\n",
              "    <tr>\n",
              "      <th>4</th>\n",
              "      <td>0.0</td>\n",
              "      <td>0.0</td>\n",
              "      <td>0.340102</td>\n",
              "      <td>0.294737</td>\n",
              "      <td>0.372642</td>\n",
              "      <td>0.0</td>\n",
              "      <td>0.140010</td>\n",
              "      <td>0.456232</td>\n",
              "      <td>0.456855</td>\n",
              "      <td>0.607843</td>\n",
              "      <td>0.392157</td>\n",
              "    </tr>\n",
              "    <tr>\n",
              "      <th>...</th>\n",
              "      <td>...</td>\n",
              "      <td>...</td>\n",
              "      <td>...</td>\n",
              "      <td>...</td>\n",
              "      <td>...</td>\n",
              "      <td>...</td>\n",
              "      <td>...</td>\n",
              "      <td>...</td>\n",
              "      <td>...</td>\n",
              "      <td>...</td>\n",
              "      <td>...</td>\n",
              "    </tr>\n",
              "    <tr>\n",
              "      <th>35779</th>\n",
              "      <td>1.0</td>\n",
              "      <td>1.0</td>\n",
              "      <td>0.700508</td>\n",
              "      <td>0.684211</td>\n",
              "      <td>0.683962</td>\n",
              "      <td>1.0</td>\n",
              "      <td>1.000000</td>\n",
              "      <td>0.288090</td>\n",
              "      <td>0.033902</td>\n",
              "      <td>0.627451</td>\n",
              "      <td>0.372549</td>\n",
              "    </tr>\n",
              "    <tr>\n",
              "      <th>35780</th>\n",
              "      <td>1.0</td>\n",
              "      <td>1.0</td>\n",
              "      <td>0.700508</td>\n",
              "      <td>0.684211</td>\n",
              "      <td>0.683962</td>\n",
              "      <td>1.0</td>\n",
              "      <td>0.787060</td>\n",
              "      <td>0.634561</td>\n",
              "      <td>0.239387</td>\n",
              "      <td>0.627451</td>\n",
              "      <td>0.372549</td>\n",
              "    </tr>\n",
              "    <tr>\n",
              "      <th>35781</th>\n",
              "      <td>1.0</td>\n",
              "      <td>1.0</td>\n",
              "      <td>0.700508</td>\n",
              "      <td>0.684211</td>\n",
              "      <td>0.683962</td>\n",
              "      <td>1.0</td>\n",
              "      <td>0.344159</td>\n",
              "      <td>0.603983</td>\n",
              "      <td>0.380276</td>\n",
              "      <td>0.627451</td>\n",
              "      <td>0.372549</td>\n",
              "    </tr>\n",
              "    <tr>\n",
              "      <th>35782</th>\n",
              "      <td>1.0</td>\n",
              "      <td>1.0</td>\n",
              "      <td>0.700508</td>\n",
              "      <td>0.684211</td>\n",
              "      <td>0.683962</td>\n",
              "      <td>1.0</td>\n",
              "      <td>0.364637</td>\n",
              "      <td>1.000000</td>\n",
              "      <td>1.000000</td>\n",
              "      <td>0.627451</td>\n",
              "      <td>0.372549</td>\n",
              "    </tr>\n",
              "    <tr>\n",
              "      <th>35783</th>\n",
              "      <td>1.0</td>\n",
              "      <td>1.0</td>\n",
              "      <td>0.700508</td>\n",
              "      <td>0.684211</td>\n",
              "      <td>0.683962</td>\n",
              "      <td>1.0</td>\n",
              "      <td>0.306015</td>\n",
              "      <td>0.237281</td>\n",
              "      <td>0.133913</td>\n",
              "      <td>0.627451</td>\n",
              "      <td>0.372549</td>\n",
              "    </tr>\n",
              "  </tbody>\n",
              "</table>\n",
              "<p>35784 rows × 11 columns</p>\n",
              "</div>"
            ],
            "text/plain": [
              "        0    1         2         3   ...        7         8         9         10\n",
              "0      0.0  0.0  0.340102  0.294737  ...  0.000000  0.000000  0.607843  0.392157\n",
              "1      0.0  0.0  0.340102  0.294737  ...  0.035197  0.006358  0.607843  0.392157\n",
              "2      0.0  0.0  0.340102  0.294737  ...  0.154911  0.056866  0.607843  0.392157\n",
              "3      0.0  0.0  0.340102  0.294737  ...  0.296102  0.182923  0.607843  0.392157\n",
              "4      0.0  0.0  0.340102  0.294737  ...  0.456232  0.456855  0.607843  0.392157\n",
              "...    ...  ...       ...       ...  ...       ...       ...       ...       ...\n",
              "35779  1.0  1.0  0.700508  0.684211  ...  0.288090  0.033902  0.627451  0.372549\n",
              "35780  1.0  1.0  0.700508  0.684211  ...  0.634561  0.239387  0.627451  0.372549\n",
              "35781  1.0  1.0  0.700508  0.684211  ...  0.603983  0.380276  0.627451  0.372549\n",
              "35782  1.0  1.0  0.700508  0.684211  ...  1.000000  1.000000  0.627451  0.372549\n",
              "35783  1.0  1.0  0.700508  0.684211  ...  0.237281  0.133913  0.627451  0.372549\n",
              "\n",
              "[35784 rows x 11 columns]"
            ]
          },
          "metadata": {
            "tags": []
          },
          "execution_count": 11
        }
      ]
    },
    {
      "cell_type": "code",
      "metadata": {
        "id": "H7AZFbTQtvoD",
        "colab": {
          "base_uri": "https://localhost:8080/",
          "height": 424
        },
        "outputId": "24ddf914-8002-480f-9239-4049aae6ae67"
      },
      "source": [
        "y"
      ],
      "execution_count": null,
      "outputs": [
        {
          "output_type": "execute_result",
          "data": {
            "text/html": [
              "<div>\n",
              "<style scoped>\n",
              "    .dataframe tbody tr th:only-of-type {\n",
              "        vertical-align: middle;\n",
              "    }\n",
              "\n",
              "    .dataframe tbody tr th {\n",
              "        vertical-align: top;\n",
              "    }\n",
              "\n",
              "    .dataframe thead th {\n",
              "        text-align: right;\n",
              "    }\n",
              "</style>\n",
              "<table border=\"1\" class=\"dataframe\">\n",
              "  <thead>\n",
              "    <tr style=\"text-align: right;\">\n",
              "      <th></th>\n",
              "      <th>0</th>\n",
              "    </tr>\n",
              "  </thead>\n",
              "  <tbody>\n",
              "    <tr>\n",
              "      <th>0</th>\n",
              "      <td>0.5</td>\n",
              "    </tr>\n",
              "    <tr>\n",
              "      <th>1</th>\n",
              "      <td>0.5</td>\n",
              "    </tr>\n",
              "    <tr>\n",
              "      <th>2</th>\n",
              "      <td>0.5</td>\n",
              "    </tr>\n",
              "    <tr>\n",
              "      <th>3</th>\n",
              "      <td>0.5</td>\n",
              "    </tr>\n",
              "    <tr>\n",
              "      <th>4</th>\n",
              "      <td>0.5</td>\n",
              "    </tr>\n",
              "    <tr>\n",
              "      <th>...</th>\n",
              "      <td>...</td>\n",
              "    </tr>\n",
              "    <tr>\n",
              "      <th>35779</th>\n",
              "      <td>1.0</td>\n",
              "    </tr>\n",
              "    <tr>\n",
              "      <th>35780</th>\n",
              "      <td>1.0</td>\n",
              "    </tr>\n",
              "    <tr>\n",
              "      <th>35781</th>\n",
              "      <td>1.0</td>\n",
              "    </tr>\n",
              "    <tr>\n",
              "      <th>35782</th>\n",
              "      <td>1.0</td>\n",
              "    </tr>\n",
              "    <tr>\n",
              "      <th>35783</th>\n",
              "      <td>1.0</td>\n",
              "    </tr>\n",
              "  </tbody>\n",
              "</table>\n",
              "<p>35784 rows × 1 columns</p>\n",
              "</div>"
            ],
            "text/plain": [
              "         0\n",
              "0      0.5\n",
              "1      0.5\n",
              "2      0.5\n",
              "3      0.5\n",
              "4      0.5\n",
              "...    ...\n",
              "35779  1.0\n",
              "35780  1.0\n",
              "35781  1.0\n",
              "35782  1.0\n",
              "35783  1.0\n",
              "\n",
              "[35784 rows x 1 columns]"
            ]
          },
          "metadata": {
            "tags": []
          },
          "execution_count": 12
        }
      ]
    },
    {
      "cell_type": "code",
      "metadata": {
        "id": "Ax5RitlRtvoE"
      },
      "source": [
        "# Helper\n",
        "\n",
        "def load_dataset(filename):\n",
        "    # load the dataset as a pandas DataFrame\n",
        "    data = pd.read_csv(filename, header=None)\n",
        "    # retrieve numpy array\n",
        "    dataset = data.values\n",
        "    # split into input (X) and output (y) variables\n",
        "    X = dataset[:, :-1]\n",
        "    y = dataset[:,-1]\n",
        "    return X, y"
      ],
      "execution_count": null,
      "outputs": []
    },
    {
      "cell_type": "code",
      "metadata": {
        "id": "cUhooIrjtvoE"
      },
      "source": [
        "from sklearn.model_selection import train_test_split\n",
        "from sklearn.preprocessing import OneHotEncoder, StandardScaler\n",
        "X_train, X_test, y_train, y_test = train_test_split(X, y, test_size=0.3, random_state=42)"
      ],
      "execution_count": null,
      "outputs": []
    },
    {
      "cell_type": "code",
      "metadata": {
        "id": "q2hb_F83tvoE"
      },
      "source": [
        "from pandas import read_csv\n",
        "from sklearn.model_selection import train_test_split\n",
        "from sklearn.feature_selection import SelectKBest\n",
        "from sklearn.feature_selection import f_classif\n",
        "from matplotlib import pyplot"
      ],
      "execution_count": null,
      "outputs": []
    },
    {
      "cell_type": "code",
      "metadata": {
        "colab": {
          "base_uri": "https://localhost:8080/",
          "height": 470
        },
        "id": "Ia1UvrdAtvoE",
        "outputId": "743b105a-316f-4410-cff4-daec3ede47b5"
      },
      "source": [
        "def select_features(X_train, y_train, X_test):\n",
        "    # configure to select all features\n",
        "    fs = SelectKBest(score_func=f_classif, k='all')\n",
        "    # learn relationship from training data\n",
        "    fs.fit(X_train, y_train)\n",
        "    # transform train input data\n",
        "    X_train_fs = fs.transform(X_train)\n",
        "    # transform test input data\n",
        "    X_test_fs = fs.transform(X_test)\n",
        "    return X_train_fs, X_test_fs, fs\n",
        " \n",
        "\"\"\"# load the dataset\n",
        "X, y = load_dataset('pima-indians-diabetes.csv')\n",
        "# split into train and test sets\n",
        "X_train, X_test, y_train, y_test = train_test_split(X, y, test_size=0.33, random_state=1)\n",
        "\"\"\"\n",
        "# feature selection\n",
        "X_train_fs, X_test_fs, fs = select_features(X_train, y_train, X_test)\n",
        "# what are scores for the features\n",
        "for i in range(len(fs.scores_)):\n",
        "    print('Feature %d: %f' % (i, fs.scores_[i]))\n",
        "# plot the scores\n",
        "pyplot.bar([i for i in range(len(fs.scores_))], fs.scores_)\n",
        "pyplot.show()"
      ],
      "execution_count": null,
      "outputs": [
        {
          "output_type": "stream",
          "text": [
            "Feature 0: 0.293292\n",
            "Feature 1: 0.392809\n",
            "Feature 2: 50197.061854\n",
            "Feature 3: 57575.442057\n",
            "Feature 4: 40979.817157\n",
            "Feature 5: 0.702942\n",
            "Feature 6: 0.202854\n",
            "Feature 7: 0.192411\n",
            "Feature 8: 0.032333\n",
            "Feature 9: 0.016217\n",
            "Feature 10: 0.016217\n"
          ],
          "name": "stdout"
        },
        {
          "output_type": "display_data",
          "data": {
            "image/png": "[encoded data removed]",
            "text/plain": [
              "<Figure size 432x288 with 1 Axes>"
            ]
          },
          "metadata": {
            "tags": [],
            "needs_background": "light"
          }
        }
      ]
    },
    {
      "cell_type": "code",
      "metadata": {
        "id": "MpIN4_netvoG",
        "colab": {
          "base_uri": "https://localhost:8080/",
          "height": 470
        },
        "outputId": "384c6c1c-4446-4cb2-8dc4-fde9111dc65e"
      },
      "source": [
        "#feature selection \n",
        "\n",
        "def select_features(X_train, y_train, X_test):\n",
        "    # configure to select all features\n",
        "    fs = SelectKBest(score_func=f_classif, k='all')\n",
        "    # learn relationship from training data\n",
        "    fs.fit(X_train, y_train)\n",
        "    # transform train input data\n",
        "    X_train_fs = fs.transform(X_train)\n",
        "    # transform test input data\n",
        "    X_test_fs = fs.transform(X_test)\n",
        "    return X_train_fs, X_test_fs, fs\n",
        " \n",
        "\n",
        "X_train_fs, X_test_fs, fs = select_features(X_train, y_train, X_test)\n",
        "# what are scores for the features\n",
        "for i in range(len(fs.scores_)):\n",
        "    print('Feature %d: %f' % (i, fs.scores_[i]))\n",
        "# plot the scores\n",
        "pyplot.bar([i for i in range(len(fs.scores_))], fs.scores_)\n",
        "pyplot.show()"
      ],
      "execution_count": null,
      "outputs": [
        {
          "output_type": "stream",
          "text": [
            "Feature 0: 0.293292\n",
            "Feature 1: 0.392809\n",
            "Feature 2: 50197.061854\n",
            "Feature 3: 57575.442057\n",
            "Feature 4: 40979.817157\n",
            "Feature 5: 0.702942\n",
            "Feature 6: 0.202854\n",
            "Feature 7: 0.192411\n",
            "Feature 8: 0.032333\n",
            "Feature 9: 0.016217\n",
            "Feature 10: 0.016217\n"
          ],
          "name": "stdout"
        },
        {
          "output_type": "display_data",
          "data": {
            "image/png": "[encoded data removed]",
            "text/plain": [
              "<Figure size 432x288 with 1 Axes>"
            ]
          },
          "metadata": {
            "tags": [],
            "needs_background": "light"
          }
        }
      ]
    },
    {
      "cell_type": "code",
      "metadata": {
        "colab": {
          "base_uri": "https://localhost:8080/"
        },
        "id": "o9cefrNttvoG",
        "outputId": "4bc64396-d439-4ab3-a7ca-4d144dd15a81"
      },
      "source": [
        "#https://www.dezyre.com/recipes/select-features-using-best-anova-f-values-in-python\n",
        "\n",
        "def ProjectPro_Ex_56():\n",
        "    print()\n",
        "    print('**How we can select features using best ANOVA F-values in Python**')\n",
        "\n",
        "    # loading libraries\n",
        "    from sklearn.datasets import load_iris\n",
        "    from sklearn.feature_selection import SelectKBest\n",
        "    from sklearn.feature_selection import f_classif\n",
        "\n",
        "    # Selecting Features With Best ANOVA F-Values\n",
        "    # Creating an SelectKBest object to select features with two best ANOVA F-Values\n",
        "    fvalue_Best = SelectKBest(f_classif, k=5)\n",
        "    # Applying the SelectKBest object to the features and target\n",
        "    X_kbest = fvalue_Best.fit_transform(X, y)\n",
        "    print(X_kbest)\n",
        "\n",
        "    # Showing results\n",
        "    print('Original number of features:', X.shape)\n",
        "    print('Reduced number of features:', X_kbest.shape)\n",
        "    return X_kbest\n",
        "\n",
        "result = ProjectPro_Ex_56()\n",
        "result"
      ],
      "execution_count": null,
      "outputs": [
        {
          "output_type": "stream",
          "text": [
            "\n",
            "**How we can select features using best ANOVA F-values in Python**\n",
            "[[0.         0.34010152 0.29473684 0.37264151 0.39215686]\n",
            " [0.         0.34010152 0.29473684 0.37264151 0.39215686]\n",
            " [0.         0.34010152 0.29473684 0.37264151 0.39215686]\n",
            " ...\n",
            " [1.         0.70050761 0.68421053 0.68396226 0.37254902]\n",
            " [1.         0.70050761 0.68421053 0.68396226 0.37254902]\n",
            " [1.         0.70050761 0.68421053 0.68396226 0.37254902]]\n",
            "Original number of features: (35784, 11)\n",
            "Reduced number of features: (35784, 5)\n"
          ],
          "name": "stdout"
        },
        {
          "output_type": "execute_result",
          "data": {
            "text/plain": [
              "array([[0.        , 0.34010152, 0.29473684, 0.37264151, 0.39215686],\n",
              "       [0.        , 0.34010152, 0.29473684, 0.37264151, 0.39215686],\n",
              "       [0.        , 0.34010152, 0.29473684, 0.37264151, 0.39215686],\n",
              "       ...,\n",
              "       [1.        , 0.70050761, 0.68421053, 0.68396226, 0.37254902],\n",
              "       [1.        , 0.70050761, 0.68421053, 0.68396226, 0.37254902],\n",
              "       [1.        , 0.70050761, 0.68421053, 0.68396226, 0.37254902]])"
            ]
          },
          "metadata": {
            "tags": []
          },
          "execution_count": 18
        }
      ]
    },
    {
      "cell_type": "code",
      "metadata": {
        "id": "ac3b5gxStvoH"
      },
      "source": [
        "#https://kgptalkie.com/feature-selection-based-on-univariate-anova-test-for-classification-machine-learning-kgp-talkie/\n",
        "\n",
        "import numpy as np\n",
        "import pandas as pd\n",
        "import matplotlib.pyplot as plt\n",
        "import seaborn as sns"
      ],
      "execution_count": null,
      "outputs": []
    },
    {
      "cell_type": "code",
      "metadata": {
        "id": "Om2hK4IntvoI"
      },
      "source": [
        "from sklearn.model_selection import train_test_split\n",
        "from sklearn.ensemble import RandomForestClassifier\n",
        "from sklearn.metrics import accuracy_score\n",
        "from sklearn.feature_selection import VarianceThreshold\n",
        "from sklearn.feature_selection import f_classif, f_regression\n",
        "from sklearn.feature_selection import SelectKBest, SelectPercentile"
      ],
      "execution_count": null,
      "outputs": []
    },
    {
      "cell_type": "code",
      "metadata": {
        "id": "gJvj5a8KtvoI",
        "colab": {
          "base_uri": "https://localhost:8080/"
        },
        "outputId": "c936b243-3167-4fdf-f1b8-d26fb419fe68"
      },
      "source": [
        "X.shape, y.shape"
      ],
      "execution_count": null,
      "outputs": [
        {
          "output_type": "execute_result",
          "data": {
            "text/plain": [
              "((35784, 11), (35784, 1))"
            ]
          },
          "metadata": {
            "tags": []
          },
          "execution_count": 21
        }
      ]
    },
    {
      "cell_type": "code",
      "metadata": {
        "id": "JXkgAHb8tvoJ"
      },
      "source": [
        "X_train, X_test, y_train, y_test = train_test_split(X, y, test_size = 0.5, random_state = 1, stratify = y)"
      ],
      "execution_count": null,
      "outputs": []
    },
    {
      "cell_type": "code",
      "metadata": {
        "id": "aUqeVXjCtvoJ"
      },
      "source": [
        "constant_filter = VarianceThreshold(threshold=0.01)\n",
        "constant_filter.fit(X_train)\n",
        "X_train_filter = constant_filter.transform(X_train)\n",
        "X_test_filter = constant_filter.transform(X_test)"
      ],
      "execution_count": null,
      "outputs": []
    },
    {
      "cell_type": "code",
      "metadata": {
        "colab": {
          "base_uri": "https://localhost:8080/"
        },
        "id": "j6UALVUvtvoJ",
        "outputId": "49aa9b6a-d20b-470f-a05c-61eee977d101"
      },
      "source": [
        "X_train_filter.shape, X_test_filter.shape"
      ],
      "execution_count": null,
      "outputs": [
        {
          "output_type": "execute_result",
          "data": {
            "text/plain": [
              "((17892, 11), (17892, 11))"
            ]
          },
          "metadata": {
            "tags": []
          },
          "execution_count": 24
        }
      ]
    },
    {
      "cell_type": "code",
      "metadata": {
        "id": "nFvvpN23tvoK"
      },
      "source": [
        "X_train_T = X_train_filter.T\n",
        "X_test_T = X_test_filter.T"
      ],
      "execution_count": null,
      "outputs": []
    },
    {
      "cell_type": "code",
      "metadata": {
        "id": "FyR9-kX0tvoL"
      },
      "source": [
        "X_train_T = pd.DataFrame(X_train_T)\n",
        "X_test_T = pd.DataFrame(X_test_T)"
      ],
      "execution_count": null,
      "outputs": []
    },
    {
      "cell_type": "code",
      "metadata": {
        "colab": {
          "base_uri": "https://localhost:8080/"
        },
        "id": "YEAhALCitvoN",
        "outputId": "ee76b1b2-3151-4f0f-e750-efe53e027430"
      },
      "source": [
        "X_train_T.duplicated().sum()"
      ],
      "execution_count": null,
      "outputs": [
        {
          "output_type": "execute_result",
          "data": {
            "text/plain": [
              "0"
            ]
          },
          "metadata": {
            "tags": []
          },
          "execution_count": 27
        }
      ]
    },
    {
      "cell_type": "code",
      "metadata": {
        "id": "mgRLU36CtvoO"
      },
      "source": [
        "duplicated_features = X_train_T.duplicated()"
      ],
      "execution_count": null,
      "outputs": []
    },
    {
      "cell_type": "code",
      "metadata": {
        "id": "0eA2WHVVtvoO"
      },
      "source": [
        "features_to_keep = [not index for index in duplicated_features]\n",
        "X_train_unique = X_train_T[features_to_keep].T\n",
        "X_test_unique = X_test_T[features_to_keep].T"
      ],
      "execution_count": null,
      "outputs": []
    },
    {
      "cell_type": "code",
      "metadata": {
        "id": "VFQ63j6itvoO",
        "colab": {
          "base_uri": "https://localhost:8080/"
        },
        "outputId": "50eeeaf3-5334-4d8b-c3c0-d58690e7e7e4"
      },
      "source": [
        "X_train_unique.shape, X_train.shape"
      ],
      "execution_count": null,
      "outputs": [
        {
          "output_type": "execute_result",
          "data": {
            "text/plain": [
              "((17892, 11), (17892, 11))"
            ]
          },
          "metadata": {
            "tags": []
          },
          "execution_count": 30
        }
      ]
    },
    {
      "cell_type": "code",
      "metadata": {
        "id": "zVIqGccKtvoP",
        "colab": {
          "base_uri": "https://localhost:8080/"
        },
        "outputId": "f87e6560-9534-4d97-c07d-32ea16e2da2c"
      },
      "source": [
        "sel = f_classif(X_train_unique, y_train)\n",
        "sel"
      ],
      "execution_count": null,
      "outputs": [
        {
          "output_type": "execute_result",
          "data": {
            "text/plain": [
              "(array([1.56579620e-01, 3.57054103e-01, 3.62278773e+04, 4.16040035e+04,\n",
              "        2.95416375e+04, 9.41215062e-01, 5.21075844e-01, 3.27348209e-01,\n",
              "        2.37387347e-01, 1.94728629e+00, 1.94728629e+00]),\n",
              " array([0.85506461, 0.69973963, 0.        , 0.        , 0.        ,\n",
              "        0.39017281, 0.59389029, 0.72083702, 0.78868822, 0.14269092,\n",
              "        0.14269092]))"
            ]
          },
          "metadata": {
            "tags": []
          },
          "execution_count": 31
        }
      ]
    },
    {
      "cell_type": "code",
      "metadata": {
        "id": "Mgkh7bO_tvoP"
      },
      "source": [
        "p_values = pd.Series(sel[1])\n",
        "p_values.index = X_train_unique.columns\n",
        "p_values.sort_values(ascending = True, inplace = True)"
      ],
      "execution_count": null,
      "outputs": []
    },
    {
      "cell_type": "code",
      "metadata": {
        "id": "2z9pazKLtvoQ",
        "colab": {
          "base_uri": "https://localhost:8080/",
          "height": 501
        },
        "outputId": "8271b3df-8167-4046-d6b9-d939b3c89a3e"
      },
      "source": [
        "p_values.plot.bar(figsize = (8, 8))\n",
        "plt.title('pvalues with respect to features')\n",
        "plt.show()"
      ],
      "execution_count": null,
      "outputs": [
        {
          "output_type": "display_data",
          "data": {
            "image/png": "[encoded data removed]",
            "text/plain": [
              "<Figure size 576x576 with 1 Axes>"
            ]
          },
          "metadata": {
            "tags": [],
            "needs_background": "light"
          }
        }
      ]
    },
    {
      "cell_type": "code",
      "metadata": {
        "id": "opaP-OxWtvoS",
        "colab": {
          "base_uri": "https://localhost:8080/"
        },
        "outputId": "a04bfe1d-477b-4c4a-c6b7-001818ca9698"
      },
      "source": [
        "p_values = p_values[p_values<.15]\n",
        "p_values"
      ],
      "execution_count": null,
      "outputs": [
        {
          "output_type": "execute_result",
          "data": {
            "text/plain": [
              "2     0.000000\n",
              "3     0.000000\n",
              "4     0.000000\n",
              "9     0.142691\n",
              "10    0.142691\n",
              "dtype: float64"
            ]
          },
          "metadata": {
            "tags": []
          },
          "execution_count": 34
        }
      ]
    },
    {
      "cell_type": "code",
      "metadata": {
        "id": "vwImSRY4tvoT",
        "colab": {
          "base_uri": "https://localhost:8080/"
        },
        "outputId": "e1721a13-a0f3-49f0-afba-3d3174bc28b7"
      },
      "source": [
        "p_values.index"
      ],
      "execution_count": null,
      "outputs": [
        {
          "output_type": "execute_result",
          "data": {
            "text/plain": [
              "Int64Index([2, 3, 4, 9, 10], dtype='int64')"
            ]
          },
          "metadata": {
            "tags": []
          },
          "execution_count": 35
        }
      ]
    },
    {
      "cell_type": "code",
      "metadata": {
        "id": "jeSQbyBOtvoT"
      },
      "source": [
        "X_train_p = X_train_unique[p_values.index]\n",
        "X_test_p = X_test_unique[p_values.index]"
      ],
      "execution_count": null,
      "outputs": []
    },
    {
      "cell_type": "code",
      "metadata": {
        "colab": {
          "base_uri": "https://localhost:8080/"
        },
        "id": "lp2iOt4AtvoU",
        "outputId": "4ed5e30c-d71b-4aee-aee0-0c63f6c788f9"
      },
      "source": [
        "#https://chrisalbon.com/machine_learning/feature_selection/anova_f-value_for_feature_selection/\n",
        "\n",
        "# Create an SelectKBest object to select features with six best ANOVA F-Values\n",
        "fvalue_selector = SelectKBest(f_classif, k=6)\n",
        "\n",
        "# Apply the SelectKBest object to the features and target\n",
        "X_kbest = fvalue_selector.fit_transform(X, y)\n",
        "\n",
        "# Show results\n",
        "print('Original number of features:', X.shape[1])\n",
        "print('Reduced number of features:', X_kbest.shape[1])"
      ],
      "execution_count": null,
      "outputs": [
        {
          "output_type": "stream",
          "text": [
            "Original number of features: 11\n",
            "Reduced number of features: 6\n"
          ],
          "name": "stdout"
        }
      ]
    },
    {
      "cell_type": "code",
      "metadata": {
        "id": "mrJvwnSL0qba",
        "colab": {
          "base_uri": "https://localhost:8080/"
        },
        "outputId": "61ffc38e-3a8f-418c-d3e7-548b28969364"
      },
      "source": [
        "X_kbest"
      ],
      "execution_count": null,
      "outputs": [
        {
          "output_type": "execute_result",
          "data": {
            "text/plain": [
              "array([[0.        , 0.34010152, 0.29473684, 0.37264151, 0.        ,\n",
              "        0.39215686],\n",
              "       [0.        , 0.34010152, 0.29473684, 0.37264151, 0.00635813,\n",
              "        0.39215686],\n",
              "       [0.        , 0.34010152, 0.29473684, 0.37264151, 0.05686627,\n",
              "        0.39215686],\n",
              "       ...,\n",
              "       [1.        , 0.70050761, 0.68421053, 0.68396226, 0.38027624,\n",
              "        0.37254902],\n",
              "       [1.        , 0.70050761, 0.68421053, 0.68396226, 1.        ,\n",
              "        0.37254902],\n",
              "       [1.        , 0.70050761, 0.68421053, 0.68396226, 0.13391269,\n",
              "        0.37254902]])"
            ]
          },
          "metadata": {
            "tags": []
          },
          "execution_count": 38
        }
      ]
    },
    {
      "cell_type": "markdown",
      "metadata": {
        "id": "px7tlRaPtvoU"
      },
      "source": [
        "# PCA Analysis Below"
      ]
    },
    {
      "cell_type": "code",
      "metadata": {
        "id": "Ij2BWHp6tvoV"
      },
      "source": [
        "from numpy import mean\n",
        "from numpy import std\n",
        "import pandas as pd\n",
        "from sklearn.datasets import make_classification\n",
        "from sklearn.model_selection import cross_val_score\n",
        "from sklearn.model_selection import RepeatedStratifiedKFold\n",
        "from sklearn.pipeline import Pipeline\n",
        "from sklearn.decomposition import PCA\n",
        "from sklearn.linear_model import LogisticRegression\n",
        "from matplotlib import pyplot"
      ],
      "execution_count": null,
      "outputs": []
    },
    {
      "cell_type": "code",
      "metadata": {
        "colab": {
          "base_uri": "https://localhost:8080/",
          "height": 1000
        },
        "id": "lSUDlopXtvoV",
        "outputId": "37d141c3-f44f-4938-a4b4-fde4fafb9f5c"
      },
      "source": [
        "ny = pd.read_csv('./new_york.csv')\n",
        "ny"
      ],
      "execution_count": null,
      "outputs": [
        {
          "output_type": "execute_result",
          "data": {
            "text/html": [
              "<div>\n",
              "<style scoped>\n",
              "    .dataframe tbody tr th:only-of-type {\n",
              "        vertical-align: middle;\n",
              "    }\n",
              "\n",
              "    .dataframe tbody tr th {\n",
              "        vertical-align: top;\n",
              "    }\n",
              "\n",
              "    .dataframe thead th {\n",
              "        text-align: right;\n",
              "    }\n",
              "</style>\n",
              "<table border=\"1\" class=\"dataframe\">\n",
              "  <thead>\n",
              "    <tr style=\"text-align: right;\">\n",
              "      <th></th>\n",
              "      <th>indicator</th>\n",
              "      <th>group</th>\n",
              "      <th>state</th>\n",
              "      <th>subgroup</th>\n",
              "      <th>phase</th>\n",
              "      <th>time_period</th>\n",
              "      <th>time_period_label</th>\n",
              "      <th>time_period_start_date</th>\n",
              "      <th>time_period_end_date</th>\n",
              "      <th>value</th>\n",
              "      <th>lowci</th>\n",
              "      <th>highci</th>\n",
              "      <th>confidence_interval</th>\n",
              "      <th>quartile_range</th>\n",
              "      <th>age</th>\n",
              "      <th>CASE_RATE</th>\n",
              "      <th>HOSPITALIZED_RATE</th>\n",
              "      <th>DEATH_RATE</th>\n",
              "      <th>date</th>\n",
              "      <th>CASE_COUNT</th>\n",
              "      <th>HOSPITALIZED_COUNT</th>\n",
              "      <th>DEATH_COUNT</th>\n",
              "      <th>counts</th>\n",
              "      <th>sentiment__negative</th>\n",
              "      <th>sentiment__positive</th>\n",
              "    </tr>\n",
              "  </thead>\n",
              "  <tbody>\n",
              "    <tr>\n",
              "      <th>0</th>\n",
              "      <td>Symptoms of Depressive Disorder</td>\n",
              "      <td>By State</td>\n",
              "      <td>New York</td>\n",
              "      <td>New York</td>\n",
              "      <td>1</td>\n",
              "      <td>1.0</td>\n",
              "      <td>Apr 23 - May 5</td>\n",
              "      <td>2020-04-23T00:00:00.000</td>\n",
              "      <td>2020-05-05T00:00:00.000</td>\n",
              "      <td>28.7</td>\n",
              "      <td>24.6</td>\n",
              "      <td>33.1</td>\n",
              "      <td>24.6 - 33.1</td>\n",
              "      <td>24.1 - 28.7</td>\n",
              "      <td>18 - 29 years</td>\n",
              "      <td>171.46</td>\n",
              "      <td>13.55</td>\n",
              "      <td>0.23</td>\n",
              "      <td>2020-04-23</td>\n",
              "      <td>90629.21686</td>\n",
              "      <td>19942.175032</td>\n",
              "      <td>6754.809134</td>\n",
              "      <td>295066.0</td>\n",
              "      <td>500.0</td>\n",
              "      <td>50.0</td>\n",
              "    </tr>\n",
              "    <tr>\n",
              "      <th>1</th>\n",
              "      <td>Symptoms of Depressive Disorder</td>\n",
              "      <td>By State</td>\n",
              "      <td>New York</td>\n",
              "      <td>New York</td>\n",
              "      <td>1</td>\n",
              "      <td>1.0</td>\n",
              "      <td>Apr 23 - May 5</td>\n",
              "      <td>2020-04-23T00:00:00.000</td>\n",
              "      <td>2020-05-05T00:00:00.000</td>\n",
              "      <td>28.7</td>\n",
              "      <td>24.6</td>\n",
              "      <td>33.1</td>\n",
              "      <td>24.6 - 33.1</td>\n",
              "      <td>24.1 - 28.7</td>\n",
              "      <td>18 - 29 years</td>\n",
              "      <td>1554.45</td>\n",
              "      <td>153.69</td>\n",
              "      <td>12.88</td>\n",
              "      <td>2020-04-23</td>\n",
              "      <td>90629.21686</td>\n",
              "      <td>19942.175032</td>\n",
              "      <td>6754.809134</td>\n",
              "      <td>295066.0</td>\n",
              "      <td>500.0</td>\n",
              "      <td>50.0</td>\n",
              "    </tr>\n",
              "    <tr>\n",
              "      <th>2</th>\n",
              "      <td>Symptoms of Depressive Disorder</td>\n",
              "      <td>By State</td>\n",
              "      <td>New York</td>\n",
              "      <td>New York</td>\n",
              "      <td>1</td>\n",
              "      <td>1.0</td>\n",
              "      <td>Apr 23 - May 5</td>\n",
              "      <td>2020-04-23T00:00:00.000</td>\n",
              "      <td>2020-05-05T00:00:00.000</td>\n",
              "      <td>28.7</td>\n",
              "      <td>24.6</td>\n",
              "      <td>33.1</td>\n",
              "      <td>24.6 - 33.1</td>\n",
              "      <td>24.1 - 28.7</td>\n",
              "      <td>18 - 29 years</td>\n",
              "      <td>2529.03</td>\n",
              "      <td>630.34</td>\n",
              "      <td>113.37</td>\n",
              "      <td>2020-04-23</td>\n",
              "      <td>90629.21686</td>\n",
              "      <td>19942.175032</td>\n",
              "      <td>6754.809134</td>\n",
              "      <td>295066.0</td>\n",
              "      <td>500.0</td>\n",
              "      <td>50.0</td>\n",
              "    </tr>\n",
              "    <tr>\n",
              "      <th>3</th>\n",
              "      <td>Symptoms of Depressive Disorder</td>\n",
              "      <td>By State</td>\n",
              "      <td>New York</td>\n",
              "      <td>New York</td>\n",
              "      <td>1</td>\n",
              "      <td>1.0</td>\n",
              "      <td>Apr 23 - May 5</td>\n",
              "      <td>2020-04-23T00:00:00.000</td>\n",
              "      <td>2020-05-05T00:00:00.000</td>\n",
              "      <td>28.7</td>\n",
              "      <td>24.6</td>\n",
              "      <td>33.1</td>\n",
              "      <td>24.6 - 33.1</td>\n",
              "      <td>24.1 - 28.7</td>\n",
              "      <td>18 - 29 years</td>\n",
              "      <td>2552.64</td>\n",
              "      <td>1192.50</td>\n",
              "      <td>364.17</td>\n",
              "      <td>2020-04-23</td>\n",
              "      <td>90629.21686</td>\n",
              "      <td>19942.175032</td>\n",
              "      <td>6754.809134</td>\n",
              "      <td>295066.0</td>\n",
              "      <td>500.0</td>\n",
              "      <td>50.0</td>\n",
              "    </tr>\n",
              "    <tr>\n",
              "      <th>4</th>\n",
              "      <td>Symptoms of Depressive Disorder</td>\n",
              "      <td>By State</td>\n",
              "      <td>New York</td>\n",
              "      <td>New York</td>\n",
              "      <td>1</td>\n",
              "      <td>1.0</td>\n",
              "      <td>Apr 23 - May 5</td>\n",
              "      <td>2020-04-23T00:00:00.000</td>\n",
              "      <td>2020-05-05T00:00:00.000</td>\n",
              "      <td>28.7</td>\n",
              "      <td>24.6</td>\n",
              "      <td>33.1</td>\n",
              "      <td>24.6 - 33.1</td>\n",
              "      <td>24.1 - 28.7</td>\n",
              "      <td>18 - 29 years</td>\n",
              "      <td>2976.74</td>\n",
              "      <td>1830.07</td>\n",
              "      <td>909.18</td>\n",
              "      <td>2020-04-23</td>\n",
              "      <td>90629.21686</td>\n",
              "      <td>19942.175032</td>\n",
              "      <td>6754.809134</td>\n",
              "      <td>295066.0</td>\n",
              "      <td>500.0</td>\n",
              "      <td>50.0</td>\n",
              "    </tr>\n",
              "    <tr>\n",
              "      <th>...</th>\n",
              "      <td>...</td>\n",
              "      <td>...</td>\n",
              "      <td>...</td>\n",
              "      <td>...</td>\n",
              "      <td>...</td>\n",
              "      <td>...</td>\n",
              "      <td>...</td>\n",
              "      <td>...</td>\n",
              "      <td>...</td>\n",
              "      <td>...</td>\n",
              "      <td>...</td>\n",
              "      <td>...</td>\n",
              "      <td>...</td>\n",
              "      <td>...</td>\n",
              "      <td>...</td>\n",
              "      <td>...</td>\n",
              "      <td>...</td>\n",
              "      <td>...</td>\n",
              "      <td>...</td>\n",
              "      <td>...</td>\n",
              "      <td>...</td>\n",
              "      <td>...</td>\n",
              "      <td>...</td>\n",
              "      <td>...</td>\n",
              "      <td>...</td>\n",
              "    </tr>\n",
              "    <tr>\n",
              "      <th>35779</th>\n",
              "      <td>Symptoms of Anxiety Disorder or Depressive Dis...</td>\n",
              "      <td>By State</td>\n",
              "      <td>New York</td>\n",
              "      <td>New York</td>\n",
              "      <td>3 (Jan 6 � Feb 1)</td>\n",
              "      <td>23.0</td>\n",
              "      <td>Jan 20 - Feb 1</td>\n",
              "      <td>2021-01-20T00:00:00.000</td>\n",
              "      <td>2021-02-01T00:00:00.000</td>\n",
              "      <td>35.8</td>\n",
              "      <td>32.0</td>\n",
              "      <td>39.7</td>\n",
              "      <td>32.0 - 39.7</td>\n",
              "      <td>28.8-37.6</td>\n",
              "      <td>80 years and above</td>\n",
              "      <td>20207.72</td>\n",
              "      <td>1160.60</td>\n",
              "      <td>67.68</td>\n",
              "      <td>2021-02-01</td>\n",
              "      <td>224684.00000</td>\n",
              "      <td>13326.000000</td>\n",
              "      <td>794.000000</td>\n",
              "      <td>419169.0</td>\n",
              "      <td>501.0</td>\n",
              "      <td>49.0</td>\n",
              "    </tr>\n",
              "    <tr>\n",
              "      <th>35780</th>\n",
              "      <td>Symptoms of Anxiety Disorder or Depressive Dis...</td>\n",
              "      <td>By State</td>\n",
              "      <td>New York</td>\n",
              "      <td>New York</td>\n",
              "      <td>3 (Jan 6 � Feb 1)</td>\n",
              "      <td>23.0</td>\n",
              "      <td>Jan 20 - Feb 1</td>\n",
              "      <td>2021-01-20T00:00:00.000</td>\n",
              "      <td>2021-02-01T00:00:00.000</td>\n",
              "      <td>35.8</td>\n",
              "      <td>32.0</td>\n",
              "      <td>39.7</td>\n",
              "      <td>32.0 - 39.7</td>\n",
              "      <td>28.8-37.6</td>\n",
              "      <td>80 years and above</td>\n",
              "      <td>15941.19</td>\n",
              "      <td>2540.10</td>\n",
              "      <td>476.51</td>\n",
              "      <td>2021-02-01</td>\n",
              "      <td>161559.00000</td>\n",
              "      <td>25652.000000</td>\n",
              "      <td>4800.000000</td>\n",
              "      <td>419169.0</td>\n",
              "      <td>501.0</td>\n",
              "      <td>49.0</td>\n",
              "    </tr>\n",
              "    <tr>\n",
              "      <th>35781</th>\n",
              "      <td>Symptoms of Anxiety Disorder or Depressive Dis...</td>\n",
              "      <td>By State</td>\n",
              "      <td>New York</td>\n",
              "      <td>New York</td>\n",
              "      <td>3 (Jan 6 � Feb 1)</td>\n",
              "      <td>23.0</td>\n",
              "      <td>Jan 20 - Feb 1</td>\n",
              "      <td>2021-01-20T00:00:00.000</td>\n",
              "      <td>2021-02-01T00:00:00.000</td>\n",
              "      <td>35.8</td>\n",
              "      <td>32.0</td>\n",
              "      <td>39.7</td>\n",
              "      <td>32.0 - 39.7</td>\n",
              "      <td>28.8-37.6</td>\n",
              "      <td>80 years and above</td>\n",
              "      <td>7067.11</td>\n",
              "      <td>2418.35</td>\n",
              "      <td>756.82</td>\n",
              "      <td>2021-02-01</td>\n",
              "      <td>50798.00000</td>\n",
              "      <td>17383.000000</td>\n",
              "      <td>5440.000000</td>\n",
              "      <td>419169.0</td>\n",
              "      <td>501.0</td>\n",
              "      <td>49.0</td>\n",
              "    </tr>\n",
              "    <tr>\n",
              "      <th>35782</th>\n",
              "      <td>Symptoms of Anxiety Disorder or Depressive Dis...</td>\n",
              "      <td>By State</td>\n",
              "      <td>New York</td>\n",
              "      <td>New York</td>\n",
              "      <td>3 (Jan 6 � Feb 1)</td>\n",
              "      <td>23.0</td>\n",
              "      <td>Jan 20 - Feb 1</td>\n",
              "      <td>2021-01-20T00:00:00.000</td>\n",
              "      <td>2021-02-01T00:00:00.000</td>\n",
              "      <td>35.8</td>\n",
              "      <td>32.0</td>\n",
              "      <td>39.7</td>\n",
              "      <td>32.0 - 39.7</td>\n",
              "      <td>28.8-37.6</td>\n",
              "      <td>80 years and above</td>\n",
              "      <td>7477.43</td>\n",
              "      <td>3995.12</td>\n",
              "      <td>1989.81</td>\n",
              "      <td>2021-02-01</td>\n",
              "      <td>41994.00000</td>\n",
              "      <td>22437.000000</td>\n",
              "      <td>11175.000000</td>\n",
              "      <td>419169.0</td>\n",
              "      <td>501.0</td>\n",
              "      <td>49.0</td>\n",
              "    </tr>\n",
              "    <tr>\n",
              "      <th>35783</th>\n",
              "      <td>Symptoms of Anxiety Disorder or Depressive Dis...</td>\n",
              "      <td>By State</td>\n",
              "      <td>New York</td>\n",
              "      <td>New York</td>\n",
              "      <td>3 (Jan 6 � Feb 1)</td>\n",
              "      <td>23.0</td>\n",
              "      <td>Jan 20 - Feb 1</td>\n",
              "      <td>2021-01-20T00:00:00.000</td>\n",
              "      <td>2021-02-01T00:00:00.000</td>\n",
              "      <td>35.8</td>\n",
              "      <td>32.0</td>\n",
              "      <td>39.7</td>\n",
              "      <td>32.0 - 39.7</td>\n",
              "      <td>28.8-37.6</td>\n",
              "      <td>80 years and above</td>\n",
              "      <td>6302.86</td>\n",
              "      <td>958.30</td>\n",
              "      <td>266.66</td>\n",
              "      <td>2021-02-01</td>\n",
              "      <td>525458.00000</td>\n",
              "      <td>79892.000000</td>\n",
              "      <td>22231.000000</td>\n",
              "      <td>419169.0</td>\n",
              "      <td>501.0</td>\n",
              "      <td>49.0</td>\n",
              "    </tr>\n",
              "  </tbody>\n",
              "</table>\n",
              "<p>35784 rows × 25 columns</p>\n",
              "</div>"
            ],
            "text/plain": [
              "                                               indicator  ... sentiment__positive\n",
              "0                        Symptoms of Depressive Disorder  ...                50.0\n",
              "1                        Symptoms of Depressive Disorder  ...                50.0\n",
              "2                        Symptoms of Depressive Disorder  ...                50.0\n",
              "3                        Symptoms of Depressive Disorder  ...                50.0\n",
              "4                        Symptoms of Depressive Disorder  ...                50.0\n",
              "...                                                  ...  ...                 ...\n",
              "35779  Symptoms of Anxiety Disorder or Depressive Dis...  ...                49.0\n",
              "35780  Symptoms of Anxiety Disorder or Depressive Dis...  ...                49.0\n",
              "35781  Symptoms of Anxiety Disorder or Depressive Dis...  ...                49.0\n",
              "35782  Symptoms of Anxiety Disorder or Depressive Dis...  ...                49.0\n",
              "35783  Symptoms of Anxiety Disorder or Depressive Dis...  ...                49.0\n",
              "\n",
              "[35784 rows x 25 columns]"
            ]
          },
          "metadata": {
            "tags": []
          },
          "execution_count": 40
        }
      ]
    },
    {
      "cell_type": "code",
      "metadata": {
        "colab": {
          "base_uri": "https://localhost:8080/"
        },
        "id": "DenM70wutvoW",
        "outputId": "bdd6e79c-49e6-4f0a-c6a2-4b9ed1e85fe1"
      },
      "source": [
        "ny[\"indicator\"].replace({\"Symptoms of Anxiety Disorder\": \"0\", \"Symptoms of Depressive Disorder\": \"1\", \"Symptoms of Anxiety Disorder or Depressive Disorder\": \"2\"}, inplace=True)\n",
        "ny[\"age\"].replace({\"18 - 29 years\": \"29\", \"30 - 39 years\": \"39\", \"40 - 49 years\": \"49\", \"50 - 59 years\":\"59\",\"60 - 69 years\":\"69\",\"70 - 79 years\":\"79\",\"80 years and above\":\"80\"}, inplace=True)\n",
        "\n",
        "data_to_use = ny\n",
        "del data_to_use['group']\n",
        "del data_to_use['state']\n",
        "del data_to_use['subgroup']\n",
        "del data_to_use['time_period_label']\n",
        "del data_to_use['confidence_interval']\n",
        "del data_to_use['quartile_range']\n",
        "del data_to_use['counts']\n",
        "\n",
        "ny = data_to_use\n",
        "ny.info()"
      ],
      "execution_count": null,
      "outputs": [
        {
          "output_type": "stream",
          "text": [
            "<class 'pandas.core.frame.DataFrame'>\n",
            "RangeIndex: 35784 entries, 0 to 35783\n",
            "Data columns (total 18 columns):\n",
            " #   Column                  Non-Null Count  Dtype  \n",
            "---  ------                  --------------  -----  \n",
            " 0   indicator               35784 non-null  object \n",
            " 1   phase                   35784 non-null  object \n",
            " 2   time_period             35784 non-null  float64\n",
            " 3   time_period_start_date  35784 non-null  object \n",
            " 4   time_period_end_date    35784 non-null  object \n",
            " 5   value                   35784 non-null  float64\n",
            " 6   lowci                   35784 non-null  float64\n",
            " 7   highci                  35784 non-null  float64\n",
            " 8   age                     35784 non-null  object \n",
            " 9   CASE_RATE               35784 non-null  float64\n",
            " 10  HOSPITALIZED_RATE       35784 non-null  float64\n",
            " 11  DEATH_RATE              33957 non-null  float64\n",
            " 12  date                    35784 non-null  object \n",
            " 13  CASE_COUNT              35784 non-null  float64\n",
            " 14  HOSPITALIZED_COUNT      35784 non-null  float64\n",
            " 15  DEATH_COUNT             35784 non-null  float64\n",
            " 16  sentiment__negative     35784 non-null  float64\n",
            " 17  sentiment__positive     35784 non-null  float64\n",
            "dtypes: float64(12), object(6)\n",
            "memory usage: 4.9+ MB\n"
          ],
          "name": "stdout"
        }
      ]
    },
    {
      "cell_type": "code",
      "metadata": {
        "id": "QTYJcvlKtvoX"
      },
      "source": [
        "ny['DEATH_RATE'].fillna((ny['DEATH_RATE'].mean()), inplace=True)\n",
        "#Add this cell after API change\n",
        "ny.loc[ny['phase'] == ('Oct 28 � Dec 21'), 'phase'] = 3\n",
        "ny.loc[ny['phase'] == ('3 (Oct 28 � Dec 21)'), 'phase'] = 4\n",
        "ny.loc[ny['phase'] == ('3 (Jan 6 � Feb 1)'), 'phase'] = 5\n",
        "ny.rename(columns = {'counts':'twitter_count'}, inplace = True)\n",
        "\n",
        "from sklearn import preprocessing\n",
        "\n",
        "ny[\"age\"] = ny['age'].astype(float)\n",
        "ny[\"phase\"] = ny['phase'].astype(float)\n",
        "ny[\"indicator\"] = ny['indicator'].astype(float)\n",
        "ny[\"time_period\"] = ny['time_period'].astype(float)"
      ],
      "execution_count": null,
      "outputs": []
    },
    {
      "cell_type": "code",
      "metadata": {
        "colab": {
          "base_uri": "https://localhost:8080/",
          "height": 424
        },
        "id": "xWFTzb2_tvoX",
        "outputId": "1393b68e-161f-409d-8666-f26767083916"
      },
      "source": [
        "ny = ny[['phase', 'time_period', 'value', 'lowci', 'highci', 'age', 'CASE_RATE', 'HOSPITALIZED_RATE','DEATH_RATE','sentiment__negative', 'sentiment__positive','indicator']]\n",
        "ny"
      ],
      "execution_count": null,
      "outputs": [
        {
          "output_type": "execute_result",
          "data": {
            "text/html": [
              "<div>\n",
              "<style scoped>\n",
              "    .dataframe tbody tr th:only-of-type {\n",
              "        vertical-align: middle;\n",
              "    }\n",
              "\n",
              "    .dataframe tbody tr th {\n",
              "        vertical-align: top;\n",
              "    }\n",
              "\n",
              "    .dataframe thead th {\n",
              "        text-align: right;\n",
              "    }\n",
              "</style>\n",
              "<table border=\"1\" class=\"dataframe\">\n",
              "  <thead>\n",
              "    <tr style=\"text-align: right;\">\n",
              "      <th></th>\n",
              "      <th>phase</th>\n",
              "      <th>time_period</th>\n",
              "      <th>value</th>\n",
              "      <th>lowci</th>\n",
              "      <th>highci</th>\n",
              "      <th>age</th>\n",
              "      <th>CASE_RATE</th>\n",
              "      <th>HOSPITALIZED_RATE</th>\n",
              "      <th>DEATH_RATE</th>\n",
              "      <th>sentiment__negative</th>\n",
              "      <th>sentiment__positive</th>\n",
              "      <th>indicator</th>\n",
              "    </tr>\n",
              "  </thead>\n",
              "  <tbody>\n",
              "    <tr>\n",
              "      <th>0</th>\n",
              "      <td>1.0</td>\n",
              "      <td>1.0</td>\n",
              "      <td>28.7</td>\n",
              "      <td>24.6</td>\n",
              "      <td>33.1</td>\n",
              "      <td>29.0</td>\n",
              "      <td>171.46</td>\n",
              "      <td>13.55</td>\n",
              "      <td>0.23</td>\n",
              "      <td>500.0</td>\n",
              "      <td>50.0</td>\n",
              "      <td>1.0</td>\n",
              "    </tr>\n",
              "    <tr>\n",
              "      <th>1</th>\n",
              "      <td>1.0</td>\n",
              "      <td>1.0</td>\n",
              "      <td>28.7</td>\n",
              "      <td>24.6</td>\n",
              "      <td>33.1</td>\n",
              "      <td>29.0</td>\n",
              "      <td>1554.45</td>\n",
              "      <td>153.69</td>\n",
              "      <td>12.88</td>\n",
              "      <td>500.0</td>\n",
              "      <td>50.0</td>\n",
              "      <td>1.0</td>\n",
              "    </tr>\n",
              "    <tr>\n",
              "      <th>2</th>\n",
              "      <td>1.0</td>\n",
              "      <td>1.0</td>\n",
              "      <td>28.7</td>\n",
              "      <td>24.6</td>\n",
              "      <td>33.1</td>\n",
              "      <td>29.0</td>\n",
              "      <td>2529.03</td>\n",
              "      <td>630.34</td>\n",
              "      <td>113.37</td>\n",
              "      <td>500.0</td>\n",
              "      <td>50.0</td>\n",
              "      <td>1.0</td>\n",
              "    </tr>\n",
              "    <tr>\n",
              "      <th>3</th>\n",
              "      <td>1.0</td>\n",
              "      <td>1.0</td>\n",
              "      <td>28.7</td>\n",
              "      <td>24.6</td>\n",
              "      <td>33.1</td>\n",
              "      <td>29.0</td>\n",
              "      <td>2552.64</td>\n",
              "      <td>1192.50</td>\n",
              "      <td>364.17</td>\n",
              "      <td>500.0</td>\n",
              "      <td>50.0</td>\n",
              "      <td>1.0</td>\n",
              "    </tr>\n",
              "    <tr>\n",
              "      <th>4</th>\n",
              "      <td>1.0</td>\n",
              "      <td>1.0</td>\n",
              "      <td>28.7</td>\n",
              "      <td>24.6</td>\n",
              "      <td>33.1</td>\n",
              "      <td>29.0</td>\n",
              "      <td>2976.74</td>\n",
              "      <td>1830.07</td>\n",
              "      <td>909.18</td>\n",
              "      <td>500.0</td>\n",
              "      <td>50.0</td>\n",
              "      <td>1.0</td>\n",
              "    </tr>\n",
              "    <tr>\n",
              "      <th>...</th>\n",
              "      <td>...</td>\n",
              "      <td>...</td>\n",
              "      <td>...</td>\n",
              "      <td>...</td>\n",
              "      <td>...</td>\n",
              "      <td>...</td>\n",
              "      <td>...</td>\n",
              "      <td>...</td>\n",
              "      <td>...</td>\n",
              "      <td>...</td>\n",
              "      <td>...</td>\n",
              "      <td>...</td>\n",
              "    </tr>\n",
              "    <tr>\n",
              "      <th>35779</th>\n",
              "      <td>5.0</td>\n",
              "      <td>23.0</td>\n",
              "      <td>35.8</td>\n",
              "      <td>32.0</td>\n",
              "      <td>39.7</td>\n",
              "      <td>80.0</td>\n",
              "      <td>20207.72</td>\n",
              "      <td>1160.60</td>\n",
              "      <td>67.68</td>\n",
              "      <td>501.0</td>\n",
              "      <td>49.0</td>\n",
              "      <td>2.0</td>\n",
              "    </tr>\n",
              "    <tr>\n",
              "      <th>35780</th>\n",
              "      <td>5.0</td>\n",
              "      <td>23.0</td>\n",
              "      <td>35.8</td>\n",
              "      <td>32.0</td>\n",
              "      <td>39.7</td>\n",
              "      <td>80.0</td>\n",
              "      <td>15941.19</td>\n",
              "      <td>2540.10</td>\n",
              "      <td>476.51</td>\n",
              "      <td>501.0</td>\n",
              "      <td>49.0</td>\n",
              "      <td>2.0</td>\n",
              "    </tr>\n",
              "    <tr>\n",
              "      <th>35781</th>\n",
              "      <td>5.0</td>\n",
              "      <td>23.0</td>\n",
              "      <td>35.8</td>\n",
              "      <td>32.0</td>\n",
              "      <td>39.7</td>\n",
              "      <td>80.0</td>\n",
              "      <td>7067.11</td>\n",
              "      <td>2418.35</td>\n",
              "      <td>756.82</td>\n",
              "      <td>501.0</td>\n",
              "      <td>49.0</td>\n",
              "      <td>2.0</td>\n",
              "    </tr>\n",
              "    <tr>\n",
              "      <th>35782</th>\n",
              "      <td>5.0</td>\n",
              "      <td>23.0</td>\n",
              "      <td>35.8</td>\n",
              "      <td>32.0</td>\n",
              "      <td>39.7</td>\n",
              "      <td>80.0</td>\n",
              "      <td>7477.43</td>\n",
              "      <td>3995.12</td>\n",
              "      <td>1989.81</td>\n",
              "      <td>501.0</td>\n",
              "      <td>49.0</td>\n",
              "      <td>2.0</td>\n",
              "    </tr>\n",
              "    <tr>\n",
              "      <th>35783</th>\n",
              "      <td>5.0</td>\n",
              "      <td>23.0</td>\n",
              "      <td>35.8</td>\n",
              "      <td>32.0</td>\n",
              "      <td>39.7</td>\n",
              "      <td>80.0</td>\n",
              "      <td>6302.86</td>\n",
              "      <td>958.30</td>\n",
              "      <td>266.66</td>\n",
              "      <td>501.0</td>\n",
              "      <td>49.0</td>\n",
              "      <td>2.0</td>\n",
              "    </tr>\n",
              "  </tbody>\n",
              "</table>\n",
              "<p>35784 rows × 12 columns</p>\n",
              "</div>"
            ],
            "text/plain": [
              "       phase  time_period  ...  sentiment__positive  indicator\n",
              "0        1.0          1.0  ...                 50.0        1.0\n",
              "1        1.0          1.0  ...                 50.0        1.0\n",
              "2        1.0          1.0  ...                 50.0        1.0\n",
              "3        1.0          1.0  ...                 50.0        1.0\n",
              "4        1.0          1.0  ...                 50.0        1.0\n",
              "...      ...          ...  ...                  ...        ...\n",
              "35779    5.0         23.0  ...                 49.0        2.0\n",
              "35780    5.0         23.0  ...                 49.0        2.0\n",
              "35781    5.0         23.0  ...                 49.0        2.0\n",
              "35782    5.0         23.0  ...                 49.0        2.0\n",
              "35783    5.0         23.0  ...                 49.0        2.0\n",
              "\n",
              "[35784 rows x 12 columns]"
            ]
          },
          "metadata": {
            "tags": []
          },
          "execution_count": 43
        }
      ]
    },
    {
      "cell_type": "code",
      "metadata": {
        "id": "8xydQ_a6PeZq"
      },
      "source": [
        "cluster_df = ny"
      ],
      "execution_count": null,
      "outputs": []
    },
    {
      "cell_type": "code",
      "metadata": {
        "id": "vrN2RUzotvoY"
      },
      "source": [
        "values = ny.values\n",
        " \n",
        "Y = values[:,-1]\n",
        "X = values[:,0:11]\n",
        "\n",
        "import pandas as pd\n",
        "from sklearn import preprocessing\n",
        "from sklearn.preprocessing import StandardScaler\n",
        "\n",
        "min_max_scaler = preprocessing.MinMaxScaler()\n",
        "#x = StandardScaler().fit_transform(x)\n",
        "x_scaled = StandardScaler().fit_transform(X)\n",
        "X = pd.DataFrame(x_scaled)"
      ],
      "execution_count": null,
      "outputs": []
    },
    {
      "cell_type": "code",
      "metadata": {
        "colab": {
          "base_uri": "https://localhost:8080/",
          "height": 424
        },
        "id": "fxfF8C1StvoY",
        "outputId": "287ae378-c88b-407b-8d41-296bc4e00970"
      },
      "source": [
        "X"
      ],
      "execution_count": null,
      "outputs": [
        {
          "output_type": "execute_result",
          "data": {
            "text/html": [
              "<div>\n",
              "<style scoped>\n",
              "    .dataframe tbody tr th:only-of-type {\n",
              "        vertical-align: middle;\n",
              "    }\n",
              "\n",
              "    .dataframe tbody tr th {\n",
              "        vertical-align: top;\n",
              "    }\n",
              "\n",
              "    .dataframe thead th {\n",
              "        text-align: right;\n",
              "    }\n",
              "</style>\n",
              "<table border=\"1\" class=\"dataframe\">\n",
              "  <thead>\n",
              "    <tr style=\"text-align: right;\">\n",
              "      <th></th>\n",
              "      <th>0</th>\n",
              "      <th>1</th>\n",
              "      <th>2</th>\n",
              "      <th>3</th>\n",
              "      <th>4</th>\n",
              "      <th>5</th>\n",
              "      <th>6</th>\n",
              "      <th>7</th>\n",
              "      <th>8</th>\n",
              "      <th>9</th>\n",
              "      <th>10</th>\n",
              "    </tr>\n",
              "  </thead>\n",
              "  <tbody>\n",
              "    <tr>\n",
              "      <th>0</th>\n",
              "      <td>-1.046623</td>\n",
              "      <td>-2.028335</td>\n",
              "      <td>-0.519765</td>\n",
              "      <td>-0.617653</td>\n",
              "      <td>-0.412523</td>\n",
              "      <td>-1.574064</td>\n",
              "      <td>-1.255775</td>\n",
              "      <td>-1.196508</td>\n",
              "      <td>-0.878629</td>\n",
              "      <td>-0.078653</td>\n",
              "      <td>0.078653</td>\n",
              "    </tr>\n",
              "    <tr>\n",
              "      <th>1</th>\n",
              "      <td>-1.046623</td>\n",
              "      <td>-2.028335</td>\n",
              "      <td>-0.519765</td>\n",
              "      <td>-0.617653</td>\n",
              "      <td>-0.412523</td>\n",
              "      <td>-1.574064</td>\n",
              "      <td>-0.837174</td>\n",
              "      <td>-1.056190</td>\n",
              "      <td>-0.856327</td>\n",
              "      <td>-0.078653</td>\n",
              "      <td>0.078653</td>\n",
              "    </tr>\n",
              "    <tr>\n",
              "      <th>2</th>\n",
              "      <td>-1.046623</td>\n",
              "      <td>-2.028335</td>\n",
              "      <td>-0.519765</td>\n",
              "      <td>-0.617653</td>\n",
              "      <td>-0.412523</td>\n",
              "      <td>-1.574064</td>\n",
              "      <td>-0.542190</td>\n",
              "      <td>-0.578936</td>\n",
              "      <td>-0.679167</td>\n",
              "      <td>-0.078653</td>\n",
              "      <td>0.078653</td>\n",
              "    </tr>\n",
              "    <tr>\n",
              "      <th>3</th>\n",
              "      <td>-1.046623</td>\n",
              "      <td>-2.028335</td>\n",
              "      <td>-0.519765</td>\n",
              "      <td>-0.617653</td>\n",
              "      <td>-0.412523</td>\n",
              "      <td>-1.574064</td>\n",
              "      <td>-0.535043</td>\n",
              "      <td>-0.016063</td>\n",
              "      <td>-0.237016</td>\n",
              "      <td>-0.078653</td>\n",
              "      <td>0.078653</td>\n",
              "    </tr>\n",
              "    <tr>\n",
              "      <th>4</th>\n",
              "      <td>-1.046623</td>\n",
              "      <td>-2.028335</td>\n",
              "      <td>-0.519765</td>\n",
              "      <td>-0.617653</td>\n",
              "      <td>-0.412523</td>\n",
              "      <td>-1.574064</td>\n",
              "      <td>-0.406678</td>\n",
              "      <td>0.622315</td>\n",
              "      <td>0.723818</td>\n",
              "      <td>-0.078653</td>\n",
              "      <td>0.078653</td>\n",
              "    </tr>\n",
              "    <tr>\n",
              "      <th>...</th>\n",
              "      <td>...</td>\n",
              "      <td>...</td>\n",
              "      <td>...</td>\n",
              "      <td>...</td>\n",
              "      <td>...</td>\n",
              "      <td>...</td>\n",
              "      <td>...</td>\n",
              "      <td>...</td>\n",
              "      <td>...</td>\n",
              "      <td>...</td>\n",
              "      <td>...</td>\n",
              "    </tr>\n",
              "    <tr>\n",
              "      <th>35779</th>\n",
              "      <td>1.655567</td>\n",
              "      <td>1.392188</td>\n",
              "      <td>0.725645</td>\n",
              "      <td>0.752476</td>\n",
              "      <td>0.685975</td>\n",
              "      <td>1.221661</td>\n",
              "      <td>4.808764</td>\n",
              "      <td>-0.048004</td>\n",
              "      <td>-0.759717</td>\n",
              "      <td>0.033034</td>\n",
              "      <td>-0.033034</td>\n",
              "    </tr>\n",
              "    <tr>\n",
              "      <th>35780</th>\n",
              "      <td>1.655567</td>\n",
              "      <td>1.392188</td>\n",
              "      <td>0.725645</td>\n",
              "      <td>0.752476</td>\n",
              "      <td>0.685975</td>\n",
              "      <td>1.221661</td>\n",
              "      <td>3.517378</td>\n",
              "      <td>1.333245</td>\n",
              "      <td>-0.038964</td>\n",
              "      <td>0.033034</td>\n",
              "      <td>-0.033034</td>\n",
              "    </tr>\n",
              "    <tr>\n",
              "      <th>35781</th>\n",
              "      <td>1.655567</td>\n",
              "      <td>1.392188</td>\n",
              "      <td>0.725645</td>\n",
              "      <td>0.752476</td>\n",
              "      <td>0.685975</td>\n",
              "      <td>1.221661</td>\n",
              "      <td>0.831388</td>\n",
              "      <td>1.211341</td>\n",
              "      <td>0.455212</td>\n",
              "      <td>0.033034</td>\n",
              "      <td>-0.033034</td>\n",
              "    </tr>\n",
              "    <tr>\n",
              "      <th>35782</th>\n",
              "      <td>1.655567</td>\n",
              "      <td>1.392188</td>\n",
              "      <td>0.725645</td>\n",
              "      <td>0.752476</td>\n",
              "      <td>0.685975</td>\n",
              "      <td>1.221661</td>\n",
              "      <td>0.955583</td>\n",
              "      <td>2.790110</td>\n",
              "      <td>2.628930</td>\n",
              "      <td>0.033034</td>\n",
              "      <td>-0.033034</td>\n",
              "    </tr>\n",
              "    <tr>\n",
              "      <th>35783</th>\n",
              "      <td>1.655567</td>\n",
              "      <td>1.392188</td>\n",
              "      <td>0.725645</td>\n",
              "      <td>0.752476</td>\n",
              "      <td>0.685975</td>\n",
              "      <td>1.221661</td>\n",
              "      <td>0.600066</td>\n",
              "      <td>-0.250560</td>\n",
              "      <td>-0.408922</td>\n",
              "      <td>0.033034</td>\n",
              "      <td>-0.033034</td>\n",
              "    </tr>\n",
              "  </tbody>\n",
              "</table>\n",
              "<p>35784 rows × 11 columns</p>\n",
              "</div>"
            ],
            "text/plain": [
              "             0         1         2   ...        8         9         10\n",
              "0     -1.046623 -2.028335 -0.519765  ... -0.878629 -0.078653  0.078653\n",
              "1     -1.046623 -2.028335 -0.519765  ... -0.856327 -0.078653  0.078653\n",
              "2     -1.046623 -2.028335 -0.519765  ... -0.679167 -0.078653  0.078653\n",
              "3     -1.046623 -2.028335 -0.519765  ... -0.237016 -0.078653  0.078653\n",
              "4     -1.046623 -2.028335 -0.519765  ...  0.723818 -0.078653  0.078653\n",
              "...         ...       ...       ...  ...       ...       ...       ...\n",
              "35779  1.655567  1.392188  0.725645  ... -0.759717  0.033034 -0.033034\n",
              "35780  1.655567  1.392188  0.725645  ... -0.038964  0.033034 -0.033034\n",
              "35781  1.655567  1.392188  0.725645  ...  0.455212  0.033034 -0.033034\n",
              "35782  1.655567  1.392188  0.725645  ...  2.628930  0.033034 -0.033034\n",
              "35783  1.655567  1.392188  0.725645  ... -0.408922  0.033034 -0.033034\n",
              "\n",
              "[35784 rows x 11 columns]"
            ]
          },
          "metadata": {
            "tags": []
          },
          "execution_count": 46
        }
      ]
    },
    {
      "cell_type": "code",
      "metadata": {
        "id": "WnHNYX8etvoZ"
      },
      "source": [
        "from sklearn.decomposition import PCA\n",
        "\n",
        "pca = PCA(n_components=2)\n",
        "principalComponents = pca.fit_transform(X)\n",
        "\n",
        "principalDf = pd.DataFrame(data = principalComponents\n",
        "             , columns = ['PC1', 'PC2'])"
      ],
      "execution_count": null,
      "outputs": []
    },
    {
      "cell_type": "code",
      "metadata": {
        "id": "VAZNjj7AtvoZ"
      },
      "source": [
        "finalDf = pd.concat([principalDf, ny[['indicator']]], axis = 1)"
      ],
      "execution_count": null,
      "outputs": []
    },
    {
      "cell_type": "code",
      "metadata": {
        "colab": {
          "base_uri": "https://localhost:8080/",
          "height": 424
        },
        "id": "3pr7Ghpetvoa",
        "outputId": "f17e8674-0ec3-4cfe-80a6-7a617f9402a0"
      },
      "source": [
        "finalDf"
      ],
      "execution_count": null,
      "outputs": [
        {
          "output_type": "execute_result",
          "data": {
            "text/html": [
              "<div>\n",
              "<style scoped>\n",
              "    .dataframe tbody tr th:only-of-type {\n",
              "        vertical-align: middle;\n",
              "    }\n",
              "\n",
              "    .dataframe tbody tr th {\n",
              "        vertical-align: top;\n",
              "    }\n",
              "\n",
              "    .dataframe thead th {\n",
              "        text-align: right;\n",
              "    }\n",
              "</style>\n",
              "<table border=\"1\" class=\"dataframe\">\n",
              "  <thead>\n",
              "    <tr style=\"text-align: right;\">\n",
              "      <th></th>\n",
              "      <th>PC1</th>\n",
              "      <th>PC2</th>\n",
              "      <th>indicator</th>\n",
              "    </tr>\n",
              "  </thead>\n",
              "  <tbody>\n",
              "    <tr>\n",
              "      <th>0</th>\n",
              "      <td>-2.467090</td>\n",
              "      <td>-1.476007</td>\n",
              "      <td>1.0</td>\n",
              "    </tr>\n",
              "    <tr>\n",
              "      <th>1</th>\n",
              "      <td>-2.308549</td>\n",
              "      <td>-1.297672</td>\n",
              "      <td>1.0</td>\n",
              "    </tr>\n",
              "    <tr>\n",
              "      <th>2</th>\n",
              "      <td>-2.086146</td>\n",
              "      <td>-1.026157</td>\n",
              "      <td>1.0</td>\n",
              "    </tr>\n",
              "    <tr>\n",
              "      <th>3</th>\n",
              "      <td>-1.885014</td>\n",
              "      <td>-0.759994</td>\n",
              "      <td>1.0</td>\n",
              "    </tr>\n",
              "    <tr>\n",
              "      <th>4</th>\n",
              "      <td>-1.543147</td>\n",
              "      <td>-0.313182</td>\n",
              "      <td>1.0</td>\n",
              "    </tr>\n",
              "    <tr>\n",
              "      <th>...</th>\n",
              "      <td>...</td>\n",
              "      <td>...</td>\n",
              "      <td>...</td>\n",
              "    </tr>\n",
              "    <tr>\n",
              "      <th>35779</th>\n",
              "      <td>3.236242</td>\n",
              "      <td>1.619092</td>\n",
              "      <td>2.0</td>\n",
              "    </tr>\n",
              "    <tr>\n",
              "      <th>35780</th>\n",
              "      <td>3.280442</td>\n",
              "      <td>1.771782</td>\n",
              "      <td>2.0</td>\n",
              "    </tr>\n",
              "    <tr>\n",
              "      <th>35781</th>\n",
              "      <td>2.542779</td>\n",
              "      <td>0.998432</td>\n",
              "      <td>2.0</td>\n",
              "    </tr>\n",
              "    <tr>\n",
              "      <th>35782</th>\n",
              "      <td>3.296591</td>\n",
              "      <td>1.994987</td>\n",
              "      <td>2.0</td>\n",
              "    </tr>\n",
              "    <tr>\n",
              "      <th>35783</th>\n",
              "      <td>2.005789</td>\n",
              "      <td>0.305604</td>\n",
              "      <td>2.0</td>\n",
              "    </tr>\n",
              "  </tbody>\n",
              "</table>\n",
              "<p>35784 rows × 3 columns</p>\n",
              "</div>"
            ],
            "text/plain": [
              "            PC1       PC2  indicator\n",
              "0     -2.467090 -1.476007        1.0\n",
              "1     -2.308549 -1.297672        1.0\n",
              "2     -2.086146 -1.026157        1.0\n",
              "3     -1.885014 -0.759994        1.0\n",
              "4     -1.543147 -0.313182        1.0\n",
              "...         ...       ...        ...\n",
              "35779  3.236242  1.619092        2.0\n",
              "35780  3.280442  1.771782        2.0\n",
              "35781  2.542779  0.998432        2.0\n",
              "35782  3.296591  1.994987        2.0\n",
              "35783  2.005789  0.305604        2.0\n",
              "\n",
              "[35784 rows x 3 columns]"
            ]
          },
          "metadata": {
            "tags": []
          },
          "execution_count": 49
        }
      ]
    },
    {
      "cell_type": "code",
      "metadata": {
        "colab": {
          "base_uri": "https://localhost:8080/",
          "height": 388
        },
        "id": "Cyceu0Mktvoa",
        "outputId": "118a2c0c-6d89-4918-f225-4e214cd76e67"
      },
      "source": [
        "plt.figure(figsize=(8,6))\n",
        "targets = ['Anxiety', 'Depression', 'Anxiety or Depression']\n",
        "plt.scatter(finalDf.iloc[:,0],finalDf.iloc[:,1],\n",
        "            c=finalDf['indicator'],\n",
        "            cmap='rainbow'\n",
        "           )\n",
        "plt.xlabel('First principal component')\n",
        "plt.ylabel('Second Principal Component')\n",
        "pass;"
      ],
      "execution_count": null,
      "outputs": [
        {
          "output_type": "display_data",
          "data": {
            "image/png": "[encoded data removed]",
            "text/plain": [
              "<Figure size 576x432 with 1 Axes>"
            ]
          },
          "metadata": {
            "tags": [],
            "needs_background": "light"
          }
        }
      ]
    },
    {
      "cell_type": "code",
      "metadata": {
        "colab": {
          "base_uri": "https://localhost:8080/",
          "height": 388
        },
        "id": "TxWWzcDWtvoc",
        "outputId": "c9c3921c-6374-4598-c8af-3cac3b4fed17"
      },
      "source": [
        "import seaborn as sns\n",
        "plt.figure(figsize=(8,6))\n",
        "sns.scatterplot(\n",
        "    x=\"PC1\", y=\"PC2\",\n",
        "    hue=\"indicator\",\n",
        "    palette=sns.color_palette(\"hls\", 3),\n",
        "    data=finalDf,\n",
        "    legend=\"full\",\n",
        "    alpha=0.3\n",
        ")\n",
        "pass;"
      ],
      "execution_count": null,
      "outputs": [
        {
          "output_type": "display_data",
          "data": {
            "image/png": "[encoded data removed]",
            "text/plain": [
              "<Figure size 576x432 with 1 Axes>"
            ]
          },
          "metadata": {
            "tags": [],
            "needs_background": "light"
          }
        }
      ]
    },
    {
      "cell_type": "code",
      "metadata": {
        "colab": {
          "base_uri": "https://localhost:8080/"
        },
        "id": "LYTAWb_otvod",
        "outputId": "d8f758f1-a201-4f7f-cc0d-a4b4653dae31"
      },
      "source": [
        "pca.explained_variance_ratio_"
      ],
      "execution_count": null,
      "outputs": [
        {
          "output_type": "execute_result",
          "data": {
            "text/plain": [
              "array([0.28677234, 0.2515129 ])"
            ]
          },
          "metadata": {
            "tags": []
          },
          "execution_count": 52
        }
      ]
    },
    {
      "cell_type": "code",
      "metadata": {
        "colab": {
          "base_uri": "https://localhost:8080/"
        },
        "id": "a3bbeFGdtvog",
        "outputId": "1965da5b-a791-4077-ca93-ea92cfbc8587"
      },
      "source": [
        "values = finalDf.values\n",
        " \n",
        "Y = values[:,-1]\n",
        "X = values[:,0:2]\n",
        "Y"
      ],
      "execution_count": null,
      "outputs": [
        {
          "output_type": "execute_result",
          "data": {
            "text/plain": [
              "array([1., 1., 1., ..., 2., 2., 2.])"
            ]
          },
          "metadata": {
            "tags": []
          },
          "execution_count": 53
        }
      ]
    },
    {
      "cell_type": "code",
      "metadata": {
        "id": "t8XFT8w-tvoh"
      },
      "source": [
        "import pandas as pd\n",
        "from sklearn import metrics\n",
        "from sklearn.cluster import KMeans\n",
        "import matplotlib.pyplot as plt"
      ],
      "execution_count": null,
      "outputs": []
    },
    {
      "cell_type": "code",
      "metadata": {
        "id": "nZIaq-5Qtvoh"
      },
      "source": [
        "finalDf2 = finalDf\n",
        "finalDf3 = finalDf "
      ],
      "execution_count": null,
      "outputs": []
    },
    {
      "cell_type": "code",
      "metadata": {
        "id": "AvLSOfzqtvoi"
      },
      "source": [
        "from sklearn.cluster import KMeans\n",
        "kmeans = KMeans(n_clusters=3)\n",
        "kmeans.fit(X, Y)\n",
        "y_kmeans = kmeans.predict(X)"
      ],
      "execution_count": null,
      "outputs": []
    },
    {
      "cell_type": "code",
      "metadata": {
        "colab": {
          "base_uri": "https://localhost:8080/",
          "height": 265
        },
        "id": "jI0D2Lpqtvoi",
        "outputId": "17f4546d-6fc9-41d6-dcb2-cd87465fd43c"
      },
      "source": [
        "plt.scatter(finalDf.iloc[:,0], finalDf.iloc[:,1], c=y_kmeans, s=50, cmap='gist_rainbow')\n",
        "\n",
        "centers = kmeans.cluster_centers_\n",
        "plt.scatter(centers[:, 0], centers[:, -1], c='blue', s=200, alpha=0.5);"
      ],
      "execution_count": null,
      "outputs": [
        {
          "output_type": "display_data",
          "data": {
            "image/png": "[encoded data removed]",
            "text/plain": [
              "<Figure size 432x288 with 1 Axes>"
            ]
          },
          "metadata": {
            "tags": [],
            "needs_background": "light"
          }
        }
      ]
    },
    {
      "cell_type": "code",
      "metadata": {
        "colab": {
          "base_uri": "https://localhost:8080/",
          "height": 424
        },
        "id": "zRnhhOC9L8mC",
        "outputId": "396d95ae-2d1f-46d8-d26a-89c85909a113"
      },
      "source": [
        "finalDf"
      ],
      "execution_count": null,
      "outputs": [
        {
          "output_type": "execute_result",
          "data": {
            "text/html": [
              "<div>\n",
              "<style scoped>\n",
              "    .dataframe tbody tr th:only-of-type {\n",
              "        vertical-align: middle;\n",
              "    }\n",
              "\n",
              "    .dataframe tbody tr th {\n",
              "        vertical-align: top;\n",
              "    }\n",
              "\n",
              "    .dataframe thead th {\n",
              "        text-align: right;\n",
              "    }\n",
              "</style>\n",
              "<table border=\"1\" class=\"dataframe\">\n",
              "  <thead>\n",
              "    <tr style=\"text-align: right;\">\n",
              "      <th></th>\n",
              "      <th>PC1</th>\n",
              "      <th>PC2</th>\n",
              "      <th>indicator</th>\n",
              "    </tr>\n",
              "  </thead>\n",
              "  <tbody>\n",
              "    <tr>\n",
              "      <th>0</th>\n",
              "      <td>-2.467090</td>\n",
              "      <td>-1.476007</td>\n",
              "      <td>1.0</td>\n",
              "    </tr>\n",
              "    <tr>\n",
              "      <th>1</th>\n",
              "      <td>-2.308549</td>\n",
              "      <td>-1.297672</td>\n",
              "      <td>1.0</td>\n",
              "    </tr>\n",
              "    <tr>\n",
              "      <th>2</th>\n",
              "      <td>-2.086146</td>\n",
              "      <td>-1.026157</td>\n",
              "      <td>1.0</td>\n",
              "    </tr>\n",
              "    <tr>\n",
              "      <th>3</th>\n",
              "      <td>-1.885014</td>\n",
              "      <td>-0.759994</td>\n",
              "      <td>1.0</td>\n",
              "    </tr>\n",
              "    <tr>\n",
              "      <th>4</th>\n",
              "      <td>-1.543147</td>\n",
              "      <td>-0.313182</td>\n",
              "      <td>1.0</td>\n",
              "    </tr>\n",
              "    <tr>\n",
              "      <th>...</th>\n",
              "      <td>...</td>\n",
              "      <td>...</td>\n",
              "      <td>...</td>\n",
              "    </tr>\n",
              "    <tr>\n",
              "      <th>35779</th>\n",
              "      <td>3.236242</td>\n",
              "      <td>1.619092</td>\n",
              "      <td>2.0</td>\n",
              "    </tr>\n",
              "    <tr>\n",
              "      <th>35780</th>\n",
              "      <td>3.280442</td>\n",
              "      <td>1.771782</td>\n",
              "      <td>2.0</td>\n",
              "    </tr>\n",
              "    <tr>\n",
              "      <th>35781</th>\n",
              "      <td>2.542779</td>\n",
              "      <td>0.998432</td>\n",
              "      <td>2.0</td>\n",
              "    </tr>\n",
              "    <tr>\n",
              "      <th>35782</th>\n",
              "      <td>3.296591</td>\n",
              "      <td>1.994987</td>\n",
              "      <td>2.0</td>\n",
              "    </tr>\n",
              "    <tr>\n",
              "      <th>35783</th>\n",
              "      <td>2.005789</td>\n",
              "      <td>0.305604</td>\n",
              "      <td>2.0</td>\n",
              "    </tr>\n",
              "  </tbody>\n",
              "</table>\n",
              "<p>35784 rows × 3 columns</p>\n",
              "</div>"
            ],
            "text/plain": [
              "            PC1       PC2  indicator\n",
              "0     -2.467090 -1.476007        1.0\n",
              "1     -2.308549 -1.297672        1.0\n",
              "2     -2.086146 -1.026157        1.0\n",
              "3     -1.885014 -0.759994        1.0\n",
              "4     -1.543147 -0.313182        1.0\n",
              "...         ...       ...        ...\n",
              "35779  3.236242  1.619092        2.0\n",
              "35780  3.280442  1.771782        2.0\n",
              "35781  2.542779  0.998432        2.0\n",
              "35782  3.296591  1.994987        2.0\n",
              "35783  2.005789  0.305604        2.0\n",
              "\n",
              "[35784 rows x 3 columns]"
            ]
          },
          "metadata": {
            "tags": []
          },
          "execution_count": 58
        }
      ]
    },
    {
      "cell_type": "code",
      "metadata": {
        "colab": {
          "base_uri": "https://localhost:8080/"
        },
        "id": "3Oso8Z18tvoj",
        "outputId": "b38ebd53-7d61-4041-be23-85a2c63cbc56"
      },
      "source": [
        "# K meansfrom sklearn.cluster import KMeans\n",
        "from sklearn.metrics import silhouette_score \n",
        "from sklearn.metrics import calinski_harabasz_score\n",
        "from sklearn.metrics import davies_bouldin_score\n",
        "# Fit K-Means\n",
        "kmeans_1 = KMeans(n_clusters=3,random_state= 42)\n",
        "# Use fit_predict to cluster the dataset\n",
        "predictions = kmeans_1.fit_predict(cluster_df)\n",
        "# Calculate cluster validation metrics\n",
        "score_kemans_s = silhouette_score(cluster_df, kmeans_1.labels_, metric='euclidean')\n",
        "score_kemans_c = calinski_harabasz_score(cluster_df, kmeans_1.labels_)\n",
        "score_kemans_d = davies_bouldin_score(cluster_df, predictions)\n",
        "print('Silhouette Score: %.4f' % score_kemans_s)\n",
        "print('Calinski Harabasz Score: %.4f' % score_kemans_c)\n",
        "print('Davies Bouldin Score: %.4f' % score_kemans_d)"
      ],
      "execution_count": null,
      "outputs": [
        {
          "output_type": "stream",
          "text": [
            "Silhouette Score: 0.4987\n",
            "Calinski Harabasz Score: 70658.2767\n",
            "Davies Bouldin Score: 0.6646\n"
          ],
          "name": "stdout"
        }
      ]
    },
    {
      "cell_type": "code",
      "metadata": {
        "colab": {
          "base_uri": "https://localhost:8080/"
        },
        "id": "3sfT5BCpwZUr",
        "outputId": "753dd48c-fddd-45cc-af7c-c5c9fb5cc606"
      },
      "source": [
        "from sklearn.metrics import accuracy_score\n",
        "from sklearn.metrics import classification_report\n",
        "from sklearn.metrics import confusion_matrix\n",
        "\n",
        "acc = accuracy_score(finalDf.iloc[:,2] , y_kmeans)\n",
        "print(\"Accuracy:\",accuracy_score(finalDf.iloc[:,2] , y_kmeans))\n",
        "print(classification_report(finalDf.iloc[:,2] , y_kmeans))\n",
        "print(confusion_matrix(finalDf.iloc[:,2] , y_kmeans))"
      ],
      "execution_count": null,
      "outputs": [
        {
          "output_type": "stream",
          "text": [
            "Accuracy: 0.6073943661971831\n",
            "              precision    recall  f1-score   support\n",
            "\n",
            "         0.0       0.44      0.53      0.48     11928\n",
            "         1.0       0.89      0.84      0.86     11928\n",
            "         2.0       0.54      0.45      0.49     11928\n",
            "\n",
            "    accuracy                           0.61     35784\n",
            "   macro avg       0.62      0.61      0.61     35784\n",
            "weighted avg       0.62      0.61      0.61     35784\n",
            "\n",
            "[[6370 1260 4298]\n",
            " [1582 9975  371]\n",
            " [6538    0 5390]]\n"
          ],
          "name": "stdout"
        }
      ]
    },
    {
      "cell_type": "code",
      "metadata": {
        "colab": {
          "base_uri": "https://localhost:8080/"
        },
        "id": "4LVDOXRPSlIP",
        "outputId": "4b403bcf-8b68-4900-8406-19f3acac07f9"
      },
      "source": [
        "from scipy.stats import entropy\n",
        "entropy(y_kmeans)"
      ],
      "execution_count": null,
      "outputs": [
        {
          "output_type": "execute_result",
          "data": {
            "text/plain": [
              "9.908299663275724"
            ]
          },
          "metadata": {
            "tags": []
          },
          "execution_count": 61
        }
      ]
    },
    {
      "cell_type": "code",
      "metadata": {
        "colab": {
          "base_uri": "https://localhost:8080/"
        },
        "id": "OEBnF4hGTXtH",
        "outputId": "dcca7ed2-40f0-489f-8d1e-628caf042806"
      },
      "source": [
        "pd_series = pd.Series(y_kmeans)\n",
        "\n",
        "counts = pd_series.value_counts()\n",
        "\n",
        "entropy = entropy(counts)\n",
        "entropy"
      ],
      "execution_count": null,
      "outputs": [
        {
          "output_type": "execute_result",
          "data": {
            "text/plain": [
              "1.086523321187857"
            ]
          },
          "metadata": {
            "tags": []
          },
          "execution_count": 62
        }
      ]
    },
    {
      "cell_type": "code",
      "metadata": {
        "id": "B-D_uwIzrDFr"
      },
      "source": [
        "finalDf['cluster'] = y_kmeans"
      ],
      "execution_count": null,
      "outputs": []
    },
    {
      "cell_type": "code",
      "metadata": {
        "id": "bblGg2apqfaa"
      },
      "source": [
        "finalDf['indicator'] = finalDf['indicator'] + 1\n",
        "finalDf['cluster'] = finalDf['cluster'] + 1"
      ],
      "execution_count": null,
      "outputs": []
    },
    {
      "cell_type": "code",
      "metadata": {
        "colab": {
          "base_uri": "https://localhost:8080/"
        },
        "id": "wJOrOtM6UU9d",
        "outputId": "abb4f394-b456-4b0c-e25e-60138553cad4"
      },
      "source": [
        "import math\n",
        "def get_entropys(df_clustered, label_col_name='indicator', cluster_col_name='cluster', cluster_values=range(1,3,1)):\n",
        "    p = [[round(df_clustered[(df_clustered[label_col_name]==label) & (df_clustered[cluster_col_name]==cluster)].shape[0]/\n",
        "                df_clustered[df_clustered[cluster_col_name]==cluster].shape[0],3) for label in cluster_values] for cluster in cluster_values]\n",
        "    p_log_p = [[p_i*math.log(p_i) for p_i in p_i_s if p_i!=0] for p_i_s in p]\n",
        "    e = [-round(sum(p_log_p_i),3) for p_log_p_i in p_log_p]\n",
        "    return e\n",
        "  \n",
        "entropys_5 = get_entropys(finalDf, label_col_name='indicator', cluster_col_name='cluster', cluster_values=range(1,3,1))\n",
        "print(\"Clusters' Entropy\")\n",
        "print(\"Entropy: {0:.3f}\".format(min(entropys_5)))"
      ],
      "execution_count": null,
      "outputs": [
        {
          "output_type": "stream",
          "text": [
            "Clusters' Entropy\n",
            "Entropy: 0.351\n"
          ],
          "name": "stdout"
        }
      ]
    },
    {
      "cell_type": "code",
      "metadata": {
        "colab": {
          "base_uri": "https://localhost:8080/"
        },
        "id": "w6d0l6PE-ONG",
        "outputId": "f2b6902b-e96b-40c9-aba7-26f9f27c4d89"
      },
      "source": [
        "import numpy as np\n",
        "from sklearn import metrics\n",
        "\n",
        "def purity_score(y_true, y_pred):\n",
        "    # compute contingency matrix (also called confusion matrix)\n",
        "    contingency_matrix = metrics.cluster.contingency_matrix(y_true, y_pred)\n",
        "    # return purity\n",
        "    return np.sum(np.amax(contingency_matrix, axis=0)) / np.sum(contingency_matrix) \n",
        "\n",
        "purity = purity_score(finalDf['indicator'], finalDf['cluster'])\n",
        "print(\"The purity is:\",purity)"
      ],
      "execution_count": null,
      "outputs": [
        {
          "output_type": "stream",
          "text": [
            "The purity is: 0.6120892018779343\n"
          ],
          "name": "stdout"
        }
      ]
    },
    {
      "cell_type": "code",
      "metadata": {
        "colab": {
          "base_uri": "https://localhost:8080/"
        },
        "id": "DCO3Rcp0-Zv7",
        "outputId": "36b2a545-a433-40f8-da56-cdc5d33b9138"
      },
      "source": [
        "from sklearn.metrics.cluster import v_measure_score\n",
        "v_measure = v_measure_score(finalDf['indicator'], finalDf['cluster'])\n",
        "print(\"The v_measure is:\",v_measure)"
      ],
      "execution_count": null,
      "outputs": [
        {
          "output_type": "stream",
          "text": [
            "The v_measure is: 0.3372524092648669\n"
          ],
          "name": "stdout"
        }
      ]
    },
    {
      "cell_type": "code",
      "metadata": {
        "colab": {
          "base_uri": "https://localhost:8080/"
        },
        "id": "eK5AIvyn-gXD",
        "outputId": "fc8ad2cf-83b3-43c5-c17e-f41ddb643bdf"
      },
      "source": [
        "from sklearn.metrics.cluster import adjusted_rand_score\n",
        "randScore = adjusted_rand_score(finalDf['indicator'], finalDf['cluster'])\n",
        "print(\"The rand_score is:\",randScore)"
      ],
      "execution_count": null,
      "outputs": [
        {
          "output_type": "stream",
          "text": [
            "The rand_score is: 0.3100667791309289\n"
          ],
          "name": "stdout"
        }
      ]
    },
    {
      "cell_type": "code",
      "metadata": {
        "id": "OEa1iB_Ntvom"
      },
      "source": [
        "df = finalDf\n",
        "labels_final = df['indicator'].values\n",
        "#df = df[:,0:1]\n",
        "#del df['indicator']\n",
        "df = df.drop(['indicator'], axis=1)"
      ],
      "execution_count": null,
      "outputs": []
    },
    {
      "cell_type": "code",
      "metadata": {
        "colab": {
          "base_uri": "https://localhost:8080/",
          "height": 424
        },
        "id": "jKNShkDjtvom",
        "outputId": "90cf5b9c-1428-4619-aa12-5a8003bc5e3a"
      },
      "source": [
        "finalDf"
      ],
      "execution_count": null,
      "outputs": [
        {
          "output_type": "execute_result",
          "data": {
            "text/html": [
              "<div>\n",
              "<style scoped>\n",
              "    .dataframe tbody tr th:only-of-type {\n",
              "        vertical-align: middle;\n",
              "    }\n",
              "\n",
              "    .dataframe tbody tr th {\n",
              "        vertical-align: top;\n",
              "    }\n",
              "\n",
              "    .dataframe thead th {\n",
              "        text-align: right;\n",
              "    }\n",
              "</style>\n",
              "<table border=\"1\" class=\"dataframe\">\n",
              "  <thead>\n",
              "    <tr style=\"text-align: right;\">\n",
              "      <th></th>\n",
              "      <th>PC1</th>\n",
              "      <th>PC2</th>\n",
              "      <th>indicator</th>\n",
              "      <th>cluster</th>\n",
              "    </tr>\n",
              "  </thead>\n",
              "  <tbody>\n",
              "    <tr>\n",
              "      <th>0</th>\n",
              "      <td>-2.467090</td>\n",
              "      <td>-1.476007</td>\n",
              "      <td>2.0</td>\n",
              "      <td>1</td>\n",
              "    </tr>\n",
              "    <tr>\n",
              "      <th>1</th>\n",
              "      <td>-2.308549</td>\n",
              "      <td>-1.297672</td>\n",
              "      <td>2.0</td>\n",
              "      <td>1</td>\n",
              "    </tr>\n",
              "    <tr>\n",
              "      <th>2</th>\n",
              "      <td>-2.086146</td>\n",
              "      <td>-1.026157</td>\n",
              "      <td>2.0</td>\n",
              "      <td>1</td>\n",
              "    </tr>\n",
              "    <tr>\n",
              "      <th>3</th>\n",
              "      <td>-1.885014</td>\n",
              "      <td>-0.759994</td>\n",
              "      <td>2.0</td>\n",
              "      <td>1</td>\n",
              "    </tr>\n",
              "    <tr>\n",
              "      <th>4</th>\n",
              "      <td>-1.543147</td>\n",
              "      <td>-0.313182</td>\n",
              "      <td>2.0</td>\n",
              "      <td>1</td>\n",
              "    </tr>\n",
              "    <tr>\n",
              "      <th>...</th>\n",
              "      <td>...</td>\n",
              "      <td>...</td>\n",
              "      <td>...</td>\n",
              "      <td>...</td>\n",
              "    </tr>\n",
              "    <tr>\n",
              "      <th>35779</th>\n",
              "      <td>3.236242</td>\n",
              "      <td>1.619092</td>\n",
              "      <td>3.0</td>\n",
              "      <td>3</td>\n",
              "    </tr>\n",
              "    <tr>\n",
              "      <th>35780</th>\n",
              "      <td>3.280442</td>\n",
              "      <td>1.771782</td>\n",
              "      <td>3.0</td>\n",
              "      <td>3</td>\n",
              "    </tr>\n",
              "    <tr>\n",
              "      <th>35781</th>\n",
              "      <td>2.542779</td>\n",
              "      <td>0.998432</td>\n",
              "      <td>3.0</td>\n",
              "      <td>3</td>\n",
              "    </tr>\n",
              "    <tr>\n",
              "      <th>35782</th>\n",
              "      <td>3.296591</td>\n",
              "      <td>1.994987</td>\n",
              "      <td>3.0</td>\n",
              "      <td>3</td>\n",
              "    </tr>\n",
              "    <tr>\n",
              "      <th>35783</th>\n",
              "      <td>2.005789</td>\n",
              "      <td>0.305604</td>\n",
              "      <td>3.0</td>\n",
              "      <td>3</td>\n",
              "    </tr>\n",
              "  </tbody>\n",
              "</table>\n",
              "<p>35784 rows × 4 columns</p>\n",
              "</div>"
            ],
            "text/plain": [
              "            PC1       PC2  indicator  cluster\n",
              "0     -2.467090 -1.476007        2.0        1\n",
              "1     -2.308549 -1.297672        2.0        1\n",
              "2     -2.086146 -1.026157        2.0        1\n",
              "3     -1.885014 -0.759994        2.0        1\n",
              "4     -1.543147 -0.313182        2.0        1\n",
              "...         ...       ...        ...      ...\n",
              "35779  3.236242  1.619092        3.0        3\n",
              "35780  3.280442  1.771782        3.0        3\n",
              "35781  2.542779  0.998432        3.0        3\n",
              "35782  3.296591  1.994987        3.0        3\n",
              "35783  2.005789  0.305604        3.0        3\n",
              "\n",
              "[35784 rows x 4 columns]"
            ]
          },
          "metadata": {
            "tags": []
          },
          "execution_count": 71
        }
      ]
    },
    {
      "cell_type": "code",
      "metadata": {
        "colab": {
          "base_uri": "https://localhost:8080/",
          "height": 424
        },
        "id": "CvYMVk-5pqqV",
        "outputId": "7db22b29-f124-4c4b-e3fd-a340dba1f697"
      },
      "source": [
        "finalDf.drop(['cluster'], axis=1, inplace=True)\n",
        "finalDf"
      ],
      "execution_count": null,
      "outputs": [
        {
          "output_type": "execute_result",
          "data": {
            "text/html": [
              "<div>\n",
              "<style scoped>\n",
              "    .dataframe tbody tr th:only-of-type {\n",
              "        vertical-align: middle;\n",
              "    }\n",
              "\n",
              "    .dataframe tbody tr th {\n",
              "        vertical-align: top;\n",
              "    }\n",
              "\n",
              "    .dataframe thead th {\n",
              "        text-align: right;\n",
              "    }\n",
              "</style>\n",
              "<table border=\"1\" class=\"dataframe\">\n",
              "  <thead>\n",
              "    <tr style=\"text-align: right;\">\n",
              "      <th></th>\n",
              "      <th>PC1</th>\n",
              "      <th>PC2</th>\n",
              "      <th>indicator</th>\n",
              "    </tr>\n",
              "  </thead>\n",
              "  <tbody>\n",
              "    <tr>\n",
              "      <th>0</th>\n",
              "      <td>-2.467090</td>\n",
              "      <td>-1.476007</td>\n",
              "      <td>2.0</td>\n",
              "    </tr>\n",
              "    <tr>\n",
              "      <th>1</th>\n",
              "      <td>-2.308549</td>\n",
              "      <td>-1.297672</td>\n",
              "      <td>2.0</td>\n",
              "    </tr>\n",
              "    <tr>\n",
              "      <th>2</th>\n",
              "      <td>-2.086146</td>\n",
              "      <td>-1.026157</td>\n",
              "      <td>2.0</td>\n",
              "    </tr>\n",
              "    <tr>\n",
              "      <th>3</th>\n",
              "      <td>-1.885014</td>\n",
              "      <td>-0.759994</td>\n",
              "      <td>2.0</td>\n",
              "    </tr>\n",
              "    <tr>\n",
              "      <th>4</th>\n",
              "      <td>-1.543147</td>\n",
              "      <td>-0.313182</td>\n",
              "      <td>2.0</td>\n",
              "    </tr>\n",
              "    <tr>\n",
              "      <th>...</th>\n",
              "      <td>...</td>\n",
              "      <td>...</td>\n",
              "      <td>...</td>\n",
              "    </tr>\n",
              "    <tr>\n",
              "      <th>35779</th>\n",
              "      <td>3.236242</td>\n",
              "      <td>1.619092</td>\n",
              "      <td>3.0</td>\n",
              "    </tr>\n",
              "    <tr>\n",
              "      <th>35780</th>\n",
              "      <td>3.280442</td>\n",
              "      <td>1.771782</td>\n",
              "      <td>3.0</td>\n",
              "    </tr>\n",
              "    <tr>\n",
              "      <th>35781</th>\n",
              "      <td>2.542779</td>\n",
              "      <td>0.998432</td>\n",
              "      <td>3.0</td>\n",
              "    </tr>\n",
              "    <tr>\n",
              "      <th>35782</th>\n",
              "      <td>3.296591</td>\n",
              "      <td>1.994987</td>\n",
              "      <td>3.0</td>\n",
              "    </tr>\n",
              "    <tr>\n",
              "      <th>35783</th>\n",
              "      <td>2.005789</td>\n",
              "      <td>0.305604</td>\n",
              "      <td>3.0</td>\n",
              "    </tr>\n",
              "  </tbody>\n",
              "</table>\n",
              "<p>35784 rows × 3 columns</p>\n",
              "</div>"
            ],
            "text/plain": [
              "            PC1       PC2  indicator\n",
              "0     -2.467090 -1.476007        2.0\n",
              "1     -2.308549 -1.297672        2.0\n",
              "2     -2.086146 -1.026157        2.0\n",
              "3     -1.885014 -0.759994        2.0\n",
              "4     -1.543147 -0.313182        2.0\n",
              "...         ...       ...        ...\n",
              "35779  3.236242  1.619092        3.0\n",
              "35780  3.280442  1.771782        3.0\n",
              "35781  2.542779  0.998432        3.0\n",
              "35782  3.296591  1.994987        3.0\n",
              "35783  2.005789  0.305604        3.0\n",
              "\n",
              "[35784 rows x 3 columns]"
            ]
          },
          "metadata": {
            "tags": []
          },
          "execution_count": 72
        }
      ]
    },
    {
      "cell_type": "code",
      "metadata": {
        "id": "j6f8KVBGtvom"
      },
      "source": [
        "#Creating the model\n",
        "from sklearn.cluster import AgglomerativeClustering\n",
        "agg_clustering = AgglomerativeClustering(n_clusters = 3, affinity = 'euclidean', linkage = 'complete')\n",
        " \n",
        "#predicting the labels\n",
        " \n",
        "labels = agg_clustering.fit_predict(X,Y)"
      ],
      "execution_count": null,
      "outputs": []
    },
    {
      "cell_type": "code",
      "metadata": {
        "colab": {
          "base_uri": "https://localhost:8080/"
        },
        "id": "qye8SSTvtvom",
        "outputId": "ad487548-52b9-4dc0-a236-2552841a9cf6"
      },
      "source": [
        "labels"
      ],
      "execution_count": null,
      "outputs": [
        {
          "output_type": "execute_result",
          "data": {
            "text/plain": [
              "array([1, 1, 1, ..., 0, 0, 0])"
            ]
          },
          "metadata": {
            "tags": []
          },
          "execution_count": 75
        }
      ]
    },
    {
      "cell_type": "code",
      "metadata": {
        "id": "qCnJrw0_p0Pm"
      },
      "source": [
        "finalDf['cluster'] = labels"
      ],
      "execution_count": null,
      "outputs": []
    },
    {
      "cell_type": "code",
      "metadata": {
        "colab": {
          "base_uri": "https://localhost:8080/"
        },
        "id": "LWavaw1S1JoP",
        "outputId": "7f4f6e26-d7ab-4cca-ad69-3840c3901a87"
      },
      "source": [
        "print(\"Accuracy:\",accuracy_score(finalDf.iloc[:,2] , labels))\n",
        "print(classification_report(finalDf.iloc[:,2] , labels))\n",
        "print(confusion_matrix(finalDf.iloc[:,2] , labels))"
      ],
      "execution_count": null,
      "outputs": [
        {
          "output_type": "stream",
          "text": [
            "Accuracy: 0.3519170579029734\n",
            "              precision    recall  f1-score   support\n",
            "\n",
            "         0.0       0.00      0.00      0.00         0\n",
            "         1.0       0.40      0.59      0.48     11928\n",
            "         2.0       1.00      0.47      0.64     11928\n",
            "         3.0       0.00      0.00      0.00     11928\n",
            "\n",
            "    accuracy                           0.35     35784\n",
            "   macro avg       0.35      0.26      0.28     35784\n",
            "weighted avg       0.47      0.35      0.37     35784\n",
            "\n",
            "[[   0    0    0    0]\n",
            " [4928 6986   14    0]\n",
            " [ 294 6027 5607    0]\n",
            " [7546 4382    0    0]]\n"
          ],
          "name": "stdout"
        }
      ]
    },
    {
      "cell_type": "code",
      "metadata": {
        "colab": {
          "base_uri": "https://localhost:8080/",
          "height": 281
        },
        "id": "35Y1d9QBtvon",
        "outputId": "5bf7361a-3877-4893-dfb6-bc151867dd0f"
      },
      "source": [
        "#filter rows of original data\n",
        "filtered_label0 = df[labels == 0]\n",
        "filtered_label1 = df[labels == 1]\n",
        "filtered_label2 = df[labels == 2]\n",
        " \n",
        "#Plotting the results\n",
        "plt.scatter(filtered_label0.iloc[:,0] , filtered_label0.iloc[:,1] , color = 'red')\n",
        "plt.scatter(filtered_label1.iloc[:,0] , filtered_label1.iloc[:,1] , color = 'black')\n",
        "plt.scatter(filtered_label2.iloc[:,0] , filtered_label2.iloc[:,1] , color = 'green')\n",
        "plt.title(\"Hierarchical clustering - Agglomerative clustering\")\n",
        "plt.show()"
      ],
      "execution_count": null,
      "outputs": [
        {
          "output_type": "display_data",
          "data": {
            "image/png": "[encoded data removed]",
            "text/plain": [
              "<Figure size 432x288 with 1 Axes>"
            ]
          },
          "metadata": {
            "tags": [],
            "needs_background": "light"
          }
        }
      ]
    },
    {
      "cell_type": "code",
      "metadata": {
        "id": "NNEpLyCptvon"
      },
      "source": [
        "from sklearn.datasets import load_iris\n",
        "from sklearn.cluster import AgglomerativeClustering\n",
        "import numpy as np\n",
        "import matplotlib.pyplot as plt\n",
        "from scipy.cluster.hierarchy import dendrogram , linkage"
      ],
      "execution_count": null,
      "outputs": []
    },
    {
      "cell_type": "code",
      "metadata": {
        "id": "AdxtWiBctvoo"
      },
      "source": [
        "def plot_dendrogram(model, **kwargs):\n",
        "    # Create linkage matrix and then plot the dendrogram\n",
        "\n",
        "    # create the counts of samples under each node\n",
        "    counts = np.zeros(model.children_.shape[0])\n",
        "    n_samples = len(model.labels_)\n",
        "    for i, merge in enumerate(model.children_):\n",
        "        current_count = 0\n",
        "        for child_idx in merge:\n",
        "            if child_idx < n_samples:\n",
        "                current_count += 1  # leaf node\n",
        "            else:\n",
        "                current_count += counts[child_idx - n_samples]\n",
        "        counts[i] = current_count\n",
        "\n",
        "    linkage_matrix = np.column_stack([model.children_, model.distances_,\n",
        "                                      counts]).astype(float)\n",
        "\n",
        "    # Plot the corresponding dendrogram\n",
        "    dendrogram(linkage_matrix, **kwargs)"
      ],
      "execution_count": null,
      "outputs": []
    },
    {
      "cell_type": "code",
      "metadata": {
        "colab": {
          "base_uri": "https://localhost:8080/",
          "height": 36
        },
        "id": "VlkjmFQNtvop",
        "outputId": "a7d8a6e8-82fa-4c12-9b55-482c1996b900"
      },
      "source": [
        "Z = linkage(df, method = 'complete')\n",
        " \n",
        "\"\"\"#plotting dendrogram\n",
        "dendro = dendrogram(Z)\n",
        "plt.title('Dendrogram')\n",
        "plt.ylabel('Euclidean distance')\n",
        "plt.show()\"\"\""
      ],
      "execution_count": null,
      "outputs": [
        {
          "output_type": "execute_result",
          "data": {
            "application/vnd.google.colaboratory.intrinsic+json": {
              "type": "string"
            },
            "text/plain": [
              "\"#plotting dendrogram\\ndendro = dendrogram(Z)\\nplt.title('Dendrogram')\\nplt.ylabel('Euclidean distance')\\nplt.show()\""
            ]
          },
          "metadata": {
            "tags": []
          },
          "execution_count": 81
        }
      ]
    },
    {
      "cell_type": "code",
      "metadata": {
        "colab": {
          "base_uri": "https://localhost:8080/",
          "height": 54
        },
        "id": "Mt9Te75u1YF8",
        "outputId": "dc0a8a60-f5b6-4984-d911-d373d257df50"
      },
      "source": [
        "from matplotlib.pyplot import figure\n",
        "figure(figsize=(20, 20))"
      ],
      "execution_count": null,
      "outputs": [
        {
          "output_type": "execute_result",
          "data": {
            "text/plain": [
              "<Figure size 1440x1440 with 0 Axes>"
            ]
          },
          "metadata": {
            "tags": []
          },
          "execution_count": 82
        },
        {
          "output_type": "display_data",
          "data": {
            "text/plain": [
              "<Figure size 1440x1440 with 0 Axes>"
            ]
          },
          "metadata": {
            "tags": []
          }
        }
      ]
    },
    {
      "cell_type": "code",
      "metadata": {
        "colab": {
          "base_uri": "https://localhost:8080/",
          "height": 278
        },
        "id": "15Mwq5c21pdP",
        "outputId": "78d1a3de-b540-487e-dc05-85d3e52c7ed5"
      },
      "source": [
        "plt.title('Hierarchical Clustering Dendrogram')\n",
        "plt.rcParams[\"figure.figsize\"] = (30,20)\n",
        "# Plot axis labels\n",
        "plt.xlabel('data index')\n",
        "plt.xticks([])\n",
        "plt.ylabel('distance (Ward)')\n",
        "\n",
        "# Make the dendrogram\n",
        "dendrogram(Z, leaf_rotation=90)\n",
        "plt.xticks([])\n",
        "# Show the graph\n",
        "plt.show()"
      ],
      "execution_count": null,
      "outputs": [
        {
          "output_type": "display_data",
          "data": {
            "image/png": "[encoded data removed]",
            "text/plain": [
              "<Figure size 432x288 with 1 Axes>"
            ]
          },
          "metadata": {
            "tags": [],
            "needs_background": "light"
          }
        }
      ]
    },
    {
      "cell_type": "code",
      "metadata": {
        "colab": {
          "base_uri": "https://localhost:8080/"
        },
        "id": "FPbCio4zMbVd",
        "outputId": "17ab1422-f4df-44e9-8f9e-ce1fb55d8bdb"
      },
      "source": [
        "score_kemans_s = silhouette_score(finalDf[['PC1','PC2']], labels, metric='euclidean')\n",
        "score_kemans_c = calinski_harabasz_score(finalDf[['PC1','PC2']], labels)\n",
        "score_kemans_d = davies_bouldin_score(finalDf[['PC1','PC2']], labels)\n",
        "\n",
        "print('Silhouette Score: %.4f' % score_kemans_s)\n",
        "print('Calinski Harabasz Score: %.4f' % score_kemans_c)\n",
        "print('Davies Bouldin Score: %.4f' % score_kemans_d)"
      ],
      "execution_count": null,
      "outputs": [
        {
          "output_type": "stream",
          "text": [
            "Silhouette Score: 0.3287\n",
            "Calinski Harabasz Score: 21523.0176\n",
            "Davies Bouldin Score: 0.9447\n"
          ],
          "name": "stdout"
        }
      ]
    },
    {
      "cell_type": "code",
      "metadata": {
        "id": "YPsBVj3sqQGh"
      },
      "source": [
        "#finalDf['indicator'] = finalDf['indicator'] + 1\n",
        "finalDf['cluster'] = finalDf['cluster'] + 1"
      ],
      "execution_count": null,
      "outputs": []
    },
    {
      "cell_type": "code",
      "metadata": {
        "colab": {
          "base_uri": "https://localhost:8080/"
        },
        "id": "nGmvaS29p6MW",
        "outputId": "5b95e5e0-9680-4748-9d0e-aeb51f7bc371"
      },
      "source": [
        "import math\n",
        "def get_entropys(df_clustered, label_col_name='indicator', cluster_col_name='cluster', cluster_values=range(1,3,1)):\n",
        "    p = [[round(df_clustered[(df_clustered[label_col_name]==label) & (df_clustered[cluster_col_name]==cluster)].shape[0]/\n",
        "                df_clustered[df_clustered[cluster_col_name]==cluster].shape[0],3) for label in cluster_values] for cluster in cluster_values]\n",
        "    p_log_p = [[p_i*math.log(p_i) for p_i in p_i_s if p_i!=0] for p_i_s in p]\n",
        "    e = [-round(sum(p_log_p_i),3) for p_log_p_i in p_log_p]\n",
        "    return e\n",
        "  \n",
        "entropys_5 = get_entropys(finalDf, label_col_name='indicator', cluster_col_name='cluster', cluster_values=range(1,3,1))\n",
        "print(\"Clusters' Entropy\")\n",
        "print(\"Entropy: {0:.3f}\".format(min(entropys_5)))"
      ],
      "execution_count": null,
      "outputs": [
        {
          "output_type": "stream",
          "text": [
            "Clusters' Entropy\n",
            "Entropy: 0.454\n"
          ],
          "name": "stdout"
        }
      ]
    },
    {
      "cell_type": "code",
      "metadata": {
        "colab": {
          "base_uri": "https://localhost:8080/"
        },
        "id": "3e_VHCPO-42P",
        "outputId": "8a23ce8d-d245-4877-d550-7c08bfd5418c"
      },
      "source": [
        "import numpy as np\n",
        "from sklearn import metrics\n",
        "\n",
        "def purity_score(y_true, y_pred):\n",
        "    # compute contingency matrix (also called confusion matrix)\n",
        "    contingency_matrix = metrics.cluster.contingency_matrix(y_true, y_pred)\n",
        "    # return purity\n",
        "    return np.sum(np.amax(contingency_matrix, axis=0)) / np.sum(contingency_matrix) \n",
        "\n",
        "purity = purity_score(finalDf['indicator'], finalDf['cluster'])\n",
        "print(\"The purity is:\",purity)"
      ],
      "execution_count": null,
      "outputs": [
        {
          "output_type": "stream",
          "text": [
            "The purity is: 0.562793427230047\n"
          ],
          "name": "stdout"
        }
      ]
    },
    {
      "cell_type": "code",
      "metadata": {
        "colab": {
          "base_uri": "https://localhost:8080/"
        },
        "id": "r2JXXRPh-_zv",
        "outputId": "2d8c59ae-834b-4239-d465-6237bc35250f"
      },
      "source": [
        "from sklearn.metrics.cluster import v_measure_score\n",
        "v_measure = v_measure_score(finalDf['indicator'], finalDf['cluster'])\n",
        "print(\"The v_measure is:\",v_measure)"
      ],
      "execution_count": null,
      "outputs": [
        {
          "output_type": "stream",
          "text": [
            "The v_measure is: 0.28222970005461184\n"
          ],
          "name": "stdout"
        }
      ]
    },
    {
      "cell_type": "code",
      "metadata": {
        "colab": {
          "base_uri": "https://localhost:8080/"
        },
        "id": "hzCDf0Lo_EQU",
        "outputId": "8bf23cf0-6527-44a5-cdca-1e7a424976ab"
      },
      "source": [
        "from sklearn.metrics.cluster import adjusted_rand_score\n",
        "randScore = adjusted_rand_score(finalDf['indicator'], finalDf['cluster'])\n",
        "print(\"The rand_score is:\",randScore)"
      ],
      "execution_count": null,
      "outputs": [
        {
          "output_type": "stream",
          "text": [
            "The rand_score is: 0.1732690175823631\n"
          ],
          "name": "stdout"
        }
      ]
    },
    {
      "cell_type": "code",
      "metadata": {
        "id": "fb-r5iwnCeNf"
      },
      "source": [
        "from sklearn.cluster import DBSCAN"
      ],
      "execution_count": null,
      "outputs": []
    },
    {
      "cell_type": "code",
      "metadata": {
        "id": "LeyE2QSsvdkO"
      },
      "source": [
        "from sklearn.neighbors import NearestNeighbors\n",
        "from sklearn.cluster import DBSCAN\n",
        "from matplotlib import pyplot as plt\n",
        "import seaborn as sns\n",
        "sns.set()"
      ],
      "execution_count": null,
      "outputs": []
    },
    {
      "cell_type": "code",
      "metadata": {
        "id": "7S675vhqwUTF",
        "colab": {
          "base_uri": "https://localhost:8080/",
          "height": 447
        },
        "outputId": "d0f946b1-1897-4977-fa9b-9a9c55128eb9"
      },
      "source": [
        "from sklearn.neighbors import NearestNeighbors\n",
        "nearest_neighbors = NearestNeighbors(n_neighbors=11)\n",
        "neighbors = nearest_neighbors.fit(cluster_df)\n",
        "distances, indices = neighbors.kneighbors(cluster_df)\n",
        "distances = np.sort(distances[:,10], axis=0)\n",
        "!pip install -q kneed\n",
        "from kneed import KneeLocator\n",
        "i = np.arange(len(distances))\n",
        "knee = KneeLocator(i, distances, S=1, curve='convex', direction='increasing', interp_method='polynomial')\n",
        "fig = plt.figure(figsize=(5, 5))\n",
        "knee.plot_knee()\n",
        "plt.xlabel(\"Points\")\n",
        "plt.ylabel(\"Distance\")\n",
        "print(distances[knee.knee])"
      ],
      "execution_count": null,
      "outputs": [
        {
          "output_type": "stream",
          "text": [
            "22.14995711056769\n"
          ],
          "name": "stdout"
        },
        {
          "output_type": "display_data",
          "data": {
            "text/plain": [
              "<Figure size 360x360 with 0 Axes>"
            ]
          },
          "metadata": {
            "tags": []
          }
        },
        {
          "output_type": "display_data",
          "data": {
            "image/png": "[encoded data removed]",
            "text/plain": [
              "<Figure size 432x432 with 1 Axes>"
            ]
          },
          "metadata": {
            "tags": []
          }
        }
      ]
    },
    {
      "cell_type": "code",
      "metadata": {
        "colab": {
          "base_uri": "https://localhost:8080/",
          "height": 858
        },
        "id": "SFqGKL0_PmGA",
        "outputId": "0f2c8344-c257-4623-f627-bbcfd11f97e1"
      },
      "source": [
        "from sklearn.metrics import silhouette_score \n",
        "from sklearn.cluster import DBSCAN\n",
        "\n",
        "def get_dbscan_score(data, center):\n",
        "    '''\n",
        "    \n",
        "    INPUT:\n",
        "        data - the dataset you want to fit kmeans to\n",
        "        center - the number of centers you want (the k value)\n",
        "    OUTPUT:\n",
        "        score - the Silhouette Score for DBSCAN\n",
        "    '''\n",
        "    #instantiate kmeans\n",
        "    dbscan = DBSCAN(eps= 22.14995711056769, min_samples=center)\n",
        "\n",
        "    # Then fit the model to your data using the fit method\n",
        "    model = dbscan.fit(cluster_df)\n",
        "    \n",
        "    # Calculate Silhoutte Score\n",
        "\n",
        "    score = silhouette_score(cluster_df, model.labels_, metric='euclidean')\n",
        "    \n",
        "    return score\n",
        "\n",
        "scores = []\n",
        "centers = list(range(2,30))\n",
        "\n",
        "for center in centers:\n",
        "    scores.append(get_dbscan_score(cluster_df, center))\n",
        "    \n",
        "plt.plot(centers, scores, linestyle='--', marker='o', color='b');\n",
        "plt.xlabel('min_samples');\n",
        "plt.ylabel('Silhouette Score');\n",
        "plt.title('Silhouette Score vs. min_samples');\n",
        "\n",
        "df3 = pd.DataFrame(centers,columns=['min_samples'])\n",
        "df3['scores'] = scores\n",
        "df4 = df3[df3.scores == df3.scores.max()]\n",
        "print('Optimal number of min_samples based on silhouette score:', df4['min_samples'].tolist())"
      ],
      "execution_count": null,
      "outputs": [
        {
          "output_type": "stream",
          "text": [
            "Optimal number of min_samples based on silhouette score: [2, 3, 4, 5, 6, 7]\n"
          ],
          "name": "stdout"
        },
        {
          "output_type": "display_data",
          "data": {
            "image/png": "[encoded data removed]",
            "text/plain": [
              "<Figure size 2160x1440 with 1 Axes>"
            ]
          },
          "metadata": {
            "tags": []
          }
        }
      ]
    },
    {
      "cell_type": "code",
      "metadata": {
        "colab": {
          "base_uri": "https://localhost:8080/"
        },
        "id": "Leop1HVcPtPW",
        "outputId": "a5ed1aa1-6eba-42dd-ffdc-8d7863029367"
      },
      "source": [
        "from numpy import unique\n",
        "from numpy import where\n",
        "from sklearn.cluster import DBSCAN\n",
        "from matplotlib import pyplot\n",
        "# define dataset\n",
        "# define the model\n",
        "model = DBSCAN(eps=22.14995711056769, min_samples= 7)\n",
        "# rule of thumb for min_samples: 2*len(cluster_df.columns)\n",
        "# fit model and predict clusters\n",
        "yhat = model.fit_predict(cluster_df)\n",
        "# retrieve unique clusters\n",
        "clusters = unique(yhat)\n",
        "# Calculate cluster validation metrics\n",
        "score_dbsacn_s = silhouette_score(cluster_df, yhat, metric='euclidean')\n",
        "score_dbsacn_c = calinski_harabasz_score(cluster_df, yhat)\n",
        "score_dbsacn_d = davies_bouldin_score(cluster_df, yhat)\n",
        "print('Silhouette Score: %.4f' % score_dbsacn_s)\n",
        "print('Calinski Harabasz Score: %.4f' % score_dbsacn_c)\n",
        "print('Davies Bouldin Score: %.4f' % score_dbsacn_d)"
      ],
      "execution_count": null,
      "outputs": [
        {
          "output_type": "stream",
          "text": [
            "Silhouette Score: 0.3172\n",
            "Calinski Harabasz Score: 139481.4518\n",
            "Davies Bouldin Score: 0.8524\n"
          ],
          "name": "stdout"
        }
      ]
    },
    {
      "cell_type": "code",
      "metadata": {
        "id": "m1sg9hFvvwHm"
      },
      "source": [
        "cluster_df['yhat'] = yhat + 1"
      ],
      "execution_count": null,
      "outputs": []
    },
    {
      "cell_type": "code",
      "metadata": {
        "colab": {
          "base_uri": "https://localhost:8080/"
        },
        "id": "hpEbCEXauSxu",
        "outputId": "ab58c02b-f8dc-462e-efd8-a774df49e0dc"
      },
      "source": [
        "import math\n",
        "def get_entropys(df_clustered, label_col_name='indicator', cluster_col_name='cluster', cluster_values=range(1,2,1)):\n",
        "    p = [[round(df_clustered[(df_clustered[label_col_name]==label) & (df_clustered[cluster_col_name]==cluster)].shape[0]/\n",
        "                df_clustered[df_clustered[cluster_col_name]==cluster].shape[0],3) for label in cluster_values] for cluster in cluster_values]\n",
        "    p_log_p = [[p_i*math.log(p_i) for p_i in p_i_s if p_i!=0] for p_i_s in p]\n",
        "    e = [-round(sum(p_log_p_i),3) for p_log_p_i in p_log_p]\n",
        "    return e\n",
        "  \n",
        "entropys_5 = get_entropys(cluster_df, label_col_name='indicator', cluster_col_name='yhat', cluster_values=range(1,2,1))\n",
        "print(\"Clusters' Entropy\")\n",
        "print(\"Entropy: {0:.3f}\".format(min(entropys_5)))"
      ],
      "execution_count": null,
      "outputs": [
        {
          "output_type": "stream",
          "text": [
            "Clusters' Entropy\n",
            "Entropy: 0.366\n"
          ],
          "name": "stdout"
        }
      ]
    },
    {
      "cell_type": "code",
      "metadata": {
        "colab": {
          "base_uri": "https://localhost:8080/"
        },
        "id": "GjYMEt1w_Rc2",
        "outputId": "c0b90d91-66f4-40f3-dd53-ba1e5e198568"
      },
      "source": [
        "import numpy as np\n",
        "from sklearn import metrics\n",
        "\n",
        "def purity_score(y_true, y_pred):\n",
        "    # compute contingency matrix (also called confusion matrix)\n",
        "    contingency_matrix = metrics.cluster.contingency_matrix(y_true, y_pred)\n",
        "    # return purity\n",
        "    return np.sum(np.amax(contingency_matrix, axis=0)) / np.sum(contingency_matrix) \n",
        "\n",
        "purity = purity_score(finalDf['indicator'], finalDf['cluster'])\n",
        "print(\"The purity is:\",purity)"
      ],
      "execution_count": null,
      "outputs": [
        {
          "output_type": "stream",
          "text": [
            "The purity is: 0.562793427230047\n"
          ],
          "name": "stdout"
        }
      ]
    },
    {
      "cell_type": "code",
      "metadata": {
        "colab": {
          "base_uri": "https://localhost:8080/"
        },
        "id": "Z_cKFJqQ_WOK",
        "outputId": "b00466e0-e41b-4954-aa19-89a709609f23"
      },
      "source": [
        "from sklearn.metrics.cluster import v_measure_score\n",
        "v_measure = v_measure_score(finalDf['indicator'], finalDf['cluster'])\n",
        "print(\"The v_measure is:\",v_measure)"
      ],
      "execution_count": null,
      "outputs": [
        {
          "output_type": "stream",
          "text": [
            "The v_measure is: 0.28222970005461184\n"
          ],
          "name": "stdout"
        }
      ]
    },
    {
      "cell_type": "code",
      "metadata": {
        "colab": {
          "base_uri": "https://localhost:8080/"
        },
        "id": "GQ3VToHC_aU7",
        "outputId": "043ca9a1-e17e-4adb-8b22-fda8c909f78c"
      },
      "source": [
        "from sklearn.metrics.cluster import adjusted_rand_score\n",
        "randScore = adjusted_rand_score(finalDf['indicator'], finalDf['cluster'])\n",
        "print(\"The rand_score is:\",randScore)"
      ],
      "execution_count": null,
      "outputs": [
        {
          "output_type": "stream",
          "text": [
            "The rand_score is: 0.1732690175823631\n"
          ],
          "name": "stdout"
        }
      ]
    },
    {
      "cell_type": "code",
      "metadata": {
        "id": "QJ3R0E2cA8H6",
        "colab": {
          "base_uri": "https://localhost:8080/",
          "height": 81
        },
        "outputId": "77e05316-5528-4222-b1fe-7f7cd321e330"
      },
      "source": [
        "from sklearn.mixture import GaussianMixture\n",
        "n_components = range(1, 30)\n",
        "covariance_type = ['spherical', 'tied', 'diag', 'full']\n",
        "score=[]\n",
        "for cov in covariance_type:\n",
        "    for n_comp in n_components:\n",
        "        gmm=GaussianMixture(n_components=n_comp,covariance_type=cov, random_state = 10)\n",
        "        gmm.fit(cluster_df)\n",
        "        score.append((cov,n_comp,gmm.bic(cluster_df)))\n",
        "score_1 = pd.DataFrame(score)\n",
        "score_1.columns = ['Covariance_Type', 'N_Components','BIC_Score']\n",
        "score_2 = score_1[score_1.BIC_Score == score_1.BIC_Score.min()]\n",
        "\n",
        "score_2.head(n=2)"
      ],
      "execution_count": null,
      "outputs": [
        {
          "output_type": "execute_result",
          "data": {
            "text/html": [
              "<div>\n",
              "<style scoped>\n",
              "    .dataframe tbody tr th:only-of-type {\n",
              "        vertical-align: middle;\n",
              "    }\n",
              "\n",
              "    .dataframe tbody tr th {\n",
              "        vertical-align: top;\n",
              "    }\n",
              "\n",
              "    .dataframe thead th {\n",
              "        text-align: right;\n",
              "    }\n",
              "</style>\n",
              "<table border=\"1\" class=\"dataframe\">\n",
              "  <thead>\n",
              "    <tr style=\"text-align: right;\">\n",
              "      <th></th>\n",
              "      <th>Covariance_Type</th>\n",
              "      <th>N_Components</th>\n",
              "      <th>BIC_Score</th>\n",
              "    </tr>\n",
              "  </thead>\n",
              "  <tbody>\n",
              "    <tr>\n",
              "      <th>115</th>\n",
              "      <td>full</td>\n",
              "      <td>29</td>\n",
              "      <td>1.264540e+06</td>\n",
              "    </tr>\n",
              "  </tbody>\n",
              "</table>\n",
              "</div>"
            ],
            "text/plain": [
              "    Covariance_Type  N_Components     BIC_Score\n",
              "115            full            29  1.264540e+06"
            ]
          },
          "metadata": {
            "tags": []
          },
          "execution_count": 124
        }
      ]
    },
    {
      "cell_type": "code",
      "metadata": {
        "colab": {
          "base_uri": "https://localhost:8080/",
          "height": 112
        },
        "id": "OvGshafISHxz",
        "outputId": "c6fa6d4c-7289-414b-870d-e49b622c5410"
      },
      "source": [
        "# Silhouette Score for GMM\n",
        "\n",
        "\n",
        "n_components = range(2, 30)\n",
        "covariance_type = ['spherical', 'tied', 'diag', 'full']\n",
        "score=[]\n",
        "for cov in covariance_type:\n",
        "    for n_comp in n_components:\n",
        "        gmm=GaussianMixture(n_components=n_comp,covariance_type=cov,random_state = 10)\n",
        "        model = gmm.fit(cluster_df)\n",
        "        model_2 = model.predict(cluster_df)\n",
        "        score_s = silhouette_score(cluster_df, model_2, metric='euclidean')\n",
        "        score.append((cov,n_comp,score_s))\n",
        "score_1 = pd.DataFrame(score)\n",
        "score_1.columns = ['Covariance_Type', 'N_Components','Silhouette_Score']\n",
        "score_2 = score_1[score_1.Silhouette_Score == score_1.Silhouette_Score.max()]\n",
        "score_2.head(n=2)"
      ],
      "execution_count": null,
      "outputs": [
        {
          "output_type": "execute_result",
          "data": {
            "text/html": [
              "<div>\n",
              "<style scoped>\n",
              "    .dataframe tbody tr th:only-of-type {\n",
              "        vertical-align: middle;\n",
              "    }\n",
              "\n",
              "    .dataframe tbody tr th {\n",
              "        vertical-align: top;\n",
              "    }\n",
              "\n",
              "    .dataframe thead th {\n",
              "        text-align: right;\n",
              "    }\n",
              "</style>\n",
              "<table border=\"1\" class=\"dataframe\">\n",
              "  <thead>\n",
              "    <tr style=\"text-align: right;\">\n",
              "      <th></th>\n",
              "      <th>Covariance_Type</th>\n",
              "      <th>N_Components</th>\n",
              "      <th>Silhouette_Score</th>\n",
              "    </tr>\n",
              "  </thead>\n",
              "  <tbody>\n",
              "    <tr>\n",
              "      <th>28</th>\n",
              "      <td>tied</td>\n",
              "      <td>2</td>\n",
              "      <td>0.721419</td>\n",
              "    </tr>\n",
              "    <tr>\n",
              "      <th>84</th>\n",
              "      <td>full</td>\n",
              "      <td>2</td>\n",
              "      <td>0.721419</td>\n",
              "    </tr>\n",
              "  </tbody>\n",
              "</table>\n",
              "</div>"
            ],
            "text/plain": [
              "   Covariance_Type  N_Components  Silhouette_Score\n",
              "28            tied             2          0.721419\n",
              "84            full             2          0.721419"
            ]
          },
          "metadata": {
            "tags": []
          },
          "execution_count": 125
        }
      ]
    },
    {
      "cell_type": "code",
      "metadata": {
        "colab": {
          "base_uri": "https://localhost:8080/",
          "height": 81
        },
        "id": "UCaVZxDpSKCK",
        "outputId": "dc660ffb-da02-4d08-d775-12e23d7e896b"
      },
      "source": [
        "# Calinski Harabasz Score for GMM\n",
        "\n",
        "\n",
        "n_components = range(2, 30)\n",
        "covariance_type = ['spherical', 'tied', 'diag', 'full']\n",
        "score=[]\n",
        "for cov in covariance_type:\n",
        "    for n_comp in n_components:\n",
        "        gmm=GaussianMixture(n_components=n_comp,covariance_type=cov, random_state = 10)\n",
        "        model = gmm.fit(cluster_df)\n",
        "        model_2 = model.predict(cluster_df)\n",
        "        score_c = calinski_harabasz_score(cluster_df, model_2)\n",
        "        score.append((cov,n_comp,score_c))\n",
        "score_1 = pd.DataFrame(score)\n",
        "score_1.columns = ['Covariance_Type', 'N_Components','Calinski_Harabasz_Score']\n",
        "score_2 = score_1[score_1.Calinski_Harabasz_Score == score_1.Calinski_Harabasz_Score.max()]\n",
        "score_2.head(n=5)"
      ],
      "execution_count": null,
      "outputs": [
        {
          "output_type": "execute_result",
          "data": {
            "text/html": [
              "<div>\n",
              "<style scoped>\n",
              "    .dataframe tbody tr th:only-of-type {\n",
              "        vertical-align: middle;\n",
              "    }\n",
              "\n",
              "    .dataframe tbody tr th {\n",
              "        vertical-align: top;\n",
              "    }\n",
              "\n",
              "    .dataframe thead th {\n",
              "        text-align: right;\n",
              "    }\n",
              "</style>\n",
              "<table border=\"1\" class=\"dataframe\">\n",
              "  <thead>\n",
              "    <tr style=\"text-align: right;\">\n",
              "      <th></th>\n",
              "      <th>Covariance_Type</th>\n",
              "      <th>N_Components</th>\n",
              "      <th>Calinski_Harabasz_Score</th>\n",
              "    </tr>\n",
              "  </thead>\n",
              "  <tbody>\n",
              "    <tr>\n",
              "      <th>27</th>\n",
              "      <td>spherical</td>\n",
              "      <td>29</td>\n",
              "      <td>161101.310169</td>\n",
              "    </tr>\n",
              "  </tbody>\n",
              "</table>\n",
              "</div>"
            ],
            "text/plain": [
              "   Covariance_Type  N_Components  Calinski_Harabasz_Score\n",
              "27       spherical            29            161101.310169"
            ]
          },
          "metadata": {
            "tags": []
          },
          "execution_count": 126
        }
      ]
    },
    {
      "cell_type": "code",
      "metadata": {
        "colab": {
          "base_uri": "https://localhost:8080/",
          "height": 81
        },
        "id": "qS1X6cqtSMKj",
        "outputId": "aaed49a9-f03f-4018-e080-b8884945269d"
      },
      "source": [
        "# Davies Bouldin Score for GMM\n",
        "\n",
        "\n",
        "n_components = range(2, 30)\n",
        "covariance_type = ['spherical', 'tied', 'diag', 'full']\n",
        "score=[]\n",
        "for cov in covariance_type:\n",
        "    for n_comp in n_components:\n",
        "        gmm=GaussianMixture(n_components=n_comp,covariance_type=cov, random_state = 10)\n",
        "        model = gmm.fit(cluster_df)\n",
        "        model_2 = model.predict(cluster_df)\n",
        "        score_d = davies_bouldin_score(cluster_df, model_2)\n",
        "        score.append((cov,n_comp,score_d))\n",
        "score_1 = pd.DataFrame(score)\n",
        "score_1.columns = ['Covariance_Type', 'N_Components','Davies_Bouldin_Score']\n",
        "score_2 = score_1[score_1.Davies_Bouldin_Score == score_1.Davies_Bouldin_Score.max()]\n",
        "score_2.head(n=2)"
      ],
      "execution_count": null,
      "outputs": [
        {
          "output_type": "execute_result",
          "data": {
            "text/html": [
              "<div>\n",
              "<style scoped>\n",
              "    .dataframe tbody tr th:only-of-type {\n",
              "        vertical-align: middle;\n",
              "    }\n",
              "\n",
              "    .dataframe tbody tr th {\n",
              "        vertical-align: top;\n",
              "    }\n",
              "\n",
              "    .dataframe thead th {\n",
              "        text-align: right;\n",
              "    }\n",
              "</style>\n",
              "<table border=\"1\" class=\"dataframe\">\n",
              "  <thead>\n",
              "    <tr style=\"text-align: right;\">\n",
              "      <th></th>\n",
              "      <th>Covariance_Type</th>\n",
              "      <th>N_Components</th>\n",
              "      <th>Davies_Bouldin_Score</th>\n",
              "    </tr>\n",
              "  </thead>\n",
              "  <tbody>\n",
              "    <tr>\n",
              "      <th>61</th>\n",
              "      <td>diag</td>\n",
              "      <td>7</td>\n",
              "      <td>9.887544</td>\n",
              "    </tr>\n",
              "  </tbody>\n",
              "</table>\n",
              "</div>"
            ],
            "text/plain": [
              "   Covariance_Type  N_Components  Davies_Bouldin_Score\n",
              "61            diag             7              9.887544"
            ]
          },
          "metadata": {
            "tags": []
          },
          "execution_count": 127
        }
      ]
    },
    {
      "cell_type": "code",
      "metadata": {
        "colab": {
          "base_uri": "https://localhost:8080/"
        },
        "id": "7jWgj9TJSOn5",
        "outputId": "70406050-842e-429f-af54-042557874671"
      },
      "source": [
        "from numpy import unique\n",
        "from numpy import where\n",
        "from sklearn.datasets import make_classification\n",
        "from sklearn.mixture import GaussianMixture\n",
        "from matplotlib import pyplot\n",
        "# define the model\n",
        "model = GaussianMixture(n_components= 29,covariance_type= \"full\", random_state = 10)\n",
        "# fit the model\n",
        "model.fit(cluster_df)\n",
        "# assign a cluster to each example\n",
        "yhat = model.predict(cluster_df)\n",
        "# retrieve unique clusters\n",
        "clusters = unique(yhat)\n",
        "\n",
        "\n",
        "\n",
        "# Calculate cluster validation score\n",
        "\n",
        "score_dbsacn_s = silhouette_score(cluster_df, yhat, metric='euclidean')\n",
        "\n",
        "score_dbsacn_c = calinski_harabasz_score(cluster_df, yhat)\n",
        "\n",
        "score_dbsacn_d = davies_bouldin_score(cluster_df, yhat)\n",
        "\n",
        "\n",
        "\n",
        "print('Silhouette Score: %.4f' % score_dbsacn_s)\n",
        "print('Calinski Harabasz Score: %.4f' % score_dbsacn_c)\n",
        "print('Davies Bouldin Score: %.4f' % score_dbsacn_d)"
      ],
      "execution_count": null,
      "outputs": [
        {
          "output_type": "stream",
          "text": [
            "Silhouette Score: 0.4916\n",
            "Calinski Harabasz Score: 130511.3962\n",
            "Davies Bouldin Score: 0.6763\n"
          ],
          "name": "stdout"
        }
      ]
    },
    {
      "cell_type": "code",
      "metadata": {
        "id": "R0V42OWzzdnZ"
      },
      "source": [
        "cluster_df.drop(['yhat'], axis=1, inplace=True)"
      ],
      "execution_count": null,
      "outputs": []
    },
    {
      "cell_type": "code",
      "metadata": {
        "id": "r2r5hyK-zFvk"
      },
      "source": [
        "cluster_df['yhat2'] = yhat + 1"
      ],
      "execution_count": null,
      "outputs": []
    },
    {
      "cell_type": "code",
      "metadata": {
        "id": "sBFccbF4kiyI",
        "colab": {
          "base_uri": "https://localhost:8080/"
        },
        "outputId": "3fc2ffef-f806-416b-c2df-6260c8fbb694"
      },
      "source": [
        "import math\n",
        "def get_entropys(df_clustered, label_col_name='indicator', cluster_col_name='cluster', cluster_values=range(1,4,1)):\n",
        "    p = [[round(df_clustered[(df_clustered[label_col_name]==label) & (df_clustered[cluster_col_name]==cluster)].shape[0]/\n",
        "                df_clustered[df_clustered[cluster_col_name]==cluster].shape[0],3) for label in cluster_values] for cluster in cluster_values]\n",
        "    p_log_p = [[p_i*math.log(p_i) for p_i in p_i_s if p_i!=0] for p_i_s in p]\n",
        "    e = [-round(sum(p_log_p_i),3) for p_log_p_i in p_log_p]\n",
        "    return e\n",
        "  \n",
        "entropys_5 = get_entropys(cluster_df, label_col_name='indicator', cluster_col_name='yhat2', cluster_values=range(1,3,1))\n",
        "print(\"Clusters' Entropy\")\n",
        "print(\"Entropy: {0:.3f}\".format(min(entropys_5)))"
      ],
      "execution_count": null,
      "outputs": [
        {
          "output_type": "stream",
          "text": [
            "Clusters' Entropy\n",
            "Entropy: 0.732\n"
          ],
          "name": "stdout"
        }
      ]
    },
    {
      "cell_type": "code",
      "metadata": {
        "id": "cp4Sa3W9zKXN",
        "colab": {
          "base_uri": "https://localhost:8080/"
        },
        "outputId": "20ac1836-4d53-40db-c9f3-70bb76687651"
      },
      "source": [
        "import numpy as np\n",
        "from sklearn import metrics\n",
        "\n",
        "def purity_score(y_true, y_pred):\n",
        "    # compute contingency matrix (also called confusion matrix)\n",
        "    contingency_matrix = metrics.cluster.contingency_matrix(y_true, y_pred)\n",
        "    # return purity\n",
        "    return np.sum(np.amax(contingency_matrix, axis=0)) / np.sum(contingency_matrix) \n",
        "\n",
        "purity = purity_score(cluster_df['indicator'], cluster_df['yhat2'])\n",
        "print(\"The purity is:\",purity)"
      ],
      "execution_count": null,
      "outputs": [
        {
          "output_type": "stream",
          "text": [
            "The purity is: 0.3333333333333333\n"
          ],
          "name": "stdout"
        }
      ]
    },
    {
      "cell_type": "code",
      "metadata": {
        "colab": {
          "base_uri": "https://localhost:8080/"
        },
        "id": "1WlyQseh_mgE",
        "outputId": "e2e7a7fb-7b49-41fb-ead9-a1889c9e3651"
      },
      "source": [
        "from sklearn.metrics.cluster import v_measure_score\n",
        "v_measure = v_measure_score(finalDf['indicator'], finalDf['cluster'])\n",
        "print(\"The v_measure is:\",v_measure)"
      ],
      "execution_count": null,
      "outputs": [
        {
          "output_type": "stream",
          "text": [
            "The v_measure is: 0.28222970005461184\n"
          ],
          "name": "stdout"
        }
      ]
    },
    {
      "cell_type": "code",
      "metadata": {
        "colab": {
          "base_uri": "https://localhost:8080/"
        },
        "id": "cBKN51Je_3oM",
        "outputId": "392eac5d-a189-4230-9778-13bd173af2c6"
      },
      "source": [
        "from sklearn.metrics.cluster import adjusted_rand_score\n",
        "randScore = adjusted_rand_score(cluster_df['indicator'], cluster_df['yhat2'])\n",
        "print(\"The rand_score is:\",randScore)"
      ],
      "execution_count": null,
      "outputs": [
        {
          "output_type": "stream",
          "text": [
            "The rand_score is: -9.792488118189897e-05\n"
          ],
          "name": "stdout"
        }
      ]
    }
  ]
}